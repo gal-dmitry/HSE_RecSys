{
 "cells": [
  {
   "cell_type": "code",
   "execution_count": 1,
   "id": "6a1a2316",
   "metadata": {},
   "outputs": [],
   "source": [
    "%load_ext autoreload\n",
    "%autoreload 2"
   ]
  },
  {
   "cell_type": "code",
   "execution_count": 2,
   "id": "5374e166",
   "metadata": {},
   "outputs": [],
   "source": [
    "import pandas as pd\n",
    "import matplotlib.pyplot as plt"
   ]
  },
  {
   "cell_type": "code",
   "execution_count": 3,
   "id": "c21ac708",
   "metadata": {},
   "outputs": [],
   "source": [
    "import sys\n",
    "sys.path.append(\"utils\")"
   ]
  },
  {
   "cell_type": "code",
   "execution_count": 4,
   "id": "4308b55b",
   "metadata": {},
   "outputs": [],
   "source": [
    "from data_processing import *"
   ]
  },
  {
   "cell_type": "markdown",
   "id": "5331d7f2",
   "metadata": {},
   "source": [
    "## Dataset"
   ]
  },
  {
   "cell_type": "markdown",
   "id": "14d99096",
   "metadata": {},
   "source": [
    "### members.csv\n",
    "#### user information.\n",
    "\n",
    "\n",
    "- msno\n",
    "\n",
    "- city\n",
    "\n",
    "- bd: age. Note: this column has outlier values, please use your judgement.\n",
    "\n",
    "- gender\n",
    "\n",
    "- registered_via: registration method\n",
    "\n",
    "- registration_init_time: format ```%Y%m%d```\n",
    "\n",
    "- expiration_date: format ```%Y%m%d```\n"
   ]
  },
  {
   "cell_type": "code",
   "execution_count": 5,
   "id": "f71bdaa8",
   "metadata": {},
   "outputs": [],
   "source": [
    "csv_folder_path = \"kkbox-music-recommendation-challenge/csv_folder\"\n",
    "\n",
    "members_path = \"members.csv\"\n",
    "song_extra_info_path = \"song_extra_info.csv\"\n",
    "songs_path = \"songs.csv\"\n",
    "train_path = \"train.csv\""
   ]
  },
  {
   "cell_type": "code",
   "execution_count": 6,
   "id": "a6d2ea1d",
   "metadata": {},
   "outputs": [
    {
     "data": {
      "text/html": [
       "<div>\n",
       "<style scoped>\n",
       "    .dataframe tbody tr th:only-of-type {\n",
       "        vertical-align: middle;\n",
       "    }\n",
       "\n",
       "    .dataframe tbody tr th {\n",
       "        vertical-align: top;\n",
       "    }\n",
       "\n",
       "    .dataframe thead th {\n",
       "        text-align: right;\n",
       "    }\n",
       "</style>\n",
       "<table border=\"1\" class=\"dataframe\">\n",
       "  <thead>\n",
       "    <tr style=\"text-align: right;\">\n",
       "      <th></th>\n",
       "      <th>msno</th>\n",
       "      <th>city</th>\n",
       "      <th>bd</th>\n",
       "      <th>gender</th>\n",
       "      <th>registered_via</th>\n",
       "      <th>registration_init_time</th>\n",
       "      <th>expiration_date</th>\n",
       "    </tr>\n",
       "  </thead>\n",
       "  <tbody>\n",
       "    <tr>\n",
       "      <th>0</th>\n",
       "      <td>XQxgAYj3klVKjR3oxPPXYYFp4soD4TuBghkhMTD4oTw=</td>\n",
       "      <td>1</td>\n",
       "      <td>0</td>\n",
       "      <td>NaN</td>\n",
       "      <td>7</td>\n",
       "      <td>2011-08-20</td>\n",
       "      <td>2017-09-20</td>\n",
       "    </tr>\n",
       "    <tr>\n",
       "      <th>1</th>\n",
       "      <td>UizsfmJb9mV54qE9hCYyU07Va97c0lCRLEQX3ae+ztM=</td>\n",
       "      <td>1</td>\n",
       "      <td>0</td>\n",
       "      <td>NaN</td>\n",
       "      <td>7</td>\n",
       "      <td>2015-06-28</td>\n",
       "      <td>2017-06-22</td>\n",
       "    </tr>\n",
       "    <tr>\n",
       "      <th>2</th>\n",
       "      <td>D8nEhsIOBSoE6VthTaqDX8U6lqjJ7dLdr72mOyLya2A=</td>\n",
       "      <td>1</td>\n",
       "      <td>0</td>\n",
       "      <td>NaN</td>\n",
       "      <td>4</td>\n",
       "      <td>2016-04-11</td>\n",
       "      <td>2017-07-12</td>\n",
       "    </tr>\n",
       "    <tr>\n",
       "      <th>3</th>\n",
       "      <td>mCuD+tZ1hERA/o5GPqk38e041J8ZsBaLcu7nGoIIvhI=</td>\n",
       "      <td>1</td>\n",
       "      <td>0</td>\n",
       "      <td>NaN</td>\n",
       "      <td>9</td>\n",
       "      <td>2015-09-06</td>\n",
       "      <td>2015-09-07</td>\n",
       "    </tr>\n",
       "    <tr>\n",
       "      <th>4</th>\n",
       "      <td>q4HRBfVSssAFS9iRfxWrohxuk9kCYMKjHOEagUMV6rQ=</td>\n",
       "      <td>1</td>\n",
       "      <td>0</td>\n",
       "      <td>NaN</td>\n",
       "      <td>4</td>\n",
       "      <td>2017-01-26</td>\n",
       "      <td>2017-06-13</td>\n",
       "    </tr>\n",
       "  </tbody>\n",
       "</table>\n",
       "</div>"
      ],
      "text/plain": [
       "                                           msno city  bd gender  \\\n",
       "0  XQxgAYj3klVKjR3oxPPXYYFp4soD4TuBghkhMTD4oTw=    1   0    NaN   \n",
       "1  UizsfmJb9mV54qE9hCYyU07Va97c0lCRLEQX3ae+ztM=    1   0    NaN   \n",
       "2  D8nEhsIOBSoE6VthTaqDX8U6lqjJ7dLdr72mOyLya2A=    1   0    NaN   \n",
       "3  mCuD+tZ1hERA/o5GPqk38e041J8ZsBaLcu7nGoIIvhI=    1   0    NaN   \n",
       "4  q4HRBfVSssAFS9iRfxWrohxuk9kCYMKjHOEagUMV6rQ=    1   0    NaN   \n",
       "\n",
       "  registered_via registration_init_time expiration_date  \n",
       "0              7             2011-08-20      2017-09-20  \n",
       "1              7             2015-06-28      2017-06-22  \n",
       "2              4             2016-04-11      2017-07-12  \n",
       "3              9             2015-09-06      2015-09-07  \n",
       "4              4             2017-01-26      2017-06-13  "
      ]
     },
     "execution_count": 6,
     "metadata": {},
     "output_type": "execute_result"
    }
   ],
   "source": [
    "members_df = load_members(f\"{csv_folder_path}/{members_path}\")\n",
    "\n",
    "members_df.head()"
   ]
  },
  {
   "cell_type": "code",
   "execution_count": 7,
   "id": "9962c743",
   "metadata": {},
   "outputs": [
    {
     "name": "stdout",
     "output_type": "stream",
     "text": [
      "<class 'pandas.core.frame.DataFrame'>\n",
      "RangeIndex: 34403 entries, 0 to 34402\n",
      "Data columns (total 7 columns):\n",
      " #   Column                  Non-Null Count  Dtype         \n",
      "---  ------                  --------------  -----         \n",
      " 0   msno                    34403 non-null  category      \n",
      " 1   city                    34403 non-null  category      \n",
      " 2   bd                      34403 non-null  uint8         \n",
      " 3   gender                  14501 non-null  category      \n",
      " 4   registered_via          34403 non-null  category      \n",
      " 5   registration_init_time  34403 non-null  datetime64[ns]\n",
      " 6   expiration_date         34403 non-null  datetime64[ns]\n",
      "dtypes: category(4), datetime64[ns](2), uint8(1)\n",
      "memory usage: 2.1 MB\n"
     ]
    }
   ],
   "source": [
    "members_df.info()"
   ]
  },
  {
   "cell_type": "code",
   "execution_count": 8,
   "id": "0dd1d053",
   "metadata": {},
   "outputs": [
    {
     "name": "stdout",
     "output_type": "stream",
     "text": [
      "Unique values:\n",
      "\n",
      "msno: (34403,)\n",
      "city: (21,)\n",
      "bd: (94,)\n",
      "gender: (3,)\n",
      "registered_via: (6,)\n",
      "registration_init_time: (3862,)\n",
      "expiration_date: (1484,)\n"
     ]
    }
   ],
   "source": [
    "show_unique_values(members_df)"
   ]
  },
  {
   "cell_type": "code",
   "execution_count": 9,
   "id": "b3f66d12",
   "metadata": {},
   "outputs": [
    {
     "data": {
      "text/plain": [
       "<matplotlib.axes._subplots.AxesSubplot at 0x7faf81c70e50>"
      ]
     },
     "execution_count": 9,
     "metadata": {},
     "output_type": "execute_result"
    },
    {
     "data": {
      "image/png": "[encoded data removed]",
      "text/plain": [
       "<Figure size 432x288 with 1 Axes>"
      ]
     },
     "metadata": {
      "needs_background": "light"
     },
     "output_type": "display_data"
    }
   ],
   "source": [
    "members_df.city.value_counts().plot(kind='bar')"
   ]
  },
  {
   "cell_type": "code",
   "execution_count": 10,
   "id": "126a1054",
   "metadata": {},
   "outputs": [
    {
     "data": {
      "text/plain": [
       "<matplotlib.axes._subplots.AxesSubplot at 0x7faf8160f790>"
      ]
     },
     "execution_count": 10,
     "metadata": {},
     "output_type": "execute_result"
    },
    {
     "data": {
      "image/png": "[encoded data removed]",
      "text/plain": [
       "<Figure size 432x288 with 1 Axes>"
      ]
     },
     "metadata": {
      "needs_background": "light"
     },
     "output_type": "display_data"
    }
   ],
   "source": [
    "members_df.gender.value_counts().plot(kind='bar')"
   ]
  },
  {
   "cell_type": "code",
   "execution_count": 11,
   "id": "bdc5faab",
   "metadata": {},
   "outputs": [
    {
     "data": {
      "text/plain": [
       "<matplotlib.axes._subplots.AxesSubplot at 0x7faf81573430>"
      ]
     },
     "execution_count": 11,
     "metadata": {},
     "output_type": "execute_result"
    },
    {
     "data": {
      "image/png": "[encoded data removed]",
      "text/plain": [
       "<Figure size 432x288 with 1 Axes>"
      ]
     },
     "metadata": {
      "needs_background": "light"
     },
     "output_type": "display_data"
    }
   ],
   "source": [
    "members_df.registered_via.value_counts().plot(kind='bar')"
   ]
  },
  {
   "cell_type": "code",
   "execution_count": 12,
   "id": "efb87147",
   "metadata": {},
   "outputs": [
    {
     "name": "stdout",
     "output_type": "stream",
     "text": [
      "Unique ages: [  0   2   3   5   6   7  10  11  12  13  14  15  16  17  18  19  20  21\n",
      "  22  23  24  25  26  27  28  29  30  31  32  33  34  35  36  37  38  39\n",
      "  40  41  42  43  44  45  46  47  48  49  50  51  52  53  54  55  56  57\n",
      "  58  59  60  61  62  63  64  65  66  67  68  70  72  73  74  76  78  82\n",
      "  83  85  87  89  90  93  95  96  97 101 102 103 105 106 107 111 112 131\n",
      " 144 163 213 218]\n"
     ]
    },
    {
     "data": {
      "text/plain": [
       "<matplotlib.axes._subplots.AxesSubplot at 0x7faf81557430>"
      ]
     },
     "execution_count": 12,
     "metadata": {},
     "output_type": "execute_result"
    },
    {
     "data": {
      "image/png": "[encoded data removed]",
      "text/plain": [
       "<Figure size 432x288 with 1 Axes>"
      ]
     },
     "metadata": {
      "needs_background": "light"
     },
     "output_type": "display_data"
    }
   ],
   "source": [
    "print(f\"Unique ages: {np.sort(members_df.bd.unique())}\")\n",
    "\n",
    "members_df.bd.value_counts().plot(kind='bar')"
   ]
  },
  {
   "cell_type": "code",
   "execution_count": 13,
   "id": "502be93b",
   "metadata": {},
   "outputs": [
    {
     "data": {
      "text/plain": [
       "0       2223 days\n",
       "1        725 days\n",
       "2        457 days\n",
       "3          1 days\n",
       "4        138 days\n",
       "           ...   \n",
       "34398   1399 days\n",
       "34399    937 days\n",
       "34400   1498 days\n",
       "34401    701 days\n",
       "34402      3 days\n",
       "Length: 34403, dtype: timedelta64[ns]"
      ]
     },
     "execution_count": 13,
     "metadata": {},
     "output_type": "execute_result"
    }
   ],
   "source": [
    "members_df.expiration_date - members_df.registration_init_time"
   ]
  },
  {
   "cell_type": "code",
   "execution_count": 14,
   "id": "26f167c0",
   "metadata": {},
   "outputs": [
    {
     "name": "stdout",
     "output_type": "stream",
     "text": [
      "min registration: 2004-03-26 00:00:00\n",
      "max registration: 2017-02-28 00:00:00\n"
     ]
    }
   ],
   "source": [
    "print(f\"min registration: {members_df.registration_init_time.min()}\")\n",
    "print(f\"max registration: {members_df.registration_init_time.max()}\")"
   ]
  },
  {
   "cell_type": "code",
   "execution_count": 15,
   "id": "45fddf11",
   "metadata": {},
   "outputs": [
    {
     "name": "stdout",
     "output_type": "stream",
     "text": [
      "min expiration: 1970-01-01 00:00:00\n",
      "max expiration: 2020-10-17 00:00:00\n"
     ]
    }
   ],
   "source": [
    "print(f\"min expiration: {members_df.expiration_date.min()}\")\n",
    "print(f\"max expiration: {members_df.expiration_date.max()}\")"
   ]
  },
  {
   "cell_type": "markdown",
   "id": "9b602a4a",
   "metadata": {},
   "source": [
    "#### Выводы:\n",
    "\n",
    "- bd: age. - Переведем в категориальный признак. Неестественным значениям присвоим категорию - \"неизвестно\"\n",
    "\n",
    "- gender - Обработаем nan как неизвестный пол\n",
    "\n",
    "- registration_init_time: format ```%Y%m%d``` - оставим \n",
    "\n",
    "- expiration_date: format ```%Y%m%d``` - ?\n"
   ]
  },
  {
   "cell_type": "code",
   "execution_count": 16,
   "id": "ecd412b2",
   "metadata": {},
   "outputs": [
    {
     "data": {
      "text/html": [
       "<div>\n",
       "<style scoped>\n",
       "    .dataframe tbody tr th:only-of-type {\n",
       "        vertical-align: middle;\n",
       "    }\n",
       "\n",
       "    .dataframe tbody tr th {\n",
       "        vertical-align: top;\n",
       "    }\n",
       "\n",
       "    .dataframe thead th {\n",
       "        text-align: right;\n",
       "    }\n",
       "</style>\n",
       "<table border=\"1\" class=\"dataframe\">\n",
       "  <thead>\n",
       "    <tr style=\"text-align: right;\">\n",
       "      <th></th>\n",
       "      <th>msno</th>\n",
       "      <th>city</th>\n",
       "      <th>gender</th>\n",
       "      <th>registered_via</th>\n",
       "      <th>registration_init_time</th>\n",
       "      <th>expiration_date</th>\n",
       "      <th>age_group</th>\n",
       "    </tr>\n",
       "  </thead>\n",
       "  <tbody>\n",
       "    <tr>\n",
       "      <th>0</th>\n",
       "      <td>XQxgAYj3klVKjR3oxPPXYYFp4soD4TuBghkhMTD4oTw=</td>\n",
       "      <td>1</td>\n",
       "      <td>FILL_NAN</td>\n",
       "      <td>7</td>\n",
       "      <td>2011-08-20</td>\n",
       "      <td>2017-09-20</td>\n",
       "      <td>FILL_NAN</td>\n",
       "    </tr>\n",
       "    <tr>\n",
       "      <th>1</th>\n",
       "      <td>UizsfmJb9mV54qE9hCYyU07Va97c0lCRLEQX3ae+ztM=</td>\n",
       "      <td>1</td>\n",
       "      <td>FILL_NAN</td>\n",
       "      <td>7</td>\n",
       "      <td>2015-06-28</td>\n",
       "      <td>2017-06-22</td>\n",
       "      <td>FILL_NAN</td>\n",
       "    </tr>\n",
       "    <tr>\n",
       "      <th>2</th>\n",
       "      <td>D8nEhsIOBSoE6VthTaqDX8U6lqjJ7dLdr72mOyLya2A=</td>\n",
       "      <td>1</td>\n",
       "      <td>FILL_NAN</td>\n",
       "      <td>4</td>\n",
       "      <td>2016-04-11</td>\n",
       "      <td>2017-07-12</td>\n",
       "      <td>FILL_NAN</td>\n",
       "    </tr>\n",
       "    <tr>\n",
       "      <th>3</th>\n",
       "      <td>mCuD+tZ1hERA/o5GPqk38e041J8ZsBaLcu7nGoIIvhI=</td>\n",
       "      <td>1</td>\n",
       "      <td>FILL_NAN</td>\n",
       "      <td>9</td>\n",
       "      <td>2015-09-06</td>\n",
       "      <td>2015-09-07</td>\n",
       "      <td>FILL_NAN</td>\n",
       "    </tr>\n",
       "    <tr>\n",
       "      <th>4</th>\n",
       "      <td>q4HRBfVSssAFS9iRfxWrohxuk9kCYMKjHOEagUMV6rQ=</td>\n",
       "      <td>1</td>\n",
       "      <td>FILL_NAN</td>\n",
       "      <td>4</td>\n",
       "      <td>2017-01-26</td>\n",
       "      <td>2017-06-13</td>\n",
       "      <td>FILL_NAN</td>\n",
       "    </tr>\n",
       "  </tbody>\n",
       "</table>\n",
       "</div>"
      ],
      "text/plain": [
       "                                           msno city    gender registered_via  \\\n",
       "0  XQxgAYj3klVKjR3oxPPXYYFp4soD4TuBghkhMTD4oTw=    1  FILL_NAN              7   \n",
       "1  UizsfmJb9mV54qE9hCYyU07Va97c0lCRLEQX3ae+ztM=    1  FILL_NAN              7   \n",
       "2  D8nEhsIOBSoE6VthTaqDX8U6lqjJ7dLdr72mOyLya2A=    1  FILL_NAN              4   \n",
       "3  mCuD+tZ1hERA/o5GPqk38e041J8ZsBaLcu7nGoIIvhI=    1  FILL_NAN              9   \n",
       "4  q4HRBfVSssAFS9iRfxWrohxuk9kCYMKjHOEagUMV6rQ=    1  FILL_NAN              4   \n",
       "\n",
       "  registration_init_time expiration_date age_group  \n",
       "0             2011-08-20      2017-09-20  FILL_NAN  \n",
       "1             2015-06-28      2017-06-22  FILL_NAN  \n",
       "2             2016-04-11      2017-07-12  FILL_NAN  \n",
       "3             2015-09-06      2015-09-07  FILL_NAN  \n",
       "4             2017-01-26      2017-06-13  FILL_NAN  "
      ]
     },
     "execution_count": 16,
     "metadata": {},
     "output_type": "execute_result"
    }
   ],
   "source": [
    "post_members_df = process_members(members_df)\n",
    "\n",
    "post_members_df.head()"
   ]
  },
  {
   "cell_type": "markdown",
   "id": "66e395c3",
   "metadata": {},
   "source": [
    "---"
   ]
  },
  {
   "cell_type": "markdown",
   "id": "1a535d5b",
   "metadata": {},
   "source": [
    "### songs.csv\n",
    "#### The songs. Note that data is in unicode.\n",
    "\n",
    "- song_id\n",
    "\n",
    "- song_length: in ms\n",
    "\n",
    "- genre_ids: genre category. Some songs have multiple genres and they are separated by |\n",
    "\n",
    "- artist_name\n",
    "\n",
    "- composer\n",
    "\n",
    "- lyricist\n",
    "\n",
    "- language"
   ]
  },
  {
   "cell_type": "code",
   "execution_count": 17,
   "id": "4ca8ccc1",
   "metadata": {},
   "outputs": [
    {
     "data": {
      "text/html": [
       "<div>\n",
       "<style scoped>\n",
       "    .dataframe tbody tr th:only-of-type {\n",
       "        vertical-align: middle;\n",
       "    }\n",
       "\n",
       "    .dataframe tbody tr th {\n",
       "        vertical-align: top;\n",
       "    }\n",
       "\n",
       "    .dataframe thead th {\n",
       "        text-align: right;\n",
       "    }\n",
       "</style>\n",
       "<table border=\"1\" class=\"dataframe\">\n",
       "  <thead>\n",
       "    <tr style=\"text-align: right;\">\n",
       "      <th></th>\n",
       "      <th>song_id</th>\n",
       "      <th>song_length</th>\n",
       "      <th>genre_ids</th>\n",
       "      <th>artist_name</th>\n",
       "      <th>composer</th>\n",
       "      <th>lyricist</th>\n",
       "      <th>language</th>\n",
       "    </tr>\n",
       "  </thead>\n",
       "  <tbody>\n",
       "    <tr>\n",
       "      <th>0</th>\n",
       "      <td>CXoTN1eb7AI+DntdU1vbcwGRV4SCIDxZu+YD8JP8r4E=</td>\n",
       "      <td>247640</td>\n",
       "      <td>465</td>\n",
       "      <td>張信哲 (Jeff Chang)</td>\n",
       "      <td>董貞</td>\n",
       "      <td>何啟弘</td>\n",
       "      <td>3.0</td>\n",
       "    </tr>\n",
       "    <tr>\n",
       "      <th>1</th>\n",
       "      <td>o0kFgae9QtnYgRkVPqLJwa05zIhRlUjfF7O1tDw0ZDU=</td>\n",
       "      <td>197328</td>\n",
       "      <td>444</td>\n",
       "      <td>BLACKPINK</td>\n",
       "      <td>TEDDY|  FUTURE BOUNCE|  Bekuh BOOM</td>\n",
       "      <td>TEDDY</td>\n",
       "      <td>31.0</td>\n",
       "    </tr>\n",
       "    <tr>\n",
       "      <th>2</th>\n",
       "      <td>DwVvVurfpuz+XPuFvucclVQEyPqcpUkHR0ne1RQzPs0=</td>\n",
       "      <td>231781</td>\n",
       "      <td>465</td>\n",
       "      <td>SUPER JUNIOR</td>\n",
       "      <td>NaN</td>\n",
       "      <td>NaN</td>\n",
       "      <td>31.0</td>\n",
       "    </tr>\n",
       "    <tr>\n",
       "      <th>3</th>\n",
       "      <td>dKMBWoZyScdxSkihKG+Vf47nc18N9q4m58+b4e7dSSE=</td>\n",
       "      <td>273554</td>\n",
       "      <td>465</td>\n",
       "      <td>S.H.E</td>\n",
       "      <td>湯小康</td>\n",
       "      <td>徐世珍</td>\n",
       "      <td>3.0</td>\n",
       "    </tr>\n",
       "    <tr>\n",
       "      <th>4</th>\n",
       "      <td>W3bqWd3T+VeHFzHAUfARgW9AvVRaF4N5Yzm4Mr6Eo/o=</td>\n",
       "      <td>140329</td>\n",
       "      <td>726</td>\n",
       "      <td>貴族精選</td>\n",
       "      <td>Traditional</td>\n",
       "      <td>Traditional</td>\n",
       "      <td>52.0</td>\n",
       "    </tr>\n",
       "  </tbody>\n",
       "</table>\n",
       "</div>"
      ],
      "text/plain": [
       "                                        song_id  song_length genre_ids  \\\n",
       "0  CXoTN1eb7AI+DntdU1vbcwGRV4SCIDxZu+YD8JP8r4E=       247640       465   \n",
       "1  o0kFgae9QtnYgRkVPqLJwa05zIhRlUjfF7O1tDw0ZDU=       197328       444   \n",
       "2  DwVvVurfpuz+XPuFvucclVQEyPqcpUkHR0ne1RQzPs0=       231781       465   \n",
       "3  dKMBWoZyScdxSkihKG+Vf47nc18N9q4m58+b4e7dSSE=       273554       465   \n",
       "4  W3bqWd3T+VeHFzHAUfARgW9AvVRaF4N5Yzm4Mr6Eo/o=       140329       726   \n",
       "\n",
       "        artist_name                            composer     lyricist language  \n",
       "0  張信哲 (Jeff Chang)                                  董貞          何啟弘      3.0  \n",
       "1         BLACKPINK  TEDDY|  FUTURE BOUNCE|  Bekuh BOOM        TEDDY     31.0  \n",
       "2      SUPER JUNIOR                                 NaN          NaN     31.0  \n",
       "3             S.H.E                                 湯小康          徐世珍      3.0  \n",
       "4              貴族精選                         Traditional  Traditional     52.0  "
      ]
     },
     "execution_count": 17,
     "metadata": {},
     "output_type": "execute_result"
    }
   ],
   "source": [
    "song_df = load_songs(f\"{csv_folder_path}/{songs_path}\")\n",
    "\n",
    "song_df.head()"
   ]
  },
  {
   "cell_type": "code",
   "execution_count": 18,
   "id": "c03e17d4",
   "metadata": {},
   "outputs": [
    {
     "name": "stdout",
     "output_type": "stream",
     "text": [
      "<class 'pandas.core.frame.DataFrame'>\n",
      "RangeIndex: 2296320 entries, 0 to 2296319\n",
      "Data columns (total 7 columns):\n",
      " #   Column       Dtype   \n",
      "---  ------       -----   \n",
      " 0   song_id      category\n",
      " 1   song_length  int32   \n",
      " 2   genre_ids    category\n",
      " 3   artist_name  category\n",
      " 4   composer     category\n",
      " 5   lyricist     category\n",
      " 6   language     category\n",
      "dtypes: category(6), int32(1)\n",
      "memory usage: 157.6 MB\n"
     ]
    }
   ],
   "source": [
    "song_df.info()"
   ]
  },
  {
   "cell_type": "code",
   "execution_count": 19,
   "id": "b8181587",
   "metadata": {},
   "outputs": [
    {
     "name": "stdout",
     "output_type": "stream",
     "text": [
      "Unique values:\n",
      "\n",
      "song_id: (2296320,)\n",
      "song_length: (146534,)\n",
      "genre_ids: (1046,)\n",
      "artist_name: (222363,)\n",
      "composer: (329824,)\n",
      "lyricist: (110926,)\n",
      "language: (11,)\n"
     ]
    }
   ],
   "source": [
    "show_unique_values(song_df)"
   ]
  },
  {
   "cell_type": "code",
   "execution_count": 20,
   "id": "ef002538",
   "metadata": {},
   "outputs": [
    {
     "data": {
      "text/plain": [
       "<matplotlib.axes._subplots.AxesSubplot at 0x7faf81098d90>"
      ]
     },
     "execution_count": 20,
     "metadata": {},
     "output_type": "execute_result"
    },
    {
     "data": {
      "image/png": "[encoded data removed]",
      "text/plain": [
       "<Figure size 432x288 with 1 Axes>"
      ]
     },
     "metadata": {
      "needs_background": "light"
     },
     "output_type": "display_data"
    }
   ],
   "source": [
    "song_df.language.value_counts().plot(kind='bar')"
   ]
  },
  {
   "cell_type": "code",
   "execution_count": 21,
   "id": "08d45a9c",
   "metadata": {},
   "outputs": [
    {
     "data": {
      "text/plain": [
       "<matplotlib.axes._subplots.AxesSubplot at 0x7faf80d6c820>"
      ]
     },
     "execution_count": 21,
     "metadata": {},
     "output_type": "execute_result"
    },
    {
     "data": {
      "image/png": "[encoded data removed]",
      "text/plain": [
       "<Figure size 432x288 with 1 Axes>"
      ]
     },
     "metadata": {
      "needs_background": "light"
     },
     "output_type": "display_data"
    }
   ],
   "source": [
    "song_df.song_length.value_counts().hist(bins=50)"
   ]
  },
  {
   "cell_type": "markdown",
   "id": "272ecd9a",
   "metadata": {},
   "source": [
    "#### Выводы:\n",
    "\n",
    "Для каждого из следующих признаков создадим новый признак, указывающий кол-во участников (жанров)\n",
    "- genre_ids\n",
    "- artist_name \n",
    "- composer\n",
    "- lyricist"
   ]
  },
  {
   "cell_type": "code",
   "execution_count": 22,
   "id": "6035bb89",
   "metadata": {},
   "outputs": [
    {
     "data": {
      "text/html": [
       "<div>\n",
       "<style scoped>\n",
       "    .dataframe tbody tr th:only-of-type {\n",
       "        vertical-align: middle;\n",
       "    }\n",
       "\n",
       "    .dataframe tbody tr th {\n",
       "        vertical-align: top;\n",
       "    }\n",
       "\n",
       "    .dataframe thead th {\n",
       "        text-align: right;\n",
       "    }\n",
       "</style>\n",
       "<table border=\"1\" class=\"dataframe\">\n",
       "  <thead>\n",
       "    <tr style=\"text-align: right;\">\n",
       "      <th></th>\n",
       "      <th>song_id</th>\n",
       "      <th>song_length</th>\n",
       "      <th>genre_ids</th>\n",
       "      <th>artist_name</th>\n",
       "      <th>composer</th>\n",
       "      <th>lyricist</th>\n",
       "      <th>language</th>\n",
       "      <th>genre_ids_count</th>\n",
       "      <th>artist_name_count</th>\n",
       "      <th>composer_count</th>\n",
       "      <th>lyricist_count</th>\n",
       "    </tr>\n",
       "  </thead>\n",
       "  <tbody>\n",
       "    <tr>\n",
       "      <th>0</th>\n",
       "      <td>CXoTN1eb7AI+DntdU1vbcwGRV4SCIDxZu+YD8JP8r4E=</td>\n",
       "      <td>247640</td>\n",
       "      <td>465</td>\n",
       "      <td>張信哲 (Jeff Chang)</td>\n",
       "      <td>董貞</td>\n",
       "      <td>何啟弘</td>\n",
       "      <td>3.0</td>\n",
       "      <td>1</td>\n",
       "      <td>1</td>\n",
       "      <td>1</td>\n",
       "      <td>1</td>\n",
       "    </tr>\n",
       "    <tr>\n",
       "      <th>1</th>\n",
       "      <td>o0kFgae9QtnYgRkVPqLJwa05zIhRlUjfF7O1tDw0ZDU=</td>\n",
       "      <td>197328</td>\n",
       "      <td>444</td>\n",
       "      <td>BLACKPINK</td>\n",
       "      <td>TEDDY|  FUTURE BOUNCE|  Bekuh BOOM</td>\n",
       "      <td>TEDDY</td>\n",
       "      <td>31.0</td>\n",
       "      <td>1</td>\n",
       "      <td>1</td>\n",
       "      <td>3</td>\n",
       "      <td>1</td>\n",
       "    </tr>\n",
       "    <tr>\n",
       "      <th>2</th>\n",
       "      <td>DwVvVurfpuz+XPuFvucclVQEyPqcpUkHR0ne1RQzPs0=</td>\n",
       "      <td>231781</td>\n",
       "      <td>465</td>\n",
       "      <td>SUPER JUNIOR</td>\n",
       "      <td>FILL_NAN</td>\n",
       "      <td>FILL_NAN</td>\n",
       "      <td>31.0</td>\n",
       "      <td>1</td>\n",
       "      <td>1</td>\n",
       "      <td>0</td>\n",
       "      <td>0</td>\n",
       "    </tr>\n",
       "    <tr>\n",
       "      <th>3</th>\n",
       "      <td>dKMBWoZyScdxSkihKG+Vf47nc18N9q4m58+b4e7dSSE=</td>\n",
       "      <td>273554</td>\n",
       "      <td>465</td>\n",
       "      <td>S.H.E</td>\n",
       "      <td>湯小康</td>\n",
       "      <td>徐世珍</td>\n",
       "      <td>3.0</td>\n",
       "      <td>1</td>\n",
       "      <td>1</td>\n",
       "      <td>1</td>\n",
       "      <td>1</td>\n",
       "    </tr>\n",
       "    <tr>\n",
       "      <th>4</th>\n",
       "      <td>W3bqWd3T+VeHFzHAUfARgW9AvVRaF4N5Yzm4Mr6Eo/o=</td>\n",
       "      <td>140329</td>\n",
       "      <td>726</td>\n",
       "      <td>貴族精選</td>\n",
       "      <td>Traditional</td>\n",
       "      <td>Traditional</td>\n",
       "      <td>52.0</td>\n",
       "      <td>1</td>\n",
       "      <td>1</td>\n",
       "      <td>1</td>\n",
       "      <td>1</td>\n",
       "    </tr>\n",
       "  </tbody>\n",
       "</table>\n",
       "</div>"
      ],
      "text/plain": [
       "                                        song_id  song_length genre_ids  \\\n",
       "0  CXoTN1eb7AI+DntdU1vbcwGRV4SCIDxZu+YD8JP8r4E=       247640       465   \n",
       "1  o0kFgae9QtnYgRkVPqLJwa05zIhRlUjfF7O1tDw0ZDU=       197328       444   \n",
       "2  DwVvVurfpuz+XPuFvucclVQEyPqcpUkHR0ne1RQzPs0=       231781       465   \n",
       "3  dKMBWoZyScdxSkihKG+Vf47nc18N9q4m58+b4e7dSSE=       273554       465   \n",
       "4  W3bqWd3T+VeHFzHAUfARgW9AvVRaF4N5Yzm4Mr6Eo/o=       140329       726   \n",
       "\n",
       "        artist_name                            composer     lyricist language  \\\n",
       "0  張信哲 (Jeff Chang)                                  董貞          何啟弘      3.0   \n",
       "1         BLACKPINK  TEDDY|  FUTURE BOUNCE|  Bekuh BOOM        TEDDY     31.0   \n",
       "2      SUPER JUNIOR                            FILL_NAN     FILL_NAN     31.0   \n",
       "3             S.H.E                                 湯小康          徐世珍      3.0   \n",
       "4              貴族精選                         Traditional  Traditional     52.0   \n",
       "\n",
       "   genre_ids_count  artist_name_count  composer_count  lyricist_count  \n",
       "0                1                  1               1               1  \n",
       "1                1                  1               3               1  \n",
       "2                1                  1               0               0  \n",
       "3                1                  1               1               1  \n",
       "4                1                  1               1               1  "
      ]
     },
     "execution_count": 22,
     "metadata": {},
     "output_type": "execute_result"
    }
   ],
   "source": [
    "post_song_df = process_songs(song_df)\n",
    "\n",
    "post_song_df.head()"
   ]
  },
  {
   "cell_type": "markdown",
   "id": "fc213fc4",
   "metadata": {},
   "source": [
    "---"
   ]
  },
  {
   "cell_type": "markdown",
   "id": "036c6302",
   "metadata": {},
   "source": [
    "### song_extra_info.csv\n",
    "\n",
    "- song_id\n",
    "\n",
    "- song name - the name of the song.\n",
    "\n",
    "- isrc - International Standard Recording Code, theoretically can be used as an identity of a song. However, what worth to note is, ISRCs generated from providers have not been officially verified; therefore the information in ISRC, such as country code and reference year, can be misleading/incorrect. Multiple songs could share one ISRC since a single recording could be re-published several times."
   ]
  },
  {
   "cell_type": "code",
   "execution_count": 23,
   "id": "7111ce7c",
   "metadata": {},
   "outputs": [
    {
     "data": {
      "text/html": [
       "<div>\n",
       "<style scoped>\n",
       "    .dataframe tbody tr th:only-of-type {\n",
       "        vertical-align: middle;\n",
       "    }\n",
       "\n",
       "    .dataframe tbody tr th {\n",
       "        vertical-align: top;\n",
       "    }\n",
       "\n",
       "    .dataframe thead th {\n",
       "        text-align: right;\n",
       "    }\n",
       "</style>\n",
       "<table border=\"1\" class=\"dataframe\">\n",
       "  <thead>\n",
       "    <tr style=\"text-align: right;\">\n",
       "      <th></th>\n",
       "      <th>song_id</th>\n",
       "      <th>name</th>\n",
       "      <th>isrc</th>\n",
       "    </tr>\n",
       "  </thead>\n",
       "  <tbody>\n",
       "    <tr>\n",
       "      <th>0</th>\n",
       "      <td>LP7pLJoJFBvyuUwvu+oLzjT+bI+UeBPURCecJsX1jjs=</td>\n",
       "      <td>我們</td>\n",
       "      <td>TWUM71200043</td>\n",
       "    </tr>\n",
       "    <tr>\n",
       "      <th>1</th>\n",
       "      <td>ClazTFnk6r0Bnuie44bocdNMM3rdlrq0bCGAsGUWcHE=</td>\n",
       "      <td>Let Me Love You</td>\n",
       "      <td>QMZSY1600015</td>\n",
       "    </tr>\n",
       "    <tr>\n",
       "      <th>2</th>\n",
       "      <td>u2ja/bZE3zhCGxvbbOB3zOoUjx27u40cf5g09UXMoKQ=</td>\n",
       "      <td>原諒我</td>\n",
       "      <td>TWA530887303</td>\n",
       "    </tr>\n",
       "    <tr>\n",
       "      <th>3</th>\n",
       "      <td>92Fqsy0+p6+RHe2EoLKjHahORHR1Kq1TBJoClW9v+Ts=</td>\n",
       "      <td>Classic</td>\n",
       "      <td>USSM11301446</td>\n",
       "    </tr>\n",
       "    <tr>\n",
       "      <th>4</th>\n",
       "      <td>0QFmz/+rJy1Q56C1DuYqT9hKKqi5TUqx0sN0IwvoHrw=</td>\n",
       "      <td>愛投羅網</td>\n",
       "      <td>TWA471306001</td>\n",
       "    </tr>\n",
       "  </tbody>\n",
       "</table>\n",
       "</div>"
      ],
      "text/plain": [
       "                                        song_id             name          isrc\n",
       "0  LP7pLJoJFBvyuUwvu+oLzjT+bI+UeBPURCecJsX1jjs=               我們  TWUM71200043\n",
       "1  ClazTFnk6r0Bnuie44bocdNMM3rdlrq0bCGAsGUWcHE=  Let Me Love You  QMZSY1600015\n",
       "2  u2ja/bZE3zhCGxvbbOB3zOoUjx27u40cf5g09UXMoKQ=              原諒我  TWA530887303\n",
       "3  92Fqsy0+p6+RHe2EoLKjHahORHR1Kq1TBJoClW9v+Ts=          Classic  USSM11301446\n",
       "4  0QFmz/+rJy1Q56C1DuYqT9hKKqi5TUqx0sN0IwvoHrw=             愛投羅網  TWA471306001"
      ]
     },
     "execution_count": 23,
     "metadata": {},
     "output_type": "execute_result"
    }
   ],
   "source": [
    "song_extra_info_df = load_song_extra_info(f\"{csv_folder_path}/{song_extra_info_path}\")\n",
    "\n",
    "song_extra_info_df.head()"
   ]
  },
  {
   "cell_type": "code",
   "execution_count": 24,
   "id": "aa205d63",
   "metadata": {},
   "outputs": [
    {
     "name": "stdout",
     "output_type": "stream",
     "text": [
      "<class 'pandas.core.frame.DataFrame'>\n",
      "RangeIndex: 2295971 entries, 0 to 2295970\n",
      "Data columns (total 3 columns):\n",
      " #   Column   Dtype   \n",
      "---  ------   -----   \n",
      " 0   song_id  category\n",
      " 1   name     category\n",
      " 2   isrc     object  \n",
      "dtypes: category(2), object(1)\n",
      "memory usage: 158.2+ MB\n"
     ]
    }
   ],
   "source": [
    "song_extra_info_df.info()"
   ]
  },
  {
   "cell_type": "code",
   "execution_count": 25,
   "id": "7de33d81",
   "metadata": {},
   "outputs": [
    {
     "name": "stdout",
     "output_type": "stream",
     "text": [
      "Unique values:\n",
      "\n",
      "song_id: (2295971,)\n",
      "name: (1168980,)\n",
      "isrc: (1806826,)\n"
     ]
    }
   ],
   "source": [
    "show_unique_values(song_extra_info_df)"
   ]
  },
  {
   "cell_type": "markdown",
   "id": "06ce1acf",
   "metadata": {},
   "source": [
    "#### Выводы\n",
    "\n",
    "- Парсинг isrc"
   ]
  },
  {
   "cell_type": "code",
   "execution_count": 26,
   "id": "975787e0",
   "metadata": {},
   "outputs": [
    {
     "data": {
      "text/html": [
       "<div>\n",
       "<style scoped>\n",
       "    .dataframe tbody tr th:only-of-type {\n",
       "        vertical-align: middle;\n",
       "    }\n",
       "\n",
       "    .dataframe tbody tr th {\n",
       "        vertical-align: top;\n",
       "    }\n",
       "\n",
       "    .dataframe thead th {\n",
       "        text-align: right;\n",
       "    }\n",
       "</style>\n",
       "<table border=\"1\" class=\"dataframe\">\n",
       "  <thead>\n",
       "    <tr style=\"text-align: right;\">\n",
       "      <th></th>\n",
       "      <th>song_id</th>\n",
       "      <th>name</th>\n",
       "      <th>isrc_country</th>\n",
       "      <th>isrc_year</th>\n",
       "    </tr>\n",
       "  </thead>\n",
       "  <tbody>\n",
       "    <tr>\n",
       "      <th>0</th>\n",
       "      <td>LP7pLJoJFBvyuUwvu+oLzjT+bI+UeBPURCecJsX1jjs=</td>\n",
       "      <td>我們</td>\n",
       "      <td>Taiwan, Province of China</td>\n",
       "      <td>2012</td>\n",
       "    </tr>\n",
       "    <tr>\n",
       "      <th>1</th>\n",
       "      <td>ClazTFnk6r0Bnuie44bocdNMM3rdlrq0bCGAsGUWcHE=</td>\n",
       "      <td>Let Me Love You</td>\n",
       "      <td>-1</td>\n",
       "      <td>2016</td>\n",
       "    </tr>\n",
       "    <tr>\n",
       "      <th>2</th>\n",
       "      <td>u2ja/bZE3zhCGxvbbOB3zOoUjx27u40cf5g09UXMoKQ=</td>\n",
       "      <td>原諒我</td>\n",
       "      <td>Taiwan, Province of China</td>\n",
       "      <td>2008</td>\n",
       "    </tr>\n",
       "    <tr>\n",
       "      <th>3</th>\n",
       "      <td>92Fqsy0+p6+RHe2EoLKjHahORHR1Kq1TBJoClW9v+Ts=</td>\n",
       "      <td>Classic</td>\n",
       "      <td>United States</td>\n",
       "      <td>2013</td>\n",
       "    </tr>\n",
       "    <tr>\n",
       "      <th>4</th>\n",
       "      <td>0QFmz/+rJy1Q56C1DuYqT9hKKqi5TUqx0sN0IwvoHrw=</td>\n",
       "      <td>愛投羅網</td>\n",
       "      <td>Taiwan, Province of China</td>\n",
       "      <td>2013</td>\n",
       "    </tr>\n",
       "  </tbody>\n",
       "</table>\n",
       "</div>"
      ],
      "text/plain": [
       "                                        song_id             name  \\\n",
       "0  LP7pLJoJFBvyuUwvu+oLzjT+bI+UeBPURCecJsX1jjs=               我們   \n",
       "1  ClazTFnk6r0Bnuie44bocdNMM3rdlrq0bCGAsGUWcHE=  Let Me Love You   \n",
       "2  u2ja/bZE3zhCGxvbbOB3zOoUjx27u40cf5g09UXMoKQ=              原諒我   \n",
       "3  92Fqsy0+p6+RHe2EoLKjHahORHR1Kq1TBJoClW9v+Ts=          Classic   \n",
       "4  0QFmz/+rJy1Q56C1DuYqT9hKKqi5TUqx0sN0IwvoHrw=             愛投羅網   \n",
       "\n",
       "                isrc_country isrc_year  \n",
       "0  Taiwan, Province of China      2012  \n",
       "1                         -1      2016  \n",
       "2  Taiwan, Province of China      2008  \n",
       "3              United States      2013  \n",
       "4  Taiwan, Province of China      2013  "
      ]
     },
     "execution_count": 26,
     "metadata": {},
     "output_type": "execute_result"
    }
   ],
   "source": [
    "post_song_extra_info_df = process_song_extra_info(song_extra_info_df)\n",
    "\n",
    "post_song_extra_info_df.head()"
   ]
  },
  {
   "cell_type": "markdown",
   "id": "b44181f4",
   "metadata": {},
   "source": [
    "---"
   ]
  },
  {
   "cell_type": "markdown",
   "id": "595c4f53",
   "metadata": {},
   "source": [
    "### train.csv\n",
    "\n",
    "- msno: user id\n",
    "\n",
    "- song_id: song id\n",
    "\n",
    "- source_system_tab: the name of the tab where the event was triggered. System tabs are used to categorize KKBOX mobile apps functions. For example, tab my library contains functions to manipulate the local storage, and tab search contains functions relating to search.\n",
    "\n",
    "- source_screen_name: name of the layout a user sees.\n",
    "\n",
    "- source_type: an entry point a user first plays music on mobile apps. An entry point could be album, online-playlist, song .. etc.\n",
    "\n",
    "- target: this is the target variable. ```target=1``` means there are recurring listening event(s) triggered within a month after the user’s very first observable listening event, ```target=0``` otherwise."
   ]
  },
  {
   "cell_type": "code",
   "execution_count": 27,
   "id": "6983fc71",
   "metadata": {},
   "outputs": [
    {
     "data": {
      "text/html": [
       "<div>\n",
       "<style scoped>\n",
       "    .dataframe tbody tr th:only-of-type {\n",
       "        vertical-align: middle;\n",
       "    }\n",
       "\n",
       "    .dataframe tbody tr th {\n",
       "        vertical-align: top;\n",
       "    }\n",
       "\n",
       "    .dataframe thead th {\n",
       "        text-align: right;\n",
       "    }\n",
       "</style>\n",
       "<table border=\"1\" class=\"dataframe\">\n",
       "  <thead>\n",
       "    <tr style=\"text-align: right;\">\n",
       "      <th></th>\n",
       "      <th>msno</th>\n",
       "      <th>song_id</th>\n",
       "      <th>source_system_tab</th>\n",
       "      <th>source_screen_name</th>\n",
       "      <th>source_type</th>\n",
       "      <th>target</th>\n",
       "    </tr>\n",
       "  </thead>\n",
       "  <tbody>\n",
       "    <tr>\n",
       "      <th>0</th>\n",
       "      <td>FGtllVqz18RPiwJj/edr2gV78zirAiY/9SmYvia+kCg=</td>\n",
       "      <td>BBzumQNXUHKdEBOB7mAJuzok+IJA1c2Ryg/yzTF6tik=</td>\n",
       "      <td>explore</td>\n",
       "      <td>Explore</td>\n",
       "      <td>online-playlist</td>\n",
       "      <td>1</td>\n",
       "    </tr>\n",
       "    <tr>\n",
       "      <th>1</th>\n",
       "      <td>Xumu+NIjS6QYVxDS4/t3SawvJ7viT9hPKXmf0RtLNx8=</td>\n",
       "      <td>bhp/MpSNoqoxOIB+/l8WPqu6jldth4DIpCm3ayXnJqM=</td>\n",
       "      <td>my library</td>\n",
       "      <td>Local playlist more</td>\n",
       "      <td>local-playlist</td>\n",
       "      <td>1</td>\n",
       "    </tr>\n",
       "    <tr>\n",
       "      <th>2</th>\n",
       "      <td>Xumu+NIjS6QYVxDS4/t3SawvJ7viT9hPKXmf0RtLNx8=</td>\n",
       "      <td>JNWfrrC7zNN7BdMpsISKa4Mw+xVJYNnxXh3/Epw7QgY=</td>\n",
       "      <td>my library</td>\n",
       "      <td>Local playlist more</td>\n",
       "      <td>local-playlist</td>\n",
       "      <td>1</td>\n",
       "    </tr>\n",
       "    <tr>\n",
       "      <th>3</th>\n",
       "      <td>Xumu+NIjS6QYVxDS4/t3SawvJ7viT9hPKXmf0RtLNx8=</td>\n",
       "      <td>2A87tzfnJTSWqD7gIZHisolhe4DMdzkbd6LzO1KHjNs=</td>\n",
       "      <td>my library</td>\n",
       "      <td>Local playlist more</td>\n",
       "      <td>local-playlist</td>\n",
       "      <td>1</td>\n",
       "    </tr>\n",
       "    <tr>\n",
       "      <th>4</th>\n",
       "      <td>FGtllVqz18RPiwJj/edr2gV78zirAiY/9SmYvia+kCg=</td>\n",
       "      <td>3qm6XTZ6MOCU11x8FIVbAGH5l5uMkT3/ZalWG1oo2Gc=</td>\n",
       "      <td>explore</td>\n",
       "      <td>Explore</td>\n",
       "      <td>online-playlist</td>\n",
       "      <td>1</td>\n",
       "    </tr>\n",
       "  </tbody>\n",
       "</table>\n",
       "</div>"
      ],
      "text/plain": [
       "                                           msno  \\\n",
       "0  FGtllVqz18RPiwJj/edr2gV78zirAiY/9SmYvia+kCg=   \n",
       "1  Xumu+NIjS6QYVxDS4/t3SawvJ7viT9hPKXmf0RtLNx8=   \n",
       "2  Xumu+NIjS6QYVxDS4/t3SawvJ7viT9hPKXmf0RtLNx8=   \n",
       "3  Xumu+NIjS6QYVxDS4/t3SawvJ7viT9hPKXmf0RtLNx8=   \n",
       "4  FGtllVqz18RPiwJj/edr2gV78zirAiY/9SmYvia+kCg=   \n",
       "\n",
       "                                        song_id source_system_tab  \\\n",
       "0  BBzumQNXUHKdEBOB7mAJuzok+IJA1c2Ryg/yzTF6tik=           explore   \n",
       "1  bhp/MpSNoqoxOIB+/l8WPqu6jldth4DIpCm3ayXnJqM=        my library   \n",
       "2  JNWfrrC7zNN7BdMpsISKa4Mw+xVJYNnxXh3/Epw7QgY=        my library   \n",
       "3  2A87tzfnJTSWqD7gIZHisolhe4DMdzkbd6LzO1KHjNs=        my library   \n",
       "4  3qm6XTZ6MOCU11x8FIVbAGH5l5uMkT3/ZalWG1oo2Gc=           explore   \n",
       "\n",
       "    source_screen_name      source_type  target  \n",
       "0              Explore  online-playlist       1  \n",
       "1  Local playlist more   local-playlist       1  \n",
       "2  Local playlist more   local-playlist       1  \n",
       "3  Local playlist more   local-playlist       1  \n",
       "4              Explore  online-playlist       1  "
      ]
     },
     "execution_count": 27,
     "metadata": {},
     "output_type": "execute_result"
    }
   ],
   "source": [
    "train_df = load_train(f\"{csv_folder_path}/{train_path}\")\n",
    "\n",
    "train_df.head()"
   ]
  },
  {
   "cell_type": "code",
   "execution_count": 28,
   "id": "f48ed43e",
   "metadata": {},
   "outputs": [
    {
     "name": "stdout",
     "output_type": "stream",
     "text": [
      "<class 'pandas.core.frame.DataFrame'>\n",
      "RangeIndex: 7377418 entries, 0 to 7377417\n",
      "Data columns (total 6 columns):\n",
      " #   Column              Dtype   \n",
      "---  ------              -----   \n",
      " 0   msno                category\n",
      " 1   song_id             category\n",
      " 2   source_system_tab   category\n",
      " 3   source_screen_name  category\n",
      " 4   source_type         category\n",
      " 5   target              uint8   \n",
      "dtypes: category(5), uint8(1)\n",
      "memory usage: 82.4 MB\n"
     ]
    }
   ],
   "source": [
    "train_df.info()"
   ]
  },
  {
   "cell_type": "code",
   "execution_count": 29,
   "id": "59c28cec",
   "metadata": {},
   "outputs": [
    {
     "name": "stdout",
     "output_type": "stream",
     "text": [
      "Unique values:\n",
      "\n",
      "msno: (30755,)\n",
      "song_id: (359966,)\n",
      "source_system_tab: (9,)\n",
      "source_screen_name: (21,)\n",
      "source_type: (13,)\n",
      "target: (2,)\n"
     ]
    }
   ],
   "source": [
    "show_unique_values(train_df)"
   ]
  },
  {
   "cell_type": "code",
   "execution_count": 30,
   "id": "f1c490a7",
   "metadata": {},
   "outputs": [
    {
     "data": {
      "text/plain": [
       "<matplotlib.axes._subplots.AxesSubplot at 0x7faf44f8d670>"
      ]
     },
     "execution_count": 30,
     "metadata": {},
     "output_type": "execute_result"
    },
    {
     "data": {
      "image/png": "[encoded data removed]",
      "text/plain": [
       "<Figure size 432x288 with 1 Axes>"
      ]
     },
     "metadata": {
      "needs_background": "light"
     },
     "output_type": "display_data"
    }
   ],
   "source": [
    "train_df.source_system_tab.value_counts().plot(kind='bar')"
   ]
  },
  {
   "cell_type": "code",
   "execution_count": 31,
   "id": "a5907771",
   "metadata": {},
   "outputs": [
    {
     "data": {
      "text/plain": [
       "<matplotlib.axes._subplots.AxesSubplot at 0x7faf45003970>"
      ]
     },
     "execution_count": 31,
     "metadata": {},
     "output_type": "execute_result"
    },
    {
     "data": {
      "image/png": "[encoded data removed]",
      "text/plain": [
       "<Figure size 432x288 with 1 Axes>"
      ]
     },
     "metadata": {
      "needs_background": "light"
     },
     "output_type": "display_data"
    }
   ],
   "source": [
    "train_df.source_screen_name.value_counts().plot(kind='bar')"
   ]
  },
  {
   "cell_type": "code",
   "execution_count": 32,
   "id": "2b20d324",
   "metadata": {},
   "outputs": [
    {
     "data": {
      "text/plain": [
       "<matplotlib.axes._subplots.AxesSubplot at 0x7faf4529a370>"
      ]
     },
     "execution_count": 32,
     "metadata": {},
     "output_type": "execute_result"
    },
    {
     "data": {
      "image/png": "[encoded data removed]",
      "text/plain": [
       "<Figure size 432x288 with 1 Axes>"
      ]
     },
     "metadata": {
      "needs_background": "light"
     },
     "output_type": "display_data"
    }
   ],
   "source": [
    "train_df.source_type.value_counts().plot(kind='bar')"
   ]
  },
  {
   "cell_type": "code",
   "execution_count": 33,
   "id": "5ccc371f",
   "metadata": {},
   "outputs": [
    {
     "data": {
      "text/plain": [
       "<matplotlib.axes._subplots.AxesSubplot at 0x7faf452eda90>"
      ]
     },
     "execution_count": 33,
     "metadata": {},
     "output_type": "execute_result"
    },
    {
     "data": {
      "image/png": "[encoded data removed]",
      "text/plain": [
       "<Figure size 432x288 with 1 Axes>"
      ]
     },
     "metadata": {
      "needs_background": "light"
     },
     "output_type": "display_data"
    }
   ],
   "source": [
    "train_df.target.value_counts().plot(kind='bar')"
   ]
  },
  {
   "cell_type": "markdown",
   "id": "69510a77",
   "metadata": {},
   "source": [
    "---"
   ]
  },
  {
   "cell_type": "markdown",
   "id": "53bfaf80",
   "metadata": {},
   "source": [
    "### Extended train\n",
    "\n",
    "объединим все датасеты в один большой train.\n",
    "\n",
    "- Сформируем `extended_songs` из датасетов `songs` и `song_extra_info` по полю `song_id`\n",
    "\n",
    "- Объединим `extended_songs` и `train` по полю `song_id`\n",
    "\n",
    "- Объединим `members` и `train` по полю `msno`"
   ]
  },
  {
   "cell_type": "code",
   "execution_count": 34,
   "id": "f87e6ef7",
   "metadata": {},
   "outputs": [
    {
     "data": {
      "text/html": [
       "<div>\n",
       "<style scoped>\n",
       "    .dataframe tbody tr th:only-of-type {\n",
       "        vertical-align: middle;\n",
       "    }\n",
       "\n",
       "    .dataframe tbody tr th {\n",
       "        vertical-align: top;\n",
       "    }\n",
       "\n",
       "    .dataframe thead th {\n",
       "        text-align: right;\n",
       "    }\n",
       "</style>\n",
       "<table border=\"1\" class=\"dataframe\">\n",
       "  <thead>\n",
       "    <tr style=\"text-align: right;\">\n",
       "      <th></th>\n",
       "      <th>song_id</th>\n",
       "      <th>song_length</th>\n",
       "      <th>genre_ids</th>\n",
       "      <th>artist_name</th>\n",
       "      <th>composer</th>\n",
       "      <th>lyricist</th>\n",
       "      <th>language</th>\n",
       "      <th>genre_ids_count</th>\n",
       "      <th>artist_name_count</th>\n",
       "      <th>composer_count</th>\n",
       "      <th>lyricist_count</th>\n",
       "      <th>isrc_country</th>\n",
       "      <th>isrc_year</th>\n",
       "    </tr>\n",
       "  </thead>\n",
       "  <tbody>\n",
       "    <tr>\n",
       "      <th>0</th>\n",
       "      <td>CXoTN1eb7AI+DntdU1vbcwGRV4SCIDxZu+YD8JP8r4E=</td>\n",
       "      <td>247640</td>\n",
       "      <td>465</td>\n",
       "      <td>張信哲 (Jeff Chang)</td>\n",
       "      <td>董貞</td>\n",
       "      <td>何啟弘</td>\n",
       "      <td>3.0</td>\n",
       "      <td>1</td>\n",
       "      <td>1</td>\n",
       "      <td>1</td>\n",
       "      <td>1</td>\n",
       "      <td>Taiwan, Province of China</td>\n",
       "      <td>2014</td>\n",
       "    </tr>\n",
       "    <tr>\n",
       "      <th>1</th>\n",
       "      <td>o0kFgae9QtnYgRkVPqLJwa05zIhRlUjfF7O1tDw0ZDU=</td>\n",
       "      <td>197328</td>\n",
       "      <td>444</td>\n",
       "      <td>BLACKPINK</td>\n",
       "      <td>TEDDY|  FUTURE BOUNCE|  Bekuh BOOM</td>\n",
       "      <td>TEDDY</td>\n",
       "      <td>31.0</td>\n",
       "      <td>1</td>\n",
       "      <td>1</td>\n",
       "      <td>3</td>\n",
       "      <td>1</td>\n",
       "      <td>-1</td>\n",
       "      <td>-1</td>\n",
       "    </tr>\n",
       "    <tr>\n",
       "      <th>2</th>\n",
       "      <td>DwVvVurfpuz+XPuFvucclVQEyPqcpUkHR0ne1RQzPs0=</td>\n",
       "      <td>231781</td>\n",
       "      <td>465</td>\n",
       "      <td>SUPER JUNIOR</td>\n",
       "      <td>FILL_NAN</td>\n",
       "      <td>FILL_NAN</td>\n",
       "      <td>31.0</td>\n",
       "      <td>1</td>\n",
       "      <td>1</td>\n",
       "      <td>0</td>\n",
       "      <td>0</td>\n",
       "      <td>-1</td>\n",
       "      <td>-1</td>\n",
       "    </tr>\n",
       "    <tr>\n",
       "      <th>3</th>\n",
       "      <td>dKMBWoZyScdxSkihKG+Vf47nc18N9q4m58+b4e7dSSE=</td>\n",
       "      <td>273554</td>\n",
       "      <td>465</td>\n",
       "      <td>S.H.E</td>\n",
       "      <td>湯小康</td>\n",
       "      <td>徐世珍</td>\n",
       "      <td>3.0</td>\n",
       "      <td>1</td>\n",
       "      <td>1</td>\n",
       "      <td>1</td>\n",
       "      <td>1</td>\n",
       "      <td>Taiwan, Province of China</td>\n",
       "      <td>2002</td>\n",
       "    </tr>\n",
       "    <tr>\n",
       "      <th>4</th>\n",
       "      <td>W3bqWd3T+VeHFzHAUfARgW9AvVRaF4N5Yzm4Mr6Eo/o=</td>\n",
       "      <td>140329</td>\n",
       "      <td>726</td>\n",
       "      <td>貴族精選</td>\n",
       "      <td>Traditional</td>\n",
       "      <td>Traditional</td>\n",
       "      <td>52.0</td>\n",
       "      <td>1</td>\n",
       "      <td>1</td>\n",
       "      <td>1</td>\n",
       "      <td>1</td>\n",
       "      <td>-1</td>\n",
       "      <td>-1</td>\n",
       "    </tr>\n",
       "  </tbody>\n",
       "</table>\n",
       "</div>"
      ],
      "text/plain": [
       "                                        song_id  song_length genre_ids  \\\n",
       "0  CXoTN1eb7AI+DntdU1vbcwGRV4SCIDxZu+YD8JP8r4E=       247640       465   \n",
       "1  o0kFgae9QtnYgRkVPqLJwa05zIhRlUjfF7O1tDw0ZDU=       197328       444   \n",
       "2  DwVvVurfpuz+XPuFvucclVQEyPqcpUkHR0ne1RQzPs0=       231781       465   \n",
       "3  dKMBWoZyScdxSkihKG+Vf47nc18N9q4m58+b4e7dSSE=       273554       465   \n",
       "4  W3bqWd3T+VeHFzHAUfARgW9AvVRaF4N5Yzm4Mr6Eo/o=       140329       726   \n",
       "\n",
       "        artist_name                            composer     lyricist language  \\\n",
       "0  張信哲 (Jeff Chang)                                  董貞          何啟弘      3.0   \n",
       "1         BLACKPINK  TEDDY|  FUTURE BOUNCE|  Bekuh BOOM        TEDDY     31.0   \n",
       "2      SUPER JUNIOR                            FILL_NAN     FILL_NAN     31.0   \n",
       "3             S.H.E                                 湯小康          徐世珍      3.0   \n",
       "4              貴族精選                         Traditional  Traditional     52.0   \n",
       "\n",
       "   genre_ids_count  artist_name_count  composer_count  lyricist_count  \\\n",
       "0                1                  1               1               1   \n",
       "1                1                  1               3               1   \n",
       "2                1                  1               0               0   \n",
       "3                1                  1               1               1   \n",
       "4                1                  1               1               1   \n",
       "\n",
       "                isrc_country isrc_year  \n",
       "0  Taiwan, Province of China      2014  \n",
       "1                         -1        -1  \n",
       "2                         -1        -1  \n",
       "3  Taiwan, Province of China      2002  \n",
       "4                         -1        -1  "
      ]
     },
     "execution_count": 34,
     "metadata": {},
     "output_type": "execute_result"
    }
   ],
   "source": [
    "extended_song_df = merge_songs(post_song_df, post_song_extra_info_df)\n",
    "\n",
    "extended_song_df.head()"
   ]
  },
  {
   "cell_type": "code",
   "execution_count": 35,
   "id": "6a8d8218",
   "metadata": {},
   "outputs": [
    {
     "data": {
      "text/html": [
       "<div>\n",
       "<style scoped>\n",
       "    .dataframe tbody tr th:only-of-type {\n",
       "        vertical-align: middle;\n",
       "    }\n",
       "\n",
       "    .dataframe tbody tr th {\n",
       "        vertical-align: top;\n",
       "    }\n",
       "\n",
       "    .dataframe thead th {\n",
       "        text-align: right;\n",
       "    }\n",
       "</style>\n",
       "<table border=\"1\" class=\"dataframe\">\n",
       "  <thead>\n",
       "    <tr style=\"text-align: right;\">\n",
       "      <th></th>\n",
       "      <th>msno</th>\n",
       "      <th>song_id</th>\n",
       "      <th>source_system_tab</th>\n",
       "      <th>source_screen_name</th>\n",
       "      <th>source_type</th>\n",
       "      <th>target</th>\n",
       "      <th>city</th>\n",
       "      <th>gender</th>\n",
       "      <th>registered_via</th>\n",
       "      <th>registration_init_time</th>\n",
       "      <th>...</th>\n",
       "      <th>artist_name</th>\n",
       "      <th>composer</th>\n",
       "      <th>lyricist</th>\n",
       "      <th>language</th>\n",
       "      <th>genre_ids_count</th>\n",
       "      <th>artist_name_count</th>\n",
       "      <th>composer_count</th>\n",
       "      <th>lyricist_count</th>\n",
       "      <th>isrc_country</th>\n",
       "      <th>isrc_year</th>\n",
       "    </tr>\n",
       "  </thead>\n",
       "  <tbody>\n",
       "    <tr>\n",
       "      <th>0</th>\n",
       "      <td>FGtllVqz18RPiwJj/edr2gV78zirAiY/9SmYvia+kCg=</td>\n",
       "      <td>BBzumQNXUHKdEBOB7mAJuzok+IJA1c2Ryg/yzTF6tik=</td>\n",
       "      <td>explore</td>\n",
       "      <td>Explore</td>\n",
       "      <td>online-playlist</td>\n",
       "      <td>1</td>\n",
       "      <td>1</td>\n",
       "      <td>FILL_NAN</td>\n",
       "      <td>7</td>\n",
       "      <td>2012-01-02</td>\n",
       "      <td>...</td>\n",
       "      <td>Bastille</td>\n",
       "      <td>Dan Smith| Mark Crew</td>\n",
       "      <td>FILL_NAN</td>\n",
       "      <td>52.0</td>\n",
       "      <td>1.0</td>\n",
       "      <td>1.0</td>\n",
       "      <td>2.0</td>\n",
       "      <td>0.0</td>\n",
       "      <td>United Kingdom</td>\n",
       "      <td>2016</td>\n",
       "    </tr>\n",
       "    <tr>\n",
       "      <th>1</th>\n",
       "      <td>Xumu+NIjS6QYVxDS4/t3SawvJ7viT9hPKXmf0RtLNx8=</td>\n",
       "      <td>bhp/MpSNoqoxOIB+/l8WPqu6jldth4DIpCm3ayXnJqM=</td>\n",
       "      <td>my library</td>\n",
       "      <td>Local playlist more</td>\n",
       "      <td>local-playlist</td>\n",
       "      <td>1</td>\n",
       "      <td>13</td>\n",
       "      <td>female</td>\n",
       "      <td>9</td>\n",
       "      <td>2011-05-25</td>\n",
       "      <td>...</td>\n",
       "      <td>Various Artists</td>\n",
       "      <td>FILL_NAN</td>\n",
       "      <td>FILL_NAN</td>\n",
       "      <td>52.0</td>\n",
       "      <td>1.0</td>\n",
       "      <td>1.0</td>\n",
       "      <td>0.0</td>\n",
       "      <td>0.0</td>\n",
       "      <td>United States</td>\n",
       "      <td>1999</td>\n",
       "    </tr>\n",
       "    <tr>\n",
       "      <th>2</th>\n",
       "      <td>Xumu+NIjS6QYVxDS4/t3SawvJ7viT9hPKXmf0RtLNx8=</td>\n",
       "      <td>JNWfrrC7zNN7BdMpsISKa4Mw+xVJYNnxXh3/Epw7QgY=</td>\n",
       "      <td>my library</td>\n",
       "      <td>Local playlist more</td>\n",
       "      <td>local-playlist</td>\n",
       "      <td>1</td>\n",
       "      <td>13</td>\n",
       "      <td>female</td>\n",
       "      <td>9</td>\n",
       "      <td>2011-05-25</td>\n",
       "      <td>...</td>\n",
       "      <td>Nas</td>\n",
       "      <td>N. Jones、W. Adams、J. Lordan、D. Ingle</td>\n",
       "      <td>FILL_NAN</td>\n",
       "      <td>52.0</td>\n",
       "      <td>1.0</td>\n",
       "      <td>1.0</td>\n",
       "      <td>1.0</td>\n",
       "      <td>0.0</td>\n",
       "      <td>United States</td>\n",
       "      <td>2006</td>\n",
       "    </tr>\n",
       "    <tr>\n",
       "      <th>3</th>\n",
       "      <td>Xumu+NIjS6QYVxDS4/t3SawvJ7viT9hPKXmf0RtLNx8=</td>\n",
       "      <td>2A87tzfnJTSWqD7gIZHisolhe4DMdzkbd6LzO1KHjNs=</td>\n",
       "      <td>my library</td>\n",
       "      <td>Local playlist more</td>\n",
       "      <td>local-playlist</td>\n",
       "      <td>1</td>\n",
       "      <td>13</td>\n",
       "      <td>female</td>\n",
       "      <td>9</td>\n",
       "      <td>2011-05-25</td>\n",
       "      <td>...</td>\n",
       "      <td>Soundway</td>\n",
       "      <td>Kwadwo Donkoh</td>\n",
       "      <td>FILL_NAN</td>\n",
       "      <td>-1.0</td>\n",
       "      <td>1.0</td>\n",
       "      <td>1.0</td>\n",
       "      <td>1.0</td>\n",
       "      <td>0.0</td>\n",
       "      <td>United Kingdom</td>\n",
       "      <td>2010</td>\n",
       "    </tr>\n",
       "    <tr>\n",
       "      <th>4</th>\n",
       "      <td>FGtllVqz18RPiwJj/edr2gV78zirAiY/9SmYvia+kCg=</td>\n",
       "      <td>3qm6XTZ6MOCU11x8FIVbAGH5l5uMkT3/ZalWG1oo2Gc=</td>\n",
       "      <td>explore</td>\n",
       "      <td>Explore</td>\n",
       "      <td>online-playlist</td>\n",
       "      <td>1</td>\n",
       "      <td>1</td>\n",
       "      <td>FILL_NAN</td>\n",
       "      <td>7</td>\n",
       "      <td>2012-01-02</td>\n",
       "      <td>...</td>\n",
       "      <td>Brett Young</td>\n",
       "      <td>Brett Young| Kelly Archer| Justin Ebach</td>\n",
       "      <td>FILL_NAN</td>\n",
       "      <td>52.0</td>\n",
       "      <td>1.0</td>\n",
       "      <td>1.0</td>\n",
       "      <td>3.0</td>\n",
       "      <td>0.0</td>\n",
       "      <td>-1</td>\n",
       "      <td>2016</td>\n",
       "    </tr>\n",
       "  </tbody>\n",
       "</table>\n",
       "<p>5 rows × 24 columns</p>\n",
       "</div>"
      ],
      "text/plain": [
       "                                           msno  \\\n",
       "0  FGtllVqz18RPiwJj/edr2gV78zirAiY/9SmYvia+kCg=   \n",
       "1  Xumu+NIjS6QYVxDS4/t3SawvJ7viT9hPKXmf0RtLNx8=   \n",
       "2  Xumu+NIjS6QYVxDS4/t3SawvJ7viT9hPKXmf0RtLNx8=   \n",
       "3  Xumu+NIjS6QYVxDS4/t3SawvJ7viT9hPKXmf0RtLNx8=   \n",
       "4  FGtllVqz18RPiwJj/edr2gV78zirAiY/9SmYvia+kCg=   \n",
       "\n",
       "                                        song_id source_system_tab  \\\n",
       "0  BBzumQNXUHKdEBOB7mAJuzok+IJA1c2Ryg/yzTF6tik=           explore   \n",
       "1  bhp/MpSNoqoxOIB+/l8WPqu6jldth4DIpCm3ayXnJqM=        my library   \n",
       "2  JNWfrrC7zNN7BdMpsISKa4Mw+xVJYNnxXh3/Epw7QgY=        my library   \n",
       "3  2A87tzfnJTSWqD7gIZHisolhe4DMdzkbd6LzO1KHjNs=        my library   \n",
       "4  3qm6XTZ6MOCU11x8FIVbAGH5l5uMkT3/ZalWG1oo2Gc=           explore   \n",
       "\n",
       "    source_screen_name      source_type  target city    gender registered_via  \\\n",
       "0              Explore  online-playlist       1    1  FILL_NAN              7   \n",
       "1  Local playlist more   local-playlist       1   13    female              9   \n",
       "2  Local playlist more   local-playlist       1   13    female              9   \n",
       "3  Local playlist more   local-playlist       1   13    female              9   \n",
       "4              Explore  online-playlist       1    1  FILL_NAN              7   \n",
       "\n",
       "  registration_init_time  ...      artist_name  \\\n",
       "0             2012-01-02  ...         Bastille   \n",
       "1             2011-05-25  ...  Various Artists   \n",
       "2             2011-05-25  ...              Nas   \n",
       "3             2011-05-25  ...         Soundway   \n",
       "4             2012-01-02  ...      Brett Young   \n",
       "\n",
       "                                  composer  lyricist language genre_ids_count  \\\n",
       "0                     Dan Smith| Mark Crew  FILL_NAN     52.0             1.0   \n",
       "1                                 FILL_NAN  FILL_NAN     52.0             1.0   \n",
       "2     N. Jones、W. Adams、J. Lordan、D. Ingle  FILL_NAN     52.0             1.0   \n",
       "3                            Kwadwo Donkoh  FILL_NAN     -1.0             1.0   \n",
       "4  Brett Young| Kelly Archer| Justin Ebach  FILL_NAN     52.0             1.0   \n",
       "\n",
       "  artist_name_count composer_count lyricist_count    isrc_country  isrc_year  \n",
       "0               1.0            2.0            0.0  United Kingdom       2016  \n",
       "1               1.0            0.0            0.0   United States       1999  \n",
       "2               1.0            1.0            0.0   United States       2006  \n",
       "3               1.0            1.0            0.0  United Kingdom       2010  \n",
       "4               1.0            3.0            0.0              -1       2016  \n",
       "\n",
       "[5 rows x 24 columns]"
      ]
     },
     "execution_count": 35,
     "metadata": {},
     "output_type": "execute_result"
    }
   ],
   "source": [
    "extended_train_df = process_train(train_df, post_members_df, extended_song_df)\n",
    "\n",
    "extended_train_df.head()"
   ]
  },
  {
   "cell_type": "code",
   "execution_count": 36,
   "id": "6705fde2",
   "metadata": {},
   "outputs": [
    {
     "name": "stdout",
     "output_type": "stream",
     "text": [
      "<class 'pandas.core.frame.DataFrame'>\n",
      "Int64Index: 7377418 entries, 0 to 7377417\n",
      "Data columns (total 24 columns):\n",
      " #   Column                  Dtype         \n",
      "---  ------                  -----         \n",
      " 0   msno                    object        \n",
      " 1   song_id                 object        \n",
      " 2   source_system_tab       category      \n",
      " 3   source_screen_name      category      \n",
      " 4   source_type             category      \n",
      " 5   target                  uint8         \n",
      " 6   city                    category      \n",
      " 7   gender                  category      \n",
      " 8   registered_via          category      \n",
      " 9   registration_init_time  datetime64[ns]\n",
      " 10  expiration_date         datetime64[ns]\n",
      " 11  age_group               category      \n",
      " 12  song_length             float64       \n",
      " 13  genre_ids               category      \n",
      " 14  artist_name             category      \n",
      " 15  composer                category      \n",
      " 16  lyricist                category      \n",
      " 17  language                category      \n",
      " 18  genre_ids_count         float64       \n",
      " 19  artist_name_count       float64       \n",
      " 20  composer_count          float64       \n",
      " 21  lyricist_count          float64       \n",
      " 22  isrc_country            object        \n",
      " 23  isrc_year               category      \n",
      "dtypes: category(13), datetime64[ns](2), float64(5), object(3), uint8(1)\n",
      "memory usage: 813.3+ MB\n"
     ]
    }
   ],
   "source": [
    "extended_train_df.info()"
   ]
  },
  {
   "cell_type": "code",
   "execution_count": 37,
   "id": "169bc5db",
   "metadata": {},
   "outputs": [
    {
     "name": "stdout",
     "output_type": "stream",
     "text": [
      "missing song_id: 0\n",
      "missing msno: 0\n"
     ]
    }
   ],
   "source": [
    "print(f\"missing song_id: {extended_train_df[extended_train_df.song_id == 'FILL_NAN'].shape[0]}\")\n",
    "print(f\"missing msno: {extended_train_df[extended_train_df.msno == 'FILL_NAN'].shape[0]}\")"
   ]
  },
  {
   "cell_type": "code",
   "execution_count": 38,
   "id": "7728f057",
   "metadata": {},
   "outputs": [],
   "source": [
    "# extended_train_df.target.value_counts().plot(kind='bar')"
   ]
  },
  {
   "cell_type": "markdown",
   "id": "f4d40caa",
   "metadata": {},
   "source": [
    "---"
   ]
  },
  {
   "cell_type": "markdown",
   "id": "c40a33e7",
   "metadata": {},
   "source": [
    "### TASK_01: RecSys using GBDT\n",
    "\n"
   ]
  },
  {
   "cell_type": "code",
   "execution_count": 48,
   "id": "b3b80c9d",
   "metadata": {},
   "outputs": [],
   "source": [
    "from catboost_custom import *\n",
    "from data2catboost import TrainDataset"
   ]
  },
  {
   "cell_type": "code",
   "execution_count": 40,
   "id": "1f56487b",
   "metadata": {},
   "outputs": [
    {
     "data": {
      "text/html": [
       "<div>\n",
       "<style scoped>\n",
       "    .dataframe tbody tr th:only-of-type {\n",
       "        vertical-align: middle;\n",
       "    }\n",
       "\n",
       "    .dataframe tbody tr th {\n",
       "        vertical-align: top;\n",
       "    }\n",
       "\n",
       "    .dataframe thead th {\n",
       "        text-align: right;\n",
       "    }\n",
       "</style>\n",
       "<table border=\"1\" class=\"dataframe\">\n",
       "  <thead>\n",
       "    <tr style=\"text-align: right;\">\n",
       "      <th></th>\n",
       "      <th>msno</th>\n",
       "      <th>song_id</th>\n",
       "      <th>source_system_tab</th>\n",
       "      <th>source_screen_name</th>\n",
       "      <th>source_type</th>\n",
       "      <th>target</th>\n",
       "      <th>city</th>\n",
       "      <th>gender</th>\n",
       "      <th>registered_via</th>\n",
       "      <th>registration_init_time</th>\n",
       "      <th>...</th>\n",
       "      <th>artist_name</th>\n",
       "      <th>composer</th>\n",
       "      <th>lyricist</th>\n",
       "      <th>language</th>\n",
       "      <th>genre_ids_count</th>\n",
       "      <th>artist_name_count</th>\n",
       "      <th>composer_count</th>\n",
       "      <th>lyricist_count</th>\n",
       "      <th>isrc_country</th>\n",
       "      <th>isrc_year</th>\n",
       "    </tr>\n",
       "  </thead>\n",
       "  <tbody>\n",
       "    <tr>\n",
       "      <th>0</th>\n",
       "      <td>FGtllVqz18RPiwJj/edr2gV78zirAiY/9SmYvia+kCg=</td>\n",
       "      <td>BBzumQNXUHKdEBOB7mAJuzok+IJA1c2Ryg/yzTF6tik=</td>\n",
       "      <td>explore</td>\n",
       "      <td>Explore</td>\n",
       "      <td>online-playlist</td>\n",
       "      <td>1</td>\n",
       "      <td>1</td>\n",
       "      <td>FILL_NAN</td>\n",
       "      <td>7</td>\n",
       "      <td>2012-01-02</td>\n",
       "      <td>...</td>\n",
       "      <td>Bastille</td>\n",
       "      <td>Dan Smith| Mark Crew</td>\n",
       "      <td>FILL_NAN</td>\n",
       "      <td>52.0</td>\n",
       "      <td>1.0</td>\n",
       "      <td>1.0</td>\n",
       "      <td>2.0</td>\n",
       "      <td>0.0</td>\n",
       "      <td>United Kingdom</td>\n",
       "      <td>2016</td>\n",
       "    </tr>\n",
       "    <tr>\n",
       "      <th>1</th>\n",
       "      <td>Xumu+NIjS6QYVxDS4/t3SawvJ7viT9hPKXmf0RtLNx8=</td>\n",
       "      <td>bhp/MpSNoqoxOIB+/l8WPqu6jldth4DIpCm3ayXnJqM=</td>\n",
       "      <td>my library</td>\n",
       "      <td>Local playlist more</td>\n",
       "      <td>local-playlist</td>\n",
       "      <td>1</td>\n",
       "      <td>13</td>\n",
       "      <td>female</td>\n",
       "      <td>9</td>\n",
       "      <td>2011-05-25</td>\n",
       "      <td>...</td>\n",
       "      <td>Various Artists</td>\n",
       "      <td>FILL_NAN</td>\n",
       "      <td>FILL_NAN</td>\n",
       "      <td>52.0</td>\n",
       "      <td>1.0</td>\n",
       "      <td>1.0</td>\n",
       "      <td>0.0</td>\n",
       "      <td>0.0</td>\n",
       "      <td>United States</td>\n",
       "      <td>1999</td>\n",
       "    </tr>\n",
       "    <tr>\n",
       "      <th>2</th>\n",
       "      <td>Xumu+NIjS6QYVxDS4/t3SawvJ7viT9hPKXmf0RtLNx8=</td>\n",
       "      <td>JNWfrrC7zNN7BdMpsISKa4Mw+xVJYNnxXh3/Epw7QgY=</td>\n",
       "      <td>my library</td>\n",
       "      <td>Local playlist more</td>\n",
       "      <td>local-playlist</td>\n",
       "      <td>1</td>\n",
       "      <td>13</td>\n",
       "      <td>female</td>\n",
       "      <td>9</td>\n",
       "      <td>2011-05-25</td>\n",
       "      <td>...</td>\n",
       "      <td>Nas</td>\n",
       "      <td>N. Jones、W. Adams、J. Lordan、D. Ingle</td>\n",
       "      <td>FILL_NAN</td>\n",
       "      <td>52.0</td>\n",
       "      <td>1.0</td>\n",
       "      <td>1.0</td>\n",
       "      <td>1.0</td>\n",
       "      <td>0.0</td>\n",
       "      <td>United States</td>\n",
       "      <td>2006</td>\n",
       "    </tr>\n",
       "    <tr>\n",
       "      <th>3</th>\n",
       "      <td>Xumu+NIjS6QYVxDS4/t3SawvJ7viT9hPKXmf0RtLNx8=</td>\n",
       "      <td>2A87tzfnJTSWqD7gIZHisolhe4DMdzkbd6LzO1KHjNs=</td>\n",
       "      <td>my library</td>\n",
       "      <td>Local playlist more</td>\n",
       "      <td>local-playlist</td>\n",
       "      <td>1</td>\n",
       "      <td>13</td>\n",
       "      <td>female</td>\n",
       "      <td>9</td>\n",
       "      <td>2011-05-25</td>\n",
       "      <td>...</td>\n",
       "      <td>Soundway</td>\n",
       "      <td>Kwadwo Donkoh</td>\n",
       "      <td>FILL_NAN</td>\n",
       "      <td>-1.0</td>\n",
       "      <td>1.0</td>\n",
       "      <td>1.0</td>\n",
       "      <td>1.0</td>\n",
       "      <td>0.0</td>\n",
       "      <td>United Kingdom</td>\n",
       "      <td>2010</td>\n",
       "    </tr>\n",
       "    <tr>\n",
       "      <th>4</th>\n",
       "      <td>FGtllVqz18RPiwJj/edr2gV78zirAiY/9SmYvia+kCg=</td>\n",
       "      <td>3qm6XTZ6MOCU11x8FIVbAGH5l5uMkT3/ZalWG1oo2Gc=</td>\n",
       "      <td>explore</td>\n",
       "      <td>Explore</td>\n",
       "      <td>online-playlist</td>\n",
       "      <td>1</td>\n",
       "      <td>1</td>\n",
       "      <td>FILL_NAN</td>\n",
       "      <td>7</td>\n",
       "      <td>2012-01-02</td>\n",
       "      <td>...</td>\n",
       "      <td>Brett Young</td>\n",
       "      <td>Brett Young| Kelly Archer| Justin Ebach</td>\n",
       "      <td>FILL_NAN</td>\n",
       "      <td>52.0</td>\n",
       "      <td>1.0</td>\n",
       "      <td>1.0</td>\n",
       "      <td>3.0</td>\n",
       "      <td>0.0</td>\n",
       "      <td>-1</td>\n",
       "      <td>2016</td>\n",
       "    </tr>\n",
       "  </tbody>\n",
       "</table>\n",
       "<p>5 rows × 24 columns</p>\n",
       "</div>"
      ],
      "text/plain": [
       "                                           msno  \\\n",
       "0  FGtllVqz18RPiwJj/edr2gV78zirAiY/9SmYvia+kCg=   \n",
       "1  Xumu+NIjS6QYVxDS4/t3SawvJ7viT9hPKXmf0RtLNx8=   \n",
       "2  Xumu+NIjS6QYVxDS4/t3SawvJ7viT9hPKXmf0RtLNx8=   \n",
       "3  Xumu+NIjS6QYVxDS4/t3SawvJ7viT9hPKXmf0RtLNx8=   \n",
       "4  FGtllVqz18RPiwJj/edr2gV78zirAiY/9SmYvia+kCg=   \n",
       "\n",
       "                                        song_id source_system_tab  \\\n",
       "0  BBzumQNXUHKdEBOB7mAJuzok+IJA1c2Ryg/yzTF6tik=           explore   \n",
       "1  bhp/MpSNoqoxOIB+/l8WPqu6jldth4DIpCm3ayXnJqM=        my library   \n",
       "2  JNWfrrC7zNN7BdMpsISKa4Mw+xVJYNnxXh3/Epw7QgY=        my library   \n",
       "3  2A87tzfnJTSWqD7gIZHisolhe4DMdzkbd6LzO1KHjNs=        my library   \n",
       "4  3qm6XTZ6MOCU11x8FIVbAGH5l5uMkT3/ZalWG1oo2Gc=           explore   \n",
       "\n",
       "    source_screen_name      source_type  target city    gender registered_via  \\\n",
       "0              Explore  online-playlist       1    1  FILL_NAN              7   \n",
       "1  Local playlist more   local-playlist       1   13    female              9   \n",
       "2  Local playlist more   local-playlist       1   13    female              9   \n",
       "3  Local playlist more   local-playlist       1   13    female              9   \n",
       "4              Explore  online-playlist       1    1  FILL_NAN              7   \n",
       "\n",
       "  registration_init_time  ...      artist_name  \\\n",
       "0             2012-01-02  ...         Bastille   \n",
       "1             2011-05-25  ...  Various Artists   \n",
       "2             2011-05-25  ...              Nas   \n",
       "3             2011-05-25  ...         Soundway   \n",
       "4             2012-01-02  ...      Brett Young   \n",
       "\n",
       "                                  composer  lyricist language genre_ids_count  \\\n",
       "0                     Dan Smith| Mark Crew  FILL_NAN     52.0             1.0   \n",
       "1                                 FILL_NAN  FILL_NAN     52.0             1.0   \n",
       "2     N. Jones、W. Adams、J. Lordan、D. Ingle  FILL_NAN     52.0             1.0   \n",
       "3                            Kwadwo Donkoh  FILL_NAN     -1.0             1.0   \n",
       "4  Brett Young| Kelly Archer| Justin Ebach  FILL_NAN     52.0             1.0   \n",
       "\n",
       "  artist_name_count composer_count lyricist_count    isrc_country  isrc_year  \n",
       "0               1.0            2.0            0.0  United Kingdom       2016  \n",
       "1               1.0            0.0            0.0   United States       1999  \n",
       "2               1.0            1.0            0.0   United States       2006  \n",
       "3               1.0            1.0            0.0  United Kingdom       2010  \n",
       "4               1.0            3.0            0.0              -1       2016  \n",
       "\n",
       "[5 rows x 24 columns]"
      ]
     },
     "execution_count": 40,
     "metadata": {},
     "output_type": "execute_result"
    }
   ],
   "source": [
    "TOY_df = extended_train_df[:100]\n",
    "\n",
    "TR_DT = TrainDataset(TOY_df)\n",
    "\n",
    "TR_DT._df.head()"
   ]
  },
  {
   "cell_type": "code",
   "execution_count": 41,
   "id": "45d85b1e",
   "metadata": {},
   "outputs": [
    {
     "name": "stderr",
     "output_type": "stream",
     "text": [
      "/home/galdmitry/CODE_REPOS/HSE_RecSys/HW_02/utils/data2catboost.py:23: SettingWithCopyWarning: \n",
      "A value is trying to be set on a copy of a slice from a DataFrame.\n",
      "Try using .loc[row_indexer,col_indexer] = value instead\n",
      "\n",
      "See the caveats in the documentation: https://pandas.pydata.org/pandas-docs/stable/user_guide/indexing.html#returning-a-view-versus-a-copy\n",
      "  self._df[column] = self._df[column].astype(\"category\")\n"
     ]
    }
   ],
   "source": [
    "TR_DT.to_category([\"msno\", \"song_id\", \"isrc_country\"])"
   ]
  },
  {
   "cell_type": "code",
   "execution_count": 42,
   "id": "274dac2f",
   "metadata": {},
   "outputs": [
    {
     "data": {
      "text/plain": [
       "0     FGtllVqz18RPiwJj/edr2gV78zirAiY/9SmYvia+kCg=\n",
       "1     Xumu+NIjS6QYVxDS4/t3SawvJ7viT9hPKXmf0RtLNx8=\n",
       "2     Xumu+NIjS6QYVxDS4/t3SawvJ7viT9hPKXmf0RtLNx8=\n",
       "3     Xumu+NIjS6QYVxDS4/t3SawvJ7viT9hPKXmf0RtLNx8=\n",
       "4     FGtllVqz18RPiwJj/edr2gV78zirAiY/9SmYvia+kCg=\n",
       "                          ...                     \n",
       "95    Eaq21N7ijazDjnqU5v1jjWewJopGxgZxkKr4GIq7JTs=\n",
       "96    pNPe9+kUnGJem0nHfYPdQ/Jx5yNlGLTJLshSohjkSdA=\n",
       "97    pNPe9+kUnGJem0nHfYPdQ/Jx5yNlGLTJLshSohjkSdA=\n",
       "98    pNPe9+kUnGJem0nHfYPdQ/Jx5yNlGLTJLshSohjkSdA=\n",
       "99    pNPe9+kUnGJem0nHfYPdQ/Jx5yNlGLTJLshSohjkSdA=\n",
       "Name: msno, Length: 100, dtype: category\n",
       "Categories (30, object): ['0LhkakIQDn36HZXI6ClQSO7W7jkpZAy+9MvYgPOZGrA=', '1GH1R7OI417+PPoqBtb9Jh1udsZC5XrOW2HqwjzCl2A=', '3g0bC24RD7QUeALY1IF/e8L6X3fHG298ZFIsCEG9T9Y=', '8Nlr1MyF+XUilQ4z9Cv6Re9qQIYwa5rCi90flRoyDv0=', ..., 'uQQHTQJ1nVEkBfbXe0f1/J9ML5eQhsQiocCV5TvvCRI=', 'yABGsFFqTctk/xnMj67nHmnisCwdue7XYxkYGOe9BGE=', 'zXLzFiB5jQaph3W2EyGi5DGsUloRPcoVTG4VI5ullew=', 'zcCi+lR4SecPMBbZEwj4UUBrWhgBUbxx+t4O5KA28K8=']"
      ]
     },
     "execution_count": 42,
     "metadata": {},
     "output_type": "execute_result"
    }
   ],
   "source": [
    "TR_DT._df.msno"
   ]
  },
  {
   "cell_type": "code",
   "execution_count": 43,
   "id": "b9723186",
   "metadata": {},
   "outputs": [
    {
     "name": "stderr",
     "output_type": "stream",
     "text": [
      "/home/galdmitry/CODE_REPOS/HSE_RecSys/HW_02/utils/data2catboost.py:27: SettingWithCopyWarning: \n",
      "A value is trying to be set on a copy of a slice from a DataFrame.\n",
      "Try using .loc[row_indexer,col_indexer] = value instead\n",
      "\n",
      "See the caveats in the documentation: https://pandas.pydata.org/pandas-docs/stable/user_guide/indexing.html#returning-a-view-versus-a-copy\n",
      "  self._df[column] = self._df[column].cat.add_categories(\"<UNK>\").fillna(value=\"<UNK>\")\n"
     ]
    }
   ],
   "source": [
    "TR_DT.fill_na_category([\"source_system_tab\", \"source_screen_name\", \"source_type\"])"
   ]
  },
  {
   "cell_type": "code",
   "execution_count": 44,
   "id": "20a9a4d0",
   "metadata": {},
   "outputs": [
    {
     "data": {
      "text/plain": [
       "msno                      False\n",
       "song_id                   False\n",
       "source_system_tab         False\n",
       "source_screen_name        False\n",
       "source_type               False\n",
       "target                    False\n",
       "city                      False\n",
       "gender                    False\n",
       "registered_via            False\n",
       "registration_init_time    False\n",
       "expiration_date           False\n",
       "age_group                 False\n",
       "song_length               False\n",
       "genre_ids                 False\n",
       "artist_name               False\n",
       "composer                  False\n",
       "lyricist                  False\n",
       "language                  False\n",
       "genre_ids_count           False\n",
       "artist_name_count         False\n",
       "composer_count            False\n",
       "lyricist_count            False\n",
       "isrc_country              False\n",
       "isrc_year                 False\n",
       "dtype: bool"
      ]
     },
     "execution_count": 44,
     "metadata": {},
     "output_type": "execute_result"
    }
   ],
   "source": [
    "TR_DT._df.isnull().any()"
   ]
  },
  {
   "cell_type": "code",
   "execution_count": 45,
   "id": "52ff94e1",
   "metadata": {},
   "outputs": [],
   "source": [
    "TR_DT = TR_DT.sort_by(\"msno\")"
   ]
  },
  {
   "cell_type": "markdown",
   "id": "77e56fdc",
   "metadata": {},
   "source": [
    "### CATBOOST"
   ]
  },
  {
   "cell_type": "code",
   "execution_count": 46,
   "id": "30bc294b",
   "metadata": {},
   "outputs": [],
   "source": [
    "# jupyter nbextension enable --py widgetsnbextension"
   ]
  },
  {
   "cell_type": "code",
   "execution_count": 49,
   "id": "9990759e",
   "metadata": {},
   "outputs": [],
   "source": [
    "random_state = 42\n",
    "\n",
    "model = CatBoostModel(\"YetiRank\", 150, \"CPU\", random_state)"
   ]
  },
  {
   "cell_type": "code",
   "execution_count": 50,
   "id": "fa916dc2",
   "metadata": {
    "scrolled": true
   },
   "outputs": [
    {
     "name": "stdout",
     "output_type": "stream",
     "text": [
      "Groupwise loss function. OneHotMaxSize set to 10\n",
      "0:\ttotal: 54ms\tremaining: 8.05s\n",
      "1:\ttotal: 55.7ms\tremaining: 4.12s\n",
      "2:\ttotal: 57.1ms\tremaining: 2.8s\n",
      "3:\ttotal: 59ms\tremaining: 2.15s\n",
      "4:\ttotal: 60.2ms\tremaining: 1.74s\n",
      "5:\ttotal: 61.5ms\tremaining: 1.48s\n",
      "6:\ttotal: 62.8ms\tremaining: 1.28s\n",
      "7:\ttotal: 64.1ms\tremaining: 1.14s\n",
      "8:\ttotal: 65.9ms\tremaining: 1.03s\n",
      "9:\ttotal: 67.1ms\tremaining: 939ms\n",
      "10:\ttotal: 68.4ms\tremaining: 864ms\n",
      "11:\ttotal: 69.6ms\tremaining: 801ms\n",
      "12:\ttotal: 70.8ms\tremaining: 746ms\n",
      "13:\ttotal: 71.6ms\tremaining: 696ms\n",
      "14:\ttotal: 73.5ms\tremaining: 662ms\n",
      "15:\ttotal: 74.7ms\tremaining: 626ms\n",
      "16:\ttotal: 75.9ms\tremaining: 594ms\n",
      "17:\ttotal: 77ms\tremaining: 565ms\n",
      "18:\ttotal: 77.8ms\tremaining: 536ms\n",
      "19:\ttotal: 78.9ms\tremaining: 513ms\n",
      "20:\ttotal: 80.6ms\tremaining: 495ms\n",
      "21:\ttotal: 81.3ms\tremaining: 473ms\n",
      "22:\ttotal: 82.6ms\tremaining: 456ms\n",
      "23:\ttotal: 83.8ms\tremaining: 440ms\n",
      "24:\ttotal: 85.1ms\tremaining: 425ms\n",
      "25:\ttotal: 86.3ms\tremaining: 411ms\n",
      "26:\ttotal: 88.3ms\tremaining: 402ms\n",
      "27:\ttotal: 89.6ms\tremaining: 390ms\n",
      "28:\ttotal: 90.8ms\tremaining: 379ms\n",
      "29:\ttotal: 91.8ms\tremaining: 367ms\n",
      "30:\ttotal: 93ms\tremaining: 357ms\n",
      "31:\ttotal: 94.5ms\tremaining: 349ms\n",
      "32:\ttotal: 95.4ms\tremaining: 338ms\n",
      "33:\ttotal: 97.4ms\tremaining: 332ms\n",
      "34:\ttotal: 98.8ms\tremaining: 325ms\n",
      "35:\ttotal: 100ms\tremaining: 317ms\n",
      "36:\ttotal: 101ms\tremaining: 309ms\n",
      "37:\ttotal: 103ms\tremaining: 303ms\n",
      "38:\ttotal: 104ms\tremaining: 296ms\n",
      "39:\ttotal: 105ms\tremaining: 290ms\n",
      "40:\ttotal: 107ms\tremaining: 283ms\n",
      "41:\ttotal: 108ms\tremaining: 277ms\n",
      "42:\ttotal: 109ms\tremaining: 272ms\n",
      "43:\ttotal: 111ms\tremaining: 266ms\n",
      "44:\ttotal: 112ms\tremaining: 262ms\n",
      "45:\ttotal: 113ms\tremaining: 256ms\n",
      "46:\ttotal: 115ms\tremaining: 251ms\n",
      "47:\ttotal: 116ms\tremaining: 246ms\n",
      "48:\ttotal: 117ms\tremaining: 241ms\n",
      "49:\ttotal: 118ms\tremaining: 237ms\n",
      "50:\ttotal: 120ms\tremaining: 232ms\n",
      "51:\ttotal: 121ms\tremaining: 227ms\n",
      "52:\ttotal: 122ms\tremaining: 223ms\n",
      "53:\ttotal: 123ms\tremaining: 219ms\n",
      "54:\ttotal: 124ms\tremaining: 214ms\n",
      "55:\ttotal: 125ms\tremaining: 210ms\n",
      "56:\ttotal: 126ms\tremaining: 206ms\n",
      "57:\ttotal: 128ms\tremaining: 203ms\n",
      "58:\ttotal: 129ms\tremaining: 198ms\n",
      "59:\ttotal: 130ms\tremaining: 195ms\n",
      "60:\ttotal: 131ms\tremaining: 191ms\n",
      "61:\ttotal: 132ms\tremaining: 188ms\n",
      "62:\ttotal: 133ms\tremaining: 184ms\n",
      "63:\ttotal: 135ms\tremaining: 181ms\n",
      "64:\ttotal: 136ms\tremaining: 178ms\n",
      "65:\ttotal: 137ms\tremaining: 175ms\n",
      "66:\ttotal: 138ms\tremaining: 171ms\n",
      "67:\ttotal: 140ms\tremaining: 168ms\n",
      "68:\ttotal: 140ms\tremaining: 165ms\n",
      "69:\ttotal: 141ms\tremaining: 162ms\n",
      "70:\ttotal: 143ms\tremaining: 159ms\n",
      "71:\ttotal: 144ms\tremaining: 156ms\n",
      "72:\ttotal: 145ms\tremaining: 153ms\n",
      "73:\ttotal: 146ms\tremaining: 150ms\n",
      "74:\ttotal: 147ms\tremaining: 147ms\n",
      "75:\ttotal: 148ms\tremaining: 144ms\n",
      "76:\ttotal: 149ms\tremaining: 141ms\n",
      "77:\ttotal: 150ms\tremaining: 139ms\n",
      "78:\ttotal: 152ms\tremaining: 136ms\n",
      "79:\ttotal: 153ms\tremaining: 134ms\n",
      "80:\ttotal: 154ms\tremaining: 131ms\n",
      "81:\ttotal: 155ms\tremaining: 129ms\n",
      "82:\ttotal: 156ms\tremaining: 126ms\n",
      "83:\ttotal: 157ms\tremaining: 124ms\n",
      "84:\ttotal: 159ms\tremaining: 121ms\n",
      "85:\ttotal: 160ms\tremaining: 119ms\n",
      "86:\ttotal: 161ms\tremaining: 117ms\n",
      "87:\ttotal: 162ms\tremaining: 114ms\n",
      "88:\ttotal: 163ms\tremaining: 112ms\n",
      "89:\ttotal: 165ms\tremaining: 110ms\n",
      "90:\ttotal: 166ms\tremaining: 107ms\n",
      "91:\ttotal: 167ms\tremaining: 105ms\n",
      "92:\ttotal: 168ms\tremaining: 103ms\n",
      "93:\ttotal: 169ms\tremaining: 101ms\n",
      "94:\ttotal: 171ms\tremaining: 98.7ms\n",
      "95:\ttotal: 171ms\tremaining: 96.5ms\n",
      "96:\ttotal: 172ms\tremaining: 94.2ms\n",
      "97:\ttotal: 173ms\tremaining: 91.9ms\n",
      "98:\ttotal: 174ms\tremaining: 89.9ms\n",
      "99:\ttotal: 176ms\tremaining: 87.8ms\n",
      "100:\ttotal: 177ms\tremaining: 85.8ms\n",
      "101:\ttotal: 178ms\tremaining: 83.8ms\n",
      "102:\ttotal: 179ms\tremaining: 81.7ms\n",
      "103:\ttotal: 180ms\tremaining: 79.7ms\n",
      "104:\ttotal: 181ms\tremaining: 77.8ms\n",
      "105:\ttotal: 183ms\tremaining: 75.8ms\n",
      "106:\ttotal: 184ms\tremaining: 73.9ms\n",
      "107:\ttotal: 185ms\tremaining: 71.9ms\n",
      "108:\ttotal: 186ms\tremaining: 70ms\n",
      "109:\ttotal: 187ms\tremaining: 68.1ms\n",
      "110:\ttotal: 190ms\tremaining: 66.6ms\n",
      "111:\ttotal: 191ms\tremaining: 64.7ms\n",
      "112:\ttotal: 192ms\tremaining: 62.9ms\n",
      "113:\ttotal: 193ms\tremaining: 61ms\n",
      "114:\ttotal: 194ms\tremaining: 59.2ms\n",
      "115:\ttotal: 196ms\tremaining: 57.4ms\n",
      "116:\ttotal: 197ms\tremaining: 55.6ms\n",
      "117:\ttotal: 198ms\tremaining: 53.8ms\n",
      "118:\ttotal: 200ms\tremaining: 52ms\n",
      "119:\ttotal: 201ms\tremaining: 50.2ms\n",
      "120:\ttotal: 202ms\tremaining: 48.4ms\n",
      "121:\ttotal: 204ms\tremaining: 46.8ms\n",
      "122:\ttotal: 206ms\tremaining: 45.2ms\n",
      "123:\ttotal: 209ms\tremaining: 43.8ms\n",
      "124:\ttotal: 211ms\tremaining: 42.2ms\n",
      "125:\ttotal: 213ms\tremaining: 40.5ms\n",
      "126:\ttotal: 214ms\tremaining: 38.8ms\n",
      "127:\ttotal: 216ms\tremaining: 37.1ms\n",
      "128:\ttotal: 218ms\tremaining: 35.4ms\n",
      "129:\ttotal: 220ms\tremaining: 33.8ms\n",
      "130:\ttotal: 221ms\tremaining: 32.1ms\n",
      "131:\ttotal: 223ms\tremaining: 30.4ms\n",
      "132:\ttotal: 223ms\tremaining: 28.6ms\n",
      "133:\ttotal: 225ms\tremaining: 26.9ms\n",
      "134:\ttotal: 226ms\tremaining: 25.1ms\n",
      "135:\ttotal: 228ms\tremaining: 23.4ms\n",
      "136:\ttotal: 230ms\tremaining: 21.8ms\n",
      "137:\ttotal: 231ms\tremaining: 20.1ms\n",
      "138:\ttotal: 233ms\tremaining: 18.5ms\n",
      "139:\ttotal: 235ms\tremaining: 16.8ms\n",
      "140:\ttotal: 238ms\tremaining: 15.2ms\n",
      "141:\ttotal: 239ms\tremaining: 13.5ms\n",
      "142:\ttotal: 242ms\tremaining: 11.8ms\n",
      "143:\ttotal: 243ms\tremaining: 10.1ms\n",
      "144:\ttotal: 244ms\tremaining: 8.42ms\n",
      "145:\ttotal: 246ms\tremaining: 6.73ms\n",
      "146:\ttotal: 247ms\tremaining: 5.04ms\n",
      "147:\ttotal: 249ms\tremaining: 3.36ms\n",
      "148:\ttotal: 250ms\tremaining: 1.68ms\n",
      "149:\ttotal: 251ms\tremaining: 0us\n"
     ]
    },
    {
     "name": "stderr",
     "output_type": "stream",
     "text": [
      "/home/galdmitry/CODE_REPOS/HSE_RecSys/HW_02/utils/metrics.py:47: RuntimeWarning: Mean of empty slice.\n",
      "  return np.array(_AUC).mean()\n",
      "/home/galdmitry/anaconda3/envs/RecSys/lib/python3.8/site-packages/numpy/core/_methods.py:189: RuntimeWarning: invalid value encountered in double_scalars\n",
      "  ret = ret.dtype.type(ret / rcount)\n"
     ]
    },
    {
     "name": "stdout",
     "output_type": "stream",
     "text": [
      "Groupwise loss function. OneHotMaxSize set to 10\n",
      "0:\ttotal: 1.45ms\tremaining: 217ms\n",
      "1:\ttotal: 2.57ms\tremaining: 190ms\n",
      "2:\ttotal: 5.06ms\tremaining: 248ms\n",
      "3:\ttotal: 7.51ms\tremaining: 274ms\n",
      "4:\ttotal: 10.9ms\tremaining: 316ms\n",
      "5:\ttotal: 12.4ms\tremaining: 297ms\n",
      "6:\ttotal: 16.1ms\tremaining: 328ms\n",
      "7:\ttotal: 17.7ms\tremaining: 315ms\n",
      "8:\ttotal: 19.7ms\tremaining: 309ms\n",
      "9:\ttotal: 20.8ms\tremaining: 292ms\n",
      "10:\ttotal: 22.3ms\tremaining: 282ms\n",
      "11:\ttotal: 24.1ms\tremaining: 277ms\n",
      "12:\ttotal: 25.4ms\tremaining: 268ms\n",
      "13:\ttotal: 26.8ms\tremaining: 260ms\n",
      "14:\ttotal: 27.8ms\tremaining: 250ms\n",
      "15:\ttotal: 28.6ms\tremaining: 240ms\n",
      "16:\ttotal: 29.4ms\tremaining: 230ms\n",
      "17:\ttotal: 31ms\tremaining: 227ms\n",
      "18:\ttotal: 32.6ms\tremaining: 225ms\n",
      "19:\ttotal: 34.3ms\tremaining: 223ms\n",
      "20:\ttotal: 35.7ms\tremaining: 219ms\n",
      "21:\ttotal: 37ms\tremaining: 215ms\n",
      "22:\ttotal: 38.1ms\tremaining: 210ms\n",
      "23:\ttotal: 39.5ms\tremaining: 207ms\n",
      "24:\ttotal: 40.8ms\tremaining: 204ms\n",
      "25:\ttotal: 42.1ms\tremaining: 201ms\n",
      "26:\ttotal: 43.1ms\tremaining: 196ms\n",
      "27:\ttotal: 44.3ms\tremaining: 193ms\n",
      "28:\ttotal: 45.4ms\tremaining: 189ms\n",
      "29:\ttotal: 46.8ms\tremaining: 187ms\n",
      "30:\ttotal: 48.2ms\tremaining: 185ms\n",
      "31:\ttotal: 50.4ms\tremaining: 186ms\n",
      "32:\ttotal: 51.5ms\tremaining: 183ms\n",
      "33:\ttotal: 53.2ms\tremaining: 182ms\n",
      "34:\ttotal: 54.7ms\tremaining: 180ms\n",
      "35:\ttotal: 55.8ms\tremaining: 177ms\n",
      "36:\ttotal: 56.8ms\tremaining: 174ms\n",
      "37:\ttotal: 58.1ms\tremaining: 171ms\n",
      "38:\ttotal: 59.4ms\tremaining: 169ms\n",
      "39:\ttotal: 60.6ms\tremaining: 167ms\n",
      "40:\ttotal: 61.4ms\tremaining: 163ms\n",
      "41:\ttotal: 62.3ms\tremaining: 160ms\n",
      "42:\ttotal: 63.4ms\tremaining: 158ms\n",
      "43:\ttotal: 64.9ms\tremaining: 156ms\n",
      "44:\ttotal: 66.2ms\tremaining: 154ms\n",
      "45:\ttotal: 67.7ms\tremaining: 153ms\n",
      "46:\ttotal: 69ms\tremaining: 151ms\n",
      "47:\ttotal: 70.4ms\tremaining: 150ms\n",
      "48:\ttotal: 71.7ms\tremaining: 148ms\n",
      "49:\ttotal: 72.7ms\tremaining: 145ms\n",
      "50:\ttotal: 73.9ms\tremaining: 143ms\n",
      "51:\ttotal: 75.8ms\tremaining: 143ms\n",
      "52:\ttotal: 77.1ms\tremaining: 141ms\n",
      "53:\ttotal: 78.5ms\tremaining: 139ms\n",
      "54:\ttotal: 80ms\tremaining: 138ms\n",
      "55:\ttotal: 81.4ms\tremaining: 137ms\n",
      "56:\ttotal: 83ms\tremaining: 135ms\n",
      "57:\ttotal: 84.3ms\tremaining: 134ms\n",
      "58:\ttotal: 85.6ms\tremaining: 132ms\n",
      "59:\ttotal: 86.9ms\tremaining: 130ms\n",
      "60:\ttotal: 88.2ms\tremaining: 129ms\n",
      "61:\ttotal: 89.9ms\tremaining: 128ms\n",
      "62:\ttotal: 91.3ms\tremaining: 126ms\n",
      "63:\ttotal: 92.5ms\tremaining: 124ms\n",
      "64:\ttotal: 93.9ms\tremaining: 123ms\n",
      "65:\ttotal: 95.3ms\tremaining: 121ms\n",
      "66:\ttotal: 96.6ms\tremaining: 120ms\n",
      "67:\ttotal: 97.8ms\tremaining: 118ms\n",
      "68:\ttotal: 99.2ms\tremaining: 116ms\n",
      "69:\ttotal: 101ms\tremaining: 115ms\n",
      "70:\ttotal: 102ms\tremaining: 113ms\n",
      "71:\ttotal: 103ms\tremaining: 112ms\n",
      "72:\ttotal: 104ms\tremaining: 110ms\n",
      "73:\ttotal: 106ms\tremaining: 108ms\n",
      "74:\ttotal: 107ms\tremaining: 107ms\n",
      "75:\ttotal: 108ms\tremaining: 105ms\n",
      "76:\ttotal: 109ms\tremaining: 104ms\n",
      "77:\ttotal: 111ms\tremaining: 102ms\n",
      "78:\ttotal: 112ms\tremaining: 101ms\n",
      "79:\ttotal: 113ms\tremaining: 99.2ms\n",
      "80:\ttotal: 115ms\tremaining: 98.3ms\n",
      "81:\ttotal: 117ms\tremaining: 96.9ms\n",
      "82:\ttotal: 118ms\tremaining: 95.4ms\n",
      "83:\ttotal: 119ms\tremaining: 93.6ms\n",
      "84:\ttotal: 120ms\tremaining: 92.1ms\n",
      "85:\ttotal: 121ms\tremaining: 90.3ms\n",
      "86:\ttotal: 122ms\tremaining: 88.6ms\n",
      "87:\ttotal: 124ms\tremaining: 87.1ms\n",
      "88:\ttotal: 125ms\tremaining: 85.7ms\n",
      "89:\ttotal: 126ms\tremaining: 84.1ms\n",
      "90:\ttotal: 127ms\tremaining: 82.6ms\n",
      "91:\ttotal: 129ms\tremaining: 81.2ms\n",
      "92:\ttotal: 130ms\tremaining: 79.7ms\n",
      "93:\ttotal: 131ms\tremaining: 78.3ms\n",
      "94:\ttotal: 133ms\tremaining: 76.8ms\n",
      "95:\ttotal: 134ms\tremaining: 75.3ms\n",
      "96:\ttotal: 135ms\tremaining: 73.9ms\n",
      "97:\ttotal: 136ms\tremaining: 72.2ms\n",
      "98:\ttotal: 137ms\tremaining: 70.7ms\n",
      "99:\ttotal: 139ms\tremaining: 69.3ms\n",
      "100:\ttotal: 140ms\tremaining: 67.8ms\n",
      "101:\ttotal: 141ms\tremaining: 66.4ms\n",
      "102:\ttotal: 143ms\tremaining: 65.1ms\n",
      "103:\ttotal: 144ms\tremaining: 63.7ms\n",
      "104:\ttotal: 145ms\tremaining: 62.3ms\n",
      "105:\ttotal: 146ms\tremaining: 60.8ms\n",
      "106:\ttotal: 148ms\tremaining: 59.4ms\n",
      "107:\ttotal: 149ms\tremaining: 57.9ms\n",
      "108:\ttotal: 150ms\tremaining: 56.5ms\n",
      "109:\ttotal: 151ms\tremaining: 54.9ms\n",
      "110:\ttotal: 153ms\tremaining: 53.7ms\n",
      "111:\ttotal: 154ms\tremaining: 52.3ms\n",
      "112:\ttotal: 155ms\tremaining: 50.9ms\n",
      "113:\ttotal: 157ms\tremaining: 49.5ms\n",
      "114:\ttotal: 158ms\tremaining: 48.1ms\n",
      "115:\ttotal: 159ms\tremaining: 46.7ms\n",
      "116:\ttotal: 160ms\tremaining: 45.2ms\n",
      "117:\ttotal: 162ms\tremaining: 43.8ms\n",
      "118:\ttotal: 163ms\tremaining: 42.4ms\n",
      "119:\ttotal: 164ms\tremaining: 40.9ms\n",
      "120:\ttotal: 165ms\tremaining: 39.5ms\n",
      "121:\ttotal: 166ms\tremaining: 38.1ms\n",
      "122:\ttotal: 167ms\tremaining: 36.7ms\n",
      "123:\ttotal: 169ms\tremaining: 35.4ms\n",
      "124:\ttotal: 170ms\tremaining: 34ms\n",
      "125:\ttotal: 171ms\tremaining: 32.6ms\n",
      "126:\ttotal: 173ms\tremaining: 31.2ms\n",
      "127:\ttotal: 173ms\tremaining: 29.8ms\n",
      "128:\ttotal: 175ms\tremaining: 28.4ms\n",
      "129:\ttotal: 176ms\tremaining: 27.1ms\n",
      "130:\ttotal: 177ms\tremaining: 25.7ms\n",
      "131:\ttotal: 178ms\tremaining: 24.3ms\n",
      "132:\ttotal: 180ms\tremaining: 22.9ms\n",
      "133:\ttotal: 181ms\tremaining: 21.6ms\n",
      "134:\ttotal: 182ms\tremaining: 20.2ms\n",
      "135:\ttotal: 183ms\tremaining: 18.8ms\n",
      "136:\ttotal: 184ms\tremaining: 17.4ms\n",
      "137:\ttotal: 186ms\tremaining: 16.1ms\n",
      "138:\ttotal: 188ms\tremaining: 14.9ms\n",
      "139:\ttotal: 189ms\tremaining: 13.5ms\n",
      "140:\ttotal: 191ms\tremaining: 12.2ms\n",
      "141:\ttotal: 192ms\tremaining: 10.8ms\n",
      "142:\ttotal: 194ms\tremaining: 9.49ms\n",
      "143:\ttotal: 195ms\tremaining: 8.13ms\n",
      "144:\ttotal: 197ms\tremaining: 6.78ms\n",
      "145:\ttotal: 198ms\tremaining: 5.43ms\n",
      "146:\ttotal: 200ms\tremaining: 4.07ms\n",
      "147:\ttotal: 201ms\tremaining: 2.72ms\n",
      "148:\ttotal: 203ms\tremaining: 1.36ms\n",
      "149:\ttotal: 205ms\tremaining: 0us\n"
     ]
    }
   ],
   "source": [
    "scores = model.cv_scores(TR_DT, n_splits=2)"
   ]
  },
  {
   "cell_type": "code",
   "execution_count": 51,
   "id": "0b7684f6",
   "metadata": {},
   "outputs": [
    {
     "data": {
      "text/plain": [
       "{'NDCG': [1.0852946122870246, 1.135967726442191], 'ROC_AUC': [nan, nan]}"
      ]
     },
     "execution_count": 51,
     "metadata": {},
     "output_type": "execute_result"
    }
   ],
   "source": [
    "scores"
   ]
  },
  {
   "cell_type": "code",
   "execution_count": null,
   "id": "2e827af2",
   "metadata": {},
   "outputs": [],
   "source": []
  }
 ],
 "metadata": {
  "kernelspec": {
   "display_name": "Python 3 (ipykernel)",
   "language": "python",
   "name": "python3"
  },
  "language_info": {
   "codemirror_mode": {
    "name": "ipython",
    "version": 3
   },
   "file_extension": ".py",
   "mimetype": "text/x-python",
   "name": "python",
   "nbconvert_exporter": "python",
   "pygments_lexer": "ipython3",
   "version": "3.8.11"
  }
 },
 "nbformat": 4,
 "nbformat_minor": 5
}

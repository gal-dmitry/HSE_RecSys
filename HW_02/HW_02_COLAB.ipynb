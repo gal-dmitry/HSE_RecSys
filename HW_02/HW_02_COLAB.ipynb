{
  "nbformat": 4,
  "nbformat_minor": 5,
  "metadata": {
    "kernelspec": {
      "display_name": "Python 3 (ipykernel)",
      "language": "python",
      "name": "python3"
    },
    "language_info": {
      "codemirror_mode": {
        "name": "ipython",
        "version": 3
      },
      "file_extension": ".py",
      "mimetype": "text/x-python",
      "name": "python",
      "nbconvert_exporter": "python",
      "pygments_lexer": "ipython3",
      "version": "3.8.11"
    },
    "colab": {
      "name": "HW_02_COLAB.ipynb",
      "provenance": [],
      "collapsed_sections": [],
      "include_colab_link": true
    },
    "accelerator": "GPU"
  },
  "cells": [
    {
      "cell_type": "markdown",
      "metadata": {
        "id": "view-in-github",
        "colab_type": "text"
      },
      "source": [
        "<a href=\"https://colab.research.google.com/github/gal-dmitry/HSE_RecSys/blob/master/HW_02/HW_02_COLAB.ipynb\" target=\"_parent\"><img src=\"https://colab.research.google.com/assets/colab-badge.svg\" alt=\"Open In Colab\"/></a>"
      ]
    },
    {
      "cell_type": "code",
      "metadata": {
        "colab": {
          "base_uri": "https://localhost:8080/"
        },
        "id": "ZPirKR8UX5_u",
        "outputId": "99f3e838-74ec-413a-ac4a-ac683c239b70"
      },
      "source": [
        "!wget https://voudy-data.s3.eu-north-1.amazonaws.com/wsdm_data.tar.gz\n",
        "!tar -xf /content/wsdm_data.tar.gz"
      ],
      "id": "ZPirKR8UX5_u",
      "execution_count": null,
      "outputs": [
        {
          "output_type": "stream",
          "name": "stdout",
          "text": [
            "--2021-11-27 17:10:47--  https://voudy-data.s3.eu-north-1.amazonaws.com/wsdm_data.tar.gz\n",
            "Resolving voudy-data.s3.eu-north-1.amazonaws.com (voudy-data.s3.eu-north-1.amazonaws.com)... 52.95.171.32\n",
            "Connecting to voudy-data.s3.eu-north-1.amazonaws.com (voudy-data.s3.eu-north-1.amazonaws.com)|52.95.171.32|:443... connected.\n",
            "HTTP request sent, awaiting response... 200 OK\n",
            "Length: 613394184 (585M) [application/x-gzip]\n",
            "Saving to: ‘wsdm_data.tar.gz’\n",
            "\n",
            "wsdm_data.tar.gz    100%[===================>] 584.98M  11.1MB/s    in 67s     \n",
            "\n",
            "2021-11-27 17:11:55 (8.74 MB/s) - ‘wsdm_data.tar.gz’ saved [613394184/613394184]\n",
            "\n"
          ]
        }
      ]
    },
    {
      "cell_type": "code",
      "metadata": {
        "colab": {
          "base_uri": "https://localhost:8080/",
          "height": 870
        },
        "id": "kauPD8QMZOxi",
        "outputId": "98507131-a17b-425b-ee72-398fd24ae8dc"
      },
      "source": [
        "!pip install catboost==1.0.3\n",
        "!pip install gensim==4.1.0\n",
        "!pip install --upgrade numpy"
      ],
      "id": "kauPD8QMZOxi",
      "execution_count": null,
      "outputs": [
        {
          "output_type": "stream",
          "name": "stdout",
          "text": [
            "Collecting catboost==1.0.3\n",
            "  Downloading catboost-1.0.3-cp37-none-manylinux1_x86_64.whl (76.3 MB)\n",
            "\u001b[K     |████████████████████████████████| 76.3 MB 1.5 MB/s \n",
            "\u001b[?25hRequirement already satisfied: plotly in /usr/local/lib/python3.7/dist-packages (from catboost==1.0.3) (4.4.1)\n",
            "Requirement already satisfied: numpy>=1.16.0 in /usr/local/lib/python3.7/dist-packages (from catboost==1.0.3) (1.19.5)\n",
            "Requirement already satisfied: six in /usr/local/lib/python3.7/dist-packages (from catboost==1.0.3) (1.15.0)\n",
            "Requirement already satisfied: graphviz in /usr/local/lib/python3.7/dist-packages (from catboost==1.0.3) (0.10.1)\n",
            "Requirement already satisfied: scipy in /usr/local/lib/python3.7/dist-packages (from catboost==1.0.3) (1.4.1)\n",
            "Requirement already satisfied: matplotlib in /usr/local/lib/python3.7/dist-packages (from catboost==1.0.3) (3.2.2)\n",
            "Requirement already satisfied: pandas>=0.24.0 in /usr/local/lib/python3.7/dist-packages (from catboost==1.0.3) (1.1.5)\n",
            "Requirement already satisfied: pytz>=2017.2 in /usr/local/lib/python3.7/dist-packages (from pandas>=0.24.0->catboost==1.0.3) (2018.9)\n",
            "Requirement already satisfied: python-dateutil>=2.7.3 in /usr/local/lib/python3.7/dist-packages (from pandas>=0.24.0->catboost==1.0.3) (2.8.2)\n",
            "Requirement already satisfied: kiwisolver>=1.0.1 in /usr/local/lib/python3.7/dist-packages (from matplotlib->catboost==1.0.3) (1.3.2)\n",
            "Requirement already satisfied: cycler>=0.10 in /usr/local/lib/python3.7/dist-packages (from matplotlib->catboost==1.0.3) (0.11.0)\n",
            "Requirement already satisfied: pyparsing!=2.0.4,!=2.1.2,!=2.1.6,>=2.0.1 in /usr/local/lib/python3.7/dist-packages (from matplotlib->catboost==1.0.3) (3.0.6)\n",
            "Requirement already satisfied: retrying>=1.3.3 in /usr/local/lib/python3.7/dist-packages (from plotly->catboost==1.0.3) (1.3.3)\n",
            "Installing collected packages: catboost\n",
            "Successfully installed catboost-1.0.3\n",
            "Collecting gensim==4.1.0\n",
            "  Downloading gensim-4.1.0-cp37-cp37m-manylinux_2_12_x86_64.manylinux2010_x86_64.whl (24.0 MB)\n",
            "\u001b[K     |████████████████████████████████| 24.0 MB 1.6 MB/s \n",
            "\u001b[?25hRequirement already satisfied: numpy>=1.17.0 in /usr/local/lib/python3.7/dist-packages (from gensim==4.1.0) (1.19.5)\n",
            "Requirement already satisfied: scipy>=0.18.1 in /usr/local/lib/python3.7/dist-packages (from gensim==4.1.0) (1.4.1)\n",
            "Requirement already satisfied: smart-open>=1.8.1 in /usr/local/lib/python3.7/dist-packages (from gensim==4.1.0) (5.2.1)\n",
            "Installing collected packages: gensim\n",
            "  Attempting uninstall: gensim\n",
            "    Found existing installation: gensim 3.6.0\n",
            "    Uninstalling gensim-3.6.0:\n",
            "      Successfully uninstalled gensim-3.6.0\n",
            "Successfully installed gensim-4.1.0\n",
            "Requirement already satisfied: numpy in /usr/local/lib/python3.7/dist-packages (1.19.5)\n",
            "Collecting numpy\n",
            "  Downloading numpy-1.21.4-cp37-cp37m-manylinux_2_12_x86_64.manylinux2010_x86_64.whl (15.7 MB)\n",
            "\u001b[K     |████████████████████████████████| 15.7 MB 5.4 MB/s \n",
            "\u001b[?25hInstalling collected packages: numpy\n",
            "  Attempting uninstall: numpy\n",
            "    Found existing installation: numpy 1.19.5\n",
            "    Uninstalling numpy-1.19.5:\n",
            "      Successfully uninstalled numpy-1.19.5\n",
            "\u001b[31mERROR: pip's dependency resolver does not currently take into account all the packages that are installed. This behaviour is the source of the following dependency conflicts.\n",
            "yellowbrick 1.3.post1 requires numpy<1.20,>=1.16.0, but you have numpy 1.21.4 which is incompatible.\n",
            "datascience 0.10.6 requires folium==0.2.1, but you have folium 0.8.3 which is incompatible.\n",
            "albumentations 0.1.12 requires imgaug<0.2.7,>=0.2.5, but you have imgaug 0.2.9 which is incompatible.\u001b[0m\n",
            "Successfully installed numpy-1.21.4\n"
          ]
        },
        {
          "output_type": "display_data",
          "data": {
            "application/vnd.colab-display-data+json": {
              "pip_warning": {
                "packages": [
                  "numpy"
                ]
              }
            }
          },
          "metadata": {}
        }
      ]
    },
    {
      "cell_type": "code",
      "metadata": {
        "id": "6a1a2316",
        "colab": {
          "base_uri": "https://localhost:8080/"
        },
        "outputId": "94fc58fb-385d-4c0c-a65a-5b5c18c39925"
      },
      "source": [
        "%load_ext autoreload\n",
        "%autoreload 2"
      ],
      "id": "6a1a2316",
      "execution_count": 96,
      "outputs": [
        {
          "output_type": "stream",
          "name": "stdout",
          "text": [
            "The autoreload extension is already loaded. To reload it, use:\n",
            "  %reload_ext autoreload\n"
          ]
        }
      ]
    },
    {
      "cell_type": "code",
      "metadata": {
        "id": "5374e166"
      },
      "source": [
        "import pandas as pd\n",
        "import matplotlib.pyplot as plt"
      ],
      "id": "5374e166",
      "execution_count": 97,
      "outputs": []
    },
    {
      "cell_type": "code",
      "metadata": {
        "id": "1316e19d"
      },
      "source": [
        "# import sys\n",
        "# sys.path.append(\"utils\")"
      ],
      "id": "1316e19d",
      "execution_count": 98,
      "outputs": []
    },
    {
      "cell_type": "code",
      "metadata": {
        "id": "6a974819"
      },
      "source": [
        "from data_processing import *\n",
        "from train_utils import TrainDataset, CatBoostModel"
      ],
      "id": "6a974819",
      "execution_count": 100,
      "outputs": []
    },
    {
      "cell_type": "markdown",
      "metadata": {
        "id": "5331d7f2"
      },
      "source": [
        "## Dataset"
      ],
      "id": "5331d7f2"
    },
    {
      "cell_type": "markdown",
      "metadata": {
        "id": "14d99096"
      },
      "source": [
        "### members.csv\n",
        "#### user information.\n",
        "\n",
        "\n",
        "- msno\n",
        "\n",
        "- city\n",
        "\n",
        "- bd: age. Note: this column has outlier values, please use your judgement.\n",
        "\n",
        "- gender\n",
        "\n",
        "- registered_via: registration method\n",
        "\n",
        "- registration_init_time: format ```%Y%m%d```\n",
        "\n",
        "- expiration_date: format ```%Y%m%d```\n"
      ],
      "id": "14d99096"
    },
    {
      "cell_type": "code",
      "metadata": {
        "id": "f71bdaa8"
      },
      "source": [
        "# csv_folder_path = \"kkbox-music-recommendation-challenge/csv_folder\"\n",
        "csv_folder_path = \".\"\n",
        "\n",
        "members_path = \"members.csv\"\n",
        "song_extra_info_path = \"song_extra_info.csv\"\n",
        "songs_path = \"songs.csv\"\n",
        "train_path = \"train.csv\""
      ],
      "id": "f71bdaa8",
      "execution_count": 101,
      "outputs": []
    },
    {
      "cell_type": "code",
      "metadata": {
        "id": "a6d2ea1d",
        "colab": {
          "base_uri": "https://localhost:8080/",
          "height": 224
        },
        "outputId": "b3b17555-482c-416f-97b9-16f88b98f2e8"
      },
      "source": [
        "members_df = load_members(f\"{csv_folder_path}/{members_path}\")\n",
        "\n",
        "members_df.head()"
      ],
      "id": "a6d2ea1d",
      "execution_count": 102,
      "outputs": [
        {
          "output_type": "execute_result",
          "data": {
            "text/html": [
              "<div>\n",
              "<style scoped>\n",
              "    .dataframe tbody tr th:only-of-type {\n",
              "        vertical-align: middle;\n",
              "    }\n",
              "\n",
              "    .dataframe tbody tr th {\n",
              "        vertical-align: top;\n",
              "    }\n",
              "\n",
              "    .dataframe thead th {\n",
              "        text-align: right;\n",
              "    }\n",
              "</style>\n",
              "<table border=\"1\" class=\"dataframe\">\n",
              "  <thead>\n",
              "    <tr style=\"text-align: right;\">\n",
              "      <th></th>\n",
              "      <th>msno</th>\n",
              "      <th>city</th>\n",
              "      <th>bd</th>\n",
              "      <th>gender</th>\n",
              "      <th>registered_via</th>\n",
              "      <th>registration_init_time</th>\n",
              "      <th>expiration_date</th>\n",
              "    </tr>\n",
              "  </thead>\n",
              "  <tbody>\n",
              "    <tr>\n",
              "      <th>0</th>\n",
              "      <td>XQxgAYj3klVKjR3oxPPXYYFp4soD4TuBghkhMTD4oTw=</td>\n",
              "      <td>1</td>\n",
              "      <td>0</td>\n",
              "      <td>NaN</td>\n",
              "      <td>7</td>\n",
              "      <td>2011-08-20</td>\n",
              "      <td>2017-09-20</td>\n",
              "    </tr>\n",
              "    <tr>\n",
              "      <th>1</th>\n",
              "      <td>UizsfmJb9mV54qE9hCYyU07Va97c0lCRLEQX3ae+ztM=</td>\n",
              "      <td>1</td>\n",
              "      <td>0</td>\n",
              "      <td>NaN</td>\n",
              "      <td>7</td>\n",
              "      <td>2015-06-28</td>\n",
              "      <td>2017-06-22</td>\n",
              "    </tr>\n",
              "    <tr>\n",
              "      <th>2</th>\n",
              "      <td>D8nEhsIOBSoE6VthTaqDX8U6lqjJ7dLdr72mOyLya2A=</td>\n",
              "      <td>1</td>\n",
              "      <td>0</td>\n",
              "      <td>NaN</td>\n",
              "      <td>4</td>\n",
              "      <td>2016-04-11</td>\n",
              "      <td>2017-07-12</td>\n",
              "    </tr>\n",
              "    <tr>\n",
              "      <th>3</th>\n",
              "      <td>mCuD+tZ1hERA/o5GPqk38e041J8ZsBaLcu7nGoIIvhI=</td>\n",
              "      <td>1</td>\n",
              "      <td>0</td>\n",
              "      <td>NaN</td>\n",
              "      <td>9</td>\n",
              "      <td>2015-09-06</td>\n",
              "      <td>2015-09-07</td>\n",
              "    </tr>\n",
              "    <tr>\n",
              "      <th>4</th>\n",
              "      <td>q4HRBfVSssAFS9iRfxWrohxuk9kCYMKjHOEagUMV6rQ=</td>\n",
              "      <td>1</td>\n",
              "      <td>0</td>\n",
              "      <td>NaN</td>\n",
              "      <td>4</td>\n",
              "      <td>2017-01-26</td>\n",
              "      <td>2017-06-13</td>\n",
              "    </tr>\n",
              "  </tbody>\n",
              "</table>\n",
              "</div>"
            ],
            "text/plain": [
              "                                           msno  ... expiration_date\n",
              "0  XQxgAYj3klVKjR3oxPPXYYFp4soD4TuBghkhMTD4oTw=  ...      2017-09-20\n",
              "1  UizsfmJb9mV54qE9hCYyU07Va97c0lCRLEQX3ae+ztM=  ...      2017-06-22\n",
              "2  D8nEhsIOBSoE6VthTaqDX8U6lqjJ7dLdr72mOyLya2A=  ...      2017-07-12\n",
              "3  mCuD+tZ1hERA/o5GPqk38e041J8ZsBaLcu7nGoIIvhI=  ...      2015-09-07\n",
              "4  q4HRBfVSssAFS9iRfxWrohxuk9kCYMKjHOEagUMV6rQ=  ...      2017-06-13\n",
              "\n",
              "[5 rows x 7 columns]"
            ]
          },
          "metadata": {},
          "execution_count": 102
        }
      ]
    },
    {
      "cell_type": "code",
      "metadata": {
        "id": "9962c743",
        "colab": {
          "base_uri": "https://localhost:8080/"
        },
        "outputId": "a011f153-2b40-49d0-a170-0fdd660d39bc"
      },
      "source": [
        "members_df.info()"
      ],
      "id": "9962c743",
      "execution_count": 103,
      "outputs": [
        {
          "output_type": "stream",
          "name": "stdout",
          "text": [
            "<class 'pandas.core.frame.DataFrame'>\n",
            "RangeIndex: 34403 entries, 0 to 34402\n",
            "Data columns (total 7 columns):\n",
            " #   Column                  Non-Null Count  Dtype         \n",
            "---  ------                  --------------  -----         \n",
            " 0   msno                    34403 non-null  category      \n",
            " 1   city                    34403 non-null  category      \n",
            " 2   bd                      34403 non-null  uint8         \n",
            " 3   gender                  14501 non-null  category      \n",
            " 4   registered_via          34403 non-null  category      \n",
            " 5   registration_init_time  34403 non-null  datetime64[ns]\n",
            " 6   expiration_date         34403 non-null  datetime64[ns]\n",
            "dtypes: category(4), datetime64[ns](2), uint8(1)\n",
            "memory usage: 2.3 MB\n"
          ]
        }
      ]
    },
    {
      "cell_type": "code",
      "metadata": {
        "id": "0dd1d053",
        "colab": {
          "base_uri": "https://localhost:8080/"
        },
        "outputId": "e1b553e5-631e-44ca-8d2d-6e5f2c01b68e"
      },
      "source": [
        "show_unique_values(members_df)"
      ],
      "id": "0dd1d053",
      "execution_count": 104,
      "outputs": [
        {
          "output_type": "stream",
          "name": "stdout",
          "text": [
            "Unique values:\n",
            "\n",
            "msno: (34403,)\n",
            "city: (21,)\n",
            "bd: (94,)\n",
            "gender: (3,)\n",
            "registered_via: (6,)\n",
            "registration_init_time: (3862,)\n",
            "expiration_date: (1484,)\n"
          ]
        }
      ]
    },
    {
      "cell_type": "code",
      "metadata": {
        "id": "b3f66d12",
        "colab": {
          "base_uri": "https://localhost:8080/",
          "height": 285
        },
        "outputId": "bbf79d30-47ea-48fc-c5fa-7e4f3eda9206"
      },
      "source": [
        "members_df.city.value_counts().plot(kind='bar')"
      ],
      "id": "b3f66d12",
      "execution_count": 105,
      "outputs": [
        {
          "output_type": "execute_result",
          "data": {
            "text/plain": [
              "<matplotlib.axes._subplots.AxesSubplot at 0x7f7cf41f1210>"
            ]
          },
          "metadata": {},
          "execution_count": 105
        },
        {
          "output_type": "display_data",
          "data": {
            "image/png": "[encoded data removed]",
            "text/plain": [
              "<Figure size 432x288 with 1 Axes>"
            ]
          },
          "metadata": {
            "needs_background": "light"
          }
        }
      ]
    },
    {
      "cell_type": "code",
      "metadata": {
        "id": "126a1054",
        "colab": {
          "base_uri": "https://localhost:8080/",
          "height": 307
        },
        "outputId": "e59b9eb1-6b77-4744-e577-4152321b984a"
      },
      "source": [
        "members_df.gender.value_counts().plot(kind='bar')"
      ],
      "id": "126a1054",
      "execution_count": 106,
      "outputs": [
        {
          "output_type": "execute_result",
          "data": {
            "text/plain": [
              "<matplotlib.axes._subplots.AxesSubplot at 0x7f7cf46e5bd0>"
            ]
          },
          "metadata": {},
          "execution_count": 106
        },
        {
          "output_type": "display_data",
          "data": {
            "image/png": "[encoded data removed]",
            "text/plain": [
              "<Figure size 432x288 with 1 Axes>"
            ]
          },
          "metadata": {
            "needs_background": "light"
          }
        }
      ]
    },
    {
      "cell_type": "code",
      "metadata": {
        "id": "bdc5faab",
        "colab": {
          "base_uri": "https://localhost:8080/",
          "height": 285
        },
        "outputId": "825b713a-3dbd-44dc-e11c-2b949897e1f6"
      },
      "source": [
        "members_df.registered_via.value_counts().plot(kind='bar')"
      ],
      "id": "bdc5faab",
      "execution_count": 107,
      "outputs": [
        {
          "output_type": "execute_result",
          "data": {
            "text/plain": [
              "<matplotlib.axes._subplots.AxesSubplot at 0x7f7cf40c7fd0>"
            ]
          },
          "metadata": {},
          "execution_count": 107
        },
        {
          "output_type": "display_data",
          "data": {
            "image/png": "[encoded data removed]",
            "text/plain": [
              "<Figure size 432x288 with 1 Axes>"
            ]
          },
          "metadata": {
            "needs_background": "light"
          }
        }
      ]
    },
    {
      "cell_type": "code",
      "metadata": {
        "id": "efb87147",
        "colab": {
          "base_uri": "https://localhost:8080/",
          "height": 393
        },
        "outputId": "43af761c-1af7-4634-f019-f6d61aea7ccd"
      },
      "source": [
        "print(f\"Unique ages: {np.sort(members_df.bd.unique())}\")\n",
        "\n",
        "members_df.bd.value_counts().plot(kind='bar')"
      ],
      "id": "efb87147",
      "execution_count": 108,
      "outputs": [
        {
          "output_type": "stream",
          "name": "stdout",
          "text": [
            "Unique ages: [  0   2   3   5   6   7  10  11  12  13  14  15  16  17  18  19  20  21\n",
            "  22  23  24  25  26  27  28  29  30  31  32  33  34  35  36  37  38  39\n",
            "  40  41  42  43  44  45  46  47  48  49  50  51  52  53  54  55  56  57\n",
            "  58  59  60  61  62  63  64  65  66  67  68  70  72  73  74  76  78  82\n",
            "  83  85  87  89  90  93  95  96  97 101 102 103 105 106 107 111 112 131\n",
            " 144 163 213 218]\n"
          ]
        },
        {
          "output_type": "execute_result",
          "data": {
            "text/plain": [
              "<matplotlib.axes._subplots.AxesSubplot at 0x7f7d04517690>"
            ]
          },
          "metadata": {},
          "execution_count": 108
        },
        {
          "output_type": "display_data",
          "data": {
            "image/png": "[encoded data removed]",
            "text/plain": [
              "<Figure size 432x288 with 1 Axes>"
            ]
          },
          "metadata": {
            "needs_background": "light"
          }
        }
      ]
    },
    {
      "cell_type": "code",
      "metadata": {
        "id": "502be93b",
        "colab": {
          "base_uri": "https://localhost:8080/"
        },
        "outputId": "ed9a5cca-db07-4541-8056-f0a65f1cdaa2"
      },
      "source": [
        "members_df.expiration_date - members_df.registration_init_time"
      ],
      "id": "502be93b",
      "execution_count": 109,
      "outputs": [
        {
          "output_type": "execute_result",
          "data": {
            "text/plain": [
              "0       2223 days\n",
              "1        725 days\n",
              "2        457 days\n",
              "3          1 days\n",
              "4        138 days\n",
              "           ...   \n",
              "34398   1399 days\n",
              "34399    937 days\n",
              "34400   1498 days\n",
              "34401    701 days\n",
              "34402      3 days\n",
              "Length: 34403, dtype: timedelta64[ns]"
            ]
          },
          "metadata": {},
          "execution_count": 109
        }
      ]
    },
    {
      "cell_type": "code",
      "metadata": {
        "id": "26f167c0",
        "colab": {
          "base_uri": "https://localhost:8080/"
        },
        "outputId": "e24e4145-cc0d-4318-ca3c-5808d8efeff3"
      },
      "source": [
        "print(f\"min registration: {members_df.registration_init_time.min()}\")\n",
        "print(f\"max registration: {members_df.registration_init_time.max()}\")"
      ],
      "id": "26f167c0",
      "execution_count": 110,
      "outputs": [
        {
          "output_type": "stream",
          "name": "stdout",
          "text": [
            "min registration: 2004-03-26 00:00:00\n",
            "max registration: 2017-02-28 00:00:00\n"
          ]
        }
      ]
    },
    {
      "cell_type": "code",
      "metadata": {
        "id": "45fddf11",
        "colab": {
          "base_uri": "https://localhost:8080/"
        },
        "outputId": "d77df781-375f-4428-d64e-f176b03508cd"
      },
      "source": [
        "print(f\"min expiration: {members_df.expiration_date.min()}\")\n",
        "print(f\"max expiration: {members_df.expiration_date.max()}\")"
      ],
      "id": "45fddf11",
      "execution_count": 111,
      "outputs": [
        {
          "output_type": "stream",
          "name": "stdout",
          "text": [
            "min expiration: 1970-01-01 00:00:00\n",
            "max expiration: 2020-10-17 00:00:00\n"
          ]
        }
      ]
    },
    {
      "cell_type": "markdown",
      "metadata": {
        "id": "9b602a4a"
      },
      "source": [
        "#### Выводы:\n",
        "\n",
        "- bd: age. - Переведем в категориальный признак. Неестественным значениям присвоим категорию - \"неизвестно\"\n",
        "\n",
        "- gender - Обработаем nan как неизвестный пол\n",
        "\n",
        "- registration_init_time: format ```%Y%m%d``` - оставим \n",
        "\n",
        "- expiration_date: format ```%Y%m%d``` - ?\n"
      ],
      "id": "9b602a4a"
    },
    {
      "cell_type": "code",
      "metadata": {
        "id": "84ddbf6e",
        "colab": {
          "base_uri": "https://localhost:8080/",
          "height": 224
        },
        "outputId": "86a6a250-f334-40fa-b55c-174d3b0491e9"
      },
      "source": [
        "post_members_df = process_members(members_df)\n",
        "\n",
        "post_members_df.head()"
      ],
      "id": "84ddbf6e",
      "execution_count": 112,
      "outputs": [
        {
          "output_type": "execute_result",
          "data": {
            "text/html": [
              "<div>\n",
              "<style scoped>\n",
              "    .dataframe tbody tr th:only-of-type {\n",
              "        vertical-align: middle;\n",
              "    }\n",
              "\n",
              "    .dataframe tbody tr th {\n",
              "        vertical-align: top;\n",
              "    }\n",
              "\n",
              "    .dataframe thead th {\n",
              "        text-align: right;\n",
              "    }\n",
              "</style>\n",
              "<table border=\"1\" class=\"dataframe\">\n",
              "  <thead>\n",
              "    <tr style=\"text-align: right;\">\n",
              "      <th></th>\n",
              "      <th>msno</th>\n",
              "      <th>city</th>\n",
              "      <th>gender</th>\n",
              "      <th>registered_via</th>\n",
              "      <th>registration_init_time</th>\n",
              "      <th>expiration_date</th>\n",
              "      <th>age_group</th>\n",
              "    </tr>\n",
              "  </thead>\n",
              "  <tbody>\n",
              "    <tr>\n",
              "      <th>0</th>\n",
              "      <td>XQxgAYj3klVKjR3oxPPXYYFp4soD4TuBghkhMTD4oTw=</td>\n",
              "      <td>1</td>\n",
              "      <td>FILL_NAN</td>\n",
              "      <td>7</td>\n",
              "      <td>2011-08-20</td>\n",
              "      <td>2017-09-20</td>\n",
              "      <td>FILL_NAN</td>\n",
              "    </tr>\n",
              "    <tr>\n",
              "      <th>1</th>\n",
              "      <td>UizsfmJb9mV54qE9hCYyU07Va97c0lCRLEQX3ae+ztM=</td>\n",
              "      <td>1</td>\n",
              "      <td>FILL_NAN</td>\n",
              "      <td>7</td>\n",
              "      <td>2015-06-28</td>\n",
              "      <td>2017-06-22</td>\n",
              "      <td>FILL_NAN</td>\n",
              "    </tr>\n",
              "    <tr>\n",
              "      <th>2</th>\n",
              "      <td>D8nEhsIOBSoE6VthTaqDX8U6lqjJ7dLdr72mOyLya2A=</td>\n",
              "      <td>1</td>\n",
              "      <td>FILL_NAN</td>\n",
              "      <td>4</td>\n",
              "      <td>2016-04-11</td>\n",
              "      <td>2017-07-12</td>\n",
              "      <td>FILL_NAN</td>\n",
              "    </tr>\n",
              "    <tr>\n",
              "      <th>3</th>\n",
              "      <td>mCuD+tZ1hERA/o5GPqk38e041J8ZsBaLcu7nGoIIvhI=</td>\n",
              "      <td>1</td>\n",
              "      <td>FILL_NAN</td>\n",
              "      <td>9</td>\n",
              "      <td>2015-09-06</td>\n",
              "      <td>2015-09-07</td>\n",
              "      <td>FILL_NAN</td>\n",
              "    </tr>\n",
              "    <tr>\n",
              "      <th>4</th>\n",
              "      <td>q4HRBfVSssAFS9iRfxWrohxuk9kCYMKjHOEagUMV6rQ=</td>\n",
              "      <td>1</td>\n",
              "      <td>FILL_NAN</td>\n",
              "      <td>4</td>\n",
              "      <td>2017-01-26</td>\n",
              "      <td>2017-06-13</td>\n",
              "      <td>FILL_NAN</td>\n",
              "    </tr>\n",
              "  </tbody>\n",
              "</table>\n",
              "</div>"
            ],
            "text/plain": [
              "                                           msno city  ... expiration_date age_group\n",
              "0  XQxgAYj3klVKjR3oxPPXYYFp4soD4TuBghkhMTD4oTw=    1  ...      2017-09-20  FILL_NAN\n",
              "1  UizsfmJb9mV54qE9hCYyU07Va97c0lCRLEQX3ae+ztM=    1  ...      2017-06-22  FILL_NAN\n",
              "2  D8nEhsIOBSoE6VthTaqDX8U6lqjJ7dLdr72mOyLya2A=    1  ...      2017-07-12  FILL_NAN\n",
              "3  mCuD+tZ1hERA/o5GPqk38e041J8ZsBaLcu7nGoIIvhI=    1  ...      2015-09-07  FILL_NAN\n",
              "4  q4HRBfVSssAFS9iRfxWrohxuk9kCYMKjHOEagUMV6rQ=    1  ...      2017-06-13  FILL_NAN\n",
              "\n",
              "[5 rows x 7 columns]"
            ]
          },
          "metadata": {},
          "execution_count": 112
        }
      ]
    },
    {
      "cell_type": "code",
      "metadata": {
        "id": "adca773d",
        "colab": {
          "base_uri": "https://localhost:8080/"
        },
        "outputId": "4536a404-1c14-4ef1-8114-5138854cfcfc"
      },
      "source": [
        "post_members_df.info()"
      ],
      "id": "adca773d",
      "execution_count": 113,
      "outputs": [
        {
          "output_type": "stream",
          "name": "stdout",
          "text": [
            "<class 'pandas.core.frame.DataFrame'>\n",
            "RangeIndex: 34403 entries, 0 to 34402\n",
            "Data columns (total 7 columns):\n",
            " #   Column                  Non-Null Count  Dtype         \n",
            "---  ------                  --------------  -----         \n",
            " 0   msno                    34403 non-null  category      \n",
            " 1   city                    34403 non-null  category      \n",
            " 2   gender                  34403 non-null  category      \n",
            " 3   registered_via          34403 non-null  category      \n",
            " 4   registration_init_time  34403 non-null  datetime64[ns]\n",
            " 5   expiration_date         34403 non-null  datetime64[ns]\n",
            " 6   age_group               34403 non-null  category      \n",
            "dtypes: category(5), datetime64[ns](2)\n",
            "memory usage: 2.3 MB\n"
          ]
        }
      ]
    },
    {
      "cell_type": "markdown",
      "metadata": {
        "id": "66e395c3"
      },
      "source": [
        "---"
      ],
      "id": "66e395c3"
    },
    {
      "cell_type": "markdown",
      "metadata": {
        "id": "1a535d5b"
      },
      "source": [
        "### songs.csv\n",
        "#### The songs. Note that data is in unicode.\n",
        "\n",
        "- song_id\n",
        "\n",
        "- song_length: in ms\n",
        "\n",
        "- genre_ids: genre category. Some songs have multiple genres and they are separated by |\n",
        "\n",
        "- artist_name\n",
        "\n",
        "- composer\n",
        "\n",
        "- lyricist\n",
        "\n",
        "- language"
      ],
      "id": "1a535d5b"
    },
    {
      "cell_type": "code",
      "metadata": {
        "id": "4ca8ccc1",
        "colab": {
          "base_uri": "https://localhost:8080/",
          "height": 326
        },
        "outputId": "de86d8ea-72de-44aa-a2ac-775991cddbd4"
      },
      "source": [
        "song_df = load_songs(f\"{csv_folder_path}/{songs_path}\")\n",
        "\n",
        "song_df.head()"
      ],
      "id": "4ca8ccc1",
      "execution_count": 114,
      "outputs": [
        {
          "output_type": "execute_result",
          "data": {
            "text/html": [
              "<div>\n",
              "<style scoped>\n",
              "    .dataframe tbody tr th:only-of-type {\n",
              "        vertical-align: middle;\n",
              "    }\n",
              "\n",
              "    .dataframe tbody tr th {\n",
              "        vertical-align: top;\n",
              "    }\n",
              "\n",
              "    .dataframe thead th {\n",
              "        text-align: right;\n",
              "    }\n",
              "</style>\n",
              "<table border=\"1\" class=\"dataframe\">\n",
              "  <thead>\n",
              "    <tr style=\"text-align: right;\">\n",
              "      <th></th>\n",
              "      <th>song_id</th>\n",
              "      <th>song_length</th>\n",
              "      <th>genre_ids</th>\n",
              "      <th>artist_name</th>\n",
              "      <th>composer</th>\n",
              "      <th>lyricist</th>\n",
              "      <th>language</th>\n",
              "    </tr>\n",
              "  </thead>\n",
              "  <tbody>\n",
              "    <tr>\n",
              "      <th>0</th>\n",
              "      <td>CXoTN1eb7AI+DntdU1vbcwGRV4SCIDxZu+YD8JP8r4E=</td>\n",
              "      <td>247640</td>\n",
              "      <td>465</td>\n",
              "      <td>張信哲 (Jeff Chang)</td>\n",
              "      <td>董貞</td>\n",
              "      <td>何啟弘</td>\n",
              "      <td>3.0</td>\n",
              "    </tr>\n",
              "    <tr>\n",
              "      <th>1</th>\n",
              "      <td>o0kFgae9QtnYgRkVPqLJwa05zIhRlUjfF7O1tDw0ZDU=</td>\n",
              "      <td>197328</td>\n",
              "      <td>444</td>\n",
              "      <td>BLACKPINK</td>\n",
              "      <td>TEDDY|  FUTURE BOUNCE|  Bekuh BOOM</td>\n",
              "      <td>TEDDY</td>\n",
              "      <td>31.0</td>\n",
              "    </tr>\n",
              "    <tr>\n",
              "      <th>2</th>\n",
              "      <td>DwVvVurfpuz+XPuFvucclVQEyPqcpUkHR0ne1RQzPs0=</td>\n",
              "      <td>231781</td>\n",
              "      <td>465</td>\n",
              "      <td>SUPER JUNIOR</td>\n",
              "      <td>NaN</td>\n",
              "      <td>NaN</td>\n",
              "      <td>31.0</td>\n",
              "    </tr>\n",
              "    <tr>\n",
              "      <th>3</th>\n",
              "      <td>dKMBWoZyScdxSkihKG+Vf47nc18N9q4m58+b4e7dSSE=</td>\n",
              "      <td>273554</td>\n",
              "      <td>465</td>\n",
              "      <td>S.H.E</td>\n",
              "      <td>湯小康</td>\n",
              "      <td>徐世珍</td>\n",
              "      <td>3.0</td>\n",
              "    </tr>\n",
              "    <tr>\n",
              "      <th>4</th>\n",
              "      <td>W3bqWd3T+VeHFzHAUfARgW9AvVRaF4N5Yzm4Mr6Eo/o=</td>\n",
              "      <td>140329</td>\n",
              "      <td>726</td>\n",
              "      <td>貴族精選</td>\n",
              "      <td>Traditional</td>\n",
              "      <td>Traditional</td>\n",
              "      <td>52.0</td>\n",
              "    </tr>\n",
              "  </tbody>\n",
              "</table>\n",
              "</div>"
            ],
            "text/plain": [
              "                                        song_id  ...  language\n",
              "0  CXoTN1eb7AI+DntdU1vbcwGRV4SCIDxZu+YD8JP8r4E=  ...       3.0\n",
              "1  o0kFgae9QtnYgRkVPqLJwa05zIhRlUjfF7O1tDw0ZDU=  ...      31.0\n",
              "2  DwVvVurfpuz+XPuFvucclVQEyPqcpUkHR0ne1RQzPs0=  ...      31.0\n",
              "3  dKMBWoZyScdxSkihKG+Vf47nc18N9q4m58+b4e7dSSE=  ...       3.0\n",
              "4  W3bqWd3T+VeHFzHAUfARgW9AvVRaF4N5Yzm4Mr6Eo/o=  ...      52.0\n",
              "\n",
              "[5 rows x 7 columns]"
            ]
          },
          "metadata": {},
          "execution_count": 114
        }
      ]
    },
    {
      "cell_type": "code",
      "metadata": {
        "id": "c03e17d4",
        "colab": {
          "base_uri": "https://localhost:8080/"
        },
        "outputId": "ea1e03e8-5004-4b47-8450-2c3633570563"
      },
      "source": [
        "song_df.info()"
      ],
      "id": "c03e17d4",
      "execution_count": 115,
      "outputs": [
        {
          "output_type": "stream",
          "name": "stdout",
          "text": [
            "<class 'pandas.core.frame.DataFrame'>\n",
            "RangeIndex: 2296320 entries, 0 to 2296319\n",
            "Data columns (total 7 columns):\n",
            " #   Column       Dtype   \n",
            "---  ------       -----   \n",
            " 0   song_id      category\n",
            " 1   song_length  int32   \n",
            " 2   genre_ids    category\n",
            " 3   artist_name  category\n",
            " 4   composer     category\n",
            " 5   lyricist     category\n",
            " 6   language     category\n",
            "dtypes: category(6), int32(1)\n",
            "memory usage: 178.0 MB\n"
          ]
        }
      ]
    },
    {
      "cell_type": "code",
      "metadata": {
        "id": "b8181587",
        "colab": {
          "base_uri": "https://localhost:8080/"
        },
        "outputId": "419419b3-2f9d-451e-9836-b694b33eed94"
      },
      "source": [
        "show_unique_values(song_df)"
      ],
      "id": "b8181587",
      "execution_count": 116,
      "outputs": [
        {
          "output_type": "stream",
          "name": "stdout",
          "text": [
            "Unique values:\n",
            "\n",
            "song_id: (2296320,)\n",
            "song_length: (146534,)\n",
            "genre_ids: (1046,)\n",
            "artist_name: (222363,)\n",
            "composer: (329824,)\n",
            "lyricist: (110926,)\n",
            "language: (11,)\n"
          ]
        }
      ]
    },
    {
      "cell_type": "code",
      "metadata": {
        "id": "ef002538",
        "colab": {
          "base_uri": "https://localhost:8080/",
          "height": 306
        },
        "outputId": "4cfb4e4a-d9e5-4c51-d2b1-5a562be3638c"
      },
      "source": [
        "song_df.language.value_counts().plot(kind='bar')"
      ],
      "id": "ef002538",
      "execution_count": 117,
      "outputs": [
        {
          "output_type": "execute_result",
          "data": {
            "text/plain": [
              "<matplotlib.axes._subplots.AxesSubplot at 0x7f7cd70df690>"
            ]
          },
          "metadata": {},
          "execution_count": 117
        },
        {
          "output_type": "display_data",
          "data": {
            "image/png": "[encoded data removed]",
            "text/plain": [
              "<Figure size 432x288 with 1 Axes>"
            ]
          },
          "metadata": {
            "needs_background": "light"
          }
        }
      ]
    },
    {
      "cell_type": "code",
      "metadata": {
        "id": "08d45a9c",
        "colab": {
          "base_uri": "https://localhost:8080/",
          "height": 283
        },
        "outputId": "11805de9-3200-4550-8f3c-abcf800cb74f"
      },
      "source": [
        "song_df.song_length.value_counts().hist(bins=50)"
      ],
      "id": "08d45a9c",
      "execution_count": 118,
      "outputs": [
        {
          "output_type": "execute_result",
          "data": {
            "text/plain": [
              "<matplotlib.axes._subplots.AxesSubplot at 0x7f7d08f80fd0>"
            ]
          },
          "metadata": {},
          "execution_count": 118
        },
        {
          "output_type": "display_data",
          "data": {
            "image/png": "[encoded data removed]",
            "text/plain": [
              "<Figure size 432x288 with 1 Axes>"
            ]
          },
          "metadata": {
            "needs_background": "light"
          }
        }
      ]
    },
    {
      "cell_type": "markdown",
      "metadata": {
        "id": "272ecd9a"
      },
      "source": [
        "#### Выводы:\n",
        "\n",
        "Для каждого из следующих признаков создадим новый признак, указывающий кол-во участников (жанров)\n",
        "- genre_ids\n",
        "- artist_name \n",
        "- composer\n",
        "- lyricist"
      ],
      "id": "272ecd9a"
    },
    {
      "cell_type": "code",
      "metadata": {
        "id": "53f223aa",
        "colab": {
          "base_uri": "https://localhost:8080/",
          "height": 326
        },
        "outputId": "7e01fa67-be68-40b4-ce47-f97f39da0c0a"
      },
      "source": [
        "post_song_df = process_songs(song_df)\n",
        "\n",
        "post_song_df.head()"
      ],
      "id": "53f223aa",
      "execution_count": 119,
      "outputs": [
        {
          "output_type": "execute_result",
          "data": {
            "text/html": [
              "<div>\n",
              "<style scoped>\n",
              "    .dataframe tbody tr th:only-of-type {\n",
              "        vertical-align: middle;\n",
              "    }\n",
              "\n",
              "    .dataframe tbody tr th {\n",
              "        vertical-align: top;\n",
              "    }\n",
              "\n",
              "    .dataframe thead th {\n",
              "        text-align: right;\n",
              "    }\n",
              "</style>\n",
              "<table border=\"1\" class=\"dataframe\">\n",
              "  <thead>\n",
              "    <tr style=\"text-align: right;\">\n",
              "      <th></th>\n",
              "      <th>song_id</th>\n",
              "      <th>song_length</th>\n",
              "      <th>genre_ids</th>\n",
              "      <th>artist_name</th>\n",
              "      <th>composer</th>\n",
              "      <th>lyricist</th>\n",
              "      <th>language</th>\n",
              "      <th>genre_ids_count</th>\n",
              "      <th>artist_name_count</th>\n",
              "      <th>composer_count</th>\n",
              "      <th>lyricist_count</th>\n",
              "    </tr>\n",
              "  </thead>\n",
              "  <tbody>\n",
              "    <tr>\n",
              "      <th>0</th>\n",
              "      <td>CXoTN1eb7AI+DntdU1vbcwGRV4SCIDxZu+YD8JP8r4E=</td>\n",
              "      <td>247640</td>\n",
              "      <td>465</td>\n",
              "      <td>張信哲 (Jeff Chang)</td>\n",
              "      <td>董貞</td>\n",
              "      <td>何啟弘</td>\n",
              "      <td>3.0</td>\n",
              "      <td>1</td>\n",
              "      <td>1</td>\n",
              "      <td>1</td>\n",
              "      <td>1</td>\n",
              "    </tr>\n",
              "    <tr>\n",
              "      <th>1</th>\n",
              "      <td>o0kFgae9QtnYgRkVPqLJwa05zIhRlUjfF7O1tDw0ZDU=</td>\n",
              "      <td>197328</td>\n",
              "      <td>444</td>\n",
              "      <td>BLACKPINK</td>\n",
              "      <td>TEDDY|  FUTURE BOUNCE|  Bekuh BOOM</td>\n",
              "      <td>TEDDY</td>\n",
              "      <td>31.0</td>\n",
              "      <td>1</td>\n",
              "      <td>1</td>\n",
              "      <td>3</td>\n",
              "      <td>1</td>\n",
              "    </tr>\n",
              "    <tr>\n",
              "      <th>2</th>\n",
              "      <td>DwVvVurfpuz+XPuFvucclVQEyPqcpUkHR0ne1RQzPs0=</td>\n",
              "      <td>231781</td>\n",
              "      <td>465</td>\n",
              "      <td>SUPER JUNIOR</td>\n",
              "      <td>FILL_NAN</td>\n",
              "      <td>FILL_NAN</td>\n",
              "      <td>31.0</td>\n",
              "      <td>1</td>\n",
              "      <td>1</td>\n",
              "      <td>0</td>\n",
              "      <td>0</td>\n",
              "    </tr>\n",
              "    <tr>\n",
              "      <th>3</th>\n",
              "      <td>dKMBWoZyScdxSkihKG+Vf47nc18N9q4m58+b4e7dSSE=</td>\n",
              "      <td>273554</td>\n",
              "      <td>465</td>\n",
              "      <td>S.H.E</td>\n",
              "      <td>湯小康</td>\n",
              "      <td>徐世珍</td>\n",
              "      <td>3.0</td>\n",
              "      <td>1</td>\n",
              "      <td>1</td>\n",
              "      <td>1</td>\n",
              "      <td>1</td>\n",
              "    </tr>\n",
              "    <tr>\n",
              "      <th>4</th>\n",
              "      <td>W3bqWd3T+VeHFzHAUfARgW9AvVRaF4N5Yzm4Mr6Eo/o=</td>\n",
              "      <td>140329</td>\n",
              "      <td>726</td>\n",
              "      <td>貴族精選</td>\n",
              "      <td>Traditional</td>\n",
              "      <td>Traditional</td>\n",
              "      <td>52.0</td>\n",
              "      <td>1</td>\n",
              "      <td>1</td>\n",
              "      <td>1</td>\n",
              "      <td>1</td>\n",
              "    </tr>\n",
              "  </tbody>\n",
              "</table>\n",
              "</div>"
            ],
            "text/plain": [
              "                                        song_id  ...  lyricist_count\n",
              "0  CXoTN1eb7AI+DntdU1vbcwGRV4SCIDxZu+YD8JP8r4E=  ...               1\n",
              "1  o0kFgae9QtnYgRkVPqLJwa05zIhRlUjfF7O1tDw0ZDU=  ...               1\n",
              "2  DwVvVurfpuz+XPuFvucclVQEyPqcpUkHR0ne1RQzPs0=  ...               0\n",
              "3  dKMBWoZyScdxSkihKG+Vf47nc18N9q4m58+b4e7dSSE=  ...               1\n",
              "4  W3bqWd3T+VeHFzHAUfARgW9AvVRaF4N5Yzm4Mr6Eo/o=  ...               1\n",
              "\n",
              "[5 rows x 11 columns]"
            ]
          },
          "metadata": {},
          "execution_count": 119
        }
      ]
    },
    {
      "cell_type": "code",
      "metadata": {
        "id": "4d0f7d5e",
        "colab": {
          "base_uri": "https://localhost:8080/"
        },
        "outputId": "9ebae7de-995d-45fc-b70c-0aca3ac125aa"
      },
      "source": [
        "post_song_df.info()"
      ],
      "id": "4d0f7d5e",
      "execution_count": 120,
      "outputs": [
        {
          "output_type": "stream",
          "name": "stdout",
          "text": [
            "<class 'pandas.core.frame.DataFrame'>\n",
            "RangeIndex: 2296320 entries, 0 to 2296319\n",
            "Data columns (total 11 columns):\n",
            " #   Column             Dtype   \n",
            "---  ------             -----   \n",
            " 0   song_id            category\n",
            " 1   song_length        int32   \n",
            " 2   genre_ids          category\n",
            " 3   artist_name        category\n",
            " 4   composer           category\n",
            " 5   lyricist           category\n",
            " 6   language           category\n",
            " 7   genre_ids_count    int64   \n",
            " 8   artist_name_count  int64   \n",
            " 9   composer_count     int64   \n",
            " 10  lyricist_count     int64   \n",
            "dtypes: category(6), int32(1), int64(4)\n",
            "memory usage: 248.1 MB\n"
          ]
        }
      ]
    },
    {
      "cell_type": "code",
      "metadata": {
        "id": "d6139e2e",
        "colab": {
          "base_uri": "https://localhost:8080/"
        },
        "outputId": "e602eed2-9a30-4b75-a42d-56d23c0956cd"
      },
      "source": [
        "post_song_df.isnull().any(axis=0)"
      ],
      "id": "d6139e2e",
      "execution_count": 121,
      "outputs": [
        {
          "output_type": "execute_result",
          "data": {
            "text/plain": [
              "song_id              False\n",
              "song_length          False\n",
              "genre_ids            False\n",
              "artist_name          False\n",
              "composer             False\n",
              "lyricist             False\n",
              "language             False\n",
              "genre_ids_count      False\n",
              "artist_name_count    False\n",
              "composer_count       False\n",
              "lyricist_count       False\n",
              "dtype: bool"
            ]
          },
          "metadata": {},
          "execution_count": 121
        }
      ]
    },
    {
      "cell_type": "markdown",
      "metadata": {
        "id": "fc213fc4"
      },
      "source": [
        "---"
      ],
      "id": "fc213fc4"
    },
    {
      "cell_type": "markdown",
      "metadata": {
        "id": "036c6302"
      },
      "source": [
        "### song_extra_info.csv\n",
        "\n",
        "- song_id\n",
        "\n",
        "- song name - the name of the song.\n",
        "\n",
        "- isrc - International Standard Recording Code, theoretically can be used as an identity of a song. However, what worth to note is, ISRCs generated from providers have not been officially verified; therefore the information in ISRC, such as country code and reference year, can be misleading/incorrect. Multiple songs could share one ISRC since a single recording could be re-published several times."
      ],
      "id": "036c6302"
    },
    {
      "cell_type": "code",
      "metadata": {
        "id": "7111ce7c",
        "colab": {
          "base_uri": "https://localhost:8080/",
          "height": 204
        },
        "outputId": "6af2f589-0c65-4afc-8cb5-7dd8ad506f74"
      },
      "source": [
        "song_extra_info_df = load_song_extra_info(f\"{csv_folder_path}/{song_extra_info_path}\")\n",
        "\n",
        "song_extra_info_df.head()"
      ],
      "id": "7111ce7c",
      "execution_count": 122,
      "outputs": [
        {
          "output_type": "execute_result",
          "data": {
            "text/html": [
              "<div>\n",
              "<style scoped>\n",
              "    .dataframe tbody tr th:only-of-type {\n",
              "        vertical-align: middle;\n",
              "    }\n",
              "\n",
              "    .dataframe tbody tr th {\n",
              "        vertical-align: top;\n",
              "    }\n",
              "\n",
              "    .dataframe thead th {\n",
              "        text-align: right;\n",
              "    }\n",
              "</style>\n",
              "<table border=\"1\" class=\"dataframe\">\n",
              "  <thead>\n",
              "    <tr style=\"text-align: right;\">\n",
              "      <th></th>\n",
              "      <th>song_id</th>\n",
              "      <th>name</th>\n",
              "      <th>isrc</th>\n",
              "    </tr>\n",
              "  </thead>\n",
              "  <tbody>\n",
              "    <tr>\n",
              "      <th>0</th>\n",
              "      <td>LP7pLJoJFBvyuUwvu+oLzjT+bI+UeBPURCecJsX1jjs=</td>\n",
              "      <td>我們</td>\n",
              "      <td>TWUM71200043</td>\n",
              "    </tr>\n",
              "    <tr>\n",
              "      <th>1</th>\n",
              "      <td>ClazTFnk6r0Bnuie44bocdNMM3rdlrq0bCGAsGUWcHE=</td>\n",
              "      <td>Let Me Love You</td>\n",
              "      <td>QMZSY1600015</td>\n",
              "    </tr>\n",
              "    <tr>\n",
              "      <th>2</th>\n",
              "      <td>u2ja/bZE3zhCGxvbbOB3zOoUjx27u40cf5g09UXMoKQ=</td>\n",
              "      <td>原諒我</td>\n",
              "      <td>TWA530887303</td>\n",
              "    </tr>\n",
              "    <tr>\n",
              "      <th>3</th>\n",
              "      <td>92Fqsy0+p6+RHe2EoLKjHahORHR1Kq1TBJoClW9v+Ts=</td>\n",
              "      <td>Classic</td>\n",
              "      <td>USSM11301446</td>\n",
              "    </tr>\n",
              "    <tr>\n",
              "      <th>4</th>\n",
              "      <td>0QFmz/+rJy1Q56C1DuYqT9hKKqi5TUqx0sN0IwvoHrw=</td>\n",
              "      <td>愛投羅網</td>\n",
              "      <td>TWA471306001</td>\n",
              "    </tr>\n",
              "  </tbody>\n",
              "</table>\n",
              "</div>"
            ],
            "text/plain": [
              "                                        song_id             name          isrc\n",
              "0  LP7pLJoJFBvyuUwvu+oLzjT+bI+UeBPURCecJsX1jjs=               我們  TWUM71200043\n",
              "1  ClazTFnk6r0Bnuie44bocdNMM3rdlrq0bCGAsGUWcHE=  Let Me Love You  QMZSY1600015\n",
              "2  u2ja/bZE3zhCGxvbbOB3zOoUjx27u40cf5g09UXMoKQ=              原諒我  TWA530887303\n",
              "3  92Fqsy0+p6+RHe2EoLKjHahORHR1Kq1TBJoClW9v+Ts=          Classic  USSM11301446\n",
              "4  0QFmz/+rJy1Q56C1DuYqT9hKKqi5TUqx0sN0IwvoHrw=             愛投羅網  TWA471306001"
            ]
          },
          "metadata": {},
          "execution_count": 122
        }
      ]
    },
    {
      "cell_type": "code",
      "metadata": {
        "id": "aa205d63",
        "colab": {
          "base_uri": "https://localhost:8080/"
        },
        "outputId": "c2d7a9db-b21f-4989-f02b-a5a2d35885c3"
      },
      "source": [
        "song_extra_info_df.info()"
      ],
      "id": "aa205d63",
      "execution_count": 123,
      "outputs": [
        {
          "output_type": "stream",
          "name": "stdout",
          "text": [
            "<class 'pandas.core.frame.DataFrame'>\n",
            "RangeIndex: 2295971 entries, 0 to 2295970\n",
            "Data columns (total 3 columns):\n",
            " #   Column   Dtype   \n",
            "---  ------   -----   \n",
            " 0   song_id  category\n",
            " 1   name     category\n",
            " 2   isrc     object  \n",
            "dtypes: category(2), object(1)\n",
            "memory usage: 181.5+ MB\n"
          ]
        }
      ]
    },
    {
      "cell_type": "code",
      "metadata": {
        "id": "7de33d81",
        "colab": {
          "base_uri": "https://localhost:8080/"
        },
        "outputId": "1e574932-bfcf-47d4-a1c0-a49ec880ea6e"
      },
      "source": [
        "show_unique_values(song_extra_info_df)"
      ],
      "id": "7de33d81",
      "execution_count": 124,
      "outputs": [
        {
          "output_type": "stream",
          "name": "stdout",
          "text": [
            "Unique values:\n",
            "\n",
            "song_id: (2295971,)\n",
            "name: (1168980,)\n",
            "isrc: (1806826,)\n"
          ]
        }
      ]
    },
    {
      "cell_type": "markdown",
      "metadata": {
        "id": "06ce1acf"
      },
      "source": [
        "#### Выводы\n",
        "\n",
        "- Парсинг isrc\n",
        "\n",
        "- Убрать `name`"
      ],
      "id": "06ce1acf"
    },
    {
      "cell_type": "code",
      "metadata": {
        "id": "64317bc6",
        "colab": {
          "base_uri": "https://localhost:8080/",
          "height": 204
        },
        "outputId": "44ad7bc3-67f9-404a-efd1-dd3f0c4ddd72"
      },
      "source": [
        "post_song_extra_info_df = process_song_extra_info(song_extra_info_df)\n",
        "\n",
        "post_song_extra_info_df.head()"
      ],
      "id": "64317bc6",
      "execution_count": 125,
      "outputs": [
        {
          "output_type": "execute_result",
          "data": {
            "text/html": [
              "<div>\n",
              "<style scoped>\n",
              "    .dataframe tbody tr th:only-of-type {\n",
              "        vertical-align: middle;\n",
              "    }\n",
              "\n",
              "    .dataframe tbody tr th {\n",
              "        vertical-align: top;\n",
              "    }\n",
              "\n",
              "    .dataframe thead th {\n",
              "        text-align: right;\n",
              "    }\n",
              "</style>\n",
              "<table border=\"1\" class=\"dataframe\">\n",
              "  <thead>\n",
              "    <tr style=\"text-align: right;\">\n",
              "      <th></th>\n",
              "      <th>song_id</th>\n",
              "      <th>isrc_country</th>\n",
              "      <th>isrc_year</th>\n",
              "    </tr>\n",
              "  </thead>\n",
              "  <tbody>\n",
              "    <tr>\n",
              "      <th>0</th>\n",
              "      <td>LP7pLJoJFBvyuUwvu+oLzjT+bI+UeBPURCecJsX1jjs=</td>\n",
              "      <td>Taiwan, Province of China</td>\n",
              "      <td>2012</td>\n",
              "    </tr>\n",
              "    <tr>\n",
              "      <th>1</th>\n",
              "      <td>ClazTFnk6r0Bnuie44bocdNMM3rdlrq0bCGAsGUWcHE=</td>\n",
              "      <td>-1</td>\n",
              "      <td>2016</td>\n",
              "    </tr>\n",
              "    <tr>\n",
              "      <th>2</th>\n",
              "      <td>u2ja/bZE3zhCGxvbbOB3zOoUjx27u40cf5g09UXMoKQ=</td>\n",
              "      <td>Taiwan, Province of China</td>\n",
              "      <td>2008</td>\n",
              "    </tr>\n",
              "    <tr>\n",
              "      <th>3</th>\n",
              "      <td>92Fqsy0+p6+RHe2EoLKjHahORHR1Kq1TBJoClW9v+Ts=</td>\n",
              "      <td>United States</td>\n",
              "      <td>2013</td>\n",
              "    </tr>\n",
              "    <tr>\n",
              "      <th>4</th>\n",
              "      <td>0QFmz/+rJy1Q56C1DuYqT9hKKqi5TUqx0sN0IwvoHrw=</td>\n",
              "      <td>Taiwan, Province of China</td>\n",
              "      <td>2013</td>\n",
              "    </tr>\n",
              "  </tbody>\n",
              "</table>\n",
              "</div>"
            ],
            "text/plain": [
              "                                        song_id  ... isrc_year\n",
              "0  LP7pLJoJFBvyuUwvu+oLzjT+bI+UeBPURCecJsX1jjs=  ...      2012\n",
              "1  ClazTFnk6r0Bnuie44bocdNMM3rdlrq0bCGAsGUWcHE=  ...      2016\n",
              "2  u2ja/bZE3zhCGxvbbOB3zOoUjx27u40cf5g09UXMoKQ=  ...      2008\n",
              "3  92Fqsy0+p6+RHe2EoLKjHahORHR1Kq1TBJoClW9v+Ts=  ...      2013\n",
              "4  0QFmz/+rJy1Q56C1DuYqT9hKKqi5TUqx0sN0IwvoHrw=  ...      2013\n",
              "\n",
              "[5 rows x 3 columns]"
            ]
          },
          "metadata": {},
          "execution_count": 125
        }
      ]
    },
    {
      "cell_type": "code",
      "metadata": {
        "id": "1d61e46b",
        "colab": {
          "base_uri": "https://localhost:8080/"
        },
        "outputId": "ee188d8f-e1f6-402e-becd-7116e57d8fb3"
      },
      "source": [
        "post_song_extra_info_df.info()"
      ],
      "id": "1d61e46b",
      "execution_count": 126,
      "outputs": [
        {
          "output_type": "stream",
          "name": "stdout",
          "text": [
            "<class 'pandas.core.frame.DataFrame'>\n",
            "RangeIndex: 2295971 entries, 0 to 2295970\n",
            "Data columns (total 3 columns):\n",
            " #   Column        Dtype   \n",
            "---  ------        -----   \n",
            " 0   song_id       category\n",
            " 1   isrc_country  category\n",
            " 2   isrc_year     category\n",
            "dtypes: category(3)\n",
            "memory usage: 112.9 MB\n"
          ]
        }
      ]
    },
    {
      "cell_type": "code",
      "metadata": {
        "id": "abf8737c",
        "colab": {
          "base_uri": "https://localhost:8080/"
        },
        "outputId": "feaa4b19-65e4-4488-fb98-7d6404d6390c"
      },
      "source": [
        "post_song_extra_info_df.isnull().any()"
      ],
      "id": "abf8737c",
      "execution_count": 127,
      "outputs": [
        {
          "output_type": "execute_result",
          "data": {
            "text/plain": [
              "song_id         False\n",
              "isrc_country    False\n",
              "isrc_year       False\n",
              "dtype: bool"
            ]
          },
          "metadata": {},
          "execution_count": 127
        }
      ]
    },
    {
      "cell_type": "markdown",
      "metadata": {
        "id": "b44181f4"
      },
      "source": [
        "---"
      ],
      "id": "b44181f4"
    },
    {
      "cell_type": "markdown",
      "metadata": {
        "id": "595c4f53"
      },
      "source": [
        "### train.csv\n",
        "\n",
        "- msno: user id\n",
        "\n",
        "- song_id: song id\n",
        "\n",
        "- source_system_tab: the name of the tab where the event was triggered. System tabs are used to categorize KKBOX mobile apps functions. For example, tab my library contains functions to manipulate the local storage, and tab search contains functions relating to search.\n",
        "\n",
        "- source_screen_name: name of the layout a user sees.\n",
        "\n",
        "- source_type: an entry point a user first plays music on mobile apps. An entry point could be album, online-playlist, song .. etc.\n",
        "\n",
        "- target: this is the target variable. ```target=1``` means there are recurring listening event(s) triggered within a month after the user’s very first observable listening event, ```target=0``` otherwise."
      ],
      "id": "595c4f53"
    },
    {
      "cell_type": "code",
      "metadata": {
        "id": "6983fc71",
        "colab": {
          "base_uri": "https://localhost:8080/",
          "height": 224
        },
        "outputId": "807dcb7a-f007-451c-db6f-250e99b84e71"
      },
      "source": [
        "train_df = load_train(f\"{csv_folder_path}/{train_path}\")\n",
        "\n",
        "train_df.head()"
      ],
      "id": "6983fc71",
      "execution_count": 128,
      "outputs": [
        {
          "output_type": "execute_result",
          "data": {
            "text/html": [
              "<div>\n",
              "<style scoped>\n",
              "    .dataframe tbody tr th:only-of-type {\n",
              "        vertical-align: middle;\n",
              "    }\n",
              "\n",
              "    .dataframe tbody tr th {\n",
              "        vertical-align: top;\n",
              "    }\n",
              "\n",
              "    .dataframe thead th {\n",
              "        text-align: right;\n",
              "    }\n",
              "</style>\n",
              "<table border=\"1\" class=\"dataframe\">\n",
              "  <thead>\n",
              "    <tr style=\"text-align: right;\">\n",
              "      <th></th>\n",
              "      <th>msno</th>\n",
              "      <th>song_id</th>\n",
              "      <th>source_system_tab</th>\n",
              "      <th>source_screen_name</th>\n",
              "      <th>source_type</th>\n",
              "      <th>target</th>\n",
              "    </tr>\n",
              "  </thead>\n",
              "  <tbody>\n",
              "    <tr>\n",
              "      <th>0</th>\n",
              "      <td>FGtllVqz18RPiwJj/edr2gV78zirAiY/9SmYvia+kCg=</td>\n",
              "      <td>BBzumQNXUHKdEBOB7mAJuzok+IJA1c2Ryg/yzTF6tik=</td>\n",
              "      <td>explore</td>\n",
              "      <td>Explore</td>\n",
              "      <td>online-playlist</td>\n",
              "      <td>1</td>\n",
              "    </tr>\n",
              "    <tr>\n",
              "      <th>1</th>\n",
              "      <td>Xumu+NIjS6QYVxDS4/t3SawvJ7viT9hPKXmf0RtLNx8=</td>\n",
              "      <td>bhp/MpSNoqoxOIB+/l8WPqu6jldth4DIpCm3ayXnJqM=</td>\n",
              "      <td>my library</td>\n",
              "      <td>Local playlist more</td>\n",
              "      <td>local-playlist</td>\n",
              "      <td>1</td>\n",
              "    </tr>\n",
              "    <tr>\n",
              "      <th>2</th>\n",
              "      <td>Xumu+NIjS6QYVxDS4/t3SawvJ7viT9hPKXmf0RtLNx8=</td>\n",
              "      <td>JNWfrrC7zNN7BdMpsISKa4Mw+xVJYNnxXh3/Epw7QgY=</td>\n",
              "      <td>my library</td>\n",
              "      <td>Local playlist more</td>\n",
              "      <td>local-playlist</td>\n",
              "      <td>1</td>\n",
              "    </tr>\n",
              "    <tr>\n",
              "      <th>3</th>\n",
              "      <td>Xumu+NIjS6QYVxDS4/t3SawvJ7viT9hPKXmf0RtLNx8=</td>\n",
              "      <td>2A87tzfnJTSWqD7gIZHisolhe4DMdzkbd6LzO1KHjNs=</td>\n",
              "      <td>my library</td>\n",
              "      <td>Local playlist more</td>\n",
              "      <td>local-playlist</td>\n",
              "      <td>1</td>\n",
              "    </tr>\n",
              "    <tr>\n",
              "      <th>4</th>\n",
              "      <td>FGtllVqz18RPiwJj/edr2gV78zirAiY/9SmYvia+kCg=</td>\n",
              "      <td>3qm6XTZ6MOCU11x8FIVbAGH5l5uMkT3/ZalWG1oo2Gc=</td>\n",
              "      <td>explore</td>\n",
              "      <td>Explore</td>\n",
              "      <td>online-playlist</td>\n",
              "      <td>1</td>\n",
              "    </tr>\n",
              "  </tbody>\n",
              "</table>\n",
              "</div>"
            ],
            "text/plain": [
              "                                           msno  ... target\n",
              "0  FGtllVqz18RPiwJj/edr2gV78zirAiY/9SmYvia+kCg=  ...      1\n",
              "1  Xumu+NIjS6QYVxDS4/t3SawvJ7viT9hPKXmf0RtLNx8=  ...      1\n",
              "2  Xumu+NIjS6QYVxDS4/t3SawvJ7viT9hPKXmf0RtLNx8=  ...      1\n",
              "3  Xumu+NIjS6QYVxDS4/t3SawvJ7viT9hPKXmf0RtLNx8=  ...      1\n",
              "4  FGtllVqz18RPiwJj/edr2gV78zirAiY/9SmYvia+kCg=  ...      1\n",
              "\n",
              "[5 rows x 6 columns]"
            ]
          },
          "metadata": {},
          "execution_count": 128
        }
      ]
    },
    {
      "cell_type": "code",
      "metadata": {
        "id": "59c28cec",
        "colab": {
          "base_uri": "https://localhost:8080/"
        },
        "outputId": "908be3ea-27c8-46c6-9072-95f254233413"
      },
      "source": [
        "show_unique_values(train_df)"
      ],
      "id": "59c28cec",
      "execution_count": 129,
      "outputs": [
        {
          "output_type": "stream",
          "name": "stdout",
          "text": [
            "Unique values:\n",
            "\n",
            "msno: (30755,)\n",
            "song_id: (359966,)\n",
            "source_system_tab: (9,)\n",
            "source_screen_name: (21,)\n",
            "source_type: (13,)\n",
            "target: (2,)\n"
          ]
        }
      ]
    },
    {
      "cell_type": "code",
      "metadata": {
        "id": "f1c490a7",
        "colab": {
          "base_uri": "https://localhost:8080/",
          "height": 340
        },
        "outputId": "6a04b292-58f4-4724-8148-d469b3e89fda"
      },
      "source": [
        "train_df.source_system_tab.value_counts().plot(kind='bar')"
      ],
      "id": "f1c490a7",
      "execution_count": 130,
      "outputs": [
        {
          "output_type": "execute_result",
          "data": {
            "text/plain": [
              "<matplotlib.axes._subplots.AxesSubplot at 0x7f7cbc85d610>"
            ]
          },
          "metadata": {},
          "execution_count": 130
        },
        {
          "output_type": "display_data",
          "data": {
            "image/png": "[encoded data removed]",
            "text/plain": [
              "<Figure size 432x288 with 1 Axes>"
            ]
          },
          "metadata": {
            "needs_background": "light"
          }
        }
      ]
    },
    {
      "cell_type": "code",
      "metadata": {
        "id": "a5907771",
        "colab": {
          "base_uri": "https://localhost:8080/",
          "height": 384
        },
        "outputId": "e2a7a39b-0f4e-455c-b235-24d38031822b"
      },
      "source": [
        "train_df.source_screen_name.value_counts().plot(kind='bar')"
      ],
      "id": "a5907771",
      "execution_count": 131,
      "outputs": [
        {
          "output_type": "execute_result",
          "data": {
            "text/plain": [
              "<matplotlib.axes._subplots.AxesSubplot at 0x7f7cbc642790>"
            ]
          },
          "metadata": {},
          "execution_count": 131
        },
        {
          "output_type": "display_data",
          "data": {
            "image/png": "[encoded data removed]",
            "text/plain": [
              "<Figure size 432x288 with 1 Axes>"
            ]
          },
          "metadata": {
            "needs_background": "light"
          }
        }
      ]
    },
    {
      "cell_type": "code",
      "metadata": {
        "id": "2b20d324",
        "colab": {
          "base_uri": "https://localhost:8080/",
          "height": 383
        },
        "outputId": "f54f7091-93cd-4533-fa38-5194c0f9c3d2"
      },
      "source": [
        "train_df.source_type.value_counts().plot(kind='bar')"
      ],
      "id": "2b20d324",
      "execution_count": 132,
      "outputs": [
        {
          "output_type": "execute_result",
          "data": {
            "text/plain": [
              "<matplotlib.axes._subplots.AxesSubplot at 0x7f7cbca78a50>"
            ]
          },
          "metadata": {},
          "execution_count": 132
        },
        {
          "output_type": "display_data",
          "data": {
            "image/png": "[encoded data removed]",
            "text/plain": [
              "<Figure size 432x288 with 1 Axes>"
            ]
          },
          "metadata": {
            "needs_background": "light"
          }
        }
      ]
    },
    {
      "cell_type": "code",
      "metadata": {
        "id": "5ccc371f",
        "colab": {
          "base_uri": "https://localhost:8080/",
          "height": 290
        },
        "outputId": "c64610a7-5ff3-4592-eb35-1c0877afe893"
      },
      "source": [
        "train_df.target.value_counts().plot(kind='bar')"
      ],
      "id": "5ccc371f",
      "execution_count": 133,
      "outputs": [
        {
          "output_type": "execute_result",
          "data": {
            "text/plain": [
              "<matplotlib.axes._subplots.AxesSubplot at 0x7f7cbcbe8090>"
            ]
          },
          "metadata": {},
          "execution_count": 133
        },
        {
          "output_type": "display_data",
          "data": {
            "image/png": "[encoded data removed]",
            "text/plain": [
              "<Figure size 432x288 with 1 Axes>"
            ]
          },
          "metadata": {
            "needs_background": "light"
          }
        }
      ]
    },
    {
      "cell_type": "code",
      "metadata": {
        "id": "f48ed43e",
        "colab": {
          "base_uri": "https://localhost:8080/"
        },
        "outputId": "f2d51503-101d-46da-8b86-cd79f6c34a8d"
      },
      "source": [
        "train_df.info()"
      ],
      "id": "f48ed43e",
      "execution_count": 134,
      "outputs": [
        {
          "output_type": "stream",
          "name": "stdout",
          "text": [
            "<class 'pandas.core.frame.DataFrame'>\n",
            "RangeIndex: 7377418 entries, 0 to 7377417\n",
            "Data columns (total 6 columns):\n",
            " #   Column              Dtype   \n",
            "---  ------              -----   \n",
            " 0   msno                category\n",
            " 1   song_id             category\n",
            " 2   source_system_tab   category\n",
            " 3   source_screen_name  category\n",
            " 4   source_type         category\n",
            " 5   target              uint8   \n",
            "dtypes: category(5), uint8(1)\n",
            "memory usage: 84.6 MB\n"
          ]
        }
      ]
    },
    {
      "cell_type": "code",
      "metadata": {
        "id": "86097640",
        "colab": {
          "base_uri": "https://localhost:8080/"
        },
        "outputId": "3cab80c5-43fd-4ec0-9eef-914806641f26"
      },
      "source": [
        "train_df.isnull().any()"
      ],
      "id": "86097640",
      "execution_count": 135,
      "outputs": [
        {
          "output_type": "execute_result",
          "data": {
            "text/plain": [
              "msno                  False\n",
              "song_id               False\n",
              "source_system_tab      True\n",
              "source_screen_name     True\n",
              "source_type            True\n",
              "target                False\n",
              "dtype: bool"
            ]
          },
          "metadata": {},
          "execution_count": 135
        }
      ]
    },
    {
      "cell_type": "code",
      "metadata": {
        "id": "f46bc741",
        "colab": {
          "base_uri": "https://localhost:8080/",
          "height": 241
        },
        "outputId": "b3ba95c9-5a1e-485a-dfc8-c8f001e8e225"
      },
      "source": [
        "post_train_df = process_train(train_df)\n",
        "\n",
        "post_train_df.head()"
      ],
      "id": "f46bc741",
      "execution_count": 136,
      "outputs": [
        {
          "output_type": "stream",
          "name": "stderr",
          "text": [
            "100%|██████████| 3/3 [00:00<00:00, 20.02it/s]\n"
          ]
        },
        {
          "output_type": "execute_result",
          "data": {
            "text/html": [
              "<div>\n",
              "<style scoped>\n",
              "    .dataframe tbody tr th:only-of-type {\n",
              "        vertical-align: middle;\n",
              "    }\n",
              "\n",
              "    .dataframe tbody tr th {\n",
              "        vertical-align: top;\n",
              "    }\n",
              "\n",
              "    .dataframe thead th {\n",
              "        text-align: right;\n",
              "    }\n",
              "</style>\n",
              "<table border=\"1\" class=\"dataframe\">\n",
              "  <thead>\n",
              "    <tr style=\"text-align: right;\">\n",
              "      <th></th>\n",
              "      <th>msno</th>\n",
              "      <th>song_id</th>\n",
              "      <th>source_system_tab</th>\n",
              "      <th>source_screen_name</th>\n",
              "      <th>source_type</th>\n",
              "      <th>target</th>\n",
              "    </tr>\n",
              "  </thead>\n",
              "  <tbody>\n",
              "    <tr>\n",
              "      <th>0</th>\n",
              "      <td>FGtllVqz18RPiwJj/edr2gV78zirAiY/9SmYvia+kCg=</td>\n",
              "      <td>BBzumQNXUHKdEBOB7mAJuzok+IJA1c2Ryg/yzTF6tik=</td>\n",
              "      <td>explore</td>\n",
              "      <td>Explore</td>\n",
              "      <td>online-playlist</td>\n",
              "      <td>1</td>\n",
              "    </tr>\n",
              "    <tr>\n",
              "      <th>1</th>\n",
              "      <td>Xumu+NIjS6QYVxDS4/t3SawvJ7viT9hPKXmf0RtLNx8=</td>\n",
              "      <td>bhp/MpSNoqoxOIB+/l8WPqu6jldth4DIpCm3ayXnJqM=</td>\n",
              "      <td>my library</td>\n",
              "      <td>Local playlist more</td>\n",
              "      <td>local-playlist</td>\n",
              "      <td>1</td>\n",
              "    </tr>\n",
              "    <tr>\n",
              "      <th>2</th>\n",
              "      <td>Xumu+NIjS6QYVxDS4/t3SawvJ7viT9hPKXmf0RtLNx8=</td>\n",
              "      <td>JNWfrrC7zNN7BdMpsISKa4Mw+xVJYNnxXh3/Epw7QgY=</td>\n",
              "      <td>my library</td>\n",
              "      <td>Local playlist more</td>\n",
              "      <td>local-playlist</td>\n",
              "      <td>1</td>\n",
              "    </tr>\n",
              "    <tr>\n",
              "      <th>3</th>\n",
              "      <td>Xumu+NIjS6QYVxDS4/t3SawvJ7viT9hPKXmf0RtLNx8=</td>\n",
              "      <td>2A87tzfnJTSWqD7gIZHisolhe4DMdzkbd6LzO1KHjNs=</td>\n",
              "      <td>my library</td>\n",
              "      <td>Local playlist more</td>\n",
              "      <td>local-playlist</td>\n",
              "      <td>1</td>\n",
              "    </tr>\n",
              "    <tr>\n",
              "      <th>4</th>\n",
              "      <td>FGtllVqz18RPiwJj/edr2gV78zirAiY/9SmYvia+kCg=</td>\n",
              "      <td>3qm6XTZ6MOCU11x8FIVbAGH5l5uMkT3/ZalWG1oo2Gc=</td>\n",
              "      <td>explore</td>\n",
              "      <td>Explore</td>\n",
              "      <td>online-playlist</td>\n",
              "      <td>1</td>\n",
              "    </tr>\n",
              "  </tbody>\n",
              "</table>\n",
              "</div>"
            ],
            "text/plain": [
              "                                           msno  ... target\n",
              "0  FGtllVqz18RPiwJj/edr2gV78zirAiY/9SmYvia+kCg=  ...      1\n",
              "1  Xumu+NIjS6QYVxDS4/t3SawvJ7viT9hPKXmf0RtLNx8=  ...      1\n",
              "2  Xumu+NIjS6QYVxDS4/t3SawvJ7viT9hPKXmf0RtLNx8=  ...      1\n",
              "3  Xumu+NIjS6QYVxDS4/t3SawvJ7viT9hPKXmf0RtLNx8=  ...      1\n",
              "4  FGtllVqz18RPiwJj/edr2gV78zirAiY/9SmYvia+kCg=  ...      1\n",
              "\n",
              "[5 rows x 6 columns]"
            ]
          },
          "metadata": {},
          "execution_count": 136
        }
      ]
    },
    {
      "cell_type": "code",
      "metadata": {
        "id": "2abfd002",
        "colab": {
          "base_uri": "https://localhost:8080/"
        },
        "outputId": "34cae1d1-7665-4bfa-b72e-007bb89f334e"
      },
      "source": [
        "post_train_df.isnull().any()"
      ],
      "id": "2abfd002",
      "execution_count": 137,
      "outputs": [
        {
          "output_type": "execute_result",
          "data": {
            "text/plain": [
              "msno                  False\n",
              "song_id               False\n",
              "source_system_tab     False\n",
              "source_screen_name    False\n",
              "source_type           False\n",
              "target                False\n",
              "dtype: bool"
            ]
          },
          "metadata": {},
          "execution_count": 137
        }
      ]
    },
    {
      "cell_type": "markdown",
      "metadata": {
        "id": "69510a77"
      },
      "source": [
        "---"
      ],
      "id": "69510a77"
    },
    {
      "cell_type": "markdown",
      "metadata": {
        "id": "53bfaf80"
      },
      "source": [
        "### Extended train\n",
        "\n",
        "объединим все датасеты в один большой train.\n",
        "\n",
        "- Сформируем `extended_songs` из датасетов `songs` и `song_extra_info` по полю `song_id`\n",
        "\n",
        "- Объединим `extended_songs` и `train` по полю `song_id`\n",
        "\n",
        "- Объединим `members` и `train` по полю `msno`"
      ],
      "id": "53bfaf80"
    },
    {
      "cell_type": "markdown",
      "metadata": {
        "id": "d4beadd5"
      },
      "source": [
        "#### extended songs"
      ],
      "id": "d4beadd5"
    },
    {
      "cell_type": "code",
      "metadata": {
        "id": "391fcf25",
        "colab": {
          "base_uri": "https://localhost:8080/",
          "height": 377
        },
        "outputId": "84a4f9f7-0ac9-46d9-c390-6d4095156335"
      },
      "source": [
        "extended_song_df = merge_songs(post_song_df, post_song_extra_info_df)\n",
        "\n",
        "extended_song_df.head()"
      ],
      "id": "391fcf25",
      "execution_count": 138,
      "outputs": [
        {
          "output_type": "execute_result",
          "data": {
            "text/html": [
              "<div>\n",
              "<style scoped>\n",
              "    .dataframe tbody tr th:only-of-type {\n",
              "        vertical-align: middle;\n",
              "    }\n",
              "\n",
              "    .dataframe tbody tr th {\n",
              "        vertical-align: top;\n",
              "    }\n",
              "\n",
              "    .dataframe thead th {\n",
              "        text-align: right;\n",
              "    }\n",
              "</style>\n",
              "<table border=\"1\" class=\"dataframe\">\n",
              "  <thead>\n",
              "    <tr style=\"text-align: right;\">\n",
              "      <th></th>\n",
              "      <th>song_id</th>\n",
              "      <th>song_length</th>\n",
              "      <th>genre_ids</th>\n",
              "      <th>artist_name</th>\n",
              "      <th>composer</th>\n",
              "      <th>lyricist</th>\n",
              "      <th>language</th>\n",
              "      <th>genre_ids_count</th>\n",
              "      <th>artist_name_count</th>\n",
              "      <th>composer_count</th>\n",
              "      <th>lyricist_count</th>\n",
              "      <th>isrc_country</th>\n",
              "      <th>isrc_year</th>\n",
              "    </tr>\n",
              "  </thead>\n",
              "  <tbody>\n",
              "    <tr>\n",
              "      <th>0</th>\n",
              "      <td>CXoTN1eb7AI+DntdU1vbcwGRV4SCIDxZu+YD8JP8r4E=</td>\n",
              "      <td>247640</td>\n",
              "      <td>465</td>\n",
              "      <td>張信哲 (Jeff Chang)</td>\n",
              "      <td>董貞</td>\n",
              "      <td>何啟弘</td>\n",
              "      <td>3.0</td>\n",
              "      <td>1</td>\n",
              "      <td>1</td>\n",
              "      <td>1</td>\n",
              "      <td>1</td>\n",
              "      <td>Taiwan, Province of China</td>\n",
              "      <td>2014</td>\n",
              "    </tr>\n",
              "    <tr>\n",
              "      <th>1</th>\n",
              "      <td>o0kFgae9QtnYgRkVPqLJwa05zIhRlUjfF7O1tDw0ZDU=</td>\n",
              "      <td>197328</td>\n",
              "      <td>444</td>\n",
              "      <td>BLACKPINK</td>\n",
              "      <td>TEDDY|  FUTURE BOUNCE|  Bekuh BOOM</td>\n",
              "      <td>TEDDY</td>\n",
              "      <td>31.0</td>\n",
              "      <td>1</td>\n",
              "      <td>1</td>\n",
              "      <td>3</td>\n",
              "      <td>1</td>\n",
              "      <td>-1</td>\n",
              "      <td>-1</td>\n",
              "    </tr>\n",
              "    <tr>\n",
              "      <th>2</th>\n",
              "      <td>DwVvVurfpuz+XPuFvucclVQEyPqcpUkHR0ne1RQzPs0=</td>\n",
              "      <td>231781</td>\n",
              "      <td>465</td>\n",
              "      <td>SUPER JUNIOR</td>\n",
              "      <td>FILL_NAN</td>\n",
              "      <td>FILL_NAN</td>\n",
              "      <td>31.0</td>\n",
              "      <td>1</td>\n",
              "      <td>1</td>\n",
              "      <td>0</td>\n",
              "      <td>0</td>\n",
              "      <td>-1</td>\n",
              "      <td>-1</td>\n",
              "    </tr>\n",
              "    <tr>\n",
              "      <th>3</th>\n",
              "      <td>dKMBWoZyScdxSkihKG+Vf47nc18N9q4m58+b4e7dSSE=</td>\n",
              "      <td>273554</td>\n",
              "      <td>465</td>\n",
              "      <td>S.H.E</td>\n",
              "      <td>湯小康</td>\n",
              "      <td>徐世珍</td>\n",
              "      <td>3.0</td>\n",
              "      <td>1</td>\n",
              "      <td>1</td>\n",
              "      <td>1</td>\n",
              "      <td>1</td>\n",
              "      <td>Taiwan, Province of China</td>\n",
              "      <td>2002</td>\n",
              "    </tr>\n",
              "    <tr>\n",
              "      <th>4</th>\n",
              "      <td>W3bqWd3T+VeHFzHAUfARgW9AvVRaF4N5Yzm4Mr6Eo/o=</td>\n",
              "      <td>140329</td>\n",
              "      <td>726</td>\n",
              "      <td>貴族精選</td>\n",
              "      <td>Traditional</td>\n",
              "      <td>Traditional</td>\n",
              "      <td>52.0</td>\n",
              "      <td>1</td>\n",
              "      <td>1</td>\n",
              "      <td>1</td>\n",
              "      <td>1</td>\n",
              "      <td>-1</td>\n",
              "      <td>-1</td>\n",
              "    </tr>\n",
              "  </tbody>\n",
              "</table>\n",
              "</div>"
            ],
            "text/plain": [
              "                                        song_id  ...  isrc_year\n",
              "0  CXoTN1eb7AI+DntdU1vbcwGRV4SCIDxZu+YD8JP8r4E=  ...       2014\n",
              "1  o0kFgae9QtnYgRkVPqLJwa05zIhRlUjfF7O1tDw0ZDU=  ...         -1\n",
              "2  DwVvVurfpuz+XPuFvucclVQEyPqcpUkHR0ne1RQzPs0=  ...         -1\n",
              "3  dKMBWoZyScdxSkihKG+Vf47nc18N9q4m58+b4e7dSSE=  ...       2002\n",
              "4  W3bqWd3T+VeHFzHAUfARgW9AvVRaF4N5Yzm4Mr6Eo/o=  ...         -1\n",
              "\n",
              "[5 rows x 13 columns]"
            ]
          },
          "metadata": {},
          "execution_count": 138
        }
      ]
    },
    {
      "cell_type": "code",
      "metadata": {
        "id": "b4d546e2",
        "colab": {
          "base_uri": "https://localhost:8080/"
        },
        "outputId": "811bfd63-65a9-4016-f711-ba56fcbc0993"
      },
      "source": [
        "extended_song_df.info()"
      ],
      "id": "b4d546e2",
      "execution_count": 139,
      "outputs": [
        {
          "output_type": "stream",
          "name": "stdout",
          "text": [
            "<class 'pandas.core.frame.DataFrame'>\n",
            "Int64Index: 2296320 entries, 0 to 2296319\n",
            "Data columns (total 13 columns):\n",
            " #   Column             Dtype   \n",
            "---  ------             -----   \n",
            " 0   song_id            object  \n",
            " 1   song_length        int32   \n",
            " 2   genre_ids          category\n",
            " 3   artist_name        category\n",
            " 4   composer           category\n",
            " 5   lyricist           category\n",
            " 6   language           category\n",
            " 7   genre_ids_count    int64   \n",
            " 8   artist_name_count  int64   \n",
            " 9   composer_count     int64   \n",
            " 10  lyricist_count     int64   \n",
            " 11  isrc_country       category\n",
            " 12  isrc_year          category\n",
            "dtypes: category(7), int32(1), int64(4), object(1)\n",
            "memory usage: 183.4+ MB\n"
          ]
        }
      ]
    },
    {
      "cell_type": "code",
      "metadata": {
        "id": "9e15467c",
        "colab": {
          "base_uri": "https://localhost:8080/"
        },
        "outputId": "346b047a-ff89-4c0b-c277-0e1b98e8ea28"
      },
      "source": [
        "extended_song_df.isnull().any()"
      ],
      "id": "9e15467c",
      "execution_count": 140,
      "outputs": [
        {
          "output_type": "execute_result",
          "data": {
            "text/plain": [
              "song_id              False\n",
              "song_length          False\n",
              "genre_ids            False\n",
              "artist_name          False\n",
              "composer             False\n",
              "lyricist             False\n",
              "language             False\n",
              "genre_ids_count      False\n",
              "artist_name_count    False\n",
              "composer_count       False\n",
              "lyricist_count       False\n",
              "isrc_country         False\n",
              "isrc_year            False\n",
              "dtype: bool"
            ]
          },
          "metadata": {},
          "execution_count": 140
        }
      ]
    },
    {
      "cell_type": "markdown",
      "metadata": {
        "id": "515e3570"
      },
      "source": [
        "#### extended train"
      ],
      "id": "515e3570"
    },
    {
      "cell_type": "code",
      "metadata": {
        "id": "42b09ee4",
        "colab": {
          "base_uri": "https://localhost:8080/",
          "height": 275
        },
        "outputId": "9d6bb559-b557-4b09-b9c7-d5995aef5e87"
      },
      "source": [
        "extended_train_df = merge_train(post_train_df, post_members_df, extended_song_df)\n",
        "\n",
        "extended_train_df.head()"
      ],
      "id": "42b09ee4",
      "execution_count": 141,
      "outputs": [
        {
          "output_type": "execute_result",
          "data": {
            "text/html": [
              "<div>\n",
              "<style scoped>\n",
              "    .dataframe tbody tr th:only-of-type {\n",
              "        vertical-align: middle;\n",
              "    }\n",
              "\n",
              "    .dataframe tbody tr th {\n",
              "        vertical-align: top;\n",
              "    }\n",
              "\n",
              "    .dataframe thead th {\n",
              "        text-align: right;\n",
              "    }\n",
              "</style>\n",
              "<table border=\"1\" class=\"dataframe\">\n",
              "  <thead>\n",
              "    <tr style=\"text-align: right;\">\n",
              "      <th></th>\n",
              "      <th>msno</th>\n",
              "      <th>song_id</th>\n",
              "      <th>source_system_tab</th>\n",
              "      <th>source_screen_name</th>\n",
              "      <th>source_type</th>\n",
              "      <th>target</th>\n",
              "      <th>city</th>\n",
              "      <th>gender</th>\n",
              "      <th>registered_via</th>\n",
              "      <th>registration_init_time</th>\n",
              "      <th>expiration_date</th>\n",
              "      <th>age_group</th>\n",
              "      <th>song_length</th>\n",
              "      <th>genre_ids</th>\n",
              "      <th>artist_name</th>\n",
              "      <th>composer</th>\n",
              "      <th>lyricist</th>\n",
              "      <th>language</th>\n",
              "      <th>genre_ids_count</th>\n",
              "      <th>artist_name_count</th>\n",
              "      <th>composer_count</th>\n",
              "      <th>lyricist_count</th>\n",
              "      <th>isrc_country</th>\n",
              "      <th>isrc_year</th>\n",
              "    </tr>\n",
              "  </thead>\n",
              "  <tbody>\n",
              "    <tr>\n",
              "      <th>3743055</th>\n",
              "      <td>++5wYjoMgQHoRuD3GbbvmphZbBBwymzv5Q4l8sywtuU=</td>\n",
              "      <td>DZanD98cLDbuPBiXONSwLFSw8BfI69ErQS23vYJ9UU4=</td>\n",
              "      <td>my library</td>\n",
              "      <td>Local playlist more</td>\n",
              "      <td>local-library</td>\n",
              "      <td>1</td>\n",
              "      <td>13</td>\n",
              "      <td>male</td>\n",
              "      <td>9</td>\n",
              "      <td>2006-02-18</td>\n",
              "      <td>2017-10-21</td>\n",
              "      <td>normal</td>\n",
              "      <td>224235.0</td>\n",
              "      <td>465</td>\n",
              "      <td>南拳媽媽</td>\n",
              "      <td>周杰倫</td>\n",
              "      <td>宋健彰</td>\n",
              "      <td>3.0</td>\n",
              "      <td>1.0</td>\n",
              "      <td>1.0</td>\n",
              "      <td>1.0</td>\n",
              "      <td>1.0</td>\n",
              "      <td>Taiwan, Province of China</td>\n",
              "      <td>2008</td>\n",
              "    </tr>\n",
              "    <tr>\n",
              "      <th>2028065</th>\n",
              "      <td>++5wYjoMgQHoRuD3GbbvmphZbBBwymzv5Q4l8sywtuU=</td>\n",
              "      <td>E6Fm873UEDPv0LATidt2gKwBZZHww2Q04nxTg15N9iE=</td>\n",
              "      <td>my library</td>\n",
              "      <td>Local playlist more</td>\n",
              "      <td>local-library</td>\n",
              "      <td>1</td>\n",
              "      <td>13</td>\n",
              "      <td>male</td>\n",
              "      <td>9</td>\n",
              "      <td>2006-02-18</td>\n",
              "      <td>2017-10-21</td>\n",
              "      <td>normal</td>\n",
              "      <td>193410.0</td>\n",
              "      <td>465</td>\n",
              "      <td>張靚穎 (Jane Zhang)</td>\n",
              "      <td>張靚穎</td>\n",
              "      <td>沈松</td>\n",
              "      <td>3.0</td>\n",
              "      <td>1.0</td>\n",
              "      <td>1.0</td>\n",
              "      <td>1.0</td>\n",
              "      <td>1.0</td>\n",
              "      <td>-1</td>\n",
              "      <td>-1</td>\n",
              "    </tr>\n",
              "    <tr>\n",
              "      <th>785721</th>\n",
              "      <td>++5wYjoMgQHoRuD3GbbvmphZbBBwymzv5Q4l8sywtuU=</td>\n",
              "      <td>0TZ4BKn9YES2upK9ZgKgsAUtUClVKHnct79pnA/iPiQ=</td>\n",
              "      <td>my library</td>\n",
              "      <td>Local playlist more</td>\n",
              "      <td>local-library</td>\n",
              "      <td>1</td>\n",
              "      <td>13</td>\n",
              "      <td>male</td>\n",
              "      <td>9</td>\n",
              "      <td>2006-02-18</td>\n",
              "      <td>2017-10-21</td>\n",
              "      <td>normal</td>\n",
              "      <td>187199.0</td>\n",
              "      <td>2022</td>\n",
              "      <td>Linkin Park</td>\n",
              "      <td>FILL_NAN</td>\n",
              "      <td>FILL_NAN</td>\n",
              "      <td>52.0</td>\n",
              "      <td>1.0</td>\n",
              "      <td>1.0</td>\n",
              "      <td>0.0</td>\n",
              "      <td>0.0</td>\n",
              "      <td>United States</td>\n",
              "      <td>2003</td>\n",
              "    </tr>\n",
              "    <tr>\n",
              "      <th>785720</th>\n",
              "      <td>++5wYjoMgQHoRuD3GbbvmphZbBBwymzv5Q4l8sywtuU=</td>\n",
              "      <td>m2YSjnhR3nzx/2WccNYpGWywohyd8fT0xR+skQC9/JQ=</td>\n",
              "      <td>my library</td>\n",
              "      <td>Local playlist more</td>\n",
              "      <td>local-library</td>\n",
              "      <td>1</td>\n",
              "      <td>13</td>\n",
              "      <td>male</td>\n",
              "      <td>9</td>\n",
              "      <td>2006-02-18</td>\n",
              "      <td>2017-10-21</td>\n",
              "      <td>normal</td>\n",
              "      <td>205635.0</td>\n",
              "      <td>359</td>\n",
              "      <td>Linkin Park</td>\n",
              "      <td>FILL_NAN</td>\n",
              "      <td>FILL_NAN</td>\n",
              "      <td>52.0</td>\n",
              "      <td>1.0</td>\n",
              "      <td>1.0</td>\n",
              "      <td>0.0</td>\n",
              "      <td>0.0</td>\n",
              "      <td>United States</td>\n",
              "      <td>2007</td>\n",
              "    </tr>\n",
              "    <tr>\n",
              "      <th>2973176</th>\n",
              "      <td>++5wYjoMgQHoRuD3GbbvmphZbBBwymzv5Q4l8sywtuU=</td>\n",
              "      <td>cXpk2ZXiSgkwGo8iGbswBc0lzucL9AH+j/2khmnmOLI=</td>\n",
              "      <td>my library</td>\n",
              "      <td>Local playlist more</td>\n",
              "      <td>local-playlist</td>\n",
              "      <td>0</td>\n",
              "      <td>13</td>\n",
              "      <td>male</td>\n",
              "      <td>9</td>\n",
              "      <td>2006-02-18</td>\n",
              "      <td>2017-10-21</td>\n",
              "      <td>normal</td>\n",
              "      <td>262687.0</td>\n",
              "      <td>2022</td>\n",
              "      <td>Starset</td>\n",
              "      <td>FILL_NAN</td>\n",
              "      <td>FILL_NAN</td>\n",
              "      <td>52.0</td>\n",
              "      <td>1.0</td>\n",
              "      <td>1.0</td>\n",
              "      <td>0.0</td>\n",
              "      <td>0.0</td>\n",
              "      <td>United States</td>\n",
              "      <td>2014</td>\n",
              "    </tr>\n",
              "  </tbody>\n",
              "</table>\n",
              "</div>"
            ],
            "text/plain": [
              "                                                 msno  ... isrc_year\n",
              "3743055  ++5wYjoMgQHoRuD3GbbvmphZbBBwymzv5Q4l8sywtuU=  ...      2008\n",
              "2028065  ++5wYjoMgQHoRuD3GbbvmphZbBBwymzv5Q4l8sywtuU=  ...        -1\n",
              "785721   ++5wYjoMgQHoRuD3GbbvmphZbBBwymzv5Q4l8sywtuU=  ...      2003\n",
              "785720   ++5wYjoMgQHoRuD3GbbvmphZbBBwymzv5Q4l8sywtuU=  ...      2007\n",
              "2973176  ++5wYjoMgQHoRuD3GbbvmphZbBBwymzv5Q4l8sywtuU=  ...      2014\n",
              "\n",
              "[5 rows x 24 columns]"
            ]
          },
          "metadata": {},
          "execution_count": 141
        }
      ]
    },
    {
      "cell_type": "code",
      "metadata": {
        "scrolled": false,
        "id": "6705fde2",
        "colab": {
          "base_uri": "https://localhost:8080/"
        },
        "outputId": "154cfcba-3641-4150-fb1e-1b255baa2b7a"
      },
      "source": [
        "extended_train_df.info()"
      ],
      "id": "6705fde2",
      "execution_count": 142,
      "outputs": [
        {
          "output_type": "stream",
          "name": "stdout",
          "text": [
            "<class 'pandas.core.frame.DataFrame'>\n",
            "Int64Index: 7377418 entries, 3743055 to 4077875\n",
            "Data columns (total 24 columns):\n",
            " #   Column                  Dtype         \n",
            "---  ------                  -----         \n",
            " 0   msno                    category      \n",
            " 1   song_id                 category      \n",
            " 2   source_system_tab       category      \n",
            " 3   source_screen_name      category      \n",
            " 4   source_type             category      \n",
            " 5   target                  uint8         \n",
            " 6   city                    category      \n",
            " 7   gender                  category      \n",
            " 8   registered_via          category      \n",
            " 9   registration_init_time  datetime64[ns]\n",
            " 10  expiration_date         datetime64[ns]\n",
            " 11  age_group               category      \n",
            " 12  song_length             float64       \n",
            " 13  genre_ids               category      \n",
            " 14  artist_name             category      \n",
            " 15  composer                category      \n",
            " 16  lyricist                category      \n",
            " 17  language                category      \n",
            " 18  genre_ids_count         float64       \n",
            " 19  artist_name_count       float64       \n",
            " 20  composer_count          float64       \n",
            " 21  lyricist_count          float64       \n",
            " 22  isrc_country            category      \n",
            " 23  isrc_year               category      \n",
            "dtypes: category(16), datetime64[ns](2), float64(5), uint8(1)\n",
            "memory usage: 719.8 MB\n"
          ]
        }
      ]
    },
    {
      "cell_type": "code",
      "metadata": {
        "id": "1f9ba6a6",
        "colab": {
          "base_uri": "https://localhost:8080/"
        },
        "outputId": "366dc26f-9705-4118-b5ba-781f9130d1de"
      },
      "source": [
        "extended_train_df.isnull().any(axis=0)"
      ],
      "id": "1f9ba6a6",
      "execution_count": 143,
      "outputs": [
        {
          "output_type": "execute_result",
          "data": {
            "text/plain": [
              "msno                      False\n",
              "song_id                   False\n",
              "source_system_tab         False\n",
              "source_screen_name        False\n",
              "source_type               False\n",
              "target                    False\n",
              "city                      False\n",
              "gender                    False\n",
              "registered_via            False\n",
              "registration_init_time    False\n",
              "expiration_date           False\n",
              "age_group                 False\n",
              "song_length                True\n",
              "genre_ids                  True\n",
              "artist_name                True\n",
              "composer                   True\n",
              "lyricist                   True\n",
              "language                   True\n",
              "genre_ids_count            True\n",
              "artist_name_count          True\n",
              "composer_count             True\n",
              "lyricist_count             True\n",
              "isrc_country               True\n",
              "isrc_year                  True\n",
              "dtype: bool"
            ]
          },
          "metadata": {},
          "execution_count": 143
        }
      ]
    },
    {
      "cell_type": "code",
      "metadata": {
        "id": "798f0bcc",
        "colab": {
          "base_uri": "https://localhost:8080/",
          "height": 439
        },
        "outputId": "df5e77e0-8cd8-43cd-8c7e-6469c21b74c4"
      },
      "source": [
        "extended_train_df[extended_train_df.song_length.isnull()]"
      ],
      "id": "798f0bcc",
      "execution_count": 144,
      "outputs": [
        {
          "output_type": "execute_result",
          "data": {
            "text/html": [
              "<div>\n",
              "<style scoped>\n",
              "    .dataframe tbody tr th:only-of-type {\n",
              "        vertical-align: middle;\n",
              "    }\n",
              "\n",
              "    .dataframe tbody tr th {\n",
              "        vertical-align: top;\n",
              "    }\n",
              "\n",
              "    .dataframe thead th {\n",
              "        text-align: right;\n",
              "    }\n",
              "</style>\n",
              "<table border=\"1\" class=\"dataframe\">\n",
              "  <thead>\n",
              "    <tr style=\"text-align: right;\">\n",
              "      <th></th>\n",
              "      <th>msno</th>\n",
              "      <th>song_id</th>\n",
              "      <th>source_system_tab</th>\n",
              "      <th>source_screen_name</th>\n",
              "      <th>source_type</th>\n",
              "      <th>target</th>\n",
              "      <th>city</th>\n",
              "      <th>gender</th>\n",
              "      <th>registered_via</th>\n",
              "      <th>registration_init_time</th>\n",
              "      <th>expiration_date</th>\n",
              "      <th>age_group</th>\n",
              "      <th>song_length</th>\n",
              "      <th>genre_ids</th>\n",
              "      <th>artist_name</th>\n",
              "      <th>composer</th>\n",
              "      <th>lyricist</th>\n",
              "      <th>language</th>\n",
              "      <th>genre_ids_count</th>\n",
              "      <th>artist_name_count</th>\n",
              "      <th>composer_count</th>\n",
              "      <th>lyricist_count</th>\n",
              "      <th>isrc_country</th>\n",
              "      <th>isrc_year</th>\n",
              "    </tr>\n",
              "  </thead>\n",
              "  <tbody>\n",
              "    <tr>\n",
              "      <th>3387733</th>\n",
              "      <td>+WWNRVeyvknpCBoQJpyjTcptueezi5Hf2WXHOCcw4mM=</td>\n",
              "      <td>M7SSF0XHF9kbCQV6g3Du2XWD5pl0F4v6LVeLPkloAPs=</td>\n",
              "      <td>my library</td>\n",
              "      <td>Search</td>\n",
              "      <td>online-playlist</td>\n",
              "      <td>1</td>\n",
              "      <td>1</td>\n",
              "      <td>FILL_NAN</td>\n",
              "      <td>7</td>\n",
              "      <td>2013-12-08</td>\n",
              "      <td>2017-10-07</td>\n",
              "      <td>FILL_NAN</td>\n",
              "      <td>NaN</td>\n",
              "      <td>NaN</td>\n",
              "      <td>NaN</td>\n",
              "      <td>NaN</td>\n",
              "      <td>NaN</td>\n",
              "      <td>NaN</td>\n",
              "      <td>NaN</td>\n",
              "      <td>NaN</td>\n",
              "      <td>NaN</td>\n",
              "      <td>NaN</td>\n",
              "      <td>NaN</td>\n",
              "      <td>NaN</td>\n",
              "    </tr>\n",
              "    <tr>\n",
              "      <th>4643222</th>\n",
              "      <td>+YZqerkUIfViddQdD9GE+WftOTWErtit7vXtU+AA0uI=</td>\n",
              "      <td>NzKHUdizUFikWIZbLIPik+ApyGxJknliRzZNzODIMUo=</td>\n",
              "      <td>explore</td>\n",
              "      <td>Album more</td>\n",
              "      <td>album</td>\n",
              "      <td>0</td>\n",
              "      <td>1</td>\n",
              "      <td>FILL_NAN</td>\n",
              "      <td>4</td>\n",
              "      <td>2017-01-02</td>\n",
              "      <td>2017-01-05</td>\n",
              "      <td>FILL_NAN</td>\n",
              "      <td>NaN</td>\n",
              "      <td>NaN</td>\n",
              "      <td>NaN</td>\n",
              "      <td>NaN</td>\n",
              "      <td>NaN</td>\n",
              "      <td>NaN</td>\n",
              "      <td>NaN</td>\n",
              "      <td>NaN</td>\n",
              "      <td>NaN</td>\n",
              "      <td>NaN</td>\n",
              "      <td>NaN</td>\n",
              "      <td>NaN</td>\n",
              "    </tr>\n",
              "    <tr>\n",
              "      <th>5943182</th>\n",
              "      <td>+bQQ3svrSTHzIVdE8VA6yAAIBNF+WEXmp4WsI1cM8cw=</td>\n",
              "      <td>q56DHVHETlI2i23Uol52mIH04w1Vk7M9ObL8BBa80pk=</td>\n",
              "      <td>radio</td>\n",
              "      <td>Radio</td>\n",
              "      <td>radio</td>\n",
              "      <td>0</td>\n",
              "      <td>5</td>\n",
              "      <td>male</td>\n",
              "      <td>7</td>\n",
              "      <td>2010-10-23</td>\n",
              "      <td>2017-09-23</td>\n",
              "      <td>normal</td>\n",
              "      <td>NaN</td>\n",
              "      <td>NaN</td>\n",
              "      <td>NaN</td>\n",
              "      <td>NaN</td>\n",
              "      <td>NaN</td>\n",
              "      <td>NaN</td>\n",
              "      <td>NaN</td>\n",
              "      <td>NaN</td>\n",
              "      <td>NaN</td>\n",
              "      <td>NaN</td>\n",
              "      <td>NaN</td>\n",
              "      <td>NaN</td>\n",
              "    </tr>\n",
              "    <tr>\n",
              "      <th>5127709</th>\n",
              "      <td>+cMK8Q8QToHpffN0713pSipeOlWUlNrjtJ1cnAVQ++k=</td>\n",
              "      <td>NzKHUdizUFikWIZbLIPik+ApyGxJknliRzZNzODIMUo=</td>\n",
              "      <td>search</td>\n",
              "      <td>Album more</td>\n",
              "      <td>album</td>\n",
              "      <td>1</td>\n",
              "      <td>1</td>\n",
              "      <td>FILL_NAN</td>\n",
              "      <td>4</td>\n",
              "      <td>2015-12-14</td>\n",
              "      <td>2017-09-02</td>\n",
              "      <td>FILL_NAN</td>\n",
              "      <td>NaN</td>\n",
              "      <td>NaN</td>\n",
              "      <td>NaN</td>\n",
              "      <td>NaN</td>\n",
              "      <td>NaN</td>\n",
              "      <td>NaN</td>\n",
              "      <td>NaN</td>\n",
              "      <td>NaN</td>\n",
              "      <td>NaN</td>\n",
              "      <td>NaN</td>\n",
              "      <td>NaN</td>\n",
              "      <td>NaN</td>\n",
              "    </tr>\n",
              "    <tr>\n",
              "      <th>6502343</th>\n",
              "      <td>+xxwj/U5aV+zv1M34K0Gdeyb94xRj8la5GJ01HV/USg=</td>\n",
              "      <td>2ERR0eBNGK0tAVKorpSrR4XDYnOqQDfNid/nPJzGd38=</td>\n",
              "      <td>radio</td>\n",
              "      <td>Radio</td>\n",
              "      <td>radio</td>\n",
              "      <td>0</td>\n",
              "      <td>1</td>\n",
              "      <td>FILL_NAN</td>\n",
              "      <td>7</td>\n",
              "      <td>2012-12-18</td>\n",
              "      <td>2017-09-17</td>\n",
              "      <td>FILL_NAN</td>\n",
              "      <td>NaN</td>\n",
              "      <td>NaN</td>\n",
              "      <td>NaN</td>\n",
              "      <td>NaN</td>\n",
              "      <td>NaN</td>\n",
              "      <td>NaN</td>\n",
              "      <td>NaN</td>\n",
              "      <td>NaN</td>\n",
              "      <td>NaN</td>\n",
              "      <td>NaN</td>\n",
              "      <td>NaN</td>\n",
              "      <td>NaN</td>\n",
              "    </tr>\n",
              "    <tr>\n",
              "      <th>...</th>\n",
              "      <td>...</td>\n",
              "      <td>...</td>\n",
              "      <td>...</td>\n",
              "      <td>...</td>\n",
              "      <td>...</td>\n",
              "      <td>...</td>\n",
              "      <td>...</td>\n",
              "      <td>...</td>\n",
              "      <td>...</td>\n",
              "      <td>...</td>\n",
              "      <td>...</td>\n",
              "      <td>...</td>\n",
              "      <td>...</td>\n",
              "      <td>...</td>\n",
              "      <td>...</td>\n",
              "      <td>...</td>\n",
              "      <td>...</td>\n",
              "      <td>...</td>\n",
              "      <td>...</td>\n",
              "      <td>...</td>\n",
              "      <td>...</td>\n",
              "      <td>...</td>\n",
              "      <td>...</td>\n",
              "      <td>...</td>\n",
              "    </tr>\n",
              "    <tr>\n",
              "      <th>7116207</th>\n",
              "      <td>weyBPJj+ionjF9ryHb3S7RS3N6+X6RNvmrclxypQ0/8=</td>\n",
              "      <td>WKCEUOm70//9O7IQ3VE2ohtiJaDGUH7cChanz4plSdA=</td>\n",
              "      <td>search</td>\n",
              "      <td>Search</td>\n",
              "      <td>song</td>\n",
              "      <td>1</td>\n",
              "      <td>13</td>\n",
              "      <td>male</td>\n",
              "      <td>9</td>\n",
              "      <td>2004-09-02</td>\n",
              "      <td>2017-09-30</td>\n",
              "      <td>normal</td>\n",
              "      <td>NaN</td>\n",
              "      <td>NaN</td>\n",
              "      <td>NaN</td>\n",
              "      <td>NaN</td>\n",
              "      <td>NaN</td>\n",
              "      <td>NaN</td>\n",
              "      <td>NaN</td>\n",
              "      <td>NaN</td>\n",
              "      <td>NaN</td>\n",
              "      <td>NaN</td>\n",
              "      <td>NaN</td>\n",
              "      <td>NaN</td>\n",
              "    </tr>\n",
              "    <tr>\n",
              "      <th>5974950</th>\n",
              "      <td>y7mhTGmm2CkrzKqJifrgkAzdJpokKb7DwFF57kvqAi8=</td>\n",
              "      <td>NzKHUdizUFikWIZbLIPik+ApyGxJknliRzZNzODIMUo=</td>\n",
              "      <td>discover</td>\n",
              "      <td>Album more</td>\n",
              "      <td>album</td>\n",
              "      <td>0</td>\n",
              "      <td>13</td>\n",
              "      <td>male</td>\n",
              "      <td>4</td>\n",
              "      <td>2016-06-13</td>\n",
              "      <td>2017-10-16</td>\n",
              "      <td>normal</td>\n",
              "      <td>NaN</td>\n",
              "      <td>NaN</td>\n",
              "      <td>NaN</td>\n",
              "      <td>NaN</td>\n",
              "      <td>NaN</td>\n",
              "      <td>NaN</td>\n",
              "      <td>NaN</td>\n",
              "      <td>NaN</td>\n",
              "      <td>NaN</td>\n",
              "      <td>NaN</td>\n",
              "      <td>NaN</td>\n",
              "      <td>NaN</td>\n",
              "    </tr>\n",
              "    <tr>\n",
              "      <th>795767</th>\n",
              "      <td>yBXKYfcmQ+TtIEvkLQXabAY2uwudIGn21dEZYAwCDCg=</td>\n",
              "      <td>bo+kTVU6S1dC0ksT88FZLBUf8ax+jBWL6oOFU4rScEo=</td>\n",
              "      <td>my library</td>\n",
              "      <td>Local playlist more</td>\n",
              "      <td>local-library</td>\n",
              "      <td>1</td>\n",
              "      <td>1</td>\n",
              "      <td>FILL_NAN</td>\n",
              "      <td>7</td>\n",
              "      <td>2016-02-18</td>\n",
              "      <td>2017-09-10</td>\n",
              "      <td>FILL_NAN</td>\n",
              "      <td>NaN</td>\n",
              "      <td>NaN</td>\n",
              "      <td>NaN</td>\n",
              "      <td>NaN</td>\n",
              "      <td>NaN</td>\n",
              "      <td>NaN</td>\n",
              "      <td>NaN</td>\n",
              "      <td>NaN</td>\n",
              "      <td>NaN</td>\n",
              "      <td>NaN</td>\n",
              "      <td>NaN</td>\n",
              "      <td>NaN</td>\n",
              "    </tr>\n",
              "    <tr>\n",
              "      <th>5133315</th>\n",
              "      <td>ybTJT1O65iiRhd2DelhgxH4XDyYnpJCN//rXCZiCkko=</td>\n",
              "      <td>o6G9PiWV55Shat8JNnNUp5IsK4U+dKQEg05PgSt4GZc=</td>\n",
              "      <td>my library</td>\n",
              "      <td>Local playlist more</td>\n",
              "      <td>local-library</td>\n",
              "      <td>0</td>\n",
              "      <td>4</td>\n",
              "      <td>female</td>\n",
              "      <td>9</td>\n",
              "      <td>2009-12-30</td>\n",
              "      <td>2017-09-27</td>\n",
              "      <td>young</td>\n",
              "      <td>NaN</td>\n",
              "      <td>NaN</td>\n",
              "      <td>NaN</td>\n",
              "      <td>NaN</td>\n",
              "      <td>NaN</td>\n",
              "      <td>NaN</td>\n",
              "      <td>NaN</td>\n",
              "      <td>NaN</td>\n",
              "      <td>NaN</td>\n",
              "      <td>NaN</td>\n",
              "      <td>NaN</td>\n",
              "      <td>NaN</td>\n",
              "    </tr>\n",
              "    <tr>\n",
              "      <th>1942576</th>\n",
              "      <td>z4xBCzvDK6xNOg8AmA1Kf9HHeV31jXZFTbxLPfpHpng=</td>\n",
              "      <td>5FXnI1sbD+lFFFGULwZhUAbZMa1P1eFMiigTjMZgW0I=</td>\n",
              "      <td>my library</td>\n",
              "      <td>Local playlist more</td>\n",
              "      <td>local-library</td>\n",
              "      <td>1</td>\n",
              "      <td>5</td>\n",
              "      <td>male</td>\n",
              "      <td>9</td>\n",
              "      <td>2014-12-24</td>\n",
              "      <td>2017-08-16</td>\n",
              "      <td>young</td>\n",
              "      <td>NaN</td>\n",
              "      <td>NaN</td>\n",
              "      <td>NaN</td>\n",
              "      <td>NaN</td>\n",
              "      <td>NaN</td>\n",
              "      <td>NaN</td>\n",
              "      <td>NaN</td>\n",
              "      <td>NaN</td>\n",
              "      <td>NaN</td>\n",
              "      <td>NaN</td>\n",
              "      <td>NaN</td>\n",
              "      <td>NaN</td>\n",
              "    </tr>\n",
              "  </tbody>\n",
              "</table>\n",
              "<p>114 rows × 24 columns</p>\n",
              "</div>"
            ],
            "text/plain": [
              "                                                 msno  ... isrc_year\n",
              "3387733  +WWNRVeyvknpCBoQJpyjTcptueezi5Hf2WXHOCcw4mM=  ...       NaN\n",
              "4643222  +YZqerkUIfViddQdD9GE+WftOTWErtit7vXtU+AA0uI=  ...       NaN\n",
              "5943182  +bQQ3svrSTHzIVdE8VA6yAAIBNF+WEXmp4WsI1cM8cw=  ...       NaN\n",
              "5127709  +cMK8Q8QToHpffN0713pSipeOlWUlNrjtJ1cnAVQ++k=  ...       NaN\n",
              "6502343  +xxwj/U5aV+zv1M34K0Gdeyb94xRj8la5GJ01HV/USg=  ...       NaN\n",
              "...                                               ...  ...       ...\n",
              "7116207  weyBPJj+ionjF9ryHb3S7RS3N6+X6RNvmrclxypQ0/8=  ...       NaN\n",
              "5974950  y7mhTGmm2CkrzKqJifrgkAzdJpokKb7DwFF57kvqAi8=  ...       NaN\n",
              "795767   yBXKYfcmQ+TtIEvkLQXabAY2uwudIGn21dEZYAwCDCg=  ...       NaN\n",
              "5133315  ybTJT1O65iiRhd2DelhgxH4XDyYnpJCN//rXCZiCkko=  ...       NaN\n",
              "1942576  z4xBCzvDK6xNOg8AmA1Kf9HHeV31jXZFTbxLPfpHpng=  ...       NaN\n",
              "\n",
              "[114 rows x 24 columns]"
            ]
          },
          "metadata": {},
          "execution_count": 144
        }
      ]
    },
    {
      "cell_type": "code",
      "metadata": {
        "id": "cbdf057e"
      },
      "source": [
        "_extended_train_df = extended_train_df[~extended_train_df.song_length.isnull()]"
      ],
      "id": "cbdf057e",
      "execution_count": 145,
      "outputs": []
    },
    {
      "cell_type": "code",
      "metadata": {
        "id": "8a4c6808",
        "colab": {
          "base_uri": "https://localhost:8080/"
        },
        "outputId": "72b48b4b-04ae-442c-a48b-f998765df59f"
      },
      "source": [
        "_extended_train_df.isnull().any(axis=0)"
      ],
      "id": "8a4c6808",
      "execution_count": 146,
      "outputs": [
        {
          "output_type": "execute_result",
          "data": {
            "text/plain": [
              "msno                      False\n",
              "song_id                   False\n",
              "source_system_tab         False\n",
              "source_screen_name        False\n",
              "source_type               False\n",
              "target                    False\n",
              "city                      False\n",
              "gender                    False\n",
              "registered_via            False\n",
              "registration_init_time    False\n",
              "expiration_date           False\n",
              "age_group                 False\n",
              "song_length               False\n",
              "genre_ids                 False\n",
              "artist_name               False\n",
              "composer                  False\n",
              "lyricist                  False\n",
              "language                  False\n",
              "genre_ids_count           False\n",
              "artist_name_count         False\n",
              "composer_count            False\n",
              "lyricist_count            False\n",
              "isrc_country              False\n",
              "isrc_year                 False\n",
              "dtype: bool"
            ]
          },
          "metadata": {},
          "execution_count": 146
        }
      ]
    },
    {
      "cell_type": "code",
      "metadata": {
        "id": "5ed62f5f",
        "colab": {
          "base_uri": "https://localhost:8080/",
          "height": 275
        },
        "outputId": "ce2685e4-79b3-41fa-c61f-d2ab5e5a89af"
      },
      "source": [
        "_extended_train_df.head()"
      ],
      "id": "5ed62f5f",
      "execution_count": 147,
      "outputs": [
        {
          "output_type": "execute_result",
          "data": {
            "text/html": [
              "<div>\n",
              "<style scoped>\n",
              "    .dataframe tbody tr th:only-of-type {\n",
              "        vertical-align: middle;\n",
              "    }\n",
              "\n",
              "    .dataframe tbody tr th {\n",
              "        vertical-align: top;\n",
              "    }\n",
              "\n",
              "    .dataframe thead th {\n",
              "        text-align: right;\n",
              "    }\n",
              "</style>\n",
              "<table border=\"1\" class=\"dataframe\">\n",
              "  <thead>\n",
              "    <tr style=\"text-align: right;\">\n",
              "      <th></th>\n",
              "      <th>msno</th>\n",
              "      <th>song_id</th>\n",
              "      <th>source_system_tab</th>\n",
              "      <th>source_screen_name</th>\n",
              "      <th>source_type</th>\n",
              "      <th>target</th>\n",
              "      <th>city</th>\n",
              "      <th>gender</th>\n",
              "      <th>registered_via</th>\n",
              "      <th>registration_init_time</th>\n",
              "      <th>expiration_date</th>\n",
              "      <th>age_group</th>\n",
              "      <th>song_length</th>\n",
              "      <th>genre_ids</th>\n",
              "      <th>artist_name</th>\n",
              "      <th>composer</th>\n",
              "      <th>lyricist</th>\n",
              "      <th>language</th>\n",
              "      <th>genre_ids_count</th>\n",
              "      <th>artist_name_count</th>\n",
              "      <th>composer_count</th>\n",
              "      <th>lyricist_count</th>\n",
              "      <th>isrc_country</th>\n",
              "      <th>isrc_year</th>\n",
              "    </tr>\n",
              "  </thead>\n",
              "  <tbody>\n",
              "    <tr>\n",
              "      <th>3743055</th>\n",
              "      <td>++5wYjoMgQHoRuD3GbbvmphZbBBwymzv5Q4l8sywtuU=</td>\n",
              "      <td>DZanD98cLDbuPBiXONSwLFSw8BfI69ErQS23vYJ9UU4=</td>\n",
              "      <td>my library</td>\n",
              "      <td>Local playlist more</td>\n",
              "      <td>local-library</td>\n",
              "      <td>1</td>\n",
              "      <td>13</td>\n",
              "      <td>male</td>\n",
              "      <td>9</td>\n",
              "      <td>2006-02-18</td>\n",
              "      <td>2017-10-21</td>\n",
              "      <td>normal</td>\n",
              "      <td>224235.0</td>\n",
              "      <td>465</td>\n",
              "      <td>南拳媽媽</td>\n",
              "      <td>周杰倫</td>\n",
              "      <td>宋健彰</td>\n",
              "      <td>3.0</td>\n",
              "      <td>1.0</td>\n",
              "      <td>1.0</td>\n",
              "      <td>1.0</td>\n",
              "      <td>1.0</td>\n",
              "      <td>Taiwan, Province of China</td>\n",
              "      <td>2008</td>\n",
              "    </tr>\n",
              "    <tr>\n",
              "      <th>2028065</th>\n",
              "      <td>++5wYjoMgQHoRuD3GbbvmphZbBBwymzv5Q4l8sywtuU=</td>\n",
              "      <td>E6Fm873UEDPv0LATidt2gKwBZZHww2Q04nxTg15N9iE=</td>\n",
              "      <td>my library</td>\n",
              "      <td>Local playlist more</td>\n",
              "      <td>local-library</td>\n",
              "      <td>1</td>\n",
              "      <td>13</td>\n",
              "      <td>male</td>\n",
              "      <td>9</td>\n",
              "      <td>2006-02-18</td>\n",
              "      <td>2017-10-21</td>\n",
              "      <td>normal</td>\n",
              "      <td>193410.0</td>\n",
              "      <td>465</td>\n",
              "      <td>張靚穎 (Jane Zhang)</td>\n",
              "      <td>張靚穎</td>\n",
              "      <td>沈松</td>\n",
              "      <td>3.0</td>\n",
              "      <td>1.0</td>\n",
              "      <td>1.0</td>\n",
              "      <td>1.0</td>\n",
              "      <td>1.0</td>\n",
              "      <td>-1</td>\n",
              "      <td>-1</td>\n",
              "    </tr>\n",
              "    <tr>\n",
              "      <th>785721</th>\n",
              "      <td>++5wYjoMgQHoRuD3GbbvmphZbBBwymzv5Q4l8sywtuU=</td>\n",
              "      <td>0TZ4BKn9YES2upK9ZgKgsAUtUClVKHnct79pnA/iPiQ=</td>\n",
              "      <td>my library</td>\n",
              "      <td>Local playlist more</td>\n",
              "      <td>local-library</td>\n",
              "      <td>1</td>\n",
              "      <td>13</td>\n",
              "      <td>male</td>\n",
              "      <td>9</td>\n",
              "      <td>2006-02-18</td>\n",
              "      <td>2017-10-21</td>\n",
              "      <td>normal</td>\n",
              "      <td>187199.0</td>\n",
              "      <td>2022</td>\n",
              "      <td>Linkin Park</td>\n",
              "      <td>FILL_NAN</td>\n",
              "      <td>FILL_NAN</td>\n",
              "      <td>52.0</td>\n",
              "      <td>1.0</td>\n",
              "      <td>1.0</td>\n",
              "      <td>0.0</td>\n",
              "      <td>0.0</td>\n",
              "      <td>United States</td>\n",
              "      <td>2003</td>\n",
              "    </tr>\n",
              "    <tr>\n",
              "      <th>785720</th>\n",
              "      <td>++5wYjoMgQHoRuD3GbbvmphZbBBwymzv5Q4l8sywtuU=</td>\n",
              "      <td>m2YSjnhR3nzx/2WccNYpGWywohyd8fT0xR+skQC9/JQ=</td>\n",
              "      <td>my library</td>\n",
              "      <td>Local playlist more</td>\n",
              "      <td>local-library</td>\n",
              "      <td>1</td>\n",
              "      <td>13</td>\n",
              "      <td>male</td>\n",
              "      <td>9</td>\n",
              "      <td>2006-02-18</td>\n",
              "      <td>2017-10-21</td>\n",
              "      <td>normal</td>\n",
              "      <td>205635.0</td>\n",
              "      <td>359</td>\n",
              "      <td>Linkin Park</td>\n",
              "      <td>FILL_NAN</td>\n",
              "      <td>FILL_NAN</td>\n",
              "      <td>52.0</td>\n",
              "      <td>1.0</td>\n",
              "      <td>1.0</td>\n",
              "      <td>0.0</td>\n",
              "      <td>0.0</td>\n",
              "      <td>United States</td>\n",
              "      <td>2007</td>\n",
              "    </tr>\n",
              "    <tr>\n",
              "      <th>2973176</th>\n",
              "      <td>++5wYjoMgQHoRuD3GbbvmphZbBBwymzv5Q4l8sywtuU=</td>\n",
              "      <td>cXpk2ZXiSgkwGo8iGbswBc0lzucL9AH+j/2khmnmOLI=</td>\n",
              "      <td>my library</td>\n",
              "      <td>Local playlist more</td>\n",
              "      <td>local-playlist</td>\n",
              "      <td>0</td>\n",
              "      <td>13</td>\n",
              "      <td>male</td>\n",
              "      <td>9</td>\n",
              "      <td>2006-02-18</td>\n",
              "      <td>2017-10-21</td>\n",
              "      <td>normal</td>\n",
              "      <td>262687.0</td>\n",
              "      <td>2022</td>\n",
              "      <td>Starset</td>\n",
              "      <td>FILL_NAN</td>\n",
              "      <td>FILL_NAN</td>\n",
              "      <td>52.0</td>\n",
              "      <td>1.0</td>\n",
              "      <td>1.0</td>\n",
              "      <td>0.0</td>\n",
              "      <td>0.0</td>\n",
              "      <td>United States</td>\n",
              "      <td>2014</td>\n",
              "    </tr>\n",
              "  </tbody>\n",
              "</table>\n",
              "</div>"
            ],
            "text/plain": [
              "                                                 msno  ... isrc_year\n",
              "3743055  ++5wYjoMgQHoRuD3GbbvmphZbBBwymzv5Q4l8sywtuU=  ...      2008\n",
              "2028065  ++5wYjoMgQHoRuD3GbbvmphZbBBwymzv5Q4l8sywtuU=  ...        -1\n",
              "785721   ++5wYjoMgQHoRuD3GbbvmphZbBBwymzv5Q4l8sywtuU=  ...      2003\n",
              "785720   ++5wYjoMgQHoRuD3GbbvmphZbBBwymzv5Q4l8sywtuU=  ...      2007\n",
              "2973176  ++5wYjoMgQHoRuD3GbbvmphZbBBwymzv5Q4l8sywtuU=  ...      2014\n",
              "\n",
              "[5 rows x 24 columns]"
            ]
          },
          "metadata": {},
          "execution_count": 147
        }
      ]
    },
    {
      "cell_type": "markdown",
      "metadata": {
        "id": "f4d40caa"
      },
      "source": [
        "---"
      ],
      "id": "f4d40caa"
    },
    {
      "cell_type": "markdown",
      "metadata": {
        "id": "c40a33e7"
      },
      "source": [
        "### TASK_01: RecSys using GBDT\n",
        "\n"
      ],
      "id": "c40a33e7"
    },
    {
      "cell_type": "code",
      "metadata": {
        "id": "Ctbca1YmeKOI"
      },
      "source": [
        "from train_utils import TrainDataset, CatBoostModel"
      ],
      "id": "Ctbca1YmeKOI",
      "execution_count": 148,
      "outputs": []
    },
    {
      "cell_type": "code",
      "metadata": {
        "id": "df7ac062",
        "colab": {
          "base_uri": "https://localhost:8080/",
          "height": 275
        },
        "outputId": "b231b29d-fcb3-4b2d-ba4b-1d96349cd987"
      },
      "source": [
        "random_state = 42\n",
        "model = CatBoostModel(\"YetiRank\", 150, \"GPU\", random_state)\n",
        "\n",
        "TRAIN_DATASET = TrainDataset(_extended_train_df[:1000])\n",
        "# TRAIN_DATASET = TrainDataset(_extended_train_df)\n",
        "TRAIN_DATASET.reduce_by_members(1023)\n",
        "TRAIN_DATASET._df.head()"
      ],
      "id": "df7ac062",
      "execution_count": 149,
      "outputs": [
        {
          "output_type": "execute_result",
          "data": {
            "text/html": [
              "<div>\n",
              "<style scoped>\n",
              "    .dataframe tbody tr th:only-of-type {\n",
              "        vertical-align: middle;\n",
              "    }\n",
              "\n",
              "    .dataframe tbody tr th {\n",
              "        vertical-align: top;\n",
              "    }\n",
              "\n",
              "    .dataframe thead th {\n",
              "        text-align: right;\n",
              "    }\n",
              "</style>\n",
              "<table border=\"1\" class=\"dataframe\">\n",
              "  <thead>\n",
              "    <tr style=\"text-align: right;\">\n",
              "      <th></th>\n",
              "      <th>msno</th>\n",
              "      <th>song_id</th>\n",
              "      <th>source_system_tab</th>\n",
              "      <th>source_screen_name</th>\n",
              "      <th>source_type</th>\n",
              "      <th>target</th>\n",
              "      <th>city</th>\n",
              "      <th>gender</th>\n",
              "      <th>registered_via</th>\n",
              "      <th>registration_init_time</th>\n",
              "      <th>expiration_date</th>\n",
              "      <th>age_group</th>\n",
              "      <th>song_length</th>\n",
              "      <th>genre_ids</th>\n",
              "      <th>artist_name</th>\n",
              "      <th>composer</th>\n",
              "      <th>lyricist</th>\n",
              "      <th>language</th>\n",
              "      <th>genre_ids_count</th>\n",
              "      <th>artist_name_count</th>\n",
              "      <th>composer_count</th>\n",
              "      <th>lyricist_count</th>\n",
              "      <th>isrc_country</th>\n",
              "      <th>isrc_year</th>\n",
              "    </tr>\n",
              "  </thead>\n",
              "  <tbody>\n",
              "    <tr>\n",
              "      <th>0</th>\n",
              "      <td>++5wYjoMgQHoRuD3GbbvmphZbBBwymzv5Q4l8sywtuU=</td>\n",
              "      <td>DZanD98cLDbuPBiXONSwLFSw8BfI69ErQS23vYJ9UU4=</td>\n",
              "      <td>my library</td>\n",
              "      <td>Local playlist more</td>\n",
              "      <td>local-library</td>\n",
              "      <td>1</td>\n",
              "      <td>13</td>\n",
              "      <td>male</td>\n",
              "      <td>9</td>\n",
              "      <td>2006-02-18</td>\n",
              "      <td>2017-10-21</td>\n",
              "      <td>normal</td>\n",
              "      <td>224235.0</td>\n",
              "      <td>465</td>\n",
              "      <td>南拳媽媽</td>\n",
              "      <td>周杰倫</td>\n",
              "      <td>宋健彰</td>\n",
              "      <td>3.0</td>\n",
              "      <td>1.0</td>\n",
              "      <td>1.0</td>\n",
              "      <td>1.0</td>\n",
              "      <td>1.0</td>\n",
              "      <td>Taiwan, Province of China</td>\n",
              "      <td>2008</td>\n",
              "    </tr>\n",
              "    <tr>\n",
              "      <th>1</th>\n",
              "      <td>++5wYjoMgQHoRuD3GbbvmphZbBBwymzv5Q4l8sywtuU=</td>\n",
              "      <td>E6Fm873UEDPv0LATidt2gKwBZZHww2Q04nxTg15N9iE=</td>\n",
              "      <td>my library</td>\n",
              "      <td>Local playlist more</td>\n",
              "      <td>local-library</td>\n",
              "      <td>1</td>\n",
              "      <td>13</td>\n",
              "      <td>male</td>\n",
              "      <td>9</td>\n",
              "      <td>2006-02-18</td>\n",
              "      <td>2017-10-21</td>\n",
              "      <td>normal</td>\n",
              "      <td>193410.0</td>\n",
              "      <td>465</td>\n",
              "      <td>張靚穎 (Jane Zhang)</td>\n",
              "      <td>張靚穎</td>\n",
              "      <td>沈松</td>\n",
              "      <td>3.0</td>\n",
              "      <td>1.0</td>\n",
              "      <td>1.0</td>\n",
              "      <td>1.0</td>\n",
              "      <td>1.0</td>\n",
              "      <td>-1</td>\n",
              "      <td>-1</td>\n",
              "    </tr>\n",
              "    <tr>\n",
              "      <th>2</th>\n",
              "      <td>++5wYjoMgQHoRuD3GbbvmphZbBBwymzv5Q4l8sywtuU=</td>\n",
              "      <td>0TZ4BKn9YES2upK9ZgKgsAUtUClVKHnct79pnA/iPiQ=</td>\n",
              "      <td>my library</td>\n",
              "      <td>Local playlist more</td>\n",
              "      <td>local-library</td>\n",
              "      <td>1</td>\n",
              "      <td>13</td>\n",
              "      <td>male</td>\n",
              "      <td>9</td>\n",
              "      <td>2006-02-18</td>\n",
              "      <td>2017-10-21</td>\n",
              "      <td>normal</td>\n",
              "      <td>187199.0</td>\n",
              "      <td>2022</td>\n",
              "      <td>Linkin Park</td>\n",
              "      <td>FILL_NAN</td>\n",
              "      <td>FILL_NAN</td>\n",
              "      <td>52.0</td>\n",
              "      <td>1.0</td>\n",
              "      <td>1.0</td>\n",
              "      <td>0.0</td>\n",
              "      <td>0.0</td>\n",
              "      <td>United States</td>\n",
              "      <td>2003</td>\n",
              "    </tr>\n",
              "    <tr>\n",
              "      <th>3</th>\n",
              "      <td>++5wYjoMgQHoRuD3GbbvmphZbBBwymzv5Q4l8sywtuU=</td>\n",
              "      <td>m2YSjnhR3nzx/2WccNYpGWywohyd8fT0xR+skQC9/JQ=</td>\n",
              "      <td>my library</td>\n",
              "      <td>Local playlist more</td>\n",
              "      <td>local-library</td>\n",
              "      <td>1</td>\n",
              "      <td>13</td>\n",
              "      <td>male</td>\n",
              "      <td>9</td>\n",
              "      <td>2006-02-18</td>\n",
              "      <td>2017-10-21</td>\n",
              "      <td>normal</td>\n",
              "      <td>205635.0</td>\n",
              "      <td>359</td>\n",
              "      <td>Linkin Park</td>\n",
              "      <td>FILL_NAN</td>\n",
              "      <td>FILL_NAN</td>\n",
              "      <td>52.0</td>\n",
              "      <td>1.0</td>\n",
              "      <td>1.0</td>\n",
              "      <td>0.0</td>\n",
              "      <td>0.0</td>\n",
              "      <td>United States</td>\n",
              "      <td>2007</td>\n",
              "    </tr>\n",
              "    <tr>\n",
              "      <th>4</th>\n",
              "      <td>++5wYjoMgQHoRuD3GbbvmphZbBBwymzv5Q4l8sywtuU=</td>\n",
              "      <td>cXpk2ZXiSgkwGo8iGbswBc0lzucL9AH+j/2khmnmOLI=</td>\n",
              "      <td>my library</td>\n",
              "      <td>Local playlist more</td>\n",
              "      <td>local-playlist</td>\n",
              "      <td>0</td>\n",
              "      <td>13</td>\n",
              "      <td>male</td>\n",
              "      <td>9</td>\n",
              "      <td>2006-02-18</td>\n",
              "      <td>2017-10-21</td>\n",
              "      <td>normal</td>\n",
              "      <td>262687.0</td>\n",
              "      <td>2022</td>\n",
              "      <td>Starset</td>\n",
              "      <td>FILL_NAN</td>\n",
              "      <td>FILL_NAN</td>\n",
              "      <td>52.0</td>\n",
              "      <td>1.0</td>\n",
              "      <td>1.0</td>\n",
              "      <td>0.0</td>\n",
              "      <td>0.0</td>\n",
              "      <td>United States</td>\n",
              "      <td>2014</td>\n",
              "    </tr>\n",
              "  </tbody>\n",
              "</table>\n",
              "</div>"
            ],
            "text/plain": [
              "                                           msno  ... isrc_year\n",
              "0  ++5wYjoMgQHoRuD3GbbvmphZbBBwymzv5Q4l8sywtuU=  ...      2008\n",
              "1  ++5wYjoMgQHoRuD3GbbvmphZbBBwymzv5Q4l8sywtuU=  ...        -1\n",
              "2  ++5wYjoMgQHoRuD3GbbvmphZbBBwymzv5Q4l8sywtuU=  ...      2003\n",
              "3  ++5wYjoMgQHoRuD3GbbvmphZbBBwymzv5Q4l8sywtuU=  ...      2007\n",
              "4  ++5wYjoMgQHoRuD3GbbvmphZbBBwymzv5Q4l8sywtuU=  ...      2014\n",
              "\n",
              "[5 rows x 24 columns]"
            ]
          },
          "metadata": {},
          "execution_count": 149
        }
      ]
    },
    {
      "cell_type": "code",
      "metadata": {
        "scrolled": true,
        "id": "9ccdaf3d",
        "colab": {
          "base_uri": "https://localhost:8080/"
        },
        "outputId": "ed5c5ec7-ad3e-4506-f992-49989d811a93"
      },
      "source": [
        "scores = model.cv_scores(TRAIN_DATASET, n_splits=5)"
      ],
      "id": "9ccdaf3d",
      "execution_count": 150,
      "outputs": [
        {
          "output_type": "stream",
          "name": "stdout",
          "text": [
            "Groupwise loss function. OneHotMaxSize set to 10\n",
            "0:\ttotal: 17.1ms\tremaining: 2.54s\n",
            "1:\ttotal: 31.7ms\tremaining: 2.34s\n",
            "2:\ttotal: 45.5ms\tremaining: 2.23s\n",
            "3:\ttotal: 60ms\tremaining: 2.19s\n",
            "4:\ttotal: 73.9ms\tremaining: 2.14s\n"
          ]
        },
        {
          "output_type": "stream",
          "name": "stderr",
          "text": [
            "Metric PFound is not implemented on GPU. Will use CPU for metric computation, this could significantly affect learning time\n",
            "Metric PFound is not implemented on GPU. Will use CPU for metric computation, this could significantly affect learning time\n"
          ]
        },
        {
          "output_type": "stream",
          "name": "stdout",
          "text": [
            "5:\ttotal: 105ms\tremaining: 2.52s\n",
            "6:\ttotal: 119ms\tremaining: 2.43s\n",
            "7:\ttotal: 133ms\tremaining: 2.36s\n",
            "8:\ttotal: 147ms\tremaining: 2.31s\n",
            "9:\ttotal: 168ms\tremaining: 2.35s\n",
            "10:\ttotal: 182ms\tremaining: 2.3s\n",
            "11:\ttotal: 196ms\tremaining: 2.25s\n",
            "12:\ttotal: 209ms\tremaining: 2.21s\n",
            "13:\ttotal: 225ms\tremaining: 2.18s\n",
            "14:\ttotal: 239ms\tremaining: 2.15s\n",
            "15:\ttotal: 253ms\tremaining: 2.12s\n",
            "16:\ttotal: 267ms\tremaining: 2.09s\n",
            "17:\ttotal: 281ms\tremaining: 2.06s\n",
            "18:\ttotal: 295ms\tremaining: 2.03s\n",
            "19:\ttotal: 316ms\tremaining: 2.05s\n",
            "20:\ttotal: 329ms\tremaining: 2.02s\n",
            "21:\ttotal: 343ms\tremaining: 1.99s\n",
            "22:\ttotal: 357ms\tremaining: 1.97s\n",
            "23:\ttotal: 373ms\tremaining: 1.96s\n",
            "24:\ttotal: 389ms\tremaining: 1.94s\n",
            "25:\ttotal: 403ms\tremaining: 1.92s\n",
            "26:\ttotal: 417ms\tremaining: 1.9s\n",
            "27:\ttotal: 431ms\tremaining: 1.88s\n",
            "28:\ttotal: 445ms\tremaining: 1.86s\n",
            "29:\ttotal: 468ms\tremaining: 1.87s\n",
            "30:\ttotal: 481ms\tremaining: 1.85s\n",
            "31:\ttotal: 496ms\tremaining: 1.83s\n",
            "32:\ttotal: 510ms\tremaining: 1.81s\n",
            "33:\ttotal: 531ms\tremaining: 1.81s\n",
            "34:\ttotal: 546ms\tremaining: 1.79s\n",
            "35:\ttotal: 561ms\tremaining: 1.78s\n",
            "36:\ttotal: 580ms\tremaining: 1.77s\n",
            "37:\ttotal: 594ms\tremaining: 1.75s\n",
            "38:\ttotal: 609ms\tremaining: 1.73s\n",
            "39:\ttotal: 624ms\tremaining: 1.71s\n",
            "40:\ttotal: 638ms\tremaining: 1.7s\n",
            "41:\ttotal: 653ms\tremaining: 1.68s\n",
            "42:\ttotal: 667ms\tremaining: 1.66s\n",
            "43:\ttotal: 681ms\tremaining: 1.64s\n",
            "44:\ttotal: 695ms\tremaining: 1.62s\n",
            "45:\ttotal: 709ms\tremaining: 1.6s\n",
            "46:\ttotal: 724ms\tremaining: 1.59s\n",
            "47:\ttotal: 743ms\tremaining: 1.58s\n",
            "48:\ttotal: 758ms\tremaining: 1.56s\n",
            "49:\ttotal: 772ms\tremaining: 1.54s\n",
            "50:\ttotal: 786ms\tremaining: 1.52s\n",
            "51:\ttotal: 809ms\tremaining: 1.52s\n",
            "52:\ttotal: 823ms\tremaining: 1.5s\n",
            "53:\ttotal: 837ms\tremaining: 1.49s\n",
            "54:\ttotal: 851ms\tremaining: 1.47s\n",
            "55:\ttotal: 865ms\tremaining: 1.45s\n",
            "56:\ttotal: 879ms\tremaining: 1.43s\n",
            "57:\ttotal: 893ms\tremaining: 1.42s\n",
            "58:\ttotal: 907ms\tremaining: 1.4s\n",
            "59:\ttotal: 928ms\tremaining: 1.39s\n",
            "60:\ttotal: 942ms\tremaining: 1.37s\n",
            "61:\ttotal: 956ms\tremaining: 1.36s\n",
            "62:\ttotal: 971ms\tremaining: 1.34s\n",
            "63:\ttotal: 986ms\tremaining: 1.32s\n",
            "64:\ttotal: 1s\tremaining: 1.31s\n",
            "65:\ttotal: 1.02s\tremaining: 1.29s\n",
            "66:\ttotal: 1.03s\tremaining: 1.28s\n",
            "67:\ttotal: 1.04s\tremaining: 1.26s\n",
            "68:\ttotal: 1.06s\tremaining: 1.24s\n",
            "69:\ttotal: 1.08s\tremaining: 1.24s\n",
            "70:\ttotal: 1.1s\tremaining: 1.22s\n",
            "71:\ttotal: 1.11s\tremaining: 1.2s\n",
            "72:\ttotal: 1.13s\tremaining: 1.19s\n",
            "73:\ttotal: 1.15s\tremaining: 1.18s\n",
            "74:\ttotal: 1.16s\tremaining: 1.16s\n",
            "75:\ttotal: 1.17s\tremaining: 1.14s\n",
            "76:\ttotal: 1.19s\tremaining: 1.13s\n",
            "77:\ttotal: 1.2s\tremaining: 1.11s\n",
            "78:\ttotal: 1.22s\tremaining: 1.09s\n",
            "79:\ttotal: 1.23s\tremaining: 1.08s\n",
            "80:\ttotal: 1.25s\tremaining: 1.06s\n",
            "81:\ttotal: 1.26s\tremaining: 1.04s\n",
            "82:\ttotal: 1.27s\tremaining: 1.03s\n",
            "83:\ttotal: 1.29s\tremaining: 1.01s\n",
            "84:\ttotal: 1.3s\tremaining: 996ms\n",
            "85:\ttotal: 1.32s\tremaining: 980ms\n",
            "86:\ttotal: 1.33s\tremaining: 967ms\n",
            "87:\ttotal: 1.35s\tremaining: 953ms\n",
            "88:\ttotal: 1.37s\tremaining: 937ms\n",
            "89:\ttotal: 1.38s\tremaining: 921ms\n",
            "90:\ttotal: 1.4s\tremaining: 905ms\n",
            "91:\ttotal: 1.41s\tremaining: 889ms\n",
            "92:\ttotal: 1.42s\tremaining: 873ms\n",
            "93:\ttotal: 1.44s\tremaining: 857ms\n",
            "94:\ttotal: 1.45s\tremaining: 841ms\n",
            "95:\ttotal: 1.47s\tremaining: 828ms\n",
            "96:\ttotal: 1.49s\tremaining: 812ms\n",
            "97:\ttotal: 1.5s\tremaining: 795ms\n",
            "98:\ttotal: 1.51s\tremaining: 779ms\n",
            "99:\ttotal: 1.53s\tremaining: 763ms\n",
            "100:\ttotal: 1.55s\tremaining: 751ms\n",
            "101:\ttotal: 1.56s\tremaining: 735ms\n",
            "102:\ttotal: 1.58s\tremaining: 719ms\n",
            "103:\ttotal: 1.59s\tremaining: 703ms\n",
            "104:\ttotal: 1.6s\tremaining: 687ms\n",
            "105:\ttotal: 1.62s\tremaining: 671ms\n",
            "106:\ttotal: 1.64s\tremaining: 659ms\n",
            "107:\ttotal: 1.65s\tremaining: 643ms\n",
            "108:\ttotal: 1.67s\tremaining: 627ms\n",
            "109:\ttotal: 1.68s\tremaining: 611ms\n",
            "110:\ttotal: 1.69s\tremaining: 595ms\n",
            "111:\ttotal: 1.71s\tremaining: 580ms\n",
            "112:\ttotal: 1.72s\tremaining: 564ms\n",
            "113:\ttotal: 1.74s\tremaining: 548ms\n",
            "114:\ttotal: 1.76s\tremaining: 535ms\n",
            "115:\ttotal: 1.77s\tremaining: 519ms\n",
            "116:\ttotal: 1.78s\tremaining: 504ms\n",
            "117:\ttotal: 1.8s\tremaining: 488ms\n",
            "118:\ttotal: 1.81s\tremaining: 472ms\n",
            "119:\ttotal: 1.83s\tremaining: 457ms\n",
            "120:\ttotal: 1.84s\tremaining: 441ms\n",
            "121:\ttotal: 1.86s\tremaining: 426ms\n",
            "122:\ttotal: 1.87s\tremaining: 411ms\n",
            "123:\ttotal: 1.88s\tremaining: 395ms\n",
            "124:\ttotal: 1.9s\tremaining: 380ms\n",
            "125:\ttotal: 1.91s\tremaining: 364ms\n",
            "126:\ttotal: 1.93s\tremaining: 349ms\n",
            "127:\ttotal: 1.94s\tremaining: 334ms\n",
            "128:\ttotal: 1.97s\tremaining: 320ms\n",
            "129:\ttotal: 1.98s\tremaining: 305ms\n",
            "130:\ttotal: 1.99s\tremaining: 289ms\n",
            "131:\ttotal: 2.01s\tremaining: 274ms\n",
            "132:\ttotal: 2.02s\tremaining: 259ms\n",
            "133:\ttotal: 2.04s\tremaining: 243ms\n",
            "134:\ttotal: 2.05s\tremaining: 228ms\n",
            "135:\ttotal: 2.08s\tremaining: 214ms\n",
            "136:\ttotal: 2.1s\tremaining: 199ms\n",
            "137:\ttotal: 2.12s\tremaining: 184ms\n",
            "138:\ttotal: 2.13s\tremaining: 169ms\n",
            "139:\ttotal: 2.14s\tremaining: 153ms\n",
            "140:\ttotal: 2.16s\tremaining: 138ms\n",
            "141:\ttotal: 2.18s\tremaining: 123ms\n",
            "142:\ttotal: 2.19s\tremaining: 107ms\n",
            "143:\ttotal: 2.21s\tremaining: 92.1ms\n",
            "144:\ttotal: 2.22s\tremaining: 76.6ms\n",
            "145:\ttotal: 2.24s\tremaining: 61.3ms\n",
            "146:\ttotal: 2.25s\tremaining: 45.9ms\n",
            "147:\ttotal: 2.26s\tremaining: 30.6ms\n",
            "148:\ttotal: 2.28s\tremaining: 15.3ms\n",
            "149:\ttotal: 2.29s\tremaining: 0us\n",
            "Groupwise loss function. OneHotMaxSize set to 10\n",
            "0:\ttotal: 15.8ms\tremaining: 2.36s\n",
            "1:\ttotal: 30.3ms\tremaining: 2.24s\n",
            "2:\ttotal: 44.6ms\tremaining: 2.18s\n",
            "3:\ttotal: 59.2ms\tremaining: 2.16s\n",
            "4:\ttotal: 73.7ms\tremaining: 2.14s\n"
          ]
        },
        {
          "output_type": "stream",
          "name": "stderr",
          "text": [
            "Metric PFound is not implemented on GPU. Will use CPU for metric computation, this could significantly affect learning time\n",
            "Metric PFound is not implemented on GPU. Will use CPU for metric computation, this could significantly affect learning time\n"
          ]
        },
        {
          "output_type": "stream",
          "name": "stdout",
          "text": [
            "5:\ttotal: 96.7ms\tremaining: 2.32s\n",
            "6:\ttotal: 111ms\tremaining: 2.27s\n",
            "7:\ttotal: 126ms\tremaining: 2.23s\n",
            "8:\ttotal: 140ms\tremaining: 2.19s\n",
            "9:\ttotal: 161ms\tremaining: 2.25s\n",
            "10:\ttotal: 175ms\tremaining: 2.22s\n",
            "11:\ttotal: 190ms\tremaining: 2.18s\n",
            "12:\ttotal: 204ms\tremaining: 2.15s\n",
            "13:\ttotal: 218ms\tremaining: 2.12s\n",
            "14:\ttotal: 247ms\tremaining: 2.22s\n",
            "15:\ttotal: 262ms\tremaining: 2.19s\n",
            "16:\ttotal: 277ms\tremaining: 2.16s\n",
            "17:\ttotal: 291ms\tremaining: 2.13s\n",
            "18:\ttotal: 310ms\tremaining: 2.14s\n",
            "19:\ttotal: 324ms\tremaining: 2.11s\n",
            "20:\ttotal: 339ms\tremaining: 2.08s\n",
            "21:\ttotal: 358ms\tremaining: 2.08s\n",
            "22:\ttotal: 373ms\tremaining: 2.06s\n",
            "23:\ttotal: 388ms\tremaining: 2.04s\n",
            "24:\ttotal: 402ms\tremaining: 2.01s\n",
            "25:\ttotal: 417ms\tremaining: 1.99s\n",
            "26:\ttotal: 431ms\tremaining: 1.96s\n",
            "27:\ttotal: 446ms\tremaining: 1.94s\n",
            "28:\ttotal: 460ms\tremaining: 1.92s\n",
            "29:\ttotal: 474ms\tremaining: 1.9s\n",
            "30:\ttotal: 489ms\tremaining: 1.88s\n",
            "31:\ttotal: 503ms\tremaining: 1.85s\n",
            "32:\ttotal: 532ms\tremaining: 1.89s\n",
            "33:\ttotal: 548ms\tremaining: 1.87s\n",
            "34:\ttotal: 562ms\tremaining: 1.85s\n",
            "35:\ttotal: 577ms\tremaining: 1.82s\n",
            "36:\ttotal: 591ms\tremaining: 1.8s\n",
            "37:\ttotal: 606ms\tremaining: 1.78s\n",
            "38:\ttotal: 620ms\tremaining: 1.76s\n",
            "39:\ttotal: 635ms\tremaining: 1.75s\n",
            "40:\ttotal: 649ms\tremaining: 1.73s\n",
            "41:\ttotal: 665ms\tremaining: 1.71s\n",
            "42:\ttotal: 680ms\tremaining: 1.69s\n",
            "43:\ttotal: 694ms\tremaining: 1.67s\n",
            "44:\ttotal: 714ms\tremaining: 1.67s\n",
            "45:\ttotal: 728ms\tremaining: 1.65s\n",
            "46:\ttotal: 743ms\tremaining: 1.63s\n",
            "47:\ttotal: 764ms\tremaining: 1.62s\n",
            "48:\ttotal: 779ms\tremaining: 1.6s\n",
            "49:\ttotal: 793ms\tremaining: 1.59s\n",
            "50:\ttotal: 808ms\tremaining: 1.57s\n",
            "51:\ttotal: 823ms\tremaining: 1.55s\n",
            "52:\ttotal: 837ms\tremaining: 1.53s\n",
            "53:\ttotal: 851ms\tremaining: 1.51s\n",
            "54:\ttotal: 866ms\tremaining: 1.5s\n",
            "55:\ttotal: 880ms\tremaining: 1.48s\n",
            "56:\ttotal: 894ms\tremaining: 1.46s\n",
            "57:\ttotal: 909ms\tremaining: 1.44s\n",
            "58:\ttotal: 924ms\tremaining: 1.42s\n",
            "59:\ttotal: 946ms\tremaining: 1.42s\n",
            "60:\ttotal: 961ms\tremaining: 1.4s\n",
            "61:\ttotal: 978ms\tremaining: 1.39s\n",
            "62:\ttotal: 992ms\tremaining: 1.37s\n",
            "63:\ttotal: 1.01s\tremaining: 1.35s\n",
            "64:\ttotal: 1.02s\tremaining: 1.33s\n",
            "65:\ttotal: 1.03s\tremaining: 1.32s\n",
            "66:\ttotal: 1.05s\tremaining: 1.3s\n",
            "67:\ttotal: 1.07s\tremaining: 1.28s\n",
            "68:\ttotal: 1.08s\tremaining: 1.27s\n",
            "69:\ttotal: 1.09s\tremaining: 1.25s\n",
            "70:\ttotal: 1.11s\tremaining: 1.23s\n",
            "71:\ttotal: 1.12s\tremaining: 1.22s\n",
            "72:\ttotal: 1.14s\tremaining: 1.2s\n",
            "73:\ttotal: 1.15s\tremaining: 1.18s\n",
            "74:\ttotal: 1.17s\tremaining: 1.17s\n",
            "75:\ttotal: 1.19s\tremaining: 1.16s\n",
            "76:\ttotal: 1.21s\tremaining: 1.14s\n",
            "77:\ttotal: 1.23s\tremaining: 1.14s\n",
            "78:\ttotal: 1.25s\tremaining: 1.12s\n",
            "79:\ttotal: 1.26s\tremaining: 1.1s\n",
            "80:\ttotal: 1.27s\tremaining: 1.08s\n",
            "81:\ttotal: 1.29s\tremaining: 1.07s\n",
            "82:\ttotal: 1.3s\tremaining: 1.05s\n",
            "83:\ttotal: 1.32s\tremaining: 1.03s\n",
            "84:\ttotal: 1.33s\tremaining: 1.02s\n",
            "85:\ttotal: 1.35s\tremaining: 1.01s\n",
            "86:\ttotal: 1.37s\tremaining: 993ms\n",
            "87:\ttotal: 1.39s\tremaining: 977ms\n",
            "88:\ttotal: 1.4s\tremaining: 960ms\n",
            "89:\ttotal: 1.42s\tremaining: 944ms\n",
            "90:\ttotal: 1.43s\tremaining: 927ms\n",
            "91:\ttotal: 1.44s\tremaining: 911ms\n",
            "92:\ttotal: 1.46s\tremaining: 894ms\n",
            "93:\ttotal: 1.47s\tremaining: 878ms\n",
            "94:\ttotal: 1.49s\tremaining: 862ms\n",
            "95:\ttotal: 1.52s\tremaining: 854ms\n",
            "96:\ttotal: 1.53s\tremaining: 838ms\n",
            "97:\ttotal: 1.56s\tremaining: 826ms\n",
            "98:\ttotal: 1.57s\tremaining: 809ms\n",
            "99:\ttotal: 1.59s\tremaining: 793ms\n",
            "100:\ttotal: 1.6s\tremaining: 777ms\n",
            "101:\ttotal: 1.61s\tremaining: 760ms\n",
            "102:\ttotal: 1.63s\tremaining: 744ms\n",
            "103:\ttotal: 1.65s\tremaining: 728ms\n",
            "104:\ttotal: 1.66s\tremaining: 712ms\n",
            "105:\ttotal: 1.67s\tremaining: 695ms\n",
            "106:\ttotal: 1.69s\tremaining: 679ms\n",
            "107:\ttotal: 1.7s\tremaining: 663ms\n",
            "108:\ttotal: 1.72s\tremaining: 646ms\n",
            "109:\ttotal: 1.73s\tremaining: 630ms\n",
            "110:\ttotal: 1.75s\tremaining: 614ms\n",
            "111:\ttotal: 1.77s\tremaining: 601ms\n",
            "112:\ttotal: 1.78s\tremaining: 585ms\n",
            "113:\ttotal: 1.8s\tremaining: 568ms\n",
            "114:\ttotal: 1.81s\tremaining: 552ms\n",
            "115:\ttotal: 1.83s\tremaining: 536ms\n",
            "116:\ttotal: 1.84s\tremaining: 520ms\n",
            "117:\ttotal: 1.86s\tremaining: 504ms\n",
            "118:\ttotal: 1.87s\tremaining: 488ms\n",
            "119:\ttotal: 1.89s\tremaining: 472ms\n",
            "120:\ttotal: 1.9s\tremaining: 456ms\n",
            "121:\ttotal: 1.92s\tremaining: 441ms\n",
            "122:\ttotal: 1.94s\tremaining: 425ms\n",
            "123:\ttotal: 1.95s\tremaining: 409ms\n",
            "124:\ttotal: 1.97s\tremaining: 394ms\n",
            "125:\ttotal: 1.99s\tremaining: 378ms\n",
            "126:\ttotal: 2s\tremaining: 362ms\n",
            "127:\ttotal: 2.02s\tremaining: 346ms\n",
            "128:\ttotal: 2.03s\tremaining: 331ms\n",
            "129:\ttotal: 2.04s\tremaining: 315ms\n",
            "130:\ttotal: 2.06s\tremaining: 299ms\n",
            "131:\ttotal: 2.07s\tremaining: 283ms\n",
            "132:\ttotal: 2.09s\tremaining: 267ms\n",
            "133:\ttotal: 2.1s\tremaining: 251ms\n",
            "134:\ttotal: 2.12s\tremaining: 235ms\n",
            "135:\ttotal: 2.13s\tremaining: 219ms\n",
            "136:\ttotal: 2.15s\tremaining: 204ms\n",
            "137:\ttotal: 2.16s\tremaining: 188ms\n",
            "138:\ttotal: 2.19s\tremaining: 173ms\n",
            "139:\ttotal: 2.21s\tremaining: 158ms\n",
            "140:\ttotal: 2.23s\tremaining: 142ms\n",
            "141:\ttotal: 2.24s\tremaining: 126ms\n",
            "142:\ttotal: 2.26s\tremaining: 111ms\n",
            "143:\ttotal: 2.27s\tremaining: 94.7ms\n",
            "144:\ttotal: 2.29s\tremaining: 78.9ms\n",
            "145:\ttotal: 2.3s\tremaining: 63.1ms\n",
            "146:\ttotal: 2.32s\tremaining: 47.3ms\n",
            "147:\ttotal: 2.33s\tremaining: 31.5ms\n",
            "148:\ttotal: 2.35s\tremaining: 15.8ms\n",
            "149:\ttotal: 2.36s\tremaining: 0us\n",
            "Groupwise loss function. OneHotMaxSize set to 10\n",
            "0:\ttotal: 11.8ms\tremaining: 1.76s\n",
            "1:\ttotal: 22.7ms\tremaining: 1.68s\n",
            "2:\ttotal: 33.8ms\tremaining: 1.66s\n",
            "3:\ttotal: 44.2ms\tremaining: 1.61s\n",
            "4:\ttotal: 55.1ms\tremaining: 1.6s\n",
            "5:\ttotal: 65.9ms\tremaining: 1.58s\n",
            "6:\ttotal: 76.8ms\tremaining: 1.57s\n",
            "7:\ttotal: 87.2ms\tremaining: 1.55s\n"
          ]
        },
        {
          "output_type": "stream",
          "name": "stderr",
          "text": [
            "Metric PFound is not implemented on GPU. Will use CPU for metric computation, this could significantly affect learning time\n",
            "Metric PFound is not implemented on GPU. Will use CPU for metric computation, this could significantly affect learning time\n"
          ]
        },
        {
          "output_type": "stream",
          "name": "stdout",
          "text": [
            "8:\ttotal: 99.2ms\tremaining: 1.55s\n",
            "9:\ttotal: 110ms\tremaining: 1.54s\n",
            "10:\ttotal: 121ms\tremaining: 1.53s\n",
            "11:\ttotal: 136ms\tremaining: 1.57s\n",
            "12:\ttotal: 148ms\tremaining: 1.55s\n",
            "13:\ttotal: 159ms\tremaining: 1.55s\n",
            "14:\ttotal: 171ms\tremaining: 1.54s\n",
            "15:\ttotal: 182ms\tremaining: 1.53s\n",
            "16:\ttotal: 194ms\tremaining: 1.51s\n",
            "17:\ttotal: 205ms\tremaining: 1.5s\n",
            "18:\ttotal: 216ms\tremaining: 1.49s\n",
            "19:\ttotal: 226ms\tremaining: 1.47s\n",
            "20:\ttotal: 237ms\tremaining: 1.46s\n",
            "21:\ttotal: 249ms\tremaining: 1.45s\n",
            "22:\ttotal: 259ms\tremaining: 1.43s\n",
            "23:\ttotal: 270ms\tremaining: 1.42s\n",
            "24:\ttotal: 281ms\tremaining: 1.4s\n",
            "25:\ttotal: 294ms\tremaining: 1.4s\n",
            "26:\ttotal: 305ms\tremaining: 1.39s\n",
            "27:\ttotal: 315ms\tremaining: 1.37s\n",
            "28:\ttotal: 327ms\tremaining: 1.36s\n",
            "29:\ttotal: 337ms\tremaining: 1.35s\n",
            "30:\ttotal: 348ms\tremaining: 1.33s\n",
            "31:\ttotal: 370ms\tremaining: 1.36s\n",
            "32:\ttotal: 381ms\tremaining: 1.35s\n",
            "33:\ttotal: 393ms\tremaining: 1.34s\n",
            "34:\ttotal: 404ms\tremaining: 1.33s\n",
            "35:\ttotal: 421ms\tremaining: 1.33s\n",
            "36:\ttotal: 432ms\tremaining: 1.32s\n",
            "37:\ttotal: 443ms\tremaining: 1.31s\n",
            "38:\ttotal: 455ms\tremaining: 1.29s\n",
            "39:\ttotal: 466ms\tremaining: 1.28s\n",
            "40:\ttotal: 477ms\tremaining: 1.27s\n",
            "41:\ttotal: 501ms\tremaining: 1.29s\n",
            "42:\ttotal: 512ms\tremaining: 1.27s\n",
            "43:\ttotal: 523ms\tremaining: 1.26s\n",
            "44:\ttotal: 534ms\tremaining: 1.25s\n",
            "45:\ttotal: 546ms\tremaining: 1.23s\n",
            "46:\ttotal: 557ms\tremaining: 1.22s\n",
            "47:\ttotal: 568ms\tremaining: 1.21s\n",
            "48:\ttotal: 578ms\tremaining: 1.19s\n",
            "49:\ttotal: 590ms\tremaining: 1.18s\n",
            "50:\ttotal: 600ms\tremaining: 1.17s\n",
            "51:\ttotal: 611ms\tremaining: 1.15s\n",
            "52:\ttotal: 622ms\tremaining: 1.14s\n",
            "53:\ttotal: 642ms\tremaining: 1.14s\n",
            "54:\ttotal: 652ms\tremaining: 1.13s\n",
            "55:\ttotal: 664ms\tremaining: 1.11s\n",
            "56:\ttotal: 675ms\tremaining: 1.1s\n",
            "57:\ttotal: 685ms\tremaining: 1.09s\n",
            "58:\ttotal: 696ms\tremaining: 1.07s\n",
            "59:\ttotal: 707ms\tremaining: 1.06s\n",
            "60:\ttotal: 717ms\tremaining: 1.05s\n",
            "61:\ttotal: 734ms\tremaining: 1.04s\n",
            "62:\ttotal: 746ms\tremaining: 1.03s\n",
            "63:\ttotal: 757ms\tremaining: 1.02s\n",
            "64:\ttotal: 768ms\tremaining: 1s\n",
            "65:\ttotal: 778ms\tremaining: 991ms\n",
            "66:\ttotal: 789ms\tremaining: 977ms\n",
            "67:\ttotal: 800ms\tremaining: 964ms\n",
            "68:\ttotal: 810ms\tremaining: 951ms\n",
            "69:\ttotal: 821ms\tremaining: 938ms\n",
            "70:\ttotal: 832ms\tremaining: 925ms\n",
            "71:\ttotal: 848ms\tremaining: 918ms\n",
            "72:\ttotal: 858ms\tremaining: 905ms\n",
            "73:\ttotal: 869ms\tremaining: 893ms\n",
            "74:\ttotal: 880ms\tremaining: 880ms\n",
            "75:\ttotal: 890ms\tremaining: 867ms\n",
            "76:\ttotal: 902ms\tremaining: 855ms\n",
            "77:\ttotal: 913ms\tremaining: 843ms\n",
            "78:\ttotal: 924ms\tremaining: 830ms\n",
            "79:\ttotal: 935ms\tremaining: 818ms\n",
            "80:\ttotal: 946ms\tremaining: 806ms\n",
            "81:\ttotal: 957ms\tremaining: 793ms\n",
            "82:\ttotal: 967ms\tremaining: 781ms\n",
            "83:\ttotal: 979ms\tremaining: 769ms\n",
            "84:\ttotal: 990ms\tremaining: 757ms\n",
            "85:\ttotal: 1s\tremaining: 745ms\n",
            "86:\ttotal: 1.01s\tremaining: 732ms\n",
            "87:\ttotal: 1.02s\tremaining: 722ms\n",
            "88:\ttotal: 1.03s\tremaining: 710ms\n",
            "89:\ttotal: 1.05s\tremaining: 698ms\n",
            "90:\ttotal: 1.06s\tremaining: 685ms\n",
            "91:\ttotal: 1.07s\tremaining: 673ms\n",
            "92:\ttotal: 1.08s\tremaining: 661ms\n",
            "93:\ttotal: 1.1s\tremaining: 653ms\n",
            "94:\ttotal: 1.11s\tremaining: 641ms\n",
            "95:\ttotal: 1.12s\tremaining: 629ms\n",
            "96:\ttotal: 1.13s\tremaining: 617ms\n",
            "97:\ttotal: 1.14s\tremaining: 605ms\n",
            "98:\ttotal: 1.15s\tremaining: 592ms\n",
            "99:\ttotal: 1.16s\tremaining: 580ms\n",
            "100:\ttotal: 1.17s\tremaining: 568ms\n",
            "101:\ttotal: 1.18s\tremaining: 556ms\n",
            "102:\ttotal: 1.19s\tremaining: 545ms\n",
            "103:\ttotal: 1.2s\tremaining: 533ms\n",
            "104:\ttotal: 1.21s\tremaining: 521ms\n",
            "105:\ttotal: 1.23s\tremaining: 509ms\n",
            "106:\ttotal: 1.24s\tremaining: 498ms\n",
            "107:\ttotal: 1.25s\tremaining: 486ms\n",
            "108:\ttotal: 1.26s\tremaining: 475ms\n",
            "109:\ttotal: 1.27s\tremaining: 463ms\n",
            "110:\ttotal: 1.28s\tremaining: 451ms\n",
            "111:\ttotal: 1.3s\tremaining: 442ms\n",
            "112:\ttotal: 1.31s\tremaining: 430ms\n",
            "113:\ttotal: 1.33s\tremaining: 420ms\n",
            "114:\ttotal: 1.34s\tremaining: 410ms\n",
            "115:\ttotal: 1.36s\tremaining: 398ms\n",
            "116:\ttotal: 1.37s\tremaining: 386ms\n",
            "117:\ttotal: 1.38s\tremaining: 374ms\n",
            "118:\ttotal: 1.39s\tremaining: 362ms\n",
            "119:\ttotal: 1.4s\tremaining: 350ms\n",
            "120:\ttotal: 1.41s\tremaining: 338ms\n",
            "121:\ttotal: 1.43s\tremaining: 328ms\n",
            "122:\ttotal: 1.44s\tremaining: 317ms\n",
            "123:\ttotal: 1.45s\tremaining: 305ms\n",
            "124:\ttotal: 1.46s\tremaining: 293ms\n",
            "125:\ttotal: 1.47s\tremaining: 281ms\n",
            "126:\ttotal: 1.49s\tremaining: 269ms\n",
            "127:\ttotal: 1.5s\tremaining: 257ms\n",
            "128:\ttotal: 1.51s\tremaining: 245ms\n",
            "129:\ttotal: 1.52s\tremaining: 234ms\n",
            "130:\ttotal: 1.53s\tremaining: 222ms\n",
            "131:\ttotal: 1.54s\tremaining: 210ms\n",
            "132:\ttotal: 1.55s\tremaining: 198ms\n",
            "133:\ttotal: 1.56s\tremaining: 186ms\n",
            "134:\ttotal: 1.57s\tremaining: 175ms\n",
            "135:\ttotal: 1.59s\tremaining: 163ms\n",
            "136:\ttotal: 1.61s\tremaining: 153ms\n",
            "137:\ttotal: 1.62s\tremaining: 141ms\n",
            "138:\ttotal: 1.63s\tremaining: 129ms\n",
            "139:\ttotal: 1.64s\tremaining: 117ms\n",
            "140:\ttotal: 1.65s\tremaining: 105ms\n",
            "141:\ttotal: 1.66s\tremaining: 93.6ms\n",
            "142:\ttotal: 1.67s\tremaining: 81.8ms\n",
            "143:\ttotal: 1.68s\tremaining: 70.1ms\n",
            "144:\ttotal: 1.7s\tremaining: 58.5ms\n",
            "145:\ttotal: 1.71s\tremaining: 46.9ms\n",
            "146:\ttotal: 1.72s\tremaining: 35.2ms\n",
            "147:\ttotal: 1.73s\tremaining: 23.4ms\n",
            "148:\ttotal: 1.74s\tremaining: 11.7ms\n",
            "149:\ttotal: 1.75s\tremaining: 0us\n",
            "Groupwise loss function. OneHotMaxSize set to 10\n",
            "0:\ttotal: 15.4ms\tremaining: 2.3s\n",
            "1:\ttotal: 30ms\tremaining: 2.22s\n",
            "2:\ttotal: 44.6ms\tremaining: 2.18s\n",
            "3:\ttotal: 59.5ms\tremaining: 2.17s\n",
            "4:\ttotal: 73.7ms\tremaining: 2.14s\n"
          ]
        },
        {
          "output_type": "stream",
          "name": "stderr",
          "text": [
            "Metric PFound is not implemented on GPU. Will use CPU for metric computation, this could significantly affect learning time\n",
            "Metric PFound is not implemented on GPU. Will use CPU for metric computation, this could significantly affect learning time\n"
          ]
        },
        {
          "output_type": "stream",
          "name": "stdout",
          "text": [
            "5:\ttotal: 95.7ms\tremaining: 2.3s\n",
            "6:\ttotal: 110ms\tremaining: 2.25s\n",
            "7:\ttotal: 125ms\tremaining: 2.21s\n",
            "8:\ttotal: 139ms\tremaining: 2.18s\n",
            "9:\ttotal: 160ms\tremaining: 2.24s\n",
            "10:\ttotal: 174ms\tremaining: 2.2s\n",
            "11:\ttotal: 196ms\tremaining: 2.26s\n",
            "12:\ttotal: 211ms\tremaining: 2.22s\n",
            "13:\ttotal: 225ms\tremaining: 2.19s\n",
            "14:\ttotal: 240ms\tremaining: 2.16s\n",
            "15:\ttotal: 257ms\tremaining: 2.15s\n",
            "16:\ttotal: 271ms\tremaining: 2.12s\n",
            "17:\ttotal: 285ms\tremaining: 2.09s\n",
            "18:\ttotal: 307ms\tremaining: 2.12s\n",
            "19:\ttotal: 321ms\tremaining: 2.09s\n",
            "20:\ttotal: 337ms\tremaining: 2.07s\n",
            "21:\ttotal: 351ms\tremaining: 2.04s\n",
            "22:\ttotal: 365ms\tremaining: 2.01s\n",
            "23:\ttotal: 382ms\tremaining: 2s\n",
            "24:\ttotal: 396ms\tremaining: 1.98s\n",
            "25:\ttotal: 411ms\tremaining: 1.96s\n",
            "26:\ttotal: 425ms\tremaining: 1.94s\n",
            "27:\ttotal: 440ms\tremaining: 1.92s\n",
            "28:\ttotal: 454ms\tremaining: 1.89s\n",
            "29:\ttotal: 484ms\tremaining: 1.94s\n",
            "30:\ttotal: 499ms\tremaining: 1.91s\n",
            "31:\ttotal: 524ms\tremaining: 1.93s\n",
            "32:\ttotal: 539ms\tremaining: 1.91s\n",
            "33:\ttotal: 554ms\tremaining: 1.89s\n",
            "34:\ttotal: 569ms\tremaining: 1.87s\n",
            "35:\ttotal: 585ms\tremaining: 1.85s\n",
            "36:\ttotal: 600ms\tremaining: 1.83s\n",
            "37:\ttotal: 615ms\tremaining: 1.81s\n",
            "38:\ttotal: 629ms\tremaining: 1.79s\n",
            "39:\ttotal: 644ms\tremaining: 1.77s\n",
            "40:\ttotal: 658ms\tremaining: 1.75s\n",
            "41:\ttotal: 673ms\tremaining: 1.73s\n",
            "42:\ttotal: 687ms\tremaining: 1.71s\n",
            "43:\ttotal: 702ms\tremaining: 1.69s\n",
            "44:\ttotal: 716ms\tremaining: 1.67s\n",
            "45:\ttotal: 738ms\tremaining: 1.67s\n",
            "46:\ttotal: 752ms\tremaining: 1.65s\n",
            "47:\ttotal: 767ms\tremaining: 1.63s\n",
            "48:\ttotal: 781ms\tremaining: 1.61s\n",
            "49:\ttotal: 796ms\tremaining: 1.59s\n",
            "50:\ttotal: 810ms\tremaining: 1.57s\n",
            "51:\ttotal: 824ms\tremaining: 1.55s\n",
            "52:\ttotal: 839ms\tremaining: 1.53s\n",
            "53:\ttotal: 856ms\tremaining: 1.52s\n",
            "54:\ttotal: 871ms\tremaining: 1.5s\n",
            "55:\ttotal: 885ms\tremaining: 1.49s\n",
            "56:\ttotal: 900ms\tremaining: 1.47s\n",
            "57:\ttotal: 915ms\tremaining: 1.45s\n",
            "58:\ttotal: 929ms\tremaining: 1.43s\n",
            "59:\ttotal: 950ms\tremaining: 1.43s\n",
            "60:\ttotal: 965ms\tremaining: 1.41s\n",
            "61:\ttotal: 980ms\tremaining: 1.39s\n",
            "62:\ttotal: 998ms\tremaining: 1.38s\n",
            "63:\ttotal: 1.01s\tremaining: 1.36s\n",
            "64:\ttotal: 1.03s\tremaining: 1.34s\n",
            "65:\ttotal: 1.04s\tremaining: 1.32s\n",
            "66:\ttotal: 1.05s\tremaining: 1.31s\n",
            "67:\ttotal: 1.07s\tremaining: 1.29s\n",
            "68:\ttotal: 1.08s\tremaining: 1.27s\n",
            "69:\ttotal: 1.1s\tremaining: 1.25s\n",
            "70:\ttotal: 1.11s\tremaining: 1.24s\n",
            "71:\ttotal: 1.13s\tremaining: 1.22s\n",
            "72:\ttotal: 1.14s\tremaining: 1.2s\n",
            "73:\ttotal: 1.17s\tremaining: 1.2s\n",
            "74:\ttotal: 1.2s\tremaining: 1.2s\n",
            "75:\ttotal: 1.21s\tremaining: 1.18s\n",
            "76:\ttotal: 1.23s\tremaining: 1.16s\n",
            "77:\ttotal: 1.24s\tremaining: 1.15s\n",
            "78:\ttotal: 1.26s\tremaining: 1.13s\n",
            "79:\ttotal: 1.27s\tremaining: 1.11s\n",
            "80:\ttotal: 1.28s\tremaining: 1.09s\n",
            "81:\ttotal: 1.3s\tremaining: 1.08s\n",
            "82:\ttotal: 1.31s\tremaining: 1.06s\n",
            "83:\ttotal: 1.33s\tremaining: 1.04s\n",
            "84:\ttotal: 1.34s\tremaining: 1.03s\n",
            "85:\ttotal: 1.36s\tremaining: 1.01s\n",
            "86:\ttotal: 1.38s\tremaining: 1s\n",
            "87:\ttotal: 1.4s\tremaining: 986ms\n",
            "88:\ttotal: 1.41s\tremaining: 969ms\n",
            "89:\ttotal: 1.43s\tremaining: 952ms\n",
            "90:\ttotal: 1.44s\tremaining: 935ms\n",
            "91:\ttotal: 1.47s\tremaining: 927ms\n",
            "92:\ttotal: 1.48s\tremaining: 910ms\n",
            "93:\ttotal: 1.5s\tremaining: 893ms\n",
            "94:\ttotal: 1.51s\tremaining: 876ms\n",
            "95:\ttotal: 1.53s\tremaining: 860ms\n",
            "96:\ttotal: 1.54s\tremaining: 843ms\n",
            "97:\ttotal: 1.56s\tremaining: 826ms\n",
            "98:\ttotal: 1.57s\tremaining: 811ms\n",
            "99:\ttotal: 1.6s\tremaining: 799ms\n",
            "100:\ttotal: 1.61s\tremaining: 782ms\n",
            "101:\ttotal: 1.63s\tremaining: 766ms\n",
            "102:\ttotal: 1.64s\tremaining: 749ms\n",
            "103:\ttotal: 1.66s\tremaining: 733ms\n",
            "104:\ttotal: 1.67s\tremaining: 716ms\n",
            "105:\ttotal: 1.68s\tremaining: 699ms\n",
            "106:\ttotal: 1.7s\tremaining: 682ms\n",
            "107:\ttotal: 1.71s\tremaining: 666ms\n",
            "108:\ttotal: 1.73s\tremaining: 649ms\n",
            "109:\ttotal: 1.74s\tremaining: 633ms\n",
            "110:\ttotal: 1.75s\tremaining: 617ms\n",
            "111:\ttotal: 1.77s\tremaining: 600ms\n",
            "112:\ttotal: 1.79s\tremaining: 585ms\n",
            "113:\ttotal: 1.81s\tremaining: 571ms\n",
            "114:\ttotal: 1.82s\tremaining: 555ms\n",
            "115:\ttotal: 1.84s\tremaining: 539ms\n",
            "116:\ttotal: 1.86s\tremaining: 525ms\n",
            "117:\ttotal: 1.87s\tremaining: 508ms\n",
            "118:\ttotal: 1.89s\tremaining: 492ms\n",
            "119:\ttotal: 1.9s\tremaining: 476ms\n",
            "120:\ttotal: 1.92s\tremaining: 459ms\n",
            "121:\ttotal: 1.93s\tremaining: 444ms\n",
            "122:\ttotal: 1.95s\tremaining: 428ms\n",
            "123:\ttotal: 1.96s\tremaining: 412ms\n",
            "124:\ttotal: 1.98s\tremaining: 395ms\n",
            "125:\ttotal: 2s\tremaining: 381ms\n",
            "126:\ttotal: 2.01s\tremaining: 364ms\n",
            "127:\ttotal: 2.02s\tremaining: 348ms\n",
            "128:\ttotal: 2.04s\tremaining: 332ms\n",
            "129:\ttotal: 2.05s\tremaining: 316ms\n",
            "130:\ttotal: 2.07s\tremaining: 300ms\n",
            "131:\ttotal: 2.08s\tremaining: 284ms\n",
            "132:\ttotal: 2.1s\tremaining: 268ms\n",
            "133:\ttotal: 2.12s\tremaining: 253ms\n",
            "134:\ttotal: 2.13s\tremaining: 237ms\n",
            "135:\ttotal: 2.15s\tremaining: 221ms\n",
            "136:\ttotal: 2.17s\tremaining: 206ms\n",
            "137:\ttotal: 2.19s\tremaining: 190ms\n",
            "138:\ttotal: 2.21s\tremaining: 175ms\n",
            "139:\ttotal: 2.23s\tremaining: 159ms\n",
            "140:\ttotal: 2.24s\tremaining: 143ms\n",
            "141:\ttotal: 2.25s\tremaining: 127ms\n",
            "142:\ttotal: 2.27s\tremaining: 111ms\n",
            "143:\ttotal: 2.28s\tremaining: 95.2ms\n",
            "144:\ttotal: 2.3s\tremaining: 79.2ms\n",
            "145:\ttotal: 2.31s\tremaining: 63.3ms\n",
            "146:\ttotal: 2.33s\tremaining: 47.5ms\n",
            "147:\ttotal: 2.34s\tremaining: 31.6ms\n",
            "148:\ttotal: 2.35s\tremaining: 15.8ms\n",
            "149:\ttotal: 2.37s\tremaining: 0us\n",
            "Groupwise loss function. OneHotMaxSize set to 10\n",
            "0:\ttotal: 12ms\tremaining: 1.79s\n",
            "1:\ttotal: 22.8ms\tremaining: 1.69s\n",
            "2:\ttotal: 33.4ms\tremaining: 1.64s\n",
            "3:\ttotal: 44.3ms\tremaining: 1.61s\n",
            "4:\ttotal: 54.8ms\tremaining: 1.59s\n",
            "5:\ttotal: 65.4ms\tremaining: 1.57s\n",
            "6:\ttotal: 76.1ms\tremaining: 1.55s\n",
            "7:\ttotal: 86.8ms\tremaining: 1.54s\n"
          ]
        },
        {
          "output_type": "stream",
          "name": "stderr",
          "text": [
            "Metric PFound is not implemented on GPU. Will use CPU for metric computation, this could significantly affect learning time\n",
            "Metric PFound is not implemented on GPU. Will use CPU for metric computation, this could significantly affect learning time\n"
          ]
        },
        {
          "output_type": "stream",
          "name": "stdout",
          "text": [
            "8:\ttotal: 106ms\tremaining: 1.66s\n",
            "9:\ttotal: 117ms\tremaining: 1.63s\n",
            "10:\ttotal: 127ms\tremaining: 1.61s\n",
            "11:\ttotal: 138ms\tremaining: 1.59s\n",
            "12:\ttotal: 149ms\tremaining: 1.57s\n",
            "13:\ttotal: 166ms\tremaining: 1.62s\n",
            "14:\ttotal: 177ms\tremaining: 1.6s\n",
            "15:\ttotal: 188ms\tremaining: 1.58s\n",
            "16:\ttotal: 199ms\tremaining: 1.56s\n",
            "17:\ttotal: 210ms\tremaining: 1.54s\n",
            "18:\ttotal: 221ms\tremaining: 1.52s\n",
            "19:\ttotal: 232ms\tremaining: 1.51s\n",
            "20:\ttotal: 243ms\tremaining: 1.49s\n",
            "21:\ttotal: 253ms\tremaining: 1.47s\n",
            "22:\ttotal: 265ms\tremaining: 1.46s\n",
            "23:\ttotal: 276ms\tremaining: 1.45s\n",
            "24:\ttotal: 287ms\tremaining: 1.43s\n",
            "25:\ttotal: 297ms\tremaining: 1.42s\n",
            "26:\ttotal: 318ms\tremaining: 1.45s\n",
            "27:\ttotal: 329ms\tremaining: 1.43s\n",
            "28:\ttotal: 340ms\tremaining: 1.42s\n",
            "29:\ttotal: 351ms\tremaining: 1.41s\n",
            "30:\ttotal: 362ms\tremaining: 1.39s\n",
            "31:\ttotal: 373ms\tremaining: 1.38s\n",
            "32:\ttotal: 384ms\tremaining: 1.36s\n",
            "33:\ttotal: 395ms\tremaining: 1.35s\n",
            "34:\ttotal: 405ms\tremaining: 1.33s\n",
            "35:\ttotal: 423ms\tremaining: 1.34s\n",
            "36:\ttotal: 446ms\tremaining: 1.36s\n",
            "37:\ttotal: 457ms\tremaining: 1.35s\n",
            "38:\ttotal: 468ms\tremaining: 1.33s\n",
            "39:\ttotal: 481ms\tremaining: 1.32s\n",
            "40:\ttotal: 492ms\tremaining: 1.31s\n",
            "41:\ttotal: 503ms\tremaining: 1.29s\n",
            "42:\ttotal: 530ms\tremaining: 1.32s\n",
            "43:\ttotal: 542ms\tremaining: 1.3s\n",
            "44:\ttotal: 553ms\tremaining: 1.29s\n",
            "45:\ttotal: 571ms\tremaining: 1.29s\n",
            "46:\ttotal: 582ms\tremaining: 1.27s\n",
            "47:\ttotal: 593ms\tremaining: 1.26s\n",
            "48:\ttotal: 603ms\tremaining: 1.24s\n",
            "49:\ttotal: 614ms\tremaining: 1.23s\n",
            "50:\ttotal: 625ms\tremaining: 1.21s\n",
            "51:\ttotal: 636ms\tremaining: 1.2s\n",
            "52:\ttotal: 646ms\tremaining: 1.18s\n",
            "53:\ttotal: 657ms\tremaining: 1.17s\n",
            "54:\ttotal: 668ms\tremaining: 1.15s\n",
            "55:\ttotal: 679ms\tremaining: 1.14s\n",
            "56:\ttotal: 689ms\tremaining: 1.12s\n",
            "57:\ttotal: 700ms\tremaining: 1.11s\n",
            "58:\ttotal: 710ms\tremaining: 1.09s\n",
            "59:\ttotal: 721ms\tremaining: 1.08s\n",
            "60:\ttotal: 732ms\tremaining: 1.07s\n",
            "61:\ttotal: 742ms\tremaining: 1.05s\n",
            "62:\ttotal: 753ms\tremaining: 1.04s\n",
            "63:\ttotal: 764ms\tremaining: 1.03s\n",
            "64:\ttotal: 775ms\tremaining: 1.01s\n",
            "65:\ttotal: 786ms\tremaining: 1s\n",
            "66:\ttotal: 797ms\tremaining: 987ms\n",
            "67:\ttotal: 807ms\tremaining: 974ms\n",
            "68:\ttotal: 818ms\tremaining: 960ms\n",
            "69:\ttotal: 829ms\tremaining: 947ms\n",
            "70:\ttotal: 840ms\tremaining: 934ms\n",
            "71:\ttotal: 850ms\tremaining: 921ms\n",
            "72:\ttotal: 861ms\tremaining: 908ms\n",
            "73:\ttotal: 871ms\tremaining: 895ms\n",
            "74:\ttotal: 882ms\tremaining: 882ms\n",
            "75:\ttotal: 893ms\tremaining: 869ms\n",
            "76:\ttotal: 904ms\tremaining: 857ms\n",
            "77:\ttotal: 914ms\tremaining: 844ms\n",
            "78:\ttotal: 932ms\tremaining: 838ms\n",
            "79:\ttotal: 942ms\tremaining: 825ms\n",
            "80:\ttotal: 953ms\tremaining: 812ms\n",
            "81:\ttotal: 964ms\tremaining: 799ms\n",
            "82:\ttotal: 975ms\tremaining: 787ms\n",
            "83:\ttotal: 985ms\tremaining: 774ms\n",
            "84:\ttotal: 996ms\tremaining: 761ms\n",
            "85:\ttotal: 1.01s\tremaining: 749ms\n",
            "86:\ttotal: 1.02s\tremaining: 736ms\n",
            "87:\ttotal: 1.03s\tremaining: 724ms\n",
            "88:\ttotal: 1.04s\tremaining: 712ms\n",
            "89:\ttotal: 1.05s\tremaining: 703ms\n",
            "90:\ttotal: 1.06s\tremaining: 691ms\n",
            "91:\ttotal: 1.08s\tremaining: 678ms\n",
            "92:\ttotal: 1.09s\tremaining: 666ms\n",
            "93:\ttotal: 1.1s\tremaining: 654ms\n",
            "94:\ttotal: 1.11s\tremaining: 642ms\n",
            "95:\ttotal: 1.12s\tremaining: 629ms\n",
            "96:\ttotal: 1.14s\tremaining: 624ms\n",
            "97:\ttotal: 1.15s\tremaining: 612ms\n",
            "98:\ttotal: 1.16s\tremaining: 599ms\n",
            "99:\ttotal: 1.17s\tremaining: 587ms\n",
            "100:\ttotal: 1.19s\tremaining: 575ms\n",
            "101:\ttotal: 1.2s\tremaining: 563ms\n",
            "102:\ttotal: 1.21s\tremaining: 551ms\n",
            "103:\ttotal: 1.22s\tremaining: 538ms\n",
            "104:\ttotal: 1.23s\tremaining: 526ms\n",
            "105:\ttotal: 1.24s\tremaining: 514ms\n",
            "106:\ttotal: 1.25s\tremaining: 502ms\n",
            "107:\ttotal: 1.26s\tremaining: 490ms\n",
            "108:\ttotal: 1.27s\tremaining: 478ms\n",
            "109:\ttotal: 1.28s\tremaining: 466ms\n",
            "110:\ttotal: 1.29s\tremaining: 454ms\n",
            "111:\ttotal: 1.3s\tremaining: 442ms\n",
            "112:\ttotal: 1.31s\tremaining: 430ms\n",
            "113:\ttotal: 1.32s\tremaining: 419ms\n",
            "114:\ttotal: 1.34s\tremaining: 407ms\n",
            "115:\ttotal: 1.35s\tremaining: 395ms\n",
            "116:\ttotal: 1.36s\tremaining: 383ms\n",
            "117:\ttotal: 1.37s\tremaining: 371ms\n",
            "118:\ttotal: 1.4s\tremaining: 366ms\n",
            "119:\ttotal: 1.41s\tremaining: 354ms\n",
            "120:\ttotal: 1.43s\tremaining: 342ms\n",
            "121:\ttotal: 1.44s\tremaining: 330ms\n",
            "122:\ttotal: 1.45s\tremaining: 318ms\n",
            "123:\ttotal: 1.46s\tremaining: 306ms\n",
            "124:\ttotal: 1.47s\tremaining: 294ms\n",
            "125:\ttotal: 1.48s\tremaining: 282ms\n",
            "126:\ttotal: 1.49s\tremaining: 270ms\n",
            "127:\ttotal: 1.5s\tremaining: 259ms\n",
            "128:\ttotal: 1.51s\tremaining: 247ms\n",
            "129:\ttotal: 1.53s\tremaining: 235ms\n",
            "130:\ttotal: 1.54s\tremaining: 224ms\n",
            "131:\ttotal: 1.56s\tremaining: 212ms\n",
            "132:\ttotal: 1.58s\tremaining: 202ms\n",
            "133:\ttotal: 1.59s\tremaining: 190ms\n",
            "134:\ttotal: 1.6s\tremaining: 178ms\n",
            "135:\ttotal: 1.62s\tremaining: 166ms\n",
            "136:\ttotal: 1.63s\tremaining: 154ms\n",
            "137:\ttotal: 1.64s\tremaining: 142ms\n",
            "138:\ttotal: 1.65s\tremaining: 131ms\n",
            "139:\ttotal: 1.66s\tremaining: 119ms\n",
            "140:\ttotal: 1.67s\tremaining: 107ms\n",
            "141:\ttotal: 1.68s\tremaining: 94.8ms\n",
            "142:\ttotal: 1.69s\tremaining: 82.9ms\n",
            "143:\ttotal: 1.7s\tremaining: 71ms\n",
            "144:\ttotal: 1.72s\tremaining: 59.2ms\n",
            "145:\ttotal: 1.73s\tremaining: 47.3ms\n",
            "146:\ttotal: 1.74s\tremaining: 35.4ms\n",
            "147:\ttotal: 1.76s\tremaining: 23.7ms\n",
            "148:\ttotal: 1.77s\tremaining: 11.9ms\n",
            "149:\ttotal: 1.78s\tremaining: 0us\n"
          ]
        }
      ]
    },
    {
      "cell_type": "code",
      "metadata": {
        "id": "bdeefad6",
        "colab": {
          "base_uri": "https://localhost:8080/"
        },
        "outputId": "57a5e60d-8940-4da6-e2b6-bb696bad41cf"
      },
      "source": [
        "scores"
      ],
      "id": "bdeefad6",
      "execution_count": 151,
      "outputs": [
        {
          "output_type": "execute_result",
          "data": {
            "text/plain": [
              "{'ROC_AUC': [0.5321118900470436,\n",
              "  0.47216985366729514,\n",
              "  0.5335115131578947,\n",
              "  0.6291666666666668,\n",
              "  0.0]}"
            ]
          },
          "metadata": {},
          "execution_count": 151
        }
      ]
    },
    {
      "cell_type": "code",
      "metadata": {
        "colab": {
          "base_uri": "https://localhost:8080/"
        },
        "id": "ajeqOj2yox_r",
        "outputId": "a66e0b47-5338-42c6-beab-e49aacb5a15f"
      },
      "source": [
        "np.mean(scores['ROC_AUC'])"
      ],
      "id": "ajeqOj2yox_r",
      "execution_count": 152,
      "outputs": [
        {
          "output_type": "execute_result",
          "data": {
            "text/plain": [
              "0.43339198470778006"
            ]
          },
          "metadata": {},
          "execution_count": 152
        }
      ]
    }
  ]
}
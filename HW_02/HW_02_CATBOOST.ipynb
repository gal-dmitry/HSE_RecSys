{
 "cells": [
  {
   "cell_type": "code",
   "execution_count": 2,
   "id": "7e8078ef",
   "metadata": {},
   "outputs": [],
   "source": [
    "%load_ext autoreload\n",
    "%autoreload 2"
   ]
  },
  {
   "cell_type": "code",
   "execution_count": 3,
   "id": "b9a2f06c",
   "metadata": {},
   "outputs": [],
   "source": [
    "import sys\n",
    "sys.path.append(\"utils\")\n",
    "from data_processing import *"
   ]
  },
  {
   "cell_type": "code",
   "execution_count": 4,
   "id": "d6e01aa3",
   "metadata": {},
   "outputs": [],
   "source": [
    "from train_utils import TrainDataset, CatBoostModel"
   ]
  },
  {
   "cell_type": "code",
   "execution_count": 5,
   "id": "058e1e9e",
   "metadata": {},
   "outputs": [
    {
     "ename": "NameError",
     "evalue": "name '_extended_train_df' is not defined",
     "output_type": "error",
     "traceback": [
      "\u001b[0;31m---------------------------------------------------------------------------\u001b[0m",
      "\u001b[0;31mNameError\u001b[0m                                 Traceback (most recent call last)",
      "\u001b[0;32m/tmp/ipykernel_21403/616588456.py\u001b[0m in \u001b[0;36m<module>\u001b[0;34m\u001b[0m\n\u001b[1;32m      3\u001b[0m \u001b[0;34m\u001b[0m\u001b[0m\n\u001b[1;32m      4\u001b[0m \u001b[0;31m# TRAIN_DATASET = TrainDataset(_extended_train_df[:1000])\u001b[0m\u001b[0;34m\u001b[0m\u001b[0;34m\u001b[0m\u001b[0;34m\u001b[0m\u001b[0m\n\u001b[0;32m----> 5\u001b[0;31m \u001b[0mTRAIN_DATASET\u001b[0m \u001b[0;34m=\u001b[0m \u001b[0mTrainDataset\u001b[0m\u001b[0;34m(\u001b[0m\u001b[0m_extended_train_df\u001b[0m\u001b[0;34m)\u001b[0m\u001b[0;34m\u001b[0m\u001b[0;34m\u001b[0m\u001b[0m\n\u001b[0m\u001b[1;32m      6\u001b[0m \u001b[0mTRAIN_DATASET\u001b[0m\u001b[0;34m.\u001b[0m\u001b[0m_df\u001b[0m\u001b[0;34m.\u001b[0m\u001b[0mhead\u001b[0m\u001b[0;34m(\u001b[0m\u001b[0;34m)\u001b[0m\u001b[0;34m\u001b[0m\u001b[0;34m\u001b[0m\u001b[0m\n",
      "\u001b[0;31mNameError\u001b[0m: name '_extended_train_df' is not defined"
     ]
    }
   ],
   "source": [
    "random_state = 42\n",
    "model = CatBoostModel(\"YetiRank\", 150, \"CPU\", random_state)\n",
    "\n",
    "# TRAIN_DATASET = TrainDataset(_extended_train_df[:1000])\n",
    "TRAIN_DATASET = TrainDataset(_extended_train_df)\n",
    "TRAIN_DATASET._df.head()"
   ]
  },
  {
   "cell_type": "code",
   "execution_count": null,
   "id": "f847ba5c",
   "metadata": {},
   "outputs": [],
   "source": []
  }
 ],
 "metadata": {
  "kernelspec": {
   "display_name": "Python 3 (ipykernel)",
   "language": "python",
   "name": "python3"
  },
  "language_info": {
   "codemirror_mode": {
    "name": "ipython",
    "version": 3
   },
   "file_extension": ".py",
   "mimetype": "text/x-python",
   "name": "python",
   "nbconvert_exporter": "python",
   "pygments_lexer": "ipython3",
   "version": "3.8.11"
  }
 },
 "nbformat": 4,
 "nbformat_minor": 5
}

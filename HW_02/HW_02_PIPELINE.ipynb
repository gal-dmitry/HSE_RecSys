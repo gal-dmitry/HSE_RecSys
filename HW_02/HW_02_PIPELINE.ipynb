{
  "cells": [
    {
      "cell_type": "markdown",
      "metadata": {
        "id": "view-in-github",
        "colab_type": "text"
      },
      "source": [
        "<a href=\"https://colab.research.google.com/github/gal-dmitry/HSE_RecSys/blob/master/HW_02/HW_02_PIPELINE.ipynb\" target=\"_parent\"><img src=\"https://colab.research.google.com/assets/colab-badge.svg\" alt=\"Open In Colab\"/></a>"
      ]
    },
    {
      "cell_type": "code",
      "source": [
        "!pip install catboost==1.0.3\n",
        "!pip install gensim==4.1.0\n",
        "!pip install --upgrade numpy"
      ],
      "metadata": {
        "colab": {
          "base_uri": "https://localhost:8080/",
          "height": 870
        },
        "id": "Xu1ULV-tXIAc",
        "outputId": "a40ec776-9ac2-455f-e277-8216e0a74c9a"
      },
      "id": "Xu1ULV-tXIAc",
      "execution_count": 1,
      "outputs": [
        {
          "output_type": "stream",
          "name": "stdout",
          "text": [
            "Collecting catboost==1.0.3\n",
            "  Downloading catboost-1.0.3-cp37-none-manylinux1_x86_64.whl (76.3 MB)\n",
            "\u001b[K     |████████████████████████████████| 76.3 MB 1.3 MB/s \n",
            "\u001b[?25hRequirement already satisfied: matplotlib in /usr/local/lib/python3.7/dist-packages (from catboost==1.0.3) (3.2.2)\n",
            "Requirement already satisfied: plotly in /usr/local/lib/python3.7/dist-packages (from catboost==1.0.3) (4.4.1)\n",
            "Requirement already satisfied: graphviz in /usr/local/lib/python3.7/dist-packages (from catboost==1.0.3) (0.10.1)\n",
            "Requirement already satisfied: six in /usr/local/lib/python3.7/dist-packages (from catboost==1.0.3) (1.15.0)\n",
            "Requirement already satisfied: numpy>=1.16.0 in /usr/local/lib/python3.7/dist-packages (from catboost==1.0.3) (1.19.5)\n",
            "Requirement already satisfied: scipy in /usr/local/lib/python3.7/dist-packages (from catboost==1.0.3) (1.4.1)\n",
            "Requirement already satisfied: pandas>=0.24.0 in /usr/local/lib/python3.7/dist-packages (from catboost==1.0.3) (1.1.5)\n",
            "Requirement already satisfied: python-dateutil>=2.7.3 in /usr/local/lib/python3.7/dist-packages (from pandas>=0.24.0->catboost==1.0.3) (2.8.2)\n",
            "Requirement already satisfied: pytz>=2017.2 in /usr/local/lib/python3.7/dist-packages (from pandas>=0.24.0->catboost==1.0.3) (2018.9)\n",
            "Requirement already satisfied: cycler>=0.10 in /usr/local/lib/python3.7/dist-packages (from matplotlib->catboost==1.0.3) (0.11.0)\n",
            "Requirement already satisfied: pyparsing!=2.0.4,!=2.1.2,!=2.1.6,>=2.0.1 in /usr/local/lib/python3.7/dist-packages (from matplotlib->catboost==1.0.3) (3.0.6)\n",
            "Requirement already satisfied: kiwisolver>=1.0.1 in /usr/local/lib/python3.7/dist-packages (from matplotlib->catboost==1.0.3) (1.3.2)\n",
            "Requirement already satisfied: retrying>=1.3.3 in /usr/local/lib/python3.7/dist-packages (from plotly->catboost==1.0.3) (1.3.3)\n",
            "Installing collected packages: catboost\n",
            "Successfully installed catboost-1.0.3\n",
            "Collecting gensim==4.1.0\n",
            "  Downloading gensim-4.1.0-cp37-cp37m-manylinux_2_12_x86_64.manylinux2010_x86_64.whl (24.0 MB)\n",
            "\u001b[K     |████████████████████████████████| 24.0 MB 1.7 MB/s \n",
            "\u001b[?25hRequirement already satisfied: numpy>=1.17.0 in /usr/local/lib/python3.7/dist-packages (from gensim==4.1.0) (1.19.5)\n",
            "Requirement already satisfied: scipy>=0.18.1 in /usr/local/lib/python3.7/dist-packages (from gensim==4.1.0) (1.4.1)\n",
            "Requirement already satisfied: smart-open>=1.8.1 in /usr/local/lib/python3.7/dist-packages (from gensim==4.1.0) (5.2.1)\n",
            "Installing collected packages: gensim\n",
            "  Attempting uninstall: gensim\n",
            "    Found existing installation: gensim 3.6.0\n",
            "    Uninstalling gensim-3.6.0:\n",
            "      Successfully uninstalled gensim-3.6.0\n",
            "Successfully installed gensim-4.1.0\n",
            "Requirement already satisfied: numpy in /usr/local/lib/python3.7/dist-packages (1.19.5)\n",
            "Collecting numpy\n",
            "  Downloading numpy-1.21.4-cp37-cp37m-manylinux_2_12_x86_64.manylinux2010_x86_64.whl (15.7 MB)\n",
            "\u001b[K     |████████████████████████████████| 15.7 MB 4.1 MB/s \n",
            "\u001b[?25hInstalling collected packages: numpy\n",
            "  Attempting uninstall: numpy\n",
            "    Found existing installation: numpy 1.19.5\n",
            "    Uninstalling numpy-1.19.5:\n",
            "      Successfully uninstalled numpy-1.19.5\n",
            "\u001b[31mERROR: pip's dependency resolver does not currently take into account all the packages that are installed. This behaviour is the source of the following dependency conflicts.\n",
            "yellowbrick 1.3.post1 requires numpy<1.20,>=1.16.0, but you have numpy 1.21.4 which is incompatible.\n",
            "datascience 0.10.6 requires folium==0.2.1, but you have folium 0.8.3 which is incompatible.\n",
            "albumentations 0.1.12 requires imgaug<0.2.7,>=0.2.5, but you have imgaug 0.2.9 which is incompatible.\u001b[0m\n",
            "Successfully installed numpy-1.21.4\n"
          ]
        },
        {
          "output_type": "display_data",
          "data": {
            "application/vnd.colab-display-data+json": {
              "pip_warning": {
                "packages": [
                  "numpy"
                ]
              }
            }
          },
          "metadata": {}
        }
      ]
    },
    {
      "cell_type": "code",
      "source": [
        "!pip install shap"
      ],
      "metadata": {
        "colab": {
          "base_uri": "https://localhost:8080/"
        },
        "id": "P8_6IIwGhZxB",
        "outputId": "564a9f2d-9471-496d-ccdc-e9c4b22d13cf"
      },
      "id": "P8_6IIwGhZxB",
      "execution_count": 1,
      "outputs": [
        {
          "output_type": "stream",
          "name": "stdout",
          "text": [
            "Collecting shap\n",
            "  Downloading shap-0.40.0-cp37-cp37m-manylinux2010_x86_64.whl (564 kB)\n",
            "\u001b[?25l\r\u001b[K     |▋                               | 10 kB 23.2 MB/s eta 0:00:01\r\u001b[K     |█▏                              | 20 kB 26.5 MB/s eta 0:00:01\r\u001b[K     |█▊                              | 30 kB 12.0 MB/s eta 0:00:01\r\u001b[K     |██▎                             | 40 kB 9.5 MB/s eta 0:00:01\r\u001b[K     |███                             | 51 kB 4.1 MB/s eta 0:00:01\r\u001b[K     |███▌                            | 61 kB 4.5 MB/s eta 0:00:01\r\u001b[K     |████                            | 71 kB 4.1 MB/s eta 0:00:01\r\u001b[K     |████▋                           | 81 kB 4.6 MB/s eta 0:00:01\r\u001b[K     |█████▏                          | 92 kB 4.7 MB/s eta 0:00:01\r\u001b[K     |█████▉                          | 102 kB 4.0 MB/s eta 0:00:01\r\u001b[K     |██████▍                         | 112 kB 4.0 MB/s eta 0:00:01\r\u001b[K     |███████                         | 122 kB 4.0 MB/s eta 0:00:01\r\u001b[K     |███████▌                        | 133 kB 4.0 MB/s eta 0:00:01\r\u001b[K     |████████▏                       | 143 kB 4.0 MB/s eta 0:00:01\r\u001b[K     |████████▊                       | 153 kB 4.0 MB/s eta 0:00:01\r\u001b[K     |█████████▎                      | 163 kB 4.0 MB/s eta 0:00:01\r\u001b[K     |█████████▉                      | 174 kB 4.0 MB/s eta 0:00:01\r\u001b[K     |██████████▍                     | 184 kB 4.0 MB/s eta 0:00:01\r\u001b[K     |███████████                     | 194 kB 4.0 MB/s eta 0:00:01\r\u001b[K     |███████████▋                    | 204 kB 4.0 MB/s eta 0:00:01\r\u001b[K     |████████████▏                   | 215 kB 4.0 MB/s eta 0:00:01\r\u001b[K     |████████████▊                   | 225 kB 4.0 MB/s eta 0:00:01\r\u001b[K     |█████████████▍                  | 235 kB 4.0 MB/s eta 0:00:01\r\u001b[K     |██████████████                  | 245 kB 4.0 MB/s eta 0:00:01\r\u001b[K     |██████████████▌                 | 256 kB 4.0 MB/s eta 0:00:01\r\u001b[K     |███████████████                 | 266 kB 4.0 MB/s eta 0:00:01\r\u001b[K     |███████████████▋                | 276 kB 4.0 MB/s eta 0:00:01\r\u001b[K     |████████████████▎               | 286 kB 4.0 MB/s eta 0:00:01\r\u001b[K     |████████████████▉               | 296 kB 4.0 MB/s eta 0:00:01\r\u001b[K     |█████████████████▍              | 307 kB 4.0 MB/s eta 0:00:01\r\u001b[K     |██████████████████              | 317 kB 4.0 MB/s eta 0:00:01\r\u001b[K     |██████████████████▋             | 327 kB 4.0 MB/s eta 0:00:01\r\u001b[K     |███████████████████▏            | 337 kB 4.0 MB/s eta 0:00:01\r\u001b[K     |███████████████████▊            | 348 kB 4.0 MB/s eta 0:00:01\r\u001b[K     |████████████████████▎           | 358 kB 4.0 MB/s eta 0:00:01\r\u001b[K     |████████████████████▉           | 368 kB 4.0 MB/s eta 0:00:01\r\u001b[K     |█████████████████████▌          | 378 kB 4.0 MB/s eta 0:00:01\r\u001b[K     |██████████████████████          | 389 kB 4.0 MB/s eta 0:00:01\r\u001b[K     |██████████████████████▋         | 399 kB 4.0 MB/s eta 0:00:01\r\u001b[K     |███████████████████████▏        | 409 kB 4.0 MB/s eta 0:00:01\r\u001b[K     |███████████████████████▉        | 419 kB 4.0 MB/s eta 0:00:01\r\u001b[K     |████████████████████████▍       | 430 kB 4.0 MB/s eta 0:00:01\r\u001b[K     |█████████████████████████       | 440 kB 4.0 MB/s eta 0:00:01\r\u001b[K     |█████████████████████████▌      | 450 kB 4.0 MB/s eta 0:00:01\r\u001b[K     |██████████████████████████      | 460 kB 4.0 MB/s eta 0:00:01\r\u001b[K     |██████████████████████████▊     | 471 kB 4.0 MB/s eta 0:00:01\r\u001b[K     |███████████████████████████▎    | 481 kB 4.0 MB/s eta 0:00:01\r\u001b[K     |███████████████████████████▉    | 491 kB 4.0 MB/s eta 0:00:01\r\u001b[K     |████████████████████████████▍   | 501 kB 4.0 MB/s eta 0:00:01\r\u001b[K     |█████████████████████████████   | 512 kB 4.0 MB/s eta 0:00:01\r\u001b[K     |█████████████████████████████▋  | 522 kB 4.0 MB/s eta 0:00:01\r\u001b[K     |██████████████████████████████▏ | 532 kB 4.0 MB/s eta 0:00:01\r\u001b[K     |██████████████████████████████▊ | 542 kB 4.0 MB/s eta 0:00:01\r\u001b[K     |███████████████████████████████▎| 552 kB 4.0 MB/s eta 0:00:01\r\u001b[K     |████████████████████████████████| 563 kB 4.0 MB/s eta 0:00:01\r\u001b[K     |████████████████████████████████| 564 kB 4.0 MB/s \n",
            "\u001b[?25hRequirement already satisfied: pandas in /usr/local/lib/python3.7/dist-packages (from shap) (1.1.5)\n",
            "Requirement already satisfied: numba in /usr/local/lib/python3.7/dist-packages (from shap) (0.51.2)\n",
            "Collecting slicer==0.0.7\n",
            "  Downloading slicer-0.0.7-py3-none-any.whl (14 kB)\n",
            "Requirement already satisfied: packaging>20.9 in /usr/local/lib/python3.7/dist-packages (from shap) (21.3)\n",
            "Requirement already satisfied: tqdm>4.25.0 in /usr/local/lib/python3.7/dist-packages (from shap) (4.62.3)\n",
            "Requirement already satisfied: scipy in /usr/local/lib/python3.7/dist-packages (from shap) (1.4.1)\n",
            "Requirement already satisfied: numpy in /usr/local/lib/python3.7/dist-packages (from shap) (1.21.4)\n",
            "Requirement already satisfied: scikit-learn in /usr/local/lib/python3.7/dist-packages (from shap) (1.0.1)\n",
            "Requirement already satisfied: cloudpickle in /usr/local/lib/python3.7/dist-packages (from shap) (1.3.0)\n",
            "Requirement already satisfied: pyparsing!=3.0.5,>=2.0.2 in /usr/local/lib/python3.7/dist-packages (from packaging>20.9->shap) (3.0.6)\n",
            "Requirement already satisfied: llvmlite<0.35,>=0.34.0.dev0 in /usr/local/lib/python3.7/dist-packages (from numba->shap) (0.34.0)\n",
            "Requirement already satisfied: setuptools in /usr/local/lib/python3.7/dist-packages (from numba->shap) (57.4.0)\n",
            "Requirement already satisfied: python-dateutil>=2.7.3 in /usr/local/lib/python3.7/dist-packages (from pandas->shap) (2.8.2)\n",
            "Requirement already satisfied: pytz>=2017.2 in /usr/local/lib/python3.7/dist-packages (from pandas->shap) (2018.9)\n",
            "Requirement already satisfied: six>=1.5 in /usr/local/lib/python3.7/dist-packages (from python-dateutil>=2.7.3->pandas->shap) (1.15.0)\n",
            "Requirement already satisfied: threadpoolctl>=2.0.0 in /usr/local/lib/python3.7/dist-packages (from scikit-learn->shap) (3.0.0)\n",
            "Requirement already satisfied: joblib>=0.11 in /usr/local/lib/python3.7/dist-packages (from scikit-learn->shap) (1.1.0)\n",
            "Installing collected packages: slicer, shap\n",
            "Successfully installed shap-0.40.0 slicer-0.0.7\n"
          ]
        }
      ]
    },
    {
      "cell_type": "code",
      "source": [
        "!wget https://voudy-data.s3.eu-north-1.amazonaws.com/wsdm_data.tar.gz\n",
        "!tar -xf /content/wsdm_data.tar.gz"
      ],
      "metadata": {
        "colab": {
          "base_uri": "https://localhost:8080/"
        },
        "id": "ALmRINVkXFqL",
        "outputId": "e0f4b71e-4e4e-4224-bedd-166cc15a271e"
      },
      "id": "ALmRINVkXFqL",
      "execution_count": 2,
      "outputs": [
        {
          "output_type": "stream",
          "name": "stdout",
          "text": [
            "--2021-12-12 12:41:48--  https://voudy-data.s3.eu-north-1.amazonaws.com/wsdm_data.tar.gz\n",
            "Resolving voudy-data.s3.eu-north-1.amazonaws.com (voudy-data.s3.eu-north-1.amazonaws.com)... 52.95.171.72\n",
            "Connecting to voudy-data.s3.eu-north-1.amazonaws.com (voudy-data.s3.eu-north-1.amazonaws.com)|52.95.171.72|:443... connected.\n",
            "HTTP request sent, awaiting response... 200 OK\n",
            "Length: 613394184 (585M) [application/x-gzip]\n",
            "Saving to: ‘wsdm_data.tar.gz’\n",
            "\n",
            "wsdm_data.tar.gz    100%[===================>] 584.98M  11.0MB/s    in 56s     \n",
            "\n",
            "2021-12-12 12:42:45 (10.5 MB/s) - ‘wsdm_data.tar.gz’ saved [613394184/613394184]\n",
            "\n"
          ]
        }
      ]
    },
    {
      "cell_type": "code",
      "source": [
        "from google.colab import files\n",
        "files.upload()\n",
        "files.upload()"
      ],
      "metadata": {
        "colab": {
          "resources": {
            "http://localhost:8080/nbextensions/google.colab/files.js": {
              "data": "Ly8gQ29weXJpZ2h0IDIwMTcgR29vZ2xlIExMQwovLwovLyBMaWNlbnNlZCB1bmRlciB0aGUgQXBhY2hlIExpY2Vuc2UsIFZlcnNpb24gMi4wICh0aGUgIkxpY2Vuc2UiKTsKLy8geW91IG1heSBub3QgdXNlIHRoaXMgZmlsZSBleGNlcHQgaW4gY29tcGxpYW5jZSB3aXRoIHRoZSBMaWNlbnNlLgovLyBZb3UgbWF5IG9idGFpbiBhIGNvcHkgb2YgdGhlIExpY2Vuc2UgYXQKLy8KLy8gICAgICBodHRwOi8vd3d3LmFwYWNoZS5vcmcvbGljZW5zZXMvTElDRU5TRS0yLjAKLy8KLy8gVW5sZXNzIHJlcXVpcmVkIGJ5IGFwcGxpY2FibGUgbGF3IG9yIGFncmVlZCB0byBpbiB3cml0aW5nLCBzb2Z0d2FyZQovLyBkaXN0cmlidXRlZCB1bmRlciB0aGUgTGljZW5zZSBpcyBkaXN0cmlidXRlZCBvbiBhbiAiQVMgSVMiIEJBU0lTLAovLyBXSVRIT1VUIFdBUlJBTlRJRVMgT1IgQ09ORElUSU9OUyBPRiBBTlkgS0lORCwgZWl0aGVyIGV4cHJlc3Mgb3IgaW1wbGllZC4KLy8gU2VlIHRoZSBMaWNlbnNlIGZvciB0aGUgc3BlY2lmaWMgbGFuZ3VhZ2UgZ292ZXJuaW5nIHBlcm1pc3Npb25zIGFuZAovLyBsaW1pdGF0aW9ucyB1bmRlciB0aGUgTGljZW5zZS4KCi8qKgogKiBAZmlsZW92ZXJ2aWV3IEhlbHBlcnMgZm9yIGdvb2dsZS5jb2xhYiBQeXRob24gbW9kdWxlLgogKi8KKGZ1bmN0aW9uKHNjb3BlKSB7CmZ1bmN0aW9uIHNwYW4odGV4dCwgc3R5bGVBdHRyaWJ1dGVzID0ge30pIHsKICBjb25zdCBlbGVtZW50ID0gZG9jdW1lbnQuY3JlYXRlRWxlbWVudCgnc3BhbicpOwogIGVsZW1lbnQudGV4dENvbnRlbnQgPSB0ZXh0OwogIGZvciAoY29uc3Qga2V5IG9mIE9iamVjdC5rZXlzKHN0eWxlQXR0cmlidXRlcykpIHsKICAgIGVsZW1lbnQuc3R5bGVba2V5XSA9IHN0eWxlQXR0cmlidXRlc1trZXldOwogIH0KICByZXR1cm4gZWxlbWVudDsKfQoKLy8gTWF4IG51bWJlciBvZiBieXRlcyB3aGljaCB3aWxsIGJlIHVwbG9hZGVkIGF0IGEgdGltZS4KY29uc3QgTUFYX1BBWUxPQURfU0laRSA9IDEwMCAqIDEwMjQ7CgpmdW5jdGlvbiBfdXBsb2FkRmlsZXMoaW5wdXRJZCwgb3V0cHV0SWQpIHsKICBjb25zdCBzdGVwcyA9IHVwbG9hZEZpbGVzU3RlcChpbnB1dElkLCBvdXRwdXRJZCk7CiAgY29uc3Qgb3V0cHV0RWxlbWVudCA9IGRvY3VtZW50LmdldEVsZW1lbnRCeUlkKG91dHB1dElkKTsKICAvLyBDYWNoZSBzdGVwcyBvbiB0aGUgb3V0cHV0RWxlbWVudCB0byBtYWtlIGl0IGF2YWlsYWJsZSBmb3IgdGhlIG5leHQgY2FsbAogIC8vIHRvIHVwbG9hZEZpbGVzQ29udGludWUgZnJvbSBQeXRob24uCiAgb3V0cHV0RWxlbWVudC5zdGVwcyA9IHN0ZXBzOwoKICByZXR1cm4gX3VwbG9hZEZpbGVzQ29udGludWUob3V0cHV0SWQpOwp9CgovLyBUaGlzIGlzIHJvdWdobHkgYW4gYXN5bmMgZ2VuZXJhdG9yIChub3Qgc3VwcG9ydGVkIGluIHRoZSBicm93c2VyIHlldCksCi8vIHdoZXJlIHRoZXJlIGFyZSBtdWx0aXBsZSBhc3luY2hyb25vdXMgc3RlcHMgYW5kIHRoZSBQeXRob24gc2lkZSBpcyBnb2luZwovLyB0byBwb2xsIGZvciBjb21wbGV0aW9uIG9mIGVhY2ggc3RlcC4KLy8gVGhpcyB1c2VzIGEgUHJvbWlzZSB0byBibG9jayB0aGUgcHl0aG9uIHNpZGUgb24gY29tcGxldGlvbiBvZiBlYWNoIHN0ZXAsCi8vIHRoZW4gcGFzc2VzIHRoZSByZXN1bHQgb2YgdGhlIHByZXZpb3VzIHN0ZXAgYXMgdGhlIGlucHV0IHRvIHRoZSBuZXh0IHN0ZXAuCmZ1bmN0aW9uIF91cGxvYWRGaWxlc0NvbnRpbnVlKG91dHB1dElkKSB7CiAgY29uc3Qgb3V0cHV0RWxlbWVudCA9IGRvY3VtZW50LmdldEVsZW1lbnRCeUlkKG91dHB1dElkKTsKICBjb25zdCBzdGVwcyA9IG91dHB1dEVsZW1lbnQuc3RlcHM7CgogIGNvbnN0IG5leHQgPSBzdGVwcy5uZXh0KG91dHB1dEVsZW1lbnQubGFzdFByb21pc2VWYWx1ZSk7CiAgcmV0dXJuIFByb21pc2UucmVzb2x2ZShuZXh0LnZhbHVlLnByb21pc2UpLnRoZW4oKHZhbHVlKSA9PiB7CiAgICAvLyBDYWNoZSB0aGUgbGFzdCBwcm9taXNlIHZhbHVlIHRvIG1ha2UgaXQgYXZhaWxhYmxlIHRvIHRoZSBuZXh0CiAgICAvLyBzdGVwIG9mIHRoZSBnZW5lcmF0b3IuCiAgICBvdXRwdXRFbGVtZW50Lmxhc3RQcm9taXNlVmFsdWUgPSB2YWx1ZTsKICAgIHJldHVybiBuZXh0LnZhbHVlLnJlc3BvbnNlOwogIH0pOwp9CgovKioKICogR2VuZXJhdG9yIGZ1bmN0aW9uIHdoaWNoIGlzIGNhbGxlZCBiZXR3ZWVuIGVhY2ggYXN5bmMgc3RlcCBvZiB0aGUgdXBsb2FkCiAqIHByb2Nlc3MuCiAqIEBwYXJhbSB7c3RyaW5nfSBpbnB1dElkIEVsZW1lbnQgSUQgb2YgdGhlIGlucHV0IGZpbGUgcGlja2VyIGVsZW1lbnQuCiAqIEBwYXJhbSB7c3RyaW5nfSBvdXRwdXRJZCBFbGVtZW50IElEIG9mIHRoZSBvdXRwdXQgZGlzcGxheS4KICogQHJldHVybiB7IUl0ZXJhYmxlPCFPYmplY3Q+fSBJdGVyYWJsZSBvZiBuZXh0IHN0ZXBzLgogKi8KZnVuY3Rpb24qIHVwbG9hZEZpbGVzU3RlcChpbnB1dElkLCBvdXRwdXRJZCkgewogIGNvbnN0IGlucHV0RWxlbWVudCA9IGRvY3VtZW50LmdldEVsZW1lbnRCeUlkKGlucHV0SWQpOwogIGlucHV0RWxlbWVudC5kaXNhYmxlZCA9IGZhbHNlOwoKICBjb25zdCBvdXRwdXRFbGVtZW50ID0gZG9jdW1lbnQuZ2V0RWxlbWVudEJ5SWQob3V0cHV0SWQpOwogIG91dHB1dEVsZW1lbnQuaW5uZXJIVE1MID0gJyc7CgogIGNvbnN0IHBpY2tlZFByb21pc2UgPSBuZXcgUHJvbWlzZSgocmVzb2x2ZSkgPT4gewogICAgaW5wdXRFbGVtZW50LmFkZEV2ZW50TGlzdGVuZXIoJ2NoYW5nZScsIChlKSA9PiB7CiAgICAgIHJlc29sdmUoZS50YXJnZXQuZmlsZXMpOwogICAgfSk7CiAgfSk7CgogIGNvbnN0IGNhbmNlbCA9IGRvY3VtZW50LmNyZWF0ZUVsZW1lbnQoJ2J1dHRvbicpOwogIGlucHV0RWxlbWVudC5wYXJlbnRFbGVtZW50LmFwcGVuZENoaWxkKGNhbmNlbCk7CiAgY2FuY2VsLnRleHRDb250ZW50ID0gJ0NhbmNlbCB1cGxvYWQnOwogIGNvbnN0IGNhbmNlbFByb21pc2UgPSBuZXcgUHJvbWlzZSgocmVzb2x2ZSkgPT4gewogICAgY2FuY2VsLm9uY2xpY2sgPSAoKSA9PiB7CiAgICAgIHJlc29sdmUobnVsbCk7CiAgICB9OwogIH0pOwoKICAvLyBXYWl0IGZvciB0aGUgdXNlciB0byBwaWNrIHRoZSBmaWxlcy4KICBjb25zdCBmaWxlcyA9IHlpZWxkIHsKICAgIHByb21pc2U6IFByb21pc2UucmFjZShbcGlja2VkUHJvbWlzZSwgY2FuY2VsUHJvbWlzZV0pLAogICAgcmVzcG9uc2U6IHsKICAgICAgYWN0aW9uOiAnc3RhcnRpbmcnLAogICAgfQogIH07CgogIGNhbmNlbC5yZW1vdmUoKTsKCiAgLy8gRGlzYWJsZSB0aGUgaW5wdXQgZWxlbWVudCBzaW5jZSBmdXJ0aGVyIHBpY2tzIGFyZSBub3QgYWxsb3dlZC4KICBpbnB1dEVsZW1lbnQuZGlzYWJsZWQgPSB0cnVlOwoKICBpZiAoIWZpbGVzKSB7CiAgICByZXR1cm4gewogICAgICByZXNwb25zZTogewogICAgICAgIGFjdGlvbjogJ2NvbXBsZXRlJywKICAgICAgfQogICAgfTsKICB9CgogIGZvciAoY29uc3QgZmlsZSBvZiBmaWxlcykgewogICAgY29uc3QgbGkgPSBkb2N1bWVudC5jcmVhdGVFbGVtZW50KCdsaScpOwogICAgbGkuYXBwZW5kKHNwYW4oZmlsZS5uYW1lLCB7Zm9udFdlaWdodDogJ2JvbGQnfSkpOwogICAgbGkuYXBwZW5kKHNwYW4oCiAgICAgICAgYCgke2ZpbGUudHlwZSB8fCAnbi9hJ30pIC0gJHtmaWxlLnNpemV9IGJ5dGVzLCBgICsKICAgICAgICBgbGFzdCBtb2RpZmllZDogJHsKICAgICAgICAgICAgZmlsZS5sYXN0TW9kaWZpZWREYXRlID8gZmlsZS5sYXN0TW9kaWZpZWREYXRlLnRvTG9jYWxlRGF0ZVN0cmluZygpIDoKICAgICAgICAgICAgICAgICAgICAgICAgICAgICAgICAgICAgJ24vYSd9IC0gYCkpOwogICAgY29uc3QgcGVyY2VudCA9IHNwYW4oJzAlIGRvbmUnKTsKICAgIGxpLmFwcGVuZENoaWxkKHBlcmNlbnQpOwoKICAgIG91dHB1dEVsZW1lbnQuYXBwZW5kQ2hpbGQobGkpOwoKICAgIGNvbnN0IGZpbGVEYXRhUHJvbWlzZSA9IG5ldyBQcm9taXNlKChyZXNvbHZlKSA9PiB7CiAgICAgIGNvbnN0IHJlYWRlciA9IG5ldyBGaWxlUmVhZGVyKCk7CiAgICAgIHJlYWRlci5vbmxvYWQgPSAoZSkgPT4gewogICAgICAgIHJlc29sdmUoZS50YXJnZXQucmVzdWx0KTsKICAgICAgfTsKICAgICAgcmVhZGVyLnJlYWRBc0FycmF5QnVmZmVyKGZpbGUpOwogICAgfSk7CiAgICAvLyBXYWl0IGZvciB0aGUgZGF0YSB0byBiZSByZWFkeS4KICAgIGxldCBmaWxlRGF0YSA9IHlpZWxkIHsKICAgICAgcHJvbWlzZTogZmlsZURhdGFQcm9taXNlLAogICAgICByZXNwb25zZTogewogICAgICAgIGFjdGlvbjogJ2NvbnRpbnVlJywKICAgICAgfQogICAgfTsKCiAgICAvLyBVc2UgYSBjaHVua2VkIHNlbmRpbmcgdG8gYXZvaWQgbWVzc2FnZSBzaXplIGxpbWl0cy4gU2VlIGIvNjIxMTU2NjAuCiAgICBsZXQgcG9zaXRpb24gPSAwOwogICAgZG8gewogICAgICBjb25zdCBsZW5ndGggPSBNYXRoLm1pbihmaWxlRGF0YS5ieXRlTGVuZ3RoIC0gcG9zaXRpb24sIE1BWF9QQVlMT0FEX1NJWkUpOwogICAgICBjb25zdCBjaHVuayA9IG5ldyBVaW50OEFycmF5KGZpbGVEYXRhLCBwb3NpdGlvbiwgbGVuZ3RoKTsKICAgICAgcG9zaXRpb24gKz0gbGVuZ3RoOwoKICAgICAgY29uc3QgYmFzZTY0ID0gYnRvYShTdHJpbmcuZnJvbUNoYXJDb2RlLmFwcGx5KG51bGwsIGNodW5rKSk7CiAgICAgIHlpZWxkIHsKICAgICAgICByZXNwb25zZTogewogICAgICAgICAgYWN0aW9uOiAnYXBwZW5kJywKICAgICAgICAgIGZpbGU6IGZpbGUubmFtZSwKICAgICAgICAgIGRhdGE6IGJhc2U2NCwKICAgICAgICB9LAogICAgICB9OwoKICAgICAgbGV0IHBlcmNlbnREb25lID0gZmlsZURhdGEuYnl0ZUxlbmd0aCA9PT0gMCA/CiAgICAgICAgICAxMDAgOgogICAgICAgICAgTWF0aC5yb3VuZCgocG9zaXRpb24gLyBmaWxlRGF0YS5ieXRlTGVuZ3RoKSAqIDEwMCk7CiAgICAgIHBlcmNlbnQudGV4dENvbnRlbnQgPSBgJHtwZXJjZW50RG9uZX0lIGRvbmVgOwoKICAgIH0gd2hpbGUgKHBvc2l0aW9uIDwgZmlsZURhdGEuYnl0ZUxlbmd0aCk7CiAgfQoKICAvLyBBbGwgZG9uZS4KICB5aWVsZCB7CiAgICByZXNwb25zZTogewogICAgICBhY3Rpb246ICdjb21wbGV0ZScsCiAgICB9CiAgfTsKfQoKc2NvcGUuZ29vZ2xlID0gc2NvcGUuZ29vZ2xlIHx8IHt9OwpzY29wZS5nb29nbGUuY29sYWIgPSBzY29wZS5nb29nbGUuY29sYWIgfHwge307CnNjb3BlLmdvb2dsZS5jb2xhYi5fZmlsZXMgPSB7CiAgX3VwbG9hZEZpbGVzLAogIF91cGxvYWRGaWxlc0NvbnRpbnVlLAp9Owp9KShzZWxmKTsK",
              "ok": true,
              "headers": [
                [
                  "content-type",
                  "application/javascript"
                ]
              ],
              "status": 200,
              "status_text": ""
            }
          },
          "base_uri": "https://localhost:8080/",
          "height": 198
        },
        "id": "NLMNeUWJgYK_",
        "outputId": "bafe396f-7d71-49d5-b44a-6facf3602643"
      },
      "id": "NLMNeUWJgYK_",
      "execution_count": 4,
      "outputs": [
        {
          "output_type": "display_data",
          "data": {
            "text/html": [
              "\n",
              "     <input type=\"file\" id=\"files-5d8164fd-9f20-4207-84a4-85599ca2a4a8\" name=\"files[]\" multiple disabled\n",
              "        style=\"border:none\" />\n",
              "     <output id=\"result-5d8164fd-9f20-4207-84a4-85599ca2a4a8\">\n",
              "      Upload widget is only available when the cell has been executed in the\n",
              "      current browser session. Please rerun this cell to enable.\n",
              "      </output>\n",
              "      <script src=\"/nbextensions/google.colab/files.js\"></script> "
            ],
            "text/plain": [
              "<IPython.core.display.HTML object>"
            ]
          },
          "metadata": {}
        },
        {
          "output_type": "stream",
          "name": "stdout",
          "text": [
            "Saving data_processing.py to data_processing.py\n",
            "Saving train_utils.py to train_utils.py\n"
          ]
        },
        {
          "output_type": "display_data",
          "data": {
            "text/html": [
              "\n",
              "     <input type=\"file\" id=\"files-8df6493d-6f69-48f2-9beb-6dcc38a4583f\" name=\"files[]\" multiple disabled\n",
              "        style=\"border:none\" />\n",
              "     <output id=\"result-8df6493d-6f69-48f2-9beb-6dcc38a4583f\">\n",
              "      Upload widget is only available when the cell has been executed in the\n",
              "      current browser session. Please rerun this cell to enable.\n",
              "      </output>\n",
              "      <script src=\"/nbextensions/google.colab/files.js\"></script> "
            ],
            "text/plain": [
              "<IPython.core.display.HTML object>"
            ]
          },
          "metadata": {}
        },
        {
          "output_type": "stream",
          "name": "stdout",
          "text": [
            "Saving wikipedia-iso-country-codes.csv to wikipedia-iso-country-codes.csv\n"
          ]
        },
        {
          "output_type": "execute_result",
          "data": {
            "text/plain": [
              "{'wikipedia-iso-country-codes.csv': b'English short name lower case,Alpha-2 code,Alpha-3 code,Numeric code,ISO 3166-2\\nAfghanistan,AF,AFG,004,ISO 3166-2:AF\\n\\xc3\\x85land Islands,AX,ALA,248,ISO 3166-2:AX\\nAlbania,AL,ALB,008,ISO 3166-2:AL\\nAlgeria,DZ,DZA,012,ISO 3166-2:DZ\\nAmerican Samoa,AS,ASM,016,ISO 3166-2:AS\\nAndorra,AD,AND,020,ISO 3166-2:AD\\nAngola,AO,AGO,024,ISO 3166-2:AO\\nAnguilla,AI,AIA,660,ISO 3166-2:AI\\nAntarctica,AQ,ATA,010,ISO 3166-2:AQ\\nAntigua and Barbuda,AG,ATG,028,ISO 3166-2:AG\\nArgentina,AR,ARG,032,ISO 3166-2:AR\\nArmenia,AM,ARM,051,ISO 3166-2:AM\\nAruba,AW,ABW,533,ISO 3166-2:AW\\nAustralia,AU,AUS,036,ISO 3166-2:AU\\nAustria,AT,AUT,040,ISO 3166-2:AT\\nAzerbaijan,AZ,AZE,031,ISO 3166-2:AZ\\nBahamas,BS,BHS,044,ISO 3166-2:BS\\nBahrain,BH,BHR,048,ISO 3166-2:BH\\nBangladesh,BD,BGD,050,ISO 3166-2:BD\\nBarbados,BB,BRB,052,ISO 3166-2:BB\\nBelarus,BY,BLR,112,ISO 3166-2:BY\\nBelgium,BE,BEL,056,ISO 3166-2:BE\\nBelize,BZ,BLZ,084,ISO 3166-2:BZ\\nBenin,BJ,BEN,204,ISO 3166-2:BJ\\nBermuda,BM,BMU,060,ISO 3166-2:BM\\nBhutan,BT,BTN,064,ISO 3166-2:BT\\n\"Bolivia, Plurinational State of\",BO,BOL,068,ISO 3166-2:BO\\nBosnia and Herzegovina,BA,BIH,070,ISO 3166-2:BA\\nBotswana,BW,BWA,072,ISO 3166-2:BW\\nBouvet Island,BV,BVT,074,ISO 3166-2:BV\\nBrazil,BR,BRA,076,ISO 3166-2:BR\\nBritish Indian Ocean Territory,IO,IOT,086,ISO 3166-2:IO\\nBrunei Darussalam,BN,BRN,096,ISO 3166-2:BN\\nBulgaria,BG,BGR,100,ISO 3166-2:BG\\nBurkina Faso,BF,BFA,854,ISO 3166-2:BF\\nBurundi,BI,BDI,108,ISO 3166-2:BI\\nCambodia,KH,KHM,116,ISO 3166-2:KH\\nCameroon,CM,CMR,120,ISO 3166-2:CM\\nCanada,CA,CAN,124,ISO 3166-2:CA\\nCape Verde,CV,CPV,132,ISO 3166-2:CV\\nCayman Islands,KY,CYM,136,ISO 3166-2:KY\\nCentral African Republic,CF,CAF,140,ISO 3166-2:CF\\nChad,TD,TCD,148,ISO 3166-2:TD\\nChile,CL,CHL,152,ISO 3166-2:CL\\nChina,CN,CHN,156,ISO 3166-2:CN\\nChristmas Island,CX,CXR,162,ISO 3166-2:CX\\nCocos (Keeling) Islands,CC,CCK,166,ISO 3166-2:CC\\nColombia,CO,COL,170,ISO 3166-2:CO\\nComoros,KM,COM,174,ISO 3166-2:KM\\nCongo,CG,COG,178,ISO 3166-2:CG\\n\"Congo, the Democratic Republic of the\",CD,COD,180,ISO 3166-2:CD\\nCook Islands,CK,COK,184,ISO 3166-2:CK\\nCosta Rica,CR,CRI,188,ISO 3166-2:CR\\nC\\xc3\\xb4te d\\'Ivoire,CI,CIV,384,ISO 3166-2:CI\\nCroatia,HR,HRV,191,ISO 3166-2:HR\\nCuba,CU,CUB,192,ISO 3166-2:CU\\nCyprus,CY,CYP,196,ISO 3166-2:CY\\nCzech Republic,CZ,CZE,203,ISO 3166-2:CZ\\nDenmark,DK,DNK,208,ISO 3166-2:DK\\nDjibouti,DJ,DJI,262,ISO 3166-2:DJ\\nDominica,DM,DMA,212,ISO 3166-2:DM\\nDominican Republic,DO,DOM,214,ISO 3166-2:DO\\nEcuador,EC,ECU,218,ISO 3166-2:EC\\nEgypt,EG,EGY,818,ISO 3166-2:EG\\nEl Salvador,SV,SLV,222,ISO 3166-2:SV\\nEquatorial Guinea,GQ,GNQ,226,ISO 3166-2:GQ\\nEritrea,ER,ERI,232,ISO 3166-2:ER\\nEstonia,EE,EST,233,ISO 3166-2:EE\\nEthiopia,ET,ETH,231,ISO 3166-2:ET\\nFalkland Islands (Malvinas),FK,FLK,238,ISO 3166-2:FK\\nFaroe Islands,FO,FRO,234,ISO 3166-2:FO\\nFiji,FJ,FJI,242,ISO 3166-2:FJ\\nFinland,FI,FIN,246,ISO 3166-2:FI\\nFrance,FR,FRA,250,ISO 3166-2:FR\\nFrench Guiana,GF,GUF,254,ISO 3166-2:GF\\nFrench Polynesia,PF,PYF,258,ISO 3166-2:PF\\nFrench Southern Territories,TF,ATF,260,ISO 3166-2:TF\\nGabon,GA,GAB,266,ISO 3166-2:GA\\nGambia,GM,GMB,270,ISO 3166-2:GM\\nGeorgia,GE,GEO,268,ISO 3166-2:GE\\nGermany,DE,DEU,276,ISO 3166-2:DE\\nGhana,GH,GHA,288,ISO 3166-2:GH\\nGibraltar,GI,GIB,292,ISO 3166-2:GI\\nGreece,GR,GRC,300,ISO 3166-2:GR\\nGreenland,GL,GRL,304,ISO 3166-2:GL\\nGrenada,GD,GRD,308,ISO 3166-2:GD\\nGuadeloupe,GP,GLP,312,ISO 3166-2:GP\\nGuam,GU,GUM,316,ISO 3166-2:GU\\nGuatemala,GT,GTM,320,ISO 3166-2:GT\\nGuernsey,GG,GGY,831,ISO 3166-2:GG\\nGuinea,GN,GIN,324,ISO 3166-2:GN\\nGuinea-Bissau,GW,GNB,624,ISO 3166-2:GW\\nGuyana,GY,GUY,328,ISO 3166-2:GY\\nHaiti,HT,HTI,332,ISO 3166-2:HT\\nHeard Island and McDonald Islands,HM,HMD,334,ISO 3166-2:HM\\nHoly See (Vatican City State),VA,VAT,336,ISO 3166-2:VA\\nHonduras,HN,HND,340,ISO 3166-2:HN\\nHong Kong,HK,HKG,344,ISO 3166-2:HK\\nHungary,HU,HUN,348,ISO 3166-2:HU\\nIceland,IS,ISL,352,ISO 3166-2:IS\\nIndia,IN,IND,356,ISO 3166-2:IN\\nIndonesia,ID,IDN,360,ISO 3166-2:ID\\n\"Iran, Islamic Republic of\",IR,IRN,364,ISO 3166-2:IR\\nIraq,IQ,IRQ,368,ISO 3166-2:IQ\\nIreland,IE,IRL,372,ISO 3166-2:IE\\nIsle of Man,IM,IMN,833,ISO 3166-2:IM\\nIsrael,IL,ISR,376,ISO 3166-2:IL\\nItaly,IT,ITA,380,ISO 3166-2:IT\\nJamaica,JM,JAM,388,ISO 3166-2:JM\\nJapan,JP,JPN,392,ISO 3166-2:JP\\nJersey,JE,JEY,832,ISO 3166-2:JE\\nJordan,JO,JOR,400,ISO 3166-2:JO\\nKazakhstan,KZ,KAZ,398,ISO 3166-2:KZ\\nKenya,KE,KEN,404,ISO 3166-2:KE\\nKiribati,KI,KIR,296,ISO 3166-2:KI\\n\"Korea, Democratic People\\'s Republic of\",KP,PRK,408,ISO 3166-2:KP\\n\"Korea, Republic of\",KR,KOR,410,ISO 3166-2:KR\\nKuwait,KW,KWT,414,ISO 3166-2:KW\\nKyrgyzstan,KG,KGZ,417,ISO 3166-2:KG\\nLao People\\'s Democratic Republic,LA,LAO,418,ISO 3166-2:LA\\nLatvia,LV,LVA,428,ISO 3166-2:LV\\nLebanon,LB,LBN,422,ISO 3166-2:LB\\nLesotho,LS,LSO,426,ISO 3166-2:LS\\nLiberia,LR,LBR,430,ISO 3166-2:LR\\nLibyan Arab Jamahiriya,LY,LBY,434,ISO 3166-2:LY\\nLiechtenstein,LI,LIE,438,ISO 3166-2:LI\\nLithuania,LT,LTU,440,ISO 3166-2:LT\\nLuxembourg,LU,LUX,442,ISO 3166-2:LU\\nMacao,MO,MAC,446,ISO 3166-2:MO\\n\"Macedonia, the former Yugoslav Republic of\",MK,MKD,807,ISO 3166-2:MK\\nMadagascar,MG,MDG,450,ISO 3166-2:MG\\nMalawi,MW,MWI,454,ISO 3166-2:MW\\nMalaysia,MY,MYS,458,ISO 3166-2:MY\\nMaldives,MV,MDV,462,ISO 3166-2:MV\\nMali,ML,MLI,466,ISO 3166-2:ML\\nMalta,MT,MLT,470,ISO 3166-2:MT\\nMarshall Islands,MH,MHL,584,ISO 3166-2:MH\\nMartinique,MQ,MTQ,474,ISO 3166-2:MQ\\nMauritania,MR,MRT,478,ISO 3166-2:MR\\nMauritius,MU,MUS,480,ISO 3166-2:MU\\nMayotte,YT,MYT,175,ISO 3166-2:YT\\nMexico,MX,MEX,484,ISO 3166-2:MX\\n\"Micronesia, Federated States of\",FM,FSM,583,ISO 3166-2:FM\\n\"Moldova, Republic of\",MD,MDA,498,ISO 3166-2:MD\\nMonaco,MC,MCO,492,ISO 3166-2:MC\\nMongolia,MN,MNG,496,ISO 3166-2:MN\\nMontenegro,ME,MNE,499,ISO 3166-2:ME\\nMontserrat,MS,MSR,500,ISO 3166-2:MS\\nMorocco,MA,MAR,504,ISO 3166-2:MA\\nMozambique,MZ,MOZ,508,ISO 3166-2:MZ\\nMyanmar,MM,MMR,104,ISO 3166-2:MM\\nNamibia,NA,NAM,516,ISO 3166-2:NA\\nNauru,NR,NRU,520,ISO 3166-2:NR\\nNepal,NP,NPL,524,ISO 3166-2:NP\\nNetherlands,NL,NLD,528,ISO 3166-2:NL\\nNetherlands Antilles,AN,ANT,530,ISO 3166-2:AN\\nNew Caledonia,NC,NCL,540,ISO 3166-2:NC\\nNew Zealand,NZ,NZL,554,ISO 3166-2:NZ\\nNicaragua,NI,NIC,558,ISO 3166-2:NI\\nNiger,NE,NER,562,ISO 3166-2:NE\\nNigeria,NG,NGA,566,ISO 3166-2:NG\\nNiue,NU,NIU,570,ISO 3166-2:NU\\nNorfolk Island,NF,NFK,574,ISO 3166-2:NF\\nNorthern Mariana Islands,MP,MNP,580,ISO 3166-2:MP\\nNorway,NO,NOR,578,ISO 3166-2:NO\\nOman,OM,OMN,512,ISO 3166-2:OM\\nPakistan,PK,PAK,586,ISO 3166-2:PK\\nPalau,PW,PLW,585,ISO 3166-2:PW\\n\"Palestinian Territory, Occupied\",PS,PSE,275,ISO 3166-2:PS\\nPanama,PA,PAN,591,ISO 3166-2:PA\\nPapua New Guinea,PG,PNG,598,ISO 3166-2:PG\\nParaguay,PY,PRY,600,ISO 3166-2:PY\\nPeru,PE,PER,604,ISO 3166-2:PE\\nPhilippines,PH,PHL,608,ISO 3166-2:PH\\nPitcairn,PN,PCN,612,ISO 3166-2:PN\\nPoland,PL,POL,616,ISO 3166-2:PL\\nPortugal,PT,PRT,620,ISO 3166-2:PT\\nPuerto Rico,PR,PRI,630,ISO 3166-2:PR\\nQatar,QA,QAT,634,ISO 3166-2:QA\\nR\\xc3\\xa9union,RE,REU,638,ISO 3166-2:RE\\nRomania,RO,ROU,642,ISO 3166-2:RO\\nRussian Federation,RU,RUS,643,ISO 3166-2:RU\\nRwanda,RW,RWA,646,ISO 3166-2:RW\\nSaint Barth\\xc3\\xa9lemy,BL,BLM,652,ISO 3166-2:BL\\n\"Saint Helena, Ascension and Tristan da Cunha\",SH,SHN,654,ISO 3166-2:SH\\nSaint Kitts and Nevis,KN,KNA,659,ISO 3166-2:KN\\nSaint Lucia,LC,LCA,662,ISO 3166-2:LC\\nSaint Martin (French part),MF,MAF,663,ISO 3166-2:MF\\nSaint Pierre and Miquelon,PM,SPM,666,ISO 3166-2:PM\\nSaint Vincent and the Grenadines,VC,VCT,670,ISO 3166-2:VC\\nSamoa,WS,WSM,882,ISO 3166-2:WS\\nSan Marino,SM,SMR,674,ISO 3166-2:SM\\nSao Tome and Principe,ST,STP,678,ISO 3166-2:ST\\nSaudi Arabia,SA,SAU,682,ISO 3166-2:SA\\nSenegal,SN,SEN,686,ISO 3166-2:SN\\nSerbia,RS,SRB,688,ISO 3166-2:RS\\nSeychelles,SC,SYC,690,ISO 3166-2:SC\\nSierra Leone,SL,SLE,694,ISO 3166-2:SL\\nSingapore,SG,SGP,702,ISO 3166-2:SG\\nSlovakia,SK,SVK,703,ISO 3166-2:SK\\nSlovenia,SI,SVN,705,ISO 3166-2:SI\\nSolomon Islands,SB,SLB,090,ISO 3166-2:SB\\nSomalia,SO,SOM,706,ISO 3166-2:SO\\nSouth Africa,ZA,ZAF,710,ISO 3166-2:ZA\\nSouth Georgia and the South Sandwich Islands,GS,SGS,239,ISO 3166-2:GS\\nSpain,ES,ESP,724,ISO 3166-2:ES\\nSri Lanka,LK,LKA,144,ISO 3166-2:LK\\nSudan,SD,SDN,736,ISO 3166-2:SD\\nSuriname,SR,SUR,740,ISO 3166-2:SR\\nSvalbard and Jan Mayen,SJ,SJM,744,ISO 3166-2:SJ\\nSwaziland,SZ,SWZ,748,ISO 3166-2:SZ\\nSweden,SE,SWE,752,ISO 3166-2:SE\\nSwitzerland,CH,CHE,756,ISO 3166-2:CH\\nSyrian Arab Republic,SY,SYR,760,ISO 3166-2:SY\\n\"Taiwan, Province of China\",TW,TWN,158,ISO 3166-2:TW\\nTajikistan,TJ,TJK,762,ISO 3166-2:TJ\\n\"Tanzania, United Republic of\",TZ,TZA,834,ISO 3166-2:TZ\\nThailand,TH,THA,764,ISO 3166-2:TH\\nTimor-Leste,TL,TLS,626,ISO 3166-2:TL\\nTogo,TG,TGO,768,ISO 3166-2:TG\\nTokelau,TK,TKL,772,ISO 3166-2:TK\\nTonga,TO,TON,776,ISO 3166-2:TO\\nTrinidad and Tobago,TT,TTO,780,ISO 3166-2:TT\\nTunisia,TN,TUN,788,ISO 3166-2:TN\\nTurkey,TR,TUR,792,ISO 3166-2:TR\\nTurkmenistan,TM,TKM,795,ISO 3166-2:TM\\nTurks and Caicos Islands,TC,TCA,796,ISO 3166-2:TC\\nTuvalu,TV,TUV,798,ISO 3166-2:TV\\nUganda,UG,UGA,800,ISO 3166-2:UG\\nUkraine,UA,UKR,804,ISO 3166-2:UA\\nUnited Arab Emirates,AE,ARE,784,ISO 3166-2:AE\\nUnited Kingdom,GB,GBR,826,ISO 3166-2:GB\\nUnited States,US,USA,840,ISO 3166-2:US\\nUnited States Minor Outlying Islands,UM,UMI,581,ISO 3166-2:UM\\nUruguay,UY,URY,858,ISO 3166-2:UY\\nUzbekistan,UZ,UZB,860,ISO 3166-2:UZ\\nVanuatu,VU,VUT,548,ISO 3166-2:VU\\n\"Venezuela, Bolivarian Republic of\",VE,VEN,862,ISO 3166-2:VE\\nViet Nam,VN,VNM,704,ISO 3166-2:VN\\n\"Virgin Islands, British\",VG,VGB,092,ISO 3166-2:VG\\n\"Virgin Islands, U.S.\",VI,VIR,850,ISO 3166-2:VI\\nWallis and Futuna,WF,WLF,876,ISO 3166-2:WF\\nWestern Sahara,EH,ESH,732,ISO 3166-2:EH\\nYemen,YE,YEM,887,ISO 3166-2:YE\\nZambia,ZM,ZMB,894,ISO 3166-2:ZM\\nZimbabwe,ZW,ZWE,716,ISO 3166-2:ZW\\n'}"
            ]
          },
          "metadata": {},
          "execution_count": 4
        }
      ]
    },
    {
      "cell_type": "code",
      "source": [
        "import warnings\n",
        "warnings.filterwarnings(\"ignore\")"
      ],
      "metadata": {
        "id": "3kiMgcX5qEbQ"
      },
      "id": "3kiMgcX5qEbQ",
      "execution_count": 5,
      "outputs": []
    },
    {
      "cell_type": "code",
      "execution_count": 6,
      "id": "3e0dd1ac",
      "metadata": {
        "id": "3e0dd1ac"
      },
      "outputs": [],
      "source": [
        "import pandas as pd\n",
        "import numpy as np\n",
        "\n",
        "SEED = 42"
      ]
    },
    {
      "cell_type": "code",
      "execution_count": 7,
      "id": "b9a2f06c",
      "metadata": {
        "id": "b9a2f06c"
      },
      "outputs": [],
      "source": [
        "from train_utils import *\n",
        "from data_processing import get_preprocessed_dataset"
      ]
    },
    {
      "cell_type": "markdown",
      "id": "1897df04",
      "metadata": {
        "id": "1897df04"
      },
      "source": [
        "#### Dataset\n",
        "\n",
        "Подготовка датасета. Детальное описание: [`HW_02_DATA_PREPROCESSING.ipynb`](https://github.com/gal-dmitry/HSE_RecSys/blob/master/HW_02/HW_02_DATA_PREPROCESSING.ipynb)"
      ]
    },
    {
      "cell_type": "code",
      "execution_count": 8,
      "id": "74fb80f7",
      "metadata": {
        "colab": {
          "base_uri": "https://localhost:8080/"
        },
        "id": "74fb80f7",
        "outputId": "a6221a73-5bac-439c-e49b-3d311b394310"
      },
      "outputs": [
        {
          "output_type": "stream",
          "name": "stdout",
          "text": [
            "process members...\n",
            "process songs...\n",
            "process songs extra info...\n",
            "merge songs...\n",
            "process train...\n"
          ]
        },
        {
          "output_type": "stream",
          "name": "stderr",
          "text": [
            "100%|██████████| 3/3 [00:00<00:00, 64.02it/s]\n"
          ]
        },
        {
          "output_type": "stream",
          "name": "stdout",
          "text": [
            "merge train...\n",
            "get final dataset...\n",
            "CPU times: user 1min 39s, sys: 3.46 s, total: 1min 43s\n",
            "Wall time: 1min 42s\n"
          ]
        }
      ],
      "source": [
        "%%time\n",
        "dataset = get_preprocessed_dataset(csv_folder_path=\".\")"
      ]
    },
    {
      "cell_type": "code",
      "execution_count": null,
      "id": "14a38890",
      "metadata": {
        "id": "14a38890"
      },
      "outputs": [],
      "source": [
        "### check reproducibility\n",
        "\n",
        "# restored = pd.read_pickle(\"full_extended_train_df.pkl\")\n",
        "# assert restored.equals(dataset)\n",
        "# del restored"
      ]
    },
    {
      "cell_type": "code",
      "execution_count": 11,
      "id": "b2276971",
      "metadata": {
        "colab": {
          "base_uri": "https://localhost:8080/",
          "height": 275
        },
        "id": "b2276971",
        "outputId": "9401bec3-deb2-4bf1-dc57-bff652c352c7"
      },
      "outputs": [
        {
          "output_type": "execute_result",
          "data": {
            "text/html": [
              "<div>\n",
              "<style scoped>\n",
              "    .dataframe tbody tr th:only-of-type {\n",
              "        vertical-align: middle;\n",
              "    }\n",
              "\n",
              "    .dataframe tbody tr th {\n",
              "        vertical-align: top;\n",
              "    }\n",
              "\n",
              "    .dataframe thead th {\n",
              "        text-align: right;\n",
              "    }\n",
              "</style>\n",
              "<table border=\"1\" class=\"dataframe\">\n",
              "  <thead>\n",
              "    <tr style=\"text-align: right;\">\n",
              "      <th></th>\n",
              "      <th>msno</th>\n",
              "      <th>song_id</th>\n",
              "      <th>source_system_tab</th>\n",
              "      <th>source_screen_name</th>\n",
              "      <th>source_type</th>\n",
              "      <th>target</th>\n",
              "      <th>city</th>\n",
              "      <th>gender</th>\n",
              "      <th>registered_via</th>\n",
              "      <th>age_group</th>\n",
              "      <th>registration_init_year</th>\n",
              "      <th>expiration_date_year</th>\n",
              "      <th>song_length</th>\n",
              "      <th>genre_ids</th>\n",
              "      <th>artist_name</th>\n",
              "      <th>composer</th>\n",
              "      <th>lyricist</th>\n",
              "      <th>language</th>\n",
              "      <th>genre_ids_count</th>\n",
              "      <th>artist_name_count</th>\n",
              "      <th>composer_count</th>\n",
              "      <th>lyricist_count</th>\n",
              "      <th>isrc_country</th>\n",
              "      <th>isrc_year</th>\n",
              "    </tr>\n",
              "  </thead>\n",
              "  <tbody>\n",
              "    <tr>\n",
              "      <th>0</th>\n",
              "      <td>++5wYjoMgQHoRuD3GbbvmphZbBBwymzv5Q4l8sywtuU=</td>\n",
              "      <td>DZanD98cLDbuPBiXONSwLFSw8BfI69ErQS23vYJ9UU4=</td>\n",
              "      <td>my library</td>\n",
              "      <td>Local playlist more</td>\n",
              "      <td>local-library</td>\n",
              "      <td>1</td>\n",
              "      <td>13</td>\n",
              "      <td>male</td>\n",
              "      <td>9</td>\n",
              "      <td>normal</td>\n",
              "      <td>2006</td>\n",
              "      <td>2017</td>\n",
              "      <td>224235</td>\n",
              "      <td>465</td>\n",
              "      <td>南拳媽媽</td>\n",
              "      <td>周杰倫</td>\n",
              "      <td>宋健彰</td>\n",
              "      <td>3.0</td>\n",
              "      <td>1</td>\n",
              "      <td>1</td>\n",
              "      <td>1</td>\n",
              "      <td>1</td>\n",
              "      <td>Taiwan, Province of China</td>\n",
              "      <td>2008</td>\n",
              "    </tr>\n",
              "    <tr>\n",
              "      <th>1</th>\n",
              "      <td>++5wYjoMgQHoRuD3GbbvmphZbBBwymzv5Q4l8sywtuU=</td>\n",
              "      <td>E6Fm873UEDPv0LATidt2gKwBZZHww2Q04nxTg15N9iE=</td>\n",
              "      <td>my library</td>\n",
              "      <td>Local playlist more</td>\n",
              "      <td>local-library</td>\n",
              "      <td>1</td>\n",
              "      <td>13</td>\n",
              "      <td>male</td>\n",
              "      <td>9</td>\n",
              "      <td>normal</td>\n",
              "      <td>2006</td>\n",
              "      <td>2017</td>\n",
              "      <td>193410</td>\n",
              "      <td>465</td>\n",
              "      <td>張靚穎 (Jane Zhang)</td>\n",
              "      <td>張靚穎</td>\n",
              "      <td>沈松</td>\n",
              "      <td>3.0</td>\n",
              "      <td>1</td>\n",
              "      <td>1</td>\n",
              "      <td>1</td>\n",
              "      <td>1</td>\n",
              "      <td>-1</td>\n",
              "      <td>-1</td>\n",
              "    </tr>\n",
              "    <tr>\n",
              "      <th>2</th>\n",
              "      <td>++5wYjoMgQHoRuD3GbbvmphZbBBwymzv5Q4l8sywtuU=</td>\n",
              "      <td>0TZ4BKn9YES2upK9ZgKgsAUtUClVKHnct79pnA/iPiQ=</td>\n",
              "      <td>my library</td>\n",
              "      <td>Local playlist more</td>\n",
              "      <td>local-library</td>\n",
              "      <td>1</td>\n",
              "      <td>13</td>\n",
              "      <td>male</td>\n",
              "      <td>9</td>\n",
              "      <td>normal</td>\n",
              "      <td>2006</td>\n",
              "      <td>2017</td>\n",
              "      <td>187199</td>\n",
              "      <td>2022</td>\n",
              "      <td>Linkin Park</td>\n",
              "      <td>FILL_NAN</td>\n",
              "      <td>FILL_NAN</td>\n",
              "      <td>52.0</td>\n",
              "      <td>1</td>\n",
              "      <td>1</td>\n",
              "      <td>0</td>\n",
              "      <td>0</td>\n",
              "      <td>United States</td>\n",
              "      <td>2003</td>\n",
              "    </tr>\n",
              "    <tr>\n",
              "      <th>3</th>\n",
              "      <td>++5wYjoMgQHoRuD3GbbvmphZbBBwymzv5Q4l8sywtuU=</td>\n",
              "      <td>m2YSjnhR3nzx/2WccNYpGWywohyd8fT0xR+skQC9/JQ=</td>\n",
              "      <td>my library</td>\n",
              "      <td>Local playlist more</td>\n",
              "      <td>local-library</td>\n",
              "      <td>1</td>\n",
              "      <td>13</td>\n",
              "      <td>male</td>\n",
              "      <td>9</td>\n",
              "      <td>normal</td>\n",
              "      <td>2006</td>\n",
              "      <td>2017</td>\n",
              "      <td>205635</td>\n",
              "      <td>359</td>\n",
              "      <td>Linkin Park</td>\n",
              "      <td>FILL_NAN</td>\n",
              "      <td>FILL_NAN</td>\n",
              "      <td>52.0</td>\n",
              "      <td>1</td>\n",
              "      <td>1</td>\n",
              "      <td>0</td>\n",
              "      <td>0</td>\n",
              "      <td>United States</td>\n",
              "      <td>2007</td>\n",
              "    </tr>\n",
              "    <tr>\n",
              "      <th>4</th>\n",
              "      <td>++5wYjoMgQHoRuD3GbbvmphZbBBwymzv5Q4l8sywtuU=</td>\n",
              "      <td>cXpk2ZXiSgkwGo8iGbswBc0lzucL9AH+j/2khmnmOLI=</td>\n",
              "      <td>my library</td>\n",
              "      <td>Local playlist more</td>\n",
              "      <td>local-playlist</td>\n",
              "      <td>0</td>\n",
              "      <td>13</td>\n",
              "      <td>male</td>\n",
              "      <td>9</td>\n",
              "      <td>normal</td>\n",
              "      <td>2006</td>\n",
              "      <td>2017</td>\n",
              "      <td>262687</td>\n",
              "      <td>2022</td>\n",
              "      <td>Starset</td>\n",
              "      <td>FILL_NAN</td>\n",
              "      <td>FILL_NAN</td>\n",
              "      <td>52.0</td>\n",
              "      <td>1</td>\n",
              "      <td>1</td>\n",
              "      <td>0</td>\n",
              "      <td>0</td>\n",
              "      <td>United States</td>\n",
              "      <td>2014</td>\n",
              "    </tr>\n",
              "  </tbody>\n",
              "</table>\n",
              "</div>"
            ],
            "text/plain": [
              "                                           msno  ... isrc_year\n",
              "0  ++5wYjoMgQHoRuD3GbbvmphZbBBwymzv5Q4l8sywtuU=  ...      2008\n",
              "1  ++5wYjoMgQHoRuD3GbbvmphZbBBwymzv5Q4l8sywtuU=  ...        -1\n",
              "2  ++5wYjoMgQHoRuD3GbbvmphZbBBwymzv5Q4l8sywtuU=  ...      2003\n",
              "3  ++5wYjoMgQHoRuD3GbbvmphZbBBwymzv5Q4l8sywtuU=  ...      2007\n",
              "4  ++5wYjoMgQHoRuD3GbbvmphZbBBwymzv5Q4l8sywtuU=  ...      2014\n",
              "\n",
              "[5 rows x 24 columns]"
            ]
          },
          "metadata": {},
          "execution_count": 11
        }
      ],
      "source": [
        "# TRAIN_DATASET = TrainDataset(dataset[:1_200])\n",
        "TRAIN_DATASET = TrainDataset(dataset).reduce_by_members(size=1023)\n",
        "\n",
        "TRAIN_DATASET._df.head()"
      ]
    },
    {
      "cell_type": "markdown",
      "id": "773ee1b5",
      "metadata": {
        "id": "773ee1b5"
      },
      "source": [
        "#### CatBoost"
      ]
    },
    {
      "cell_type": "code",
      "execution_count": 12,
      "id": "058e1e9e",
      "metadata": {
        "colab": {
          "base_uri": "https://localhost:8080/"
        },
        "id": "058e1e9e",
        "outputId": "52a67110-0a7b-4305-9887-78c65de4a547"
      },
      "outputs": [
        {
          "output_type": "stream",
          "name": "stdout",
          "text": [
            "--- Split: 1/5 ---\n"
          ]
        },
        {
          "output_type": "stream",
          "name": "stderr",
          "text": [
            "Custom logger is already specified. Specify more than one logger at same time is not thread safe."
          ]
        },
        {
          "output_type": "stream",
          "name": "stdout",
          "text": [
            "Groupwise loss function. OneHotMaxSize set to 10\n"
          ]
        },
        {
          "output_type": "stream",
          "name": "stderr",
          "text": [
            "Metric PFound is not implemented on GPU. Will use CPU for metric computation, this could significantly affect learning time\n",
            "Metric PFound is not implemented on GPU. Will use CPU for metric computation, this could significantly affect learning time\n"
          ]
        },
        {
          "output_type": "stream",
          "name": "stdout",
          "text": [
            "0:\ttotal: 1.35s\tremaining: 3m 20s\n",
            "1:\ttotal: 2.56s\tremaining: 3m 9s\n",
            "2:\ttotal: 3.77s\tremaining: 3m 4s\n",
            "3:\ttotal: 4.97s\tremaining: 3m 1s\n",
            "4:\ttotal: 6.18s\tremaining: 2m 59s\n",
            "5:\ttotal: 7.39s\tremaining: 2m 57s\n",
            "6:\ttotal: 8.6s\tremaining: 2m 55s\n",
            "7:\ttotal: 9.8s\tremaining: 2m 54s\n",
            "8:\ttotal: 11s\tremaining: 2m 52s\n",
            "9:\ttotal: 12.2s\tremaining: 2m 51s\n",
            "10:\ttotal: 13.4s\tremaining: 2m 49s\n",
            "11:\ttotal: 14.6s\tremaining: 2m 48s\n",
            "12:\ttotal: 15.8s\tremaining: 2m 46s\n",
            "13:\ttotal: 17.1s\tremaining: 2m 45s\n",
            "14:\ttotal: 18.3s\tremaining: 2m 44s\n",
            "15:\ttotal: 19.5s\tremaining: 2m 43s\n",
            "16:\ttotal: 20.7s\tremaining: 2m 41s\n",
            "17:\ttotal: 21.9s\tremaining: 2m 40s\n",
            "18:\ttotal: 23.1s\tremaining: 2m 39s\n",
            "19:\ttotal: 24.3s\tremaining: 2m 38s\n",
            "20:\ttotal: 25.5s\tremaining: 2m 36s\n",
            "21:\ttotal: 26.7s\tremaining: 2m 35s\n",
            "22:\ttotal: 27.9s\tremaining: 2m 34s\n",
            "23:\ttotal: 29.2s\tremaining: 2m 33s\n",
            "24:\ttotal: 30.4s\tremaining: 2m 31s\n",
            "25:\ttotal: 31.6s\tremaining: 2m 30s\n",
            "26:\ttotal: 32.8s\tremaining: 2m 29s\n",
            "27:\ttotal: 34s\tremaining: 2m 28s\n",
            "28:\ttotal: 35.2s\tremaining: 2m 26s\n",
            "29:\ttotal: 36.4s\tremaining: 2m 25s\n",
            "30:\ttotal: 37.6s\tremaining: 2m 24s\n",
            "31:\ttotal: 38.8s\tremaining: 2m 23s\n",
            "32:\ttotal: 40s\tremaining: 2m 21s\n",
            "33:\ttotal: 41.2s\tremaining: 2m 20s\n",
            "34:\ttotal: 42.4s\tremaining: 2m 19s\n",
            "35:\ttotal: 43.7s\tremaining: 2m 18s\n",
            "36:\ttotal: 44.9s\tremaining: 2m 17s\n",
            "37:\ttotal: 46.1s\tremaining: 2m 15s\n",
            "38:\ttotal: 47.3s\tremaining: 2m 14s\n",
            "39:\ttotal: 48.5s\tremaining: 2m 13s\n",
            "40:\ttotal: 49.7s\tremaining: 2m 12s\n",
            "41:\ttotal: 50.9s\tremaining: 2m 10s\n",
            "42:\ttotal: 52.1s\tremaining: 2m 9s\n",
            "43:\ttotal: 53.3s\tremaining: 2m 8s\n",
            "44:\ttotal: 54.6s\tremaining: 2m 7s\n",
            "45:\ttotal: 55.8s\tremaining: 2m 6s\n",
            "46:\ttotal: 57s\tremaining: 2m 4s\n",
            "47:\ttotal: 58.2s\tremaining: 2m 3s\n",
            "48:\ttotal: 59.4s\tremaining: 2m 2s\n",
            "49:\ttotal: 1m\tremaining: 2m 1s\n",
            "50:\ttotal: 1m 1s\tremaining: 2m\n",
            "51:\ttotal: 1m 3s\tremaining: 1m 58s\n",
            "52:\ttotal: 1m 4s\tremaining: 1m 57s\n",
            "53:\ttotal: 1m 5s\tremaining: 1m 56s\n",
            "54:\ttotal: 1m 6s\tremaining: 1m 55s\n",
            "55:\ttotal: 1m 7s\tremaining: 1m 53s\n",
            "56:\ttotal: 1m 9s\tremaining: 1m 52s\n",
            "57:\ttotal: 1m 10s\tremaining: 1m 51s\n",
            "58:\ttotal: 1m 11s\tremaining: 1m 50s\n",
            "59:\ttotal: 1m 12s\tremaining: 1m 49s\n",
            "60:\ttotal: 1m 13s\tremaining: 1m 47s\n",
            "61:\ttotal: 1m 15s\tremaining: 1m 46s\n",
            "62:\ttotal: 1m 16s\tremaining: 1m 45s\n",
            "63:\ttotal: 1m 17s\tremaining: 1m 44s\n",
            "64:\ttotal: 1m 18s\tremaining: 1m 43s\n",
            "65:\ttotal: 1m 19s\tremaining: 1m 41s\n",
            "66:\ttotal: 1m 21s\tremaining: 1m 40s\n",
            "67:\ttotal: 1m 22s\tremaining: 1m 39s\n",
            "68:\ttotal: 1m 23s\tremaining: 1m 38s\n",
            "69:\ttotal: 1m 24s\tremaining: 1m 36s\n",
            "70:\ttotal: 1m 26s\tremaining: 1m 35s\n",
            "71:\ttotal: 1m 27s\tremaining: 1m 34s\n",
            "72:\ttotal: 1m 28s\tremaining: 1m 33s\n",
            "73:\ttotal: 1m 29s\tremaining: 1m 32s\n",
            "74:\ttotal: 1m 30s\tremaining: 1m 30s\n",
            "75:\ttotal: 1m 32s\tremaining: 1m 29s\n",
            "76:\ttotal: 1m 33s\tremaining: 1m 28s\n",
            "77:\ttotal: 1m 34s\tremaining: 1m 27s\n",
            "78:\ttotal: 1m 35s\tremaining: 1m 26s\n",
            "79:\ttotal: 1m 37s\tremaining: 1m 24s\n",
            "80:\ttotal: 1m 38s\tremaining: 1m 23s\n",
            "81:\ttotal: 1m 39s\tremaining: 1m 22s\n",
            "82:\ttotal: 1m 40s\tremaining: 1m 21s\n",
            "83:\ttotal: 1m 41s\tremaining: 1m 20s\n",
            "84:\ttotal: 1m 43s\tremaining: 1m 18s\n",
            "85:\ttotal: 1m 44s\tremaining: 1m 17s\n",
            "86:\ttotal: 1m 45s\tremaining: 1m 16s\n",
            "87:\ttotal: 1m 46s\tremaining: 1m 15s\n",
            "88:\ttotal: 1m 47s\tremaining: 1m 14s\n",
            "89:\ttotal: 1m 49s\tremaining: 1m 12s\n",
            "90:\ttotal: 1m 50s\tremaining: 1m 11s\n",
            "91:\ttotal: 1m 51s\tremaining: 1m 10s\n",
            "92:\ttotal: 1m 52s\tremaining: 1m 9s\n",
            "93:\ttotal: 1m 54s\tremaining: 1m 7s\n",
            "94:\ttotal: 1m 55s\tremaining: 1m 6s\n",
            "95:\ttotal: 1m 56s\tremaining: 1m 5s\n",
            "96:\ttotal: 1m 57s\tremaining: 1m 4s\n",
            "97:\ttotal: 1m 58s\tremaining: 1m 3s\n",
            "98:\ttotal: 2m\tremaining: 1m 1s\n",
            "99:\ttotal: 2m 1s\tremaining: 1m\n",
            "100:\ttotal: 2m 2s\tremaining: 59.5s\n",
            "101:\ttotal: 2m 3s\tremaining: 58.3s\n",
            "102:\ttotal: 2m 5s\tremaining: 57.1s\n",
            "103:\ttotal: 2m 6s\tremaining: 55.9s\n",
            "104:\ttotal: 2m 7s\tremaining: 54.7s\n",
            "105:\ttotal: 2m 8s\tremaining: 53.4s\n",
            "106:\ttotal: 2m 9s\tremaining: 52.2s\n",
            "107:\ttotal: 2m 11s\tremaining: 51s\n",
            "108:\ttotal: 2m 12s\tremaining: 49.8s\n",
            "109:\ttotal: 2m 13s\tremaining: 48.6s\n",
            "110:\ttotal: 2m 14s\tremaining: 47.4s\n",
            "111:\ttotal: 2m 16s\tremaining: 46.2s\n",
            "112:\ttotal: 2m 17s\tremaining: 45s\n",
            "113:\ttotal: 2m 18s\tremaining: 43.8s\n",
            "114:\ttotal: 2m 19s\tremaining: 42.5s\n",
            "115:\ttotal: 2m 21s\tremaining: 41.3s\n",
            "116:\ttotal: 2m 22s\tremaining: 40.1s\n",
            "117:\ttotal: 2m 23s\tremaining: 38.9s\n",
            "118:\ttotal: 2m 24s\tremaining: 37.7s\n",
            "119:\ttotal: 2m 25s\tremaining: 36.5s\n",
            "120:\ttotal: 2m 27s\tremaining: 35.3s\n",
            "121:\ttotal: 2m 28s\tremaining: 34.1s\n",
            "122:\ttotal: 2m 29s\tremaining: 32.8s\n",
            "123:\ttotal: 2m 30s\tremaining: 31.6s\n",
            "124:\ttotal: 2m 32s\tremaining: 30.4s\n",
            "125:\ttotal: 2m 33s\tremaining: 29.2s\n",
            "126:\ttotal: 2m 34s\tremaining: 28s\n",
            "127:\ttotal: 2m 35s\tremaining: 26.8s\n",
            "128:\ttotal: 2m 36s\tremaining: 25.6s\n",
            "129:\ttotal: 2m 38s\tremaining: 24.3s\n",
            "130:\ttotal: 2m 39s\tremaining: 23.1s\n",
            "131:\ttotal: 2m 40s\tremaining: 21.9s\n",
            "132:\ttotal: 2m 41s\tremaining: 20.7s\n",
            "133:\ttotal: 2m 43s\tremaining: 19.5s\n",
            "134:\ttotal: 2m 44s\tremaining: 18.3s\n",
            "135:\ttotal: 2m 45s\tremaining: 17s\n",
            "136:\ttotal: 2m 46s\tremaining: 15.8s\n",
            "137:\ttotal: 2m 47s\tremaining: 14.6s\n",
            "138:\ttotal: 2m 49s\tremaining: 13.4s\n",
            "139:\ttotal: 2m 50s\tremaining: 12.2s\n",
            "140:\ttotal: 2m 51s\tremaining: 11s\n",
            "141:\ttotal: 2m 52s\tremaining: 9.74s\n",
            "142:\ttotal: 2m 54s\tremaining: 8.52s\n",
            "143:\ttotal: 2m 55s\tremaining: 7.3s\n",
            "144:\ttotal: 2m 56s\tremaining: 6.09s\n",
            "145:\ttotal: 2m 57s\tremaining: 4.87s\n",
            "146:\ttotal: 2m 58s\tremaining: 3.65s\n",
            "147:\ttotal: 3m\tremaining: 2.43s\n",
            "148:\ttotal: 3m 1s\tremaining: 1.22s\n",
            "149:\ttotal: 3m 2s\tremaining: 0us\n",
            "--- Split: 2/5 ---\n",
            "Groupwise loss function. OneHotMaxSize set to 10\n"
          ]
        },
        {
          "output_type": "stream",
          "name": "stderr",
          "text": [
            "Metric PFound is not implemented on GPU. Will use CPU for metric computation, this could significantly affect learning time\n",
            "Metric PFound is not implemented on GPU. Will use CPU for metric computation, this could significantly affect learning time\n"
          ]
        },
        {
          "output_type": "stream",
          "name": "stdout",
          "text": [
            "0:\ttotal: 1.35s\tremaining: 3m 21s\n",
            "1:\ttotal: 2.55s\tremaining: 3m 9s\n",
            "2:\ttotal: 3.76s\tremaining: 3m 4s\n",
            "3:\ttotal: 4.96s\tremaining: 3m 1s\n",
            "4:\ttotal: 6.17s\tremaining: 2m 58s\n",
            "5:\ttotal: 7.37s\tremaining: 2m 56s\n",
            "6:\ttotal: 8.58s\tremaining: 2m 55s\n",
            "7:\ttotal: 9.79s\tremaining: 2m 53s\n",
            "8:\ttotal: 11s\tremaining: 2m 52s\n",
            "9:\ttotal: 12.2s\tremaining: 2m 51s\n",
            "10:\ttotal: 13.4s\tremaining: 2m 49s\n",
            "11:\ttotal: 14.6s\tremaining: 2m 48s\n",
            "12:\ttotal: 15.8s\tremaining: 2m 46s\n",
            "13:\ttotal: 17s\tremaining: 2m 45s\n",
            "14:\ttotal: 18.2s\tremaining: 2m 44s\n",
            "15:\ttotal: 19.5s\tremaining: 2m 42s\n",
            "16:\ttotal: 20.7s\tremaining: 2m 41s\n",
            "17:\ttotal: 21.9s\tremaining: 2m 40s\n",
            "18:\ttotal: 23.1s\tremaining: 2m 39s\n",
            "19:\ttotal: 24.3s\tremaining: 2m 37s\n",
            "20:\ttotal: 25.5s\tremaining: 2m 36s\n",
            "21:\ttotal: 26.7s\tremaining: 2m 35s\n",
            "22:\ttotal: 27.9s\tremaining: 2m 34s\n",
            "23:\ttotal: 29.1s\tremaining: 2m 32s\n",
            "24:\ttotal: 30.3s\tremaining: 2m 31s\n",
            "25:\ttotal: 31.5s\tremaining: 2m 30s\n",
            "26:\ttotal: 32.8s\tremaining: 2m 29s\n",
            "27:\ttotal: 34s\tremaining: 2m 27s\n",
            "28:\ttotal: 35.2s\tremaining: 2m 26s\n",
            "29:\ttotal: 36.4s\tremaining: 2m 25s\n",
            "30:\ttotal: 37.6s\tremaining: 2m 24s\n",
            "31:\ttotal: 38.8s\tremaining: 2m 23s\n",
            "32:\ttotal: 40s\tremaining: 2m 21s\n",
            "33:\ttotal: 41.2s\tremaining: 2m 20s\n",
            "34:\ttotal: 42.4s\tremaining: 2m 19s\n",
            "35:\ttotal: 43.7s\tremaining: 2m 18s\n",
            "36:\ttotal: 44.9s\tremaining: 2m 17s\n",
            "37:\ttotal: 46.1s\tremaining: 2m 15s\n",
            "38:\ttotal: 47.3s\tremaining: 2m 14s\n",
            "39:\ttotal: 48.5s\tremaining: 2m 13s\n",
            "40:\ttotal: 49.7s\tremaining: 2m 12s\n",
            "41:\ttotal: 50.9s\tremaining: 2m 10s\n",
            "42:\ttotal: 52.1s\tremaining: 2m 9s\n",
            "43:\ttotal: 53.3s\tremaining: 2m 8s\n",
            "44:\ttotal: 54.5s\tremaining: 2m 7s\n",
            "45:\ttotal: 55.8s\tremaining: 2m 6s\n",
            "46:\ttotal: 57s\tremaining: 2m 4s\n",
            "47:\ttotal: 58.2s\tremaining: 2m 3s\n",
            "48:\ttotal: 59.4s\tremaining: 2m 2s\n",
            "49:\ttotal: 1m\tremaining: 2m 1s\n",
            "50:\ttotal: 1m 1s\tremaining: 1m 59s\n",
            "51:\ttotal: 1m 3s\tremaining: 1m 58s\n",
            "52:\ttotal: 1m 4s\tremaining: 1m 57s\n",
            "53:\ttotal: 1m 5s\tremaining: 1m 56s\n",
            "54:\ttotal: 1m 6s\tremaining: 1m 55s\n",
            "55:\ttotal: 1m 7s\tremaining: 1m 53s\n",
            "56:\ttotal: 1m 9s\tremaining: 1m 52s\n",
            "57:\ttotal: 1m 10s\tremaining: 1m 51s\n",
            "58:\ttotal: 1m 11s\tremaining: 1m 50s\n",
            "59:\ttotal: 1m 12s\tremaining: 1m 49s\n",
            "60:\ttotal: 1m 13s\tremaining: 1m 47s\n",
            "61:\ttotal: 1m 15s\tremaining: 1m 46s\n",
            "62:\ttotal: 1m 16s\tremaining: 1m 45s\n",
            "63:\ttotal: 1m 17s\tremaining: 1m 44s\n",
            "64:\ttotal: 1m 18s\tremaining: 1m 42s\n",
            "65:\ttotal: 1m 19s\tremaining: 1m 41s\n",
            "66:\ttotal: 1m 21s\tremaining: 1m 40s\n",
            "67:\ttotal: 1m 22s\tremaining: 1m 39s\n",
            "68:\ttotal: 1m 23s\tremaining: 1m 38s\n",
            "69:\ttotal: 1m 24s\tremaining: 1m 36s\n",
            "70:\ttotal: 1m 25s\tremaining: 1m 35s\n",
            "71:\ttotal: 1m 27s\tremaining: 1m 34s\n",
            "72:\ttotal: 1m 28s\tremaining: 1m 33s\n",
            "73:\ttotal: 1m 29s\tremaining: 1m 32s\n",
            "74:\ttotal: 1m 30s\tremaining: 1m 30s\n",
            "75:\ttotal: 1m 32s\tremaining: 1m 29s\n",
            "76:\ttotal: 1m 33s\tremaining: 1m 28s\n",
            "77:\ttotal: 1m 34s\tremaining: 1m 27s\n",
            "78:\ttotal: 1m 35s\tremaining: 1m 26s\n",
            "79:\ttotal: 1m 36s\tremaining: 1m 24s\n",
            "80:\ttotal: 1m 38s\tremaining: 1m 23s\n",
            "81:\ttotal: 1m 39s\tremaining: 1m 22s\n",
            "82:\ttotal: 1m 40s\tremaining: 1m 21s\n",
            "83:\ttotal: 1m 41s\tremaining: 1m 19s\n",
            "84:\ttotal: 1m 43s\tremaining: 1m 18s\n",
            "85:\ttotal: 1m 44s\tremaining: 1m 17s\n",
            "86:\ttotal: 1m 45s\tremaining: 1m 16s\n",
            "87:\ttotal: 1m 46s\tremaining: 1m 15s\n",
            "88:\ttotal: 1m 47s\tremaining: 1m 13s\n",
            "89:\ttotal: 1m 49s\tremaining: 1m 12s\n",
            "90:\ttotal: 1m 50s\tremaining: 1m 11s\n",
            "91:\ttotal: 1m 51s\tremaining: 1m 10s\n",
            "92:\ttotal: 1m 52s\tremaining: 1m 9s\n",
            "93:\ttotal: 1m 53s\tremaining: 1m 7s\n",
            "94:\ttotal: 1m 55s\tremaining: 1m 6s\n",
            "95:\ttotal: 1m 56s\tremaining: 1m 5s\n",
            "96:\ttotal: 1m 57s\tremaining: 1m 4s\n",
            "97:\ttotal: 1m 58s\tremaining: 1m 3s\n",
            "98:\ttotal: 2m\tremaining: 1m 1s\n",
            "99:\ttotal: 2m 1s\tremaining: 1m\n",
            "100:\ttotal: 2m 2s\tremaining: 59.4s\n",
            "101:\ttotal: 2m 3s\tremaining: 58.2s\n",
            "102:\ttotal: 2m 4s\tremaining: 57s\n",
            "103:\ttotal: 2m 6s\tremaining: 55.8s\n",
            "104:\ttotal: 2m 7s\tremaining: 54.6s\n",
            "105:\ttotal: 2m 8s\tremaining: 53.4s\n",
            "106:\ttotal: 2m 9s\tremaining: 52.2s\n",
            "107:\ttotal: 2m 11s\tremaining: 51s\n",
            "108:\ttotal: 2m 12s\tremaining: 49.8s\n",
            "109:\ttotal: 2m 13s\tremaining: 48.5s\n",
            "110:\ttotal: 2m 14s\tremaining: 47.3s\n",
            "111:\ttotal: 2m 15s\tremaining: 46.1s\n",
            "112:\ttotal: 2m 17s\tremaining: 44.9s\n",
            "113:\ttotal: 2m 18s\tremaining: 43.7s\n",
            "114:\ttotal: 2m 19s\tremaining: 42.5s\n",
            "115:\ttotal: 2m 20s\tremaining: 41.3s\n",
            "116:\ttotal: 2m 22s\tremaining: 40.1s\n",
            "117:\ttotal: 2m 23s\tremaining: 38.8s\n",
            "118:\ttotal: 2m 24s\tremaining: 37.6s\n",
            "119:\ttotal: 2m 25s\tremaining: 36.4s\n",
            "120:\ttotal: 2m 26s\tremaining: 35.2s\n",
            "121:\ttotal: 2m 28s\tremaining: 34s\n",
            "122:\ttotal: 2m 29s\tremaining: 32.8s\n",
            "123:\ttotal: 2m 30s\tremaining: 31.6s\n",
            "124:\ttotal: 2m 31s\tremaining: 30.3s\n",
            "125:\ttotal: 2m 32s\tremaining: 29.1s\n",
            "126:\ttotal: 2m 34s\tremaining: 27.9s\n",
            "127:\ttotal: 2m 35s\tremaining: 26.7s\n",
            "128:\ttotal: 2m 36s\tremaining: 25.5s\n",
            "129:\ttotal: 2m 37s\tremaining: 24.3s\n",
            "130:\ttotal: 2m 39s\tremaining: 23.1s\n",
            "131:\ttotal: 2m 40s\tremaining: 21.8s\n",
            "132:\ttotal: 2m 41s\tremaining: 20.6s\n",
            "133:\ttotal: 2m 42s\tremaining: 19.4s\n",
            "134:\ttotal: 2m 43s\tremaining: 18.2s\n",
            "135:\ttotal: 2m 45s\tremaining: 17s\n",
            "136:\ttotal: 2m 46s\tremaining: 15.8s\n",
            "137:\ttotal: 2m 47s\tremaining: 14.6s\n",
            "138:\ttotal: 2m 48s\tremaining: 13.3s\n",
            "139:\ttotal: 2m 49s\tremaining: 12.1s\n",
            "140:\ttotal: 2m 51s\tremaining: 10.9s\n",
            "141:\ttotal: 2m 52s\tremaining: 9.71s\n",
            "142:\ttotal: 2m 53s\tremaining: 8.49s\n",
            "143:\ttotal: 2m 54s\tremaining: 7.28s\n",
            "144:\ttotal: 2m 55s\tremaining: 6.07s\n",
            "145:\ttotal: 2m 57s\tremaining: 4.85s\n",
            "146:\ttotal: 2m 58s\tremaining: 3.64s\n",
            "147:\ttotal: 2m 59s\tremaining: 2.43s\n",
            "148:\ttotal: 3m\tremaining: 1.21s\n",
            "149:\ttotal: 3m 2s\tremaining: 0us\n",
            "--- Split: 3/5 ---\n",
            "Groupwise loss function. OneHotMaxSize set to 10\n"
          ]
        },
        {
          "output_type": "stream",
          "name": "stderr",
          "text": [
            "Metric PFound is not implemented on GPU. Will use CPU for metric computation, this could significantly affect learning time\n",
            "Metric PFound is not implemented on GPU. Will use CPU for metric computation, this could significantly affect learning time\n"
          ]
        },
        {
          "output_type": "stream",
          "name": "stdout",
          "text": [
            "0:\ttotal: 1.36s\tremaining: 3m 23s\n",
            "1:\ttotal: 2.57s\tremaining: 3m 10s\n",
            "2:\ttotal: 3.77s\tremaining: 3m 4s\n",
            "3:\ttotal: 4.97s\tremaining: 3m 1s\n",
            "4:\ttotal: 6.17s\tremaining: 2m 58s\n",
            "5:\ttotal: 7.36s\tremaining: 2m 56s\n",
            "6:\ttotal: 8.58s\tremaining: 2m 55s\n",
            "7:\ttotal: 9.78s\tremaining: 2m 53s\n",
            "8:\ttotal: 11s\tremaining: 2m 52s\n",
            "9:\ttotal: 12.2s\tremaining: 2m 50s\n",
            "10:\ttotal: 13.4s\tremaining: 2m 49s\n",
            "11:\ttotal: 14.6s\tremaining: 2m 47s\n",
            "12:\ttotal: 15.8s\tremaining: 2m 46s\n",
            "13:\ttotal: 17s\tremaining: 2m 45s\n",
            "14:\ttotal: 18.2s\tremaining: 2m 43s\n",
            "15:\ttotal: 19.4s\tremaining: 2m 42s\n",
            "16:\ttotal: 20.6s\tremaining: 2m 41s\n",
            "17:\ttotal: 21.8s\tremaining: 2m 40s\n",
            "18:\ttotal: 23s\tremaining: 2m 38s\n",
            "19:\ttotal: 24.2s\tremaining: 2m 37s\n",
            "20:\ttotal: 25.4s\tremaining: 2m 36s\n",
            "21:\ttotal: 26.6s\tremaining: 2m 35s\n",
            "22:\ttotal: 27.8s\tremaining: 2m 33s\n",
            "23:\ttotal: 29.1s\tremaining: 2m 32s\n",
            "24:\ttotal: 30.3s\tremaining: 2m 31s\n",
            "25:\ttotal: 31.5s\tremaining: 2m 30s\n",
            "26:\ttotal: 32.7s\tremaining: 2m 28s\n",
            "27:\ttotal: 33.9s\tremaining: 2m 27s\n",
            "28:\ttotal: 35.1s\tremaining: 2m 26s\n",
            "29:\ttotal: 36.3s\tremaining: 2m 25s\n",
            "30:\ttotal: 37.5s\tremaining: 2m 24s\n",
            "31:\ttotal: 38.7s\tremaining: 2m 22s\n",
            "32:\ttotal: 39.9s\tremaining: 2m 21s\n",
            "33:\ttotal: 41.2s\tremaining: 2m 20s\n",
            "34:\ttotal: 42.4s\tremaining: 2m 19s\n",
            "35:\ttotal: 43.6s\tremaining: 2m 17s\n",
            "36:\ttotal: 44.8s\tremaining: 2m 16s\n",
            "37:\ttotal: 46s\tremaining: 2m 15s\n",
            "38:\ttotal: 47.2s\tremaining: 2m 14s\n",
            "39:\ttotal: 48.4s\tremaining: 2m 13s\n",
            "40:\ttotal: 49.6s\tremaining: 2m 11s\n",
            "41:\ttotal: 50.8s\tremaining: 2m 10s\n",
            "42:\ttotal: 52.1s\tremaining: 2m 9s\n",
            "43:\ttotal: 53.3s\tremaining: 2m 8s\n",
            "44:\ttotal: 54.5s\tremaining: 2m 7s\n",
            "45:\ttotal: 55.7s\tremaining: 2m 5s\n",
            "46:\ttotal: 56.9s\tremaining: 2m 4s\n",
            "47:\ttotal: 58.1s\tremaining: 2m 3s\n",
            "48:\ttotal: 59.3s\tremaining: 2m 2s\n",
            "49:\ttotal: 1m\tremaining: 2m 1s\n",
            "50:\ttotal: 1m 1s\tremaining: 1m 59s\n",
            "51:\ttotal: 1m 2s\tremaining: 1m 58s\n",
            "52:\ttotal: 1m 4s\tremaining: 1m 57s\n",
            "53:\ttotal: 1m 5s\tremaining: 1m 56s\n",
            "54:\ttotal: 1m 6s\tremaining: 1m 54s\n",
            "55:\ttotal: 1m 7s\tremaining: 1m 53s\n",
            "56:\ttotal: 1m 8s\tremaining: 1m 52s\n",
            "57:\ttotal: 1m 10s\tremaining: 1m 51s\n",
            "58:\ttotal: 1m 11s\tremaining: 1m 50s\n",
            "59:\ttotal: 1m 12s\tremaining: 1m 48s\n",
            "60:\ttotal: 1m 13s\tremaining: 1m 47s\n",
            "61:\ttotal: 1m 15s\tremaining: 1m 46s\n",
            "62:\ttotal: 1m 16s\tremaining: 1m 45s\n",
            "63:\ttotal: 1m 17s\tremaining: 1m 44s\n",
            "64:\ttotal: 1m 18s\tremaining: 1m 42s\n",
            "65:\ttotal: 1m 19s\tremaining: 1m 41s\n",
            "66:\ttotal: 1m 21s\tremaining: 1m 40s\n",
            "67:\ttotal: 1m 22s\tremaining: 1m 39s\n",
            "68:\ttotal: 1m 23s\tremaining: 1m 38s\n",
            "69:\ttotal: 1m 24s\tremaining: 1m 36s\n",
            "70:\ttotal: 1m 25s\tremaining: 1m 35s\n",
            "71:\ttotal: 1m 27s\tremaining: 1m 34s\n",
            "72:\ttotal: 1m 28s\tremaining: 1m 33s\n",
            "73:\ttotal: 1m 29s\tremaining: 1m 31s\n",
            "74:\ttotal: 1m 30s\tremaining: 1m 30s\n",
            "75:\ttotal: 1m 31s\tremaining: 1m 29s\n",
            "76:\ttotal: 1m 33s\tremaining: 1m 28s\n",
            "77:\ttotal: 1m 34s\tremaining: 1m 27s\n",
            "78:\ttotal: 1m 35s\tremaining: 1m 25s\n",
            "79:\ttotal: 1m 36s\tremaining: 1m 24s\n",
            "80:\ttotal: 1m 38s\tremaining: 1m 23s\n",
            "81:\ttotal: 1m 39s\tremaining: 1m 22s\n",
            "82:\ttotal: 1m 40s\tremaining: 1m 21s\n",
            "83:\ttotal: 1m 41s\tremaining: 1m 19s\n",
            "84:\ttotal: 1m 42s\tremaining: 1m 18s\n",
            "85:\ttotal: 1m 44s\tremaining: 1m 17s\n",
            "86:\ttotal: 1m 45s\tremaining: 1m 16s\n",
            "87:\ttotal: 1m 46s\tremaining: 1m 15s\n",
            "88:\ttotal: 1m 47s\tremaining: 1m 13s\n",
            "89:\ttotal: 1m 48s\tremaining: 1m 12s\n",
            "90:\ttotal: 1m 50s\tremaining: 1m 11s\n",
            "91:\ttotal: 1m 51s\tremaining: 1m 10s\n",
            "92:\ttotal: 1m 52s\tremaining: 1m 9s\n",
            "93:\ttotal: 1m 53s\tremaining: 1m 7s\n",
            "94:\ttotal: 1m 55s\tremaining: 1m 6s\n",
            "95:\ttotal: 1m 56s\tremaining: 1m 5s\n",
            "96:\ttotal: 1m 57s\tremaining: 1m 4s\n",
            "97:\ttotal: 1m 58s\tremaining: 1m 2s\n",
            "98:\ttotal: 1m 59s\tremaining: 1m 1s\n",
            "99:\ttotal: 2m 1s\tremaining: 1m\n",
            "100:\ttotal: 2m 2s\tremaining: 59.4s\n",
            "101:\ttotal: 2m 3s\tremaining: 58.2s\n",
            "102:\ttotal: 2m 4s\tremaining: 57s\n",
            "103:\ttotal: 2m 6s\tremaining: 55.7s\n",
            "104:\ttotal: 2m 7s\tremaining: 54.5s\n",
            "105:\ttotal: 2m 8s\tremaining: 53.3s\n",
            "106:\ttotal: 2m 9s\tremaining: 52.1s\n",
            "107:\ttotal: 2m 10s\tremaining: 50.9s\n",
            "108:\ttotal: 2m 12s\tremaining: 49.7s\n",
            "109:\ttotal: 2m 13s\tremaining: 48.5s\n",
            "110:\ttotal: 2m 14s\tremaining: 47.3s\n",
            "111:\ttotal: 2m 15s\tremaining: 46.1s\n",
            "112:\ttotal: 2m 16s\tremaining: 44.9s\n",
            "113:\ttotal: 2m 18s\tremaining: 43.6s\n",
            "114:\ttotal: 2m 19s\tremaining: 42.4s\n",
            "115:\ttotal: 2m 20s\tremaining: 41.2s\n",
            "116:\ttotal: 2m 21s\tremaining: 40s\n",
            "117:\ttotal: 2m 23s\tremaining: 38.8s\n",
            "118:\ttotal: 2m 24s\tremaining: 37.6s\n",
            "119:\ttotal: 2m 25s\tremaining: 36.4s\n",
            "120:\ttotal: 2m 26s\tremaining: 35.2s\n",
            "121:\ttotal: 2m 27s\tremaining: 34s\n",
            "122:\ttotal: 2m 29s\tremaining: 32.7s\n",
            "123:\ttotal: 2m 30s\tremaining: 31.5s\n",
            "124:\ttotal: 2m 31s\tremaining: 30.3s\n",
            "125:\ttotal: 2m 32s\tremaining: 29.1s\n",
            "126:\ttotal: 2m 34s\tremaining: 27.9s\n",
            "127:\ttotal: 2m 35s\tremaining: 26.7s\n",
            "128:\ttotal: 2m 36s\tremaining: 25.5s\n",
            "129:\ttotal: 2m 37s\tremaining: 24.3s\n",
            "130:\ttotal: 2m 38s\tremaining: 23s\n",
            "131:\ttotal: 2m 40s\tremaining: 21.8s\n",
            "132:\ttotal: 2m 41s\tremaining: 20.6s\n",
            "133:\ttotal: 2m 42s\tremaining: 19.4s\n",
            "134:\ttotal: 2m 43s\tremaining: 18.2s\n",
            "135:\ttotal: 2m 44s\tremaining: 17s\n",
            "136:\ttotal: 2m 46s\tremaining: 15.8s\n",
            "137:\ttotal: 2m 47s\tremaining: 14.6s\n",
            "138:\ttotal: 2m 48s\tremaining: 13.3s\n",
            "139:\ttotal: 2m 49s\tremaining: 12.1s\n",
            "140:\ttotal: 2m 50s\tremaining: 10.9s\n",
            "141:\ttotal: 2m 52s\tremaining: 9.7s\n",
            "142:\ttotal: 2m 53s\tremaining: 8.49s\n",
            "143:\ttotal: 2m 54s\tremaining: 7.27s\n",
            "144:\ttotal: 2m 55s\tremaining: 6.06s\n",
            "145:\ttotal: 2m 57s\tremaining: 4.85s\n",
            "146:\ttotal: 2m 58s\tremaining: 3.64s\n",
            "147:\ttotal: 2m 59s\tremaining: 2.42s\n",
            "148:\ttotal: 3m\tremaining: 1.21s\n",
            "149:\ttotal: 3m 1s\tremaining: 0us\n",
            "--- Split: 4/5 ---\n",
            "Groupwise loss function. OneHotMaxSize set to 10\n"
          ]
        },
        {
          "output_type": "stream",
          "name": "stderr",
          "text": [
            "Metric PFound is not implemented on GPU. Will use CPU for metric computation, this could significantly affect learning time\n",
            "Metric PFound is not implemented on GPU. Will use CPU for metric computation, this could significantly affect learning time\n"
          ]
        },
        {
          "output_type": "stream",
          "name": "stdout",
          "text": [
            "0:\ttotal: 1.37s\tremaining: 3m 24s\n",
            "1:\ttotal: 2.58s\tremaining: 3m 11s\n",
            "2:\ttotal: 3.79s\tremaining: 3m 5s\n",
            "3:\ttotal: 5s\tremaining: 3m 2s\n",
            "4:\ttotal: 6.21s\tremaining: 3m\n",
            "5:\ttotal: 7.42s\tremaining: 2m 58s\n",
            "6:\ttotal: 8.63s\tremaining: 2m 56s\n",
            "7:\ttotal: 9.85s\tremaining: 2m 54s\n",
            "8:\ttotal: 11.1s\tremaining: 2m 53s\n",
            "9:\ttotal: 12.3s\tremaining: 2m 51s\n",
            "10:\ttotal: 13.5s\tremaining: 2m 50s\n",
            "11:\ttotal: 14.7s\tremaining: 2m 48s\n",
            "12:\ttotal: 15.9s\tremaining: 2m 47s\n",
            "13:\ttotal: 17.1s\tremaining: 2m 46s\n",
            "14:\ttotal: 18.3s\tremaining: 2m 44s\n",
            "15:\ttotal: 19.5s\tremaining: 2m 43s\n",
            "16:\ttotal: 20.7s\tremaining: 2m 42s\n",
            "17:\ttotal: 22s\tremaining: 2m 41s\n",
            "18:\ttotal: 23.2s\tremaining: 2m 39s\n",
            "19:\ttotal: 24.4s\tremaining: 2m 38s\n",
            "20:\ttotal: 25.6s\tremaining: 2m 37s\n",
            "21:\ttotal: 26.8s\tremaining: 2m 36s\n",
            "22:\ttotal: 28s\tremaining: 2m 34s\n",
            "23:\ttotal: 29.3s\tremaining: 2m 33s\n",
            "24:\ttotal: 30.5s\tremaining: 2m 32s\n",
            "25:\ttotal: 31.7s\tremaining: 2m 31s\n",
            "26:\ttotal: 32.9s\tremaining: 2m 29s\n",
            "27:\ttotal: 34.1s\tremaining: 2m 28s\n",
            "28:\ttotal: 35.4s\tremaining: 2m 27s\n",
            "29:\ttotal: 36.6s\tremaining: 2m 26s\n",
            "30:\ttotal: 37.8s\tremaining: 2m 25s\n",
            "31:\ttotal: 39s\tremaining: 2m 23s\n",
            "32:\ttotal: 40.2s\tremaining: 2m 22s\n",
            "33:\ttotal: 41.4s\tremaining: 2m 21s\n",
            "34:\ttotal: 42.7s\tremaining: 2m 20s\n",
            "35:\ttotal: 43.9s\tremaining: 2m 18s\n",
            "36:\ttotal: 45.1s\tremaining: 2m 17s\n",
            "37:\ttotal: 46.3s\tremaining: 2m 16s\n",
            "38:\ttotal: 47.5s\tremaining: 2m 15s\n",
            "39:\ttotal: 48.7s\tremaining: 2m 14s\n",
            "40:\ttotal: 50s\tremaining: 2m 12s\n",
            "41:\ttotal: 51.2s\tremaining: 2m 11s\n",
            "42:\ttotal: 52.4s\tremaining: 2m 10s\n",
            "43:\ttotal: 53.6s\tremaining: 2m 9s\n",
            "44:\ttotal: 54.8s\tremaining: 2m 7s\n",
            "45:\ttotal: 56s\tremaining: 2m 6s\n",
            "46:\ttotal: 57.3s\tremaining: 2m 5s\n",
            "47:\ttotal: 58.5s\tremaining: 2m 4s\n",
            "48:\ttotal: 59.7s\tremaining: 2m 3s\n",
            "49:\ttotal: 1m\tremaining: 2m 1s\n",
            "50:\ttotal: 1m 2s\tremaining: 2m\n",
            "51:\ttotal: 1m 3s\tremaining: 1m 59s\n",
            "52:\ttotal: 1m 4s\tremaining: 1m 58s\n",
            "53:\ttotal: 1m 5s\tremaining: 1m 56s\n",
            "54:\ttotal: 1m 6s\tremaining: 1m 55s\n",
            "55:\ttotal: 1m 8s\tremaining: 1m 54s\n",
            "56:\ttotal: 1m 9s\tremaining: 1m 53s\n",
            "57:\ttotal: 1m 10s\tremaining: 1m 52s\n",
            "58:\ttotal: 1m 11s\tremaining: 1m 50s\n",
            "59:\ttotal: 1m 13s\tremaining: 1m 49s\n",
            "60:\ttotal: 1m 14s\tremaining: 1m 48s\n",
            "61:\ttotal: 1m 15s\tremaining: 1m 47s\n",
            "62:\ttotal: 1m 16s\tremaining: 1m 45s\n",
            "63:\ttotal: 1m 17s\tremaining: 1m 44s\n",
            "64:\ttotal: 1m 19s\tremaining: 1m 43s\n",
            "65:\ttotal: 1m 20s\tremaining: 1m 42s\n",
            "66:\ttotal: 1m 21s\tremaining: 1m 41s\n",
            "67:\ttotal: 1m 22s\tremaining: 1m 39s\n",
            "68:\ttotal: 1m 23s\tremaining: 1m 38s\n",
            "69:\ttotal: 1m 25s\tremaining: 1m 37s\n",
            "70:\ttotal: 1m 26s\tremaining: 1m 36s\n",
            "71:\ttotal: 1m 27s\tremaining: 1m 34s\n",
            "72:\ttotal: 1m 28s\tremaining: 1m 33s\n",
            "73:\ttotal: 1m 30s\tremaining: 1m 32s\n",
            "74:\ttotal: 1m 31s\tremaining: 1m 31s\n",
            "75:\ttotal: 1m 32s\tremaining: 1m 30s\n",
            "76:\ttotal: 1m 33s\tremaining: 1m 28s\n",
            "77:\ttotal: 1m 34s\tremaining: 1m 27s\n",
            "78:\ttotal: 1m 36s\tremaining: 1m 26s\n",
            "79:\ttotal: 1m 37s\tremaining: 1m 25s\n",
            "80:\ttotal: 1m 38s\tremaining: 1m 24s\n",
            "81:\ttotal: 1m 39s\tremaining: 1m 22s\n",
            "82:\ttotal: 1m 41s\tremaining: 1m 21s\n",
            "83:\ttotal: 1m 42s\tremaining: 1m 20s\n",
            "84:\ttotal: 1m 43s\tremaining: 1m 19s\n",
            "85:\ttotal: 1m 44s\tremaining: 1m 17s\n",
            "86:\ttotal: 1m 45s\tremaining: 1m 16s\n",
            "87:\ttotal: 1m 47s\tremaining: 1m 15s\n",
            "88:\ttotal: 1m 48s\tremaining: 1m 14s\n",
            "89:\ttotal: 1m 49s\tremaining: 1m 13s\n",
            "90:\ttotal: 1m 50s\tremaining: 1m 11s\n",
            "91:\ttotal: 1m 52s\tremaining: 1m 10s\n",
            "92:\ttotal: 1m 53s\tremaining: 1m 9s\n",
            "93:\ttotal: 1m 54s\tremaining: 1m 8s\n",
            "94:\ttotal: 1m 55s\tremaining: 1m 7s\n",
            "95:\ttotal: 1m 56s\tremaining: 1m 5s\n",
            "96:\ttotal: 1m 58s\tremaining: 1m 4s\n",
            "97:\ttotal: 1m 59s\tremaining: 1m 3s\n",
            "98:\ttotal: 2m\tremaining: 1m 2s\n",
            "99:\ttotal: 2m 1s\tremaining: 1m\n",
            "100:\ttotal: 2m 3s\tremaining: 59.7s\n",
            "101:\ttotal: 2m 4s\tremaining: 58.5s\n",
            "102:\ttotal: 2m 5s\tremaining: 57.3s\n",
            "103:\ttotal: 2m 6s\tremaining: 56.1s\n",
            "104:\ttotal: 2m 7s\tremaining: 54.8s\n",
            "105:\ttotal: 2m 9s\tremaining: 53.6s\n",
            "106:\ttotal: 2m 10s\tremaining: 52.4s\n",
            "107:\ttotal: 2m 11s\tremaining: 51.2s\n",
            "108:\ttotal: 2m 12s\tremaining: 50s\n",
            "109:\ttotal: 2m 14s\tremaining: 48.8s\n",
            "110:\ttotal: 2m 15s\tremaining: 47.6s\n",
            "111:\ttotal: 2m 16s\tremaining: 46.3s\n",
            "112:\ttotal: 2m 17s\tremaining: 45.1s\n",
            "113:\ttotal: 2m 19s\tremaining: 43.9s\n",
            "114:\ttotal: 2m 20s\tremaining: 42.7s\n",
            "115:\ttotal: 2m 21s\tremaining: 41.5s\n",
            "116:\ttotal: 2m 22s\tremaining: 40.2s\n",
            "117:\ttotal: 2m 23s\tremaining: 39s\n",
            "118:\ttotal: 2m 25s\tremaining: 37.8s\n",
            "119:\ttotal: 2m 26s\tremaining: 36.6s\n",
            "120:\ttotal: 2m 27s\tremaining: 35.4s\n",
            "121:\ttotal: 2m 28s\tremaining: 34.1s\n",
            "122:\ttotal: 2m 30s\tremaining: 32.9s\n",
            "123:\ttotal: 2m 31s\tremaining: 31.7s\n",
            "124:\ttotal: 2m 32s\tremaining: 30.5s\n",
            "125:\ttotal: 2m 33s\tremaining: 29.3s\n",
            "126:\ttotal: 2m 34s\tremaining: 28.1s\n",
            "127:\ttotal: 2m 36s\tremaining: 26.8s\n",
            "128:\ttotal: 2m 37s\tremaining: 25.6s\n",
            "129:\ttotal: 2m 38s\tremaining: 24.4s\n",
            "130:\ttotal: 2m 39s\tremaining: 23.2s\n",
            "131:\ttotal: 2m 40s\tremaining: 22s\n",
            "132:\ttotal: 2m 42s\tremaining: 20.7s\n",
            "133:\ttotal: 2m 43s\tremaining: 19.5s\n",
            "134:\ttotal: 2m 44s\tremaining: 18.3s\n",
            "135:\ttotal: 2m 45s\tremaining: 17.1s\n",
            "136:\ttotal: 2m 47s\tremaining: 15.9s\n",
            "137:\ttotal: 2m 48s\tremaining: 14.6s\n",
            "138:\ttotal: 2m 49s\tremaining: 13.4s\n",
            "139:\ttotal: 2m 50s\tremaining: 12.2s\n",
            "140:\ttotal: 2m 51s\tremaining: 11s\n",
            "141:\ttotal: 2m 53s\tremaining: 9.75s\n",
            "142:\ttotal: 2m 54s\tremaining: 8.54s\n",
            "143:\ttotal: 2m 55s\tremaining: 7.32s\n",
            "144:\ttotal: 2m 56s\tremaining: 6.1s\n",
            "145:\ttotal: 2m 58s\tremaining: 4.88s\n",
            "146:\ttotal: 2m 59s\tremaining: 3.66s\n",
            "147:\ttotal: 3m\tremaining: 2.44s\n",
            "148:\ttotal: 3m 1s\tremaining: 1.22s\n",
            "149:\ttotal: 3m 2s\tremaining: 0us\n",
            "--- Split: 5/5 ---\n",
            "Groupwise loss function. OneHotMaxSize set to 10\n"
          ]
        },
        {
          "output_type": "stream",
          "name": "stderr",
          "text": [
            "Metric PFound is not implemented on GPU. Will use CPU for metric computation, this could significantly affect learning time\n",
            "Metric PFound is not implemented on GPU. Will use CPU for metric computation, this could significantly affect learning time\n"
          ]
        },
        {
          "output_type": "stream",
          "name": "stdout",
          "text": [
            "0:\ttotal: 1.38s\tremaining: 3m 25s\n",
            "1:\ttotal: 2.58s\tremaining: 3m 11s\n",
            "2:\ttotal: 3.81s\tremaining: 3m 6s\n",
            "3:\ttotal: 5.03s\tremaining: 3m 3s\n",
            "4:\ttotal: 6.24s\tremaining: 3m 1s\n",
            "5:\ttotal: 7.46s\tremaining: 2m 59s\n",
            "6:\ttotal: 8.68s\tremaining: 2m 57s\n",
            "7:\ttotal: 9.89s\tremaining: 2m 55s\n",
            "8:\ttotal: 11.1s\tremaining: 2m 54s\n",
            "9:\ttotal: 12.3s\tremaining: 2m 52s\n",
            "10:\ttotal: 13.6s\tremaining: 2m 51s\n",
            "11:\ttotal: 14.8s\tremaining: 2m 49s\n",
            "12:\ttotal: 16s\tremaining: 2m 48s\n",
            "13:\ttotal: 17.2s\tremaining: 2m 47s\n",
            "14:\ttotal: 18.4s\tremaining: 2m 45s\n",
            "15:\ttotal: 19.7s\tremaining: 2m 44s\n",
            "16:\ttotal: 20.9s\tremaining: 2m 43s\n",
            "17:\ttotal: 22.1s\tremaining: 2m 42s\n",
            "18:\ttotal: 23.3s\tremaining: 2m 40s\n",
            "19:\ttotal: 24.5s\tremaining: 2m 39s\n",
            "20:\ttotal: 25.8s\tremaining: 2m 38s\n",
            "21:\ttotal: 27s\tremaining: 2m 36s\n",
            "22:\ttotal: 28.2s\tremaining: 2m 35s\n",
            "23:\ttotal: 29.4s\tremaining: 2m 34s\n",
            "24:\ttotal: 30.7s\tremaining: 2m 33s\n",
            "25:\ttotal: 31.9s\tremaining: 2m 32s\n",
            "26:\ttotal: 33.1s\tremaining: 2m 30s\n",
            "27:\ttotal: 34.3s\tremaining: 2m 29s\n",
            "28:\ttotal: 35.5s\tremaining: 2m 28s\n",
            "29:\ttotal: 36.8s\tremaining: 2m 27s\n",
            "30:\ttotal: 38s\tremaining: 2m 25s\n",
            "31:\ttotal: 39.2s\tremaining: 2m 24s\n",
            "32:\ttotal: 40.4s\tremaining: 2m 23s\n",
            "33:\ttotal: 41.6s\tremaining: 2m 22s\n",
            "34:\ttotal: 42.9s\tremaining: 2m 20s\n",
            "35:\ttotal: 44.1s\tremaining: 2m 19s\n",
            "36:\ttotal: 45.3s\tremaining: 2m 18s\n",
            "37:\ttotal: 46.5s\tremaining: 2m 17s\n",
            "38:\ttotal: 47.7s\tremaining: 2m 15s\n",
            "39:\ttotal: 49s\tremaining: 2m 14s\n",
            "40:\ttotal: 50.2s\tremaining: 2m 13s\n",
            "41:\ttotal: 51.4s\tremaining: 2m 12s\n",
            "42:\ttotal: 52.6s\tremaining: 2m 10s\n",
            "43:\ttotal: 53.8s\tremaining: 2m 9s\n",
            "44:\ttotal: 55.1s\tremaining: 2m 8s\n",
            "45:\ttotal: 56.3s\tremaining: 2m 7s\n",
            "46:\ttotal: 57.5s\tremaining: 2m 5s\n",
            "47:\ttotal: 58.7s\tremaining: 2m 4s\n",
            "48:\ttotal: 59.9s\tremaining: 2m 3s\n",
            "49:\ttotal: 1m 1s\tremaining: 2m 2s\n",
            "50:\ttotal: 1m 2s\tremaining: 2m 1s\n",
            "51:\ttotal: 1m 3s\tremaining: 1m 59s\n",
            "52:\ttotal: 1m 4s\tremaining: 1m 58s\n",
            "53:\ttotal: 1m 6s\tremaining: 1m 57s\n",
            "54:\ttotal: 1m 7s\tremaining: 1m 56s\n",
            "55:\ttotal: 1m 8s\tremaining: 1m 54s\n",
            "56:\ttotal: 1m 9s\tremaining: 1m 53s\n",
            "57:\ttotal: 1m 10s\tremaining: 1m 52s\n",
            "58:\ttotal: 1m 12s\tremaining: 1m 51s\n",
            "59:\ttotal: 1m 13s\tremaining: 1m 50s\n",
            "60:\ttotal: 1m 14s\tremaining: 1m 48s\n",
            "61:\ttotal: 1m 15s\tremaining: 1m 47s\n",
            "62:\ttotal: 1m 17s\tremaining: 1m 46s\n",
            "63:\ttotal: 1m 18s\tremaining: 1m 45s\n",
            "64:\ttotal: 1m 19s\tremaining: 1m 43s\n",
            "65:\ttotal: 1m 20s\tremaining: 1m 42s\n",
            "66:\ttotal: 1m 21s\tremaining: 1m 41s\n",
            "67:\ttotal: 1m 23s\tremaining: 1m 40s\n",
            "68:\ttotal: 1m 24s\tremaining: 1m 39s\n",
            "69:\ttotal: 1m 25s\tremaining: 1m 37s\n",
            "70:\ttotal: 1m 26s\tremaining: 1m 36s\n",
            "71:\ttotal: 1m 28s\tremaining: 1m 35s\n",
            "72:\ttotal: 1m 29s\tremaining: 1m 34s\n",
            "73:\ttotal: 1m 30s\tremaining: 1m 32s\n",
            "74:\ttotal: 1m 31s\tremaining: 1m 31s\n",
            "75:\ttotal: 1m 32s\tremaining: 1m 30s\n",
            "76:\ttotal: 1m 34s\tremaining: 1m 29s\n",
            "77:\ttotal: 1m 35s\tremaining: 1m 28s\n",
            "78:\ttotal: 1m 36s\tremaining: 1m 26s\n",
            "79:\ttotal: 1m 37s\tremaining: 1m 25s\n",
            "80:\ttotal: 1m 39s\tremaining: 1m 24s\n",
            "81:\ttotal: 1m 40s\tremaining: 1m 23s\n",
            "82:\ttotal: 1m 41s\tremaining: 1m 21s\n",
            "83:\ttotal: 1m 42s\tremaining: 1m 20s\n",
            "84:\ttotal: 1m 43s\tremaining: 1m 19s\n",
            "85:\ttotal: 1m 45s\tremaining: 1m 18s\n",
            "86:\ttotal: 1m 46s\tremaining: 1m 17s\n",
            "87:\ttotal: 1m 47s\tremaining: 1m 15s\n",
            "88:\ttotal: 1m 48s\tremaining: 1m 14s\n",
            "89:\ttotal: 1m 50s\tremaining: 1m 13s\n",
            "90:\ttotal: 1m 51s\tremaining: 1m 12s\n",
            "91:\ttotal: 1m 52s\tremaining: 1m 10s\n",
            "92:\ttotal: 1m 53s\tremaining: 1m 9s\n",
            "93:\ttotal: 1m 54s\tremaining: 1m 8s\n",
            "94:\ttotal: 1m 56s\tremaining: 1m 7s\n",
            "95:\ttotal: 1m 57s\tremaining: 1m 6s\n",
            "96:\ttotal: 1m 58s\tremaining: 1m 4s\n",
            "97:\ttotal: 1m 59s\tremaining: 1m 3s\n",
            "98:\ttotal: 2m 1s\tremaining: 1m 2s\n",
            "99:\ttotal: 2m 2s\tremaining: 1m 1s\n",
            "100:\ttotal: 2m 3s\tremaining: 59.9s\n",
            "101:\ttotal: 2m 4s\tremaining: 58.7s\n",
            "102:\ttotal: 2m 5s\tremaining: 57.5s\n",
            "103:\ttotal: 2m 7s\tremaining: 56.3s\n",
            "104:\ttotal: 2m 8s\tremaining: 55s\n",
            "105:\ttotal: 2m 9s\tremaining: 53.8s\n",
            "106:\ttotal: 2m 10s\tremaining: 52.6s\n",
            "107:\ttotal: 2m 12s\tremaining: 51.4s\n",
            "108:\ttotal: 2m 13s\tremaining: 50.2s\n",
            "109:\ttotal: 2m 14s\tremaining: 48.9s\n",
            "110:\ttotal: 2m 15s\tremaining: 47.7s\n",
            "111:\ttotal: 2m 17s\tremaining: 46.5s\n",
            "112:\ttotal: 2m 18s\tremaining: 45.3s\n",
            "113:\ttotal: 2m 19s\tremaining: 44.1s\n",
            "114:\ttotal: 2m 20s\tremaining: 42.8s\n",
            "115:\ttotal: 2m 21s\tremaining: 41.6s\n",
            "116:\ttotal: 2m 23s\tremaining: 40.4s\n",
            "117:\ttotal: 2m 24s\tremaining: 39.2s\n",
            "118:\ttotal: 2m 25s\tremaining: 37.9s\n",
            "119:\ttotal: 2m 26s\tremaining: 36.7s\n",
            "120:\ttotal: 2m 28s\tremaining: 35.5s\n",
            "121:\ttotal: 2m 29s\tremaining: 34.3s\n",
            "122:\ttotal: 2m 30s\tremaining: 33.1s\n",
            "123:\ttotal: 2m 31s\tremaining: 31.8s\n",
            "124:\ttotal: 2m 33s\tremaining: 30.6s\n",
            "125:\ttotal: 2m 34s\tremaining: 29.4s\n",
            "126:\ttotal: 2m 35s\tremaining: 28.2s\n",
            "127:\ttotal: 2m 36s\tremaining: 26.9s\n",
            "128:\ttotal: 2m 37s\tremaining: 25.7s\n",
            "129:\ttotal: 2m 39s\tremaining: 24.5s\n",
            "130:\ttotal: 2m 40s\tremaining: 23.3s\n",
            "131:\ttotal: 2m 41s\tremaining: 22s\n",
            "132:\ttotal: 2m 42s\tremaining: 20.8s\n",
            "133:\ttotal: 2m 44s\tremaining: 19.6s\n",
            "134:\ttotal: 2m 45s\tremaining: 18.4s\n",
            "135:\ttotal: 2m 46s\tremaining: 17.1s\n",
            "136:\ttotal: 2m 47s\tremaining: 15.9s\n",
            "137:\ttotal: 2m 48s\tremaining: 14.7s\n",
            "138:\ttotal: 2m 50s\tremaining: 13.5s\n",
            "139:\ttotal: 2m 51s\tremaining: 12.2s\n",
            "140:\ttotal: 2m 52s\tremaining: 11s\n",
            "141:\ttotal: 2m 53s\tremaining: 9.79s\n",
            "142:\ttotal: 2m 55s\tremaining: 8.57s\n",
            "143:\ttotal: 2m 56s\tremaining: 7.35s\n",
            "144:\ttotal: 2m 57s\tremaining: 6.12s\n",
            "145:\ttotal: 2m 58s\tremaining: 4.9s\n",
            "146:\ttotal: 2m 59s\tremaining: 3.67s\n",
            "147:\ttotal: 3m 1s\tremaining: 2.45s\n",
            "148:\ttotal: 3m 2s\tremaining: 1.22s\n",
            "149:\ttotal: 3m 3s\tremaining: 0us\n",
            "CPU times: user 23min 40s, sys: 50.7 s, total: 24min 30s\n",
            "Wall time: 20min 58s\n"
          ]
        }
      ],
      "source": [
        "%%time\n",
        "catboost_model = CatBoostModel(loss_function=\"YetiRank\", \n",
        "                                 iterations=150, \n",
        "                                #  task_type=\"CPU\",\n",
        "                                 task_type=\"GPU\",\n",
        "                                 random_state=SEED)\n",
        "\n",
        "catboost_auc_per_query = get_metric(catboost_model, TRAIN_DATASET, n_splits=5)"
      ]
    },
    {
      "cell_type": "code",
      "execution_count": 13,
      "id": "6e3034ac",
      "metadata": {
        "colab": {
          "base_uri": "https://localhost:8080/",
          "height": 235
        },
        "id": "6e3034ac",
        "outputId": "6766d891-4991-40b7-8a17-d74d78c767d6"
      },
      "outputs": [
        {
          "output_type": "execute_result",
          "data": {
            "text/html": [
              "<div>\n",
              "<style scoped>\n",
              "    .dataframe tbody tr th:only-of-type {\n",
              "        vertical-align: middle;\n",
              "    }\n",
              "\n",
              "    .dataframe tbody tr th {\n",
              "        vertical-align: top;\n",
              "    }\n",
              "\n",
              "    .dataframe thead th {\n",
              "        text-align: right;\n",
              "    }\n",
              "</style>\n",
              "<table border=\"1\" class=\"dataframe\">\n",
              "  <thead>\n",
              "    <tr style=\"text-align: right;\">\n",
              "      <th></th>\n",
              "      <th>AUC_per_query</th>\n",
              "    </tr>\n",
              "  </thead>\n",
              "  <tbody>\n",
              "    <tr>\n",
              "      <th>split: 1</th>\n",
              "      <td>0.639934</td>\n",
              "    </tr>\n",
              "    <tr>\n",
              "      <th>split: 2</th>\n",
              "      <td>0.640393</td>\n",
              "    </tr>\n",
              "    <tr>\n",
              "      <th>split: 3</th>\n",
              "      <td>0.641983</td>\n",
              "    </tr>\n",
              "    <tr>\n",
              "      <th>split: 4</th>\n",
              "      <td>0.642495</td>\n",
              "    </tr>\n",
              "    <tr>\n",
              "      <th>split: 5</th>\n",
              "      <td>0.64141</td>\n",
              "    </tr>\n",
              "    <tr>\n",
              "      <th>avg</th>\n",
              "      <td>0.641243</td>\n",
              "    </tr>\n",
              "  </tbody>\n",
              "</table>\n",
              "</div>"
            ],
            "text/plain": [
              "         AUC_per_query\n",
              "split: 1      0.639934\n",
              "split: 2      0.640393\n",
              "split: 3      0.641983\n",
              "split: 4      0.642495\n",
              "split: 5       0.64141\n",
              "avg           0.641243"
            ]
          },
          "metadata": {},
          "execution_count": 13
        }
      ],
      "source": [
        "catboost_auc_per_query"
      ]
    },
    {
      "cell_type": "markdown",
      "id": "bae20ed8",
      "metadata": {
        "id": "bae20ed8"
      },
      "source": [
        "#### Embeddings"
      ]
    },
    {
      "cell_type": "code",
      "execution_count": 14,
      "id": "7c8645ff",
      "metadata": {
        "colab": {
          "base_uri": "https://localhost:8080/"
        },
        "id": "7c8645ff",
        "outputId": "0924ae53-e06f-4de7-dd85-2eac9d0694b6"
      },
      "outputs": [
        {
          "output_type": "stream",
          "name": "stdout",
          "text": [
            "--- Split: 1/5 ---\n",
            "Fit items...\n"
          ]
        },
        {
          "output_type": "stream",
          "name": "stderr",
          "text": [
            "Fit users: 100%|██████████| 30755/30755 [15:25<00:00, 33.24it/s]\n"
          ]
        },
        {
          "output_type": "stream",
          "name": "stdout",
          "text": [
            "--- Split: 2/5 ---\n",
            "Fit items...\n"
          ]
        },
        {
          "output_type": "stream",
          "name": "stderr",
          "text": [
            "Fit users: 100%|██████████| 30755/30755 [14:50<00:00, 34.53it/s]\n"
          ]
        },
        {
          "output_type": "stream",
          "name": "stdout",
          "text": [
            "--- Split: 3/5 ---\n",
            "Fit items...\n"
          ]
        },
        {
          "output_type": "stream",
          "name": "stderr",
          "text": [
            "Fit users: 100%|██████████| 30755/30755 [14:40<00:00, 34.94it/s]\n"
          ]
        },
        {
          "output_type": "stream",
          "name": "stdout",
          "text": [
            "--- Split: 4/5 ---\n",
            "Fit items...\n"
          ]
        },
        {
          "output_type": "stream",
          "name": "stderr",
          "text": [
            "Fit users: 100%|██████████| 30755/30755 [14:52<00:00, 34.47it/s]\n"
          ]
        },
        {
          "output_type": "stream",
          "name": "stdout",
          "text": [
            "--- Split: 5/5 ---\n",
            "Fit items...\n"
          ]
        },
        {
          "output_type": "stream",
          "name": "stderr",
          "text": [
            "Fit users: 100%|██████████| 30755/30755 [14:45<00:00, 34.72it/s]\n"
          ]
        },
        {
          "output_type": "stream",
          "name": "stdout",
          "text": [
            "CPU times: user 1h 32min 3s, sys: 1min 9s, total: 1h 33min 13s\n",
            "Wall time: 1h 25min 46s\n"
          ]
        }
      ],
      "source": [
        "%%time\n",
        "embedding_model = EmbeddingModel(embedding_dim=100, \n",
        "                                 random_state=SEED, \n",
        "                                #  min_count=1)\n",
        "                                 min_count=5)\n",
        "\n",
        "embedding_auc_per_query = get_metric(embedding_model, TRAIN_DATASET, n_splits=5)"
      ]
    },
    {
      "cell_type": "code",
      "execution_count": 15,
      "id": "60b64bb3",
      "metadata": {
        "scrolled": true,
        "colab": {
          "base_uri": "https://localhost:8080/",
          "height": 235
        },
        "id": "60b64bb3",
        "outputId": "8f534af7-74da-42f2-8daa-1dab171b1a01"
      },
      "outputs": [
        {
          "output_type": "execute_result",
          "data": {
            "text/html": [
              "<div>\n",
              "<style scoped>\n",
              "    .dataframe tbody tr th:only-of-type {\n",
              "        vertical-align: middle;\n",
              "    }\n",
              "\n",
              "    .dataframe tbody tr th {\n",
              "        vertical-align: top;\n",
              "    }\n",
              "\n",
              "    .dataframe thead th {\n",
              "        text-align: right;\n",
              "    }\n",
              "</style>\n",
              "<table border=\"1\" class=\"dataframe\">\n",
              "  <thead>\n",
              "    <tr style=\"text-align: right;\">\n",
              "      <th></th>\n",
              "      <th>AUC_per_query</th>\n",
              "    </tr>\n",
              "  </thead>\n",
              "  <tbody>\n",
              "    <tr>\n",
              "      <th>split: 1</th>\n",
              "      <td>0.5</td>\n",
              "    </tr>\n",
              "    <tr>\n",
              "      <th>split: 2</th>\n",
              "      <td>0.5</td>\n",
              "    </tr>\n",
              "    <tr>\n",
              "      <th>split: 3</th>\n",
              "      <td>0.5</td>\n",
              "    </tr>\n",
              "    <tr>\n",
              "      <th>split: 4</th>\n",
              "      <td>0.5</td>\n",
              "    </tr>\n",
              "    <tr>\n",
              "      <th>split: 5</th>\n",
              "      <td>0.5</td>\n",
              "    </tr>\n",
              "    <tr>\n",
              "      <th>avg</th>\n",
              "      <td>0.5</td>\n",
              "    </tr>\n",
              "  </tbody>\n",
              "</table>\n",
              "</div>"
            ],
            "text/plain": [
              "         AUC_per_query\n",
              "split: 1           0.5\n",
              "split: 2           0.5\n",
              "split: 3           0.5\n",
              "split: 4           0.5\n",
              "split: 5           0.5\n",
              "avg                0.5"
            ]
          },
          "metadata": {},
          "execution_count": 15
        }
      ],
      "source": [
        "embedding_auc_per_query"
      ]
    },
    {
      "cell_type": "markdown",
      "id": "789629a3",
      "metadata": {
        "id": "789629a3"
      },
      "source": [
        "#### Embeddings + CatBoost"
      ]
    },
    {
      "cell_type": "code",
      "execution_count": 16,
      "id": "edaf4aab",
      "metadata": {
        "colab": {
          "base_uri": "https://localhost:8080/",
          "height": 459
        },
        "id": "edaf4aab",
        "outputId": "91268b1c-b3b4-47b6-99b2-bf46dedb59eb"
      },
      "outputs": [
        {
          "output_type": "stream",
          "name": "stdout",
          "text": [
            "--- Split: 1/5 ---\n",
            "Fit items...\n"
          ]
        },
        {
          "output_type": "error",
          "ename": "KeyboardInterrupt",
          "evalue": "ignored",
          "traceback": [
            "\u001b[0;31m---------------------------------------------------------------------------\u001b[0m",
            "\u001b[0;31mKeyboardInterrupt\u001b[0m                         Traceback (most recent call last)",
            "\u001b[0;32m<ipython-input-16-28a49d9c4d6c>\u001b[0m in \u001b[0;36m<module>\u001b[0;34m()\u001b[0m\n\u001b[0;32m----> 1\u001b[0;31m \u001b[0mget_ipython\u001b[0m\u001b[0;34m(\u001b[0m\u001b[0;34m)\u001b[0m\u001b[0;34m.\u001b[0m\u001b[0mrun_cell_magic\u001b[0m\u001b[0;34m(\u001b[0m\u001b[0;34m'time'\u001b[0m\u001b[0;34m,\u001b[0m \u001b[0;34m''\u001b[0m\u001b[0;34m,\u001b[0m \u001b[0;34m'stack_model = StackModel(loss_function=\"YetiRank\", \\n                         iterations=150, \\n                        #  task_type=\"CPU\",\\n                         task_type=\"GPU\",  \\n                         random_state=SEED,\\n                         embedding_dim=100,\\n                        #  min_count=1)\\n                         min_count=5)\\n\\nstack_scores = get_metric(stack_model, TRAIN_DATASET, n_splits=5)'\u001b[0m\u001b[0;34m)\u001b[0m\u001b[0;34m\u001b[0m\u001b[0;34m\u001b[0m\u001b[0m\n\u001b[0m",
            "\u001b[0;32m/usr/local/lib/python3.7/dist-packages/IPython/core/interactiveshell.py\u001b[0m in \u001b[0;36mrun_cell_magic\u001b[0;34m(self, magic_name, line, cell)\u001b[0m\n\u001b[1;32m   2115\u001b[0m             \u001b[0mmagic_arg_s\u001b[0m \u001b[0;34m=\u001b[0m \u001b[0mself\u001b[0m\u001b[0;34m.\u001b[0m\u001b[0mvar_expand\u001b[0m\u001b[0;34m(\u001b[0m\u001b[0mline\u001b[0m\u001b[0;34m,\u001b[0m \u001b[0mstack_depth\u001b[0m\u001b[0;34m)\u001b[0m\u001b[0;34m\u001b[0m\u001b[0;34m\u001b[0m\u001b[0m\n\u001b[1;32m   2116\u001b[0m             \u001b[0;32mwith\u001b[0m \u001b[0mself\u001b[0m\u001b[0;34m.\u001b[0m\u001b[0mbuiltin_trap\u001b[0m\u001b[0;34m:\u001b[0m\u001b[0;34m\u001b[0m\u001b[0;34m\u001b[0m\u001b[0m\n\u001b[0;32m-> 2117\u001b[0;31m                 \u001b[0mresult\u001b[0m \u001b[0;34m=\u001b[0m \u001b[0mfn\u001b[0m\u001b[0;34m(\u001b[0m\u001b[0mmagic_arg_s\u001b[0m\u001b[0;34m,\u001b[0m \u001b[0mcell\u001b[0m\u001b[0;34m)\u001b[0m\u001b[0;34m\u001b[0m\u001b[0;34m\u001b[0m\u001b[0m\n\u001b[0m\u001b[1;32m   2118\u001b[0m             \u001b[0;32mreturn\u001b[0m \u001b[0mresult\u001b[0m\u001b[0;34m\u001b[0m\u001b[0;34m\u001b[0m\u001b[0m\n\u001b[1;32m   2119\u001b[0m \u001b[0;34m\u001b[0m\u001b[0m\n",
            "\u001b[0;32m<decorator-gen-53>\u001b[0m in \u001b[0;36mtime\u001b[0;34m(self, line, cell, local_ns)\u001b[0m\n",
            "\u001b[0;32m/usr/local/lib/python3.7/dist-packages/IPython/core/magic.py\u001b[0m in \u001b[0;36m<lambda>\u001b[0;34m(f, *a, **k)\u001b[0m\n\u001b[1;32m    186\u001b[0m     \u001b[0;31m# but it's overkill for just that one bit of state.\u001b[0m\u001b[0;34m\u001b[0m\u001b[0;34m\u001b[0m\u001b[0;34m\u001b[0m\u001b[0m\n\u001b[1;32m    187\u001b[0m     \u001b[0;32mdef\u001b[0m \u001b[0mmagic_deco\u001b[0m\u001b[0;34m(\u001b[0m\u001b[0marg\u001b[0m\u001b[0;34m)\u001b[0m\u001b[0;34m:\u001b[0m\u001b[0;34m\u001b[0m\u001b[0;34m\u001b[0m\u001b[0m\n\u001b[0;32m--> 188\u001b[0;31m         \u001b[0mcall\u001b[0m \u001b[0;34m=\u001b[0m \u001b[0;32mlambda\u001b[0m \u001b[0mf\u001b[0m\u001b[0;34m,\u001b[0m \u001b[0;34m*\u001b[0m\u001b[0ma\u001b[0m\u001b[0;34m,\u001b[0m \u001b[0;34m**\u001b[0m\u001b[0mk\u001b[0m\u001b[0;34m:\u001b[0m \u001b[0mf\u001b[0m\u001b[0;34m(\u001b[0m\u001b[0;34m*\u001b[0m\u001b[0ma\u001b[0m\u001b[0;34m,\u001b[0m \u001b[0;34m**\u001b[0m\u001b[0mk\u001b[0m\u001b[0;34m)\u001b[0m\u001b[0;34m\u001b[0m\u001b[0;34m\u001b[0m\u001b[0m\n\u001b[0m\u001b[1;32m    189\u001b[0m \u001b[0;34m\u001b[0m\u001b[0m\n\u001b[1;32m    190\u001b[0m         \u001b[0;32mif\u001b[0m \u001b[0mcallable\u001b[0m\u001b[0;34m(\u001b[0m\u001b[0marg\u001b[0m\u001b[0;34m)\u001b[0m\u001b[0;34m:\u001b[0m\u001b[0;34m\u001b[0m\u001b[0;34m\u001b[0m\u001b[0m\n",
            "\u001b[0;32m/usr/local/lib/python3.7/dist-packages/IPython/core/magics/execution.py\u001b[0m in \u001b[0;36mtime\u001b[0;34m(self, line, cell, local_ns)\u001b[0m\n\u001b[1;32m   1191\u001b[0m         \u001b[0;32melse\u001b[0m\u001b[0;34m:\u001b[0m\u001b[0;34m\u001b[0m\u001b[0;34m\u001b[0m\u001b[0m\n\u001b[1;32m   1192\u001b[0m             \u001b[0mst\u001b[0m \u001b[0;34m=\u001b[0m \u001b[0mclock2\u001b[0m\u001b[0;34m(\u001b[0m\u001b[0;34m)\u001b[0m\u001b[0;34m\u001b[0m\u001b[0;34m\u001b[0m\u001b[0m\n\u001b[0;32m-> 1193\u001b[0;31m             \u001b[0mexec\u001b[0m\u001b[0;34m(\u001b[0m\u001b[0mcode\u001b[0m\u001b[0;34m,\u001b[0m \u001b[0mglob\u001b[0m\u001b[0;34m,\u001b[0m \u001b[0mlocal_ns\u001b[0m\u001b[0;34m)\u001b[0m\u001b[0;34m\u001b[0m\u001b[0;34m\u001b[0m\u001b[0m\n\u001b[0m\u001b[1;32m   1194\u001b[0m             \u001b[0mend\u001b[0m \u001b[0;34m=\u001b[0m \u001b[0mclock2\u001b[0m\u001b[0;34m(\u001b[0m\u001b[0;34m)\u001b[0m\u001b[0;34m\u001b[0m\u001b[0;34m\u001b[0m\u001b[0m\n\u001b[1;32m   1195\u001b[0m             \u001b[0mout\u001b[0m \u001b[0;34m=\u001b[0m \u001b[0;32mNone\u001b[0m\u001b[0;34m\u001b[0m\u001b[0;34m\u001b[0m\u001b[0m\n",
            "\u001b[0;32m<timed exec>\u001b[0m in \u001b[0;36m<module>\u001b[0;34m()\u001b[0m\n",
            "\u001b[0;32m/content/train_utils.py\u001b[0m in \u001b[0;36mget_metric\u001b[0;34m(model, dataset, n_splits)\u001b[0m\n\u001b[1;32m    100\u001b[0m     \u001b[0;32mfor\u001b[0m \u001b[0mi\u001b[0m\u001b[0;34m,\u001b[0m \u001b[0;34m(\u001b[0m\u001b[0mtrain_dataset\u001b[0m\u001b[0;34m,\u001b[0m \u001b[0mtest_dataset\u001b[0m\u001b[0;34m)\u001b[0m \u001b[0;32min\u001b[0m \u001b[0menumerate\u001b[0m\u001b[0;34m(\u001b[0m\u001b[0mdataset\u001b[0m\u001b[0;34m.\u001b[0m\u001b[0msplit\u001b[0m\u001b[0;34m(\u001b[0m\u001b[0mn_splits\u001b[0m\u001b[0;34m)\u001b[0m\u001b[0;34m)\u001b[0m\u001b[0;34m:\u001b[0m\u001b[0;34m\u001b[0m\u001b[0;34m\u001b[0m\u001b[0m\n\u001b[1;32m    101\u001b[0m         \u001b[0mprint\u001b[0m\u001b[0;34m(\u001b[0m\u001b[0;34mf\"--- Split: {i+1}/{n_splits} ---\"\u001b[0m\u001b[0;34m)\u001b[0m\u001b[0;34m\u001b[0m\u001b[0;34m\u001b[0m\u001b[0m\n\u001b[0;32m--> 102\u001b[0;31m         \u001b[0mmodel\u001b[0m\u001b[0;34m.\u001b[0m\u001b[0mfit\u001b[0m\u001b[0;34m(\u001b[0m\u001b[0mtrain_dataset\u001b[0m\u001b[0;34m)\u001b[0m\u001b[0;34m\u001b[0m\u001b[0;34m\u001b[0m\u001b[0m\n\u001b[0m\u001b[1;32m    103\u001b[0m         \u001b[0mscores\u001b[0m \u001b[0;34m=\u001b[0m \u001b[0mmodel\u001b[0m\u001b[0;34m.\u001b[0m\u001b[0mpredict\u001b[0m\u001b[0;34m(\u001b[0m\u001b[0mtest_dataset\u001b[0m\u001b[0;34m)\u001b[0m\u001b[0;34m\u001b[0m\u001b[0;34m\u001b[0m\u001b[0m\n\u001b[1;32m    104\u001b[0m         \u001b[0mmetrics\u001b[0m\u001b[0;34m.\u001b[0m\u001b[0mloc\u001b[0m\u001b[0;34m[\u001b[0m\u001b[0;34mf\"split: {i+1}\"\u001b[0m\u001b[0;34m,\u001b[0m \u001b[0;34m\"AUC_per_query\"\u001b[0m\u001b[0;34m]\u001b[0m \u001b[0;34m=\u001b[0m \u001b[0mAUC_per_query\u001b[0m\u001b[0;34m(\u001b[0m\u001b[0mtest_dataset\u001b[0m\u001b[0;34m.\u001b[0m\u001b[0mqueries\u001b[0m\u001b[0;34m,\u001b[0m \u001b[0mscores\u001b[0m\u001b[0;34m,\u001b[0m \u001b[0mtest_dataset\u001b[0m\u001b[0;34m.\u001b[0m\u001b[0mlabels\u001b[0m\u001b[0;34m)\u001b[0m\u001b[0;34m\u001b[0m\u001b[0;34m\u001b[0m\u001b[0m\n",
            "\u001b[0;32m/content/train_utils.py\u001b[0m in \u001b[0;36mfit\u001b[0;34m(self, dataset)\u001b[0m\n\u001b[1;32m    274\u001b[0m \u001b[0;34m\u001b[0m\u001b[0m\n\u001b[1;32m    275\u001b[0m     \u001b[0;32mdef\u001b[0m \u001b[0mfit\u001b[0m\u001b[0;34m(\u001b[0m\u001b[0mself\u001b[0m\u001b[0;34m,\u001b[0m \u001b[0mdataset\u001b[0m\u001b[0;34m)\u001b[0m\u001b[0;34m:\u001b[0m\u001b[0;34m\u001b[0m\u001b[0;34m\u001b[0m\u001b[0m\n\u001b[0;32m--> 276\u001b[0;31m         \u001b[0mself\u001b[0m\u001b[0;34m.\u001b[0m\u001b[0m_emb_model\u001b[0m\u001b[0;34m.\u001b[0m\u001b[0mfit\u001b[0m\u001b[0;34m(\u001b[0m\u001b[0mdataset\u001b[0m\u001b[0;34m)\u001b[0m\u001b[0;34m\u001b[0m\u001b[0;34m\u001b[0m\u001b[0m\n\u001b[0m\u001b[1;32m    277\u001b[0m         \u001b[0mscores\u001b[0m \u001b[0;34m=\u001b[0m \u001b[0mself\u001b[0m\u001b[0;34m.\u001b[0m\u001b[0m_emb_model\u001b[0m\u001b[0;34m.\u001b[0m\u001b[0mpredict\u001b[0m\u001b[0;34m(\u001b[0m\u001b[0mdataset\u001b[0m\u001b[0;34m)\u001b[0m\u001b[0;34m\u001b[0m\u001b[0;34m\u001b[0m\u001b[0m\n\u001b[1;32m    278\u001b[0m         \u001b[0mdataset\u001b[0m\u001b[0;34m.\u001b[0m\u001b[0m_add\u001b[0m\u001b[0;34m(\u001b[0m\u001b[0;34m\"emb_score\"\u001b[0m\u001b[0;34m,\u001b[0m \u001b[0mscores\u001b[0m\u001b[0;34m)\u001b[0m\u001b[0;34m\u001b[0m\u001b[0;34m\u001b[0m\u001b[0m\n",
            "\u001b[0;32m/content/train_utils.py\u001b[0m in \u001b[0;36mfit\u001b[0;34m(self, dataset)\u001b[0m\n\u001b[1;32m    232\u001b[0m \u001b[0;34m\u001b[0m\u001b[0m\n\u001b[1;32m    233\u001b[0m     \u001b[0;32mdef\u001b[0m \u001b[0mfit\u001b[0m\u001b[0;34m(\u001b[0m\u001b[0mself\u001b[0m\u001b[0;34m,\u001b[0m \u001b[0mdataset\u001b[0m\u001b[0;34m)\u001b[0m\u001b[0;34m:\u001b[0m\u001b[0;34m\u001b[0m\u001b[0;34m\u001b[0m\u001b[0m\n\u001b[0;32m--> 234\u001b[0;31m         \u001b[0mself\u001b[0m\u001b[0;34m.\u001b[0m\u001b[0mfit_items\u001b[0m\u001b[0;34m(\u001b[0m\u001b[0mdataset\u001b[0m\u001b[0;34m.\u001b[0m\u001b[0m_df\u001b[0m\u001b[0;34m)\u001b[0m\u001b[0;34m\u001b[0m\u001b[0;34m\u001b[0m\u001b[0m\n\u001b[0m\u001b[1;32m    235\u001b[0m         \u001b[0mself\u001b[0m\u001b[0;34m.\u001b[0m\u001b[0mfit_users\u001b[0m\u001b[0;34m(\u001b[0m\u001b[0mdataset\u001b[0m\u001b[0;34m.\u001b[0m\u001b[0m_df\u001b[0m\u001b[0;34m)\u001b[0m\u001b[0;34m\u001b[0m\u001b[0;34m\u001b[0m\u001b[0m\n\u001b[1;32m    236\u001b[0m \u001b[0;34m\u001b[0m\u001b[0m\n",
            "\u001b[0;32m/content/train_utils.py\u001b[0m in \u001b[0;36mfit_items\u001b[0;34m(self, df)\u001b[0m\n\u001b[1;32m    208\u001b[0m         \u001b[0msentences\u001b[0m \u001b[0;34m=\u001b[0m \u001b[0mself\u001b[0m\u001b[0;34m.\u001b[0m\u001b[0mget_sentences\u001b[0m\u001b[0;34m(\u001b[0m\u001b[0mdf\u001b[0m\u001b[0;34m)\u001b[0m\u001b[0;34m\u001b[0m\u001b[0;34m\u001b[0m\u001b[0m\n\u001b[1;32m    209\u001b[0m         \u001b[0mself\u001b[0m\u001b[0;34m.\u001b[0m\u001b[0m_word2vec\u001b[0m\u001b[0;34m.\u001b[0m\u001b[0mbuild_vocab\u001b[0m\u001b[0;34m(\u001b[0m\u001b[0msentences\u001b[0m\u001b[0;34m)\u001b[0m\u001b[0;34m\u001b[0m\u001b[0;34m\u001b[0m\u001b[0m\n\u001b[0;32m--> 210\u001b[0;31m         \u001b[0mself\u001b[0m\u001b[0;34m.\u001b[0m\u001b[0m_word2vec\u001b[0m\u001b[0;34m.\u001b[0m\u001b[0mtrain\u001b[0m\u001b[0;34m(\u001b[0m\u001b[0msentences\u001b[0m\u001b[0;34m,\u001b[0m \u001b[0mtotal_examples\u001b[0m\u001b[0;34m=\u001b[0m\u001b[0mself\u001b[0m\u001b[0;34m.\u001b[0m\u001b[0m_word2vec\u001b[0m\u001b[0;34m.\u001b[0m\u001b[0mcorpus_count\u001b[0m\u001b[0;34m,\u001b[0m \u001b[0mepochs\u001b[0m\u001b[0;34m=\u001b[0m\u001b[0;36m10\u001b[0m\u001b[0;34m)\u001b[0m\u001b[0;34m\u001b[0m\u001b[0;34m\u001b[0m\u001b[0m\n\u001b[0m\u001b[1;32m    211\u001b[0m \u001b[0;34m\u001b[0m\u001b[0m\n\u001b[1;32m    212\u001b[0m \u001b[0;34m\u001b[0m\u001b[0m\n",
            "\u001b[0;32m/usr/local/lib/python3.7/dist-packages/gensim/models/word2vec.py\u001b[0m in \u001b[0;36mtrain\u001b[0;34m(self, corpus_iterable, corpus_file, total_examples, total_words, epochs, start_alpha, end_alpha, word_count, queue_factor, report_delay, compute_loss, callbacks, **kwargs)\u001b[0m\n\u001b[1;32m   1070\u001b[0m                     \u001b[0mcorpus_iterable\u001b[0m\u001b[0;34m,\u001b[0m \u001b[0mcur_epoch\u001b[0m\u001b[0;34m=\u001b[0m\u001b[0mcur_epoch\u001b[0m\u001b[0;34m,\u001b[0m \u001b[0mtotal_examples\u001b[0m\u001b[0;34m=\u001b[0m\u001b[0mtotal_examples\u001b[0m\u001b[0;34m,\u001b[0m\u001b[0;34m\u001b[0m\u001b[0;34m\u001b[0m\u001b[0m\n\u001b[1;32m   1071\u001b[0m                     \u001b[0mtotal_words\u001b[0m\u001b[0;34m=\u001b[0m\u001b[0mtotal_words\u001b[0m\u001b[0;34m,\u001b[0m \u001b[0mqueue_factor\u001b[0m\u001b[0;34m=\u001b[0m\u001b[0mqueue_factor\u001b[0m\u001b[0;34m,\u001b[0m \u001b[0mreport_delay\u001b[0m\u001b[0;34m=\u001b[0m\u001b[0mreport_delay\u001b[0m\u001b[0;34m,\u001b[0m\u001b[0;34m\u001b[0m\u001b[0;34m\u001b[0m\u001b[0m\n\u001b[0;32m-> 1072\u001b[0;31m                     callbacks=callbacks, **kwargs)\n\u001b[0m\u001b[1;32m   1073\u001b[0m             \u001b[0;32melse\u001b[0m\u001b[0;34m:\u001b[0m\u001b[0;34m\u001b[0m\u001b[0;34m\u001b[0m\u001b[0m\n\u001b[1;32m   1074\u001b[0m                 trained_word_count_epoch, raw_word_count_epoch, job_tally_epoch = self._train_epoch_corpusfile(\n",
            "\u001b[0;32m/usr/local/lib/python3.7/dist-packages/gensim/models/word2vec.py\u001b[0m in \u001b[0;36m_train_epoch\u001b[0;34m(self, data_iterable, cur_epoch, total_examples, total_words, queue_factor, report_delay, callbacks)\u001b[0m\n\u001b[1;32m   1430\u001b[0m         trained_word_count, raw_word_count, job_tally = self._log_epoch_progress(\n\u001b[1;32m   1431\u001b[0m             \u001b[0mprogress_queue\u001b[0m\u001b[0;34m,\u001b[0m \u001b[0mjob_queue\u001b[0m\u001b[0;34m,\u001b[0m \u001b[0mcur_epoch\u001b[0m\u001b[0;34m=\u001b[0m\u001b[0mcur_epoch\u001b[0m\u001b[0;34m,\u001b[0m \u001b[0mtotal_examples\u001b[0m\u001b[0;34m=\u001b[0m\u001b[0mtotal_examples\u001b[0m\u001b[0;34m,\u001b[0m\u001b[0;34m\u001b[0m\u001b[0;34m\u001b[0m\u001b[0m\n\u001b[0;32m-> 1432\u001b[0;31m             \u001b[0mtotal_words\u001b[0m\u001b[0;34m=\u001b[0m\u001b[0mtotal_words\u001b[0m\u001b[0;34m,\u001b[0m \u001b[0mreport_delay\u001b[0m\u001b[0;34m=\u001b[0m\u001b[0mreport_delay\u001b[0m\u001b[0;34m,\u001b[0m \u001b[0mis_corpus_file_mode\u001b[0m\u001b[0;34m=\u001b[0m\u001b[0;32mFalse\u001b[0m\u001b[0;34m,\u001b[0m\u001b[0;34m\u001b[0m\u001b[0;34m\u001b[0m\u001b[0m\n\u001b[0m\u001b[1;32m   1433\u001b[0m         )\n\u001b[1;32m   1434\u001b[0m \u001b[0;34m\u001b[0m\u001b[0m\n",
            "\u001b[0;32m/usr/local/lib/python3.7/dist-packages/gensim/models/word2vec.py\u001b[0m in \u001b[0;36m_log_epoch_progress\u001b[0;34m(self, progress_queue, job_queue, cur_epoch, total_examples, total_words, report_delay, is_corpus_file_mode)\u001b[0m\n\u001b[1;32m   1283\u001b[0m \u001b[0;34m\u001b[0m\u001b[0m\n\u001b[1;32m   1284\u001b[0m         \u001b[0;32mwhile\u001b[0m \u001b[0munfinished_worker_count\u001b[0m \u001b[0;34m>\u001b[0m \u001b[0;36m0\u001b[0m\u001b[0;34m:\u001b[0m\u001b[0;34m\u001b[0m\u001b[0;34m\u001b[0m\u001b[0m\n\u001b[0;32m-> 1285\u001b[0;31m             \u001b[0mreport\u001b[0m \u001b[0;34m=\u001b[0m \u001b[0mprogress_queue\u001b[0m\u001b[0;34m.\u001b[0m\u001b[0mget\u001b[0m\u001b[0;34m(\u001b[0m\u001b[0;34m)\u001b[0m  \u001b[0;31m# blocks if workers too slow\u001b[0m\u001b[0;34m\u001b[0m\u001b[0;34m\u001b[0m\u001b[0m\n\u001b[0m\u001b[1;32m   1286\u001b[0m             \u001b[0;32mif\u001b[0m \u001b[0mreport\u001b[0m \u001b[0;32mis\u001b[0m \u001b[0;32mNone\u001b[0m\u001b[0;34m:\u001b[0m  \u001b[0;31m# a thread reporting that it finished\u001b[0m\u001b[0;34m\u001b[0m\u001b[0;34m\u001b[0m\u001b[0m\n\u001b[1;32m   1287\u001b[0m                 \u001b[0munfinished_worker_count\u001b[0m \u001b[0;34m-=\u001b[0m \u001b[0;36m1\u001b[0m\u001b[0;34m\u001b[0m\u001b[0;34m\u001b[0m\u001b[0m\n",
            "\u001b[0;32m/usr/lib/python3.7/queue.py\u001b[0m in \u001b[0;36mget\u001b[0;34m(self, block, timeout)\u001b[0m\n\u001b[1;32m    168\u001b[0m             \u001b[0;32melif\u001b[0m \u001b[0mtimeout\u001b[0m \u001b[0;32mis\u001b[0m \u001b[0;32mNone\u001b[0m\u001b[0;34m:\u001b[0m\u001b[0;34m\u001b[0m\u001b[0;34m\u001b[0m\u001b[0m\n\u001b[1;32m    169\u001b[0m                 \u001b[0;32mwhile\u001b[0m \u001b[0;32mnot\u001b[0m \u001b[0mself\u001b[0m\u001b[0;34m.\u001b[0m\u001b[0m_qsize\u001b[0m\u001b[0;34m(\u001b[0m\u001b[0;34m)\u001b[0m\u001b[0;34m:\u001b[0m\u001b[0;34m\u001b[0m\u001b[0;34m\u001b[0m\u001b[0m\n\u001b[0;32m--> 170\u001b[0;31m                     \u001b[0mself\u001b[0m\u001b[0;34m.\u001b[0m\u001b[0mnot_empty\u001b[0m\u001b[0;34m.\u001b[0m\u001b[0mwait\u001b[0m\u001b[0;34m(\u001b[0m\u001b[0;34m)\u001b[0m\u001b[0;34m\u001b[0m\u001b[0;34m\u001b[0m\u001b[0m\n\u001b[0m\u001b[1;32m    171\u001b[0m             \u001b[0;32melif\u001b[0m \u001b[0mtimeout\u001b[0m \u001b[0;34m<\u001b[0m \u001b[0;36m0\u001b[0m\u001b[0;34m:\u001b[0m\u001b[0;34m\u001b[0m\u001b[0;34m\u001b[0m\u001b[0m\n\u001b[1;32m    172\u001b[0m                 \u001b[0;32mraise\u001b[0m \u001b[0mValueError\u001b[0m\u001b[0;34m(\u001b[0m\u001b[0;34m\"'timeout' must be a non-negative number\"\u001b[0m\u001b[0;34m)\u001b[0m\u001b[0;34m\u001b[0m\u001b[0;34m\u001b[0m\u001b[0m\n",
            "\u001b[0;32m/usr/lib/python3.7/threading.py\u001b[0m in \u001b[0;36mwait\u001b[0;34m(self, timeout)\u001b[0m\n\u001b[1;32m    294\u001b[0m         \u001b[0;32mtry\u001b[0m\u001b[0;34m:\u001b[0m    \u001b[0;31m# restore state no matter what (e.g., KeyboardInterrupt)\u001b[0m\u001b[0;34m\u001b[0m\u001b[0;34m\u001b[0m\u001b[0m\n\u001b[1;32m    295\u001b[0m             \u001b[0;32mif\u001b[0m \u001b[0mtimeout\u001b[0m \u001b[0;32mis\u001b[0m \u001b[0;32mNone\u001b[0m\u001b[0;34m:\u001b[0m\u001b[0;34m\u001b[0m\u001b[0;34m\u001b[0m\u001b[0m\n\u001b[0;32m--> 296\u001b[0;31m                 \u001b[0mwaiter\u001b[0m\u001b[0;34m.\u001b[0m\u001b[0macquire\u001b[0m\u001b[0;34m(\u001b[0m\u001b[0;34m)\u001b[0m\u001b[0;34m\u001b[0m\u001b[0;34m\u001b[0m\u001b[0m\n\u001b[0m\u001b[1;32m    297\u001b[0m                 \u001b[0mgotit\u001b[0m \u001b[0;34m=\u001b[0m \u001b[0;32mTrue\u001b[0m\u001b[0;34m\u001b[0m\u001b[0;34m\u001b[0m\u001b[0m\n\u001b[1;32m    298\u001b[0m             \u001b[0;32melse\u001b[0m\u001b[0;34m:\u001b[0m\u001b[0;34m\u001b[0m\u001b[0;34m\u001b[0m\u001b[0m\n",
            "\u001b[0;31mKeyboardInterrupt\u001b[0m: "
          ]
        }
      ],
      "source": [
        "%%time\n",
        "stack_model = StackModel(loss_function=\"YetiRank\", \n",
        "                         iterations=150, \n",
        "                        #  task_type=\"CPU\",\n",
        "                         task_type=\"GPU\",  \n",
        "                         random_state=SEED,\n",
        "                         embedding_dim=100,\n",
        "                        #  min_count=1)\n",
        "                         min_count=5)\n",
        "\n",
        "stack_scores = get_metric(stack_model, TRAIN_DATASET, n_splits=5)"
      ]
    },
    {
      "cell_type": "code",
      "execution_count": null,
      "id": "086de78b",
      "metadata": {
        "id": "086de78b"
      },
      "outputs": [],
      "source": [
        "stack_scores"
      ]
    },
    {
      "cell_type": "markdown",
      "id": "84185947",
      "metadata": {
        "id": "84185947"
      },
      "source": [
        "#### Shapley values"
      ]
    },
    {
      "cell_type": "code",
      "execution_count": 15,
      "id": "1ec92323",
      "metadata": {
        "colab": {
          "base_uri": "https://localhost:8080/"
        },
        "id": "1ec92323",
        "outputId": "92500ae6-51fa-463e-d84e-1f318108ab1c"
      },
      "outputs": [
        {
          "output_type": "stream",
          "name": "stdout",
          "text": [
            "Train size: 200 | Test size: 1000\n",
            "Fit items...\n"
          ]
        },
        {
          "output_type": "stream",
          "name": "stderr",
          "text": [
            "Fit users: 100%|██████████| 30755/30755 [00:00<00:00, 112243.58it/s]\n"
          ]
        },
        {
          "output_type": "stream",
          "name": "stdout",
          "text": [
            "Groupwise loss function. OneHotMaxSize set to 10\n",
            "0:\ttotal: 3.97ms\tremaining: 592ms\n",
            "1:\ttotal: 6.89ms\tremaining: 510ms\n",
            "2:\ttotal: 9.98ms\tremaining: 489ms\n",
            "3:\ttotal: 13.7ms\tremaining: 499ms\n",
            "4:\ttotal: 17.6ms\tremaining: 510ms\n",
            "5:\ttotal: 20.4ms\tremaining: 489ms\n",
            "6:\ttotal: 23.2ms\tremaining: 474ms\n",
            "7:\ttotal: 26.1ms\tremaining: 464ms\n",
            "8:\ttotal: 29ms\tremaining: 455ms\n",
            "9:\ttotal: 36.9ms\tremaining: 517ms\n",
            "10:\ttotal: 40ms\tremaining: 505ms\n",
            "11:\ttotal: 42.9ms\tremaining: 493ms\n",
            "12:\ttotal: 45.7ms\tremaining: 481ms\n",
            "13:\ttotal: 48.4ms\tremaining: 470ms\n",
            "14:\ttotal: 51.2ms\tremaining: 461ms\n",
            "15:\ttotal: 54ms\tremaining: 452ms\n",
            "16:\ttotal: 56.8ms\tremaining: 445ms\n",
            "17:\ttotal: 59.9ms\tremaining: 440ms\n",
            "18:\ttotal: 62.7ms\tremaining: 433ms\n",
            "19:\ttotal: 65.5ms\tremaining: 426ms\n",
            "20:\ttotal: 68.3ms\tremaining: 420ms\n",
            "21:\ttotal: 71.2ms\tremaining: 414ms\n",
            "22:\ttotal: 73.9ms\tremaining: 408ms\n",
            "23:\ttotal: 77ms\tremaining: 404ms\n",
            "24:\ttotal: 80.2ms\tremaining: 401ms\n",
            "25:\ttotal: 82.8ms\tremaining: 395ms\n",
            "26:\ttotal: 85.6ms\tremaining: 390ms\n",
            "27:\ttotal: 88.5ms\tremaining: 386ms\n",
            "28:\ttotal: 91.2ms\tremaining: 381ms\n",
            "29:\ttotal: 93.9ms\tremaining: 376ms\n",
            "30:\ttotal: 96.7ms\tremaining: 371ms\n",
            "31:\ttotal: 99.5ms\tremaining: 367ms\n",
            "32:\ttotal: 102ms\tremaining: 362ms\n",
            "33:\ttotal: 105ms\tremaining: 358ms\n",
            "34:\ttotal: 108ms\tremaining: 353ms\n",
            "35:\ttotal: 110ms\tremaining: 349ms\n",
            "36:\ttotal: 113ms\tremaining: 345ms\n",
            "37:\ttotal: 116ms\tremaining: 341ms\n",
            "38:\ttotal: 118ms\tremaining: 337ms\n",
            "39:\ttotal: 121ms\tremaining: 333ms\n",
            "40:\ttotal: 124ms\tremaining: 329ms\n",
            "41:\ttotal: 126ms\tremaining: 325ms\n",
            "42:\ttotal: 129ms\tremaining: 321ms\n",
            "43:\ttotal: 132ms\tremaining: 318ms\n",
            "44:\ttotal: 135ms\tremaining: 314ms\n",
            "45:\ttotal: 137ms\tremaining: 310ms\n",
            "46:\ttotal: 140ms\tremaining: 306ms\n",
            "47:\ttotal: 143ms\tremaining: 303ms\n",
            "48:\ttotal: 145ms\tremaining: 299ms\n",
            "49:\ttotal: 148ms\tremaining: 296ms\n",
            "50:\ttotal: 151ms\tremaining: 292ms\n",
            "51:\ttotal: 153ms\tremaining: 289ms\n",
            "52:\ttotal: 156ms\tremaining: 285ms\n",
            "53:\ttotal: 159ms\tremaining: 282ms\n",
            "54:\ttotal: 161ms\tremaining: 278ms\n",
            "55:\ttotal: 164ms\tremaining: 275ms\n",
            "56:\ttotal: 166ms\tremaining: 271ms\n",
            "57:\ttotal: 169ms\tremaining: 268ms\n",
            "58:\ttotal: 172ms\tremaining: 265ms\n",
            "59:\ttotal: 174ms\tremaining: 261ms\n",
            "60:\ttotal: 177ms\tremaining: 258ms\n",
            "61:\ttotal: 179ms\tremaining: 255ms\n",
            "62:\ttotal: 182ms\tremaining: 251ms\n",
            "63:\ttotal: 185ms\tremaining: 248ms\n",
            "64:\ttotal: 187ms\tremaining: 245ms\n",
            "65:\ttotal: 190ms\tremaining: 242ms\n",
            "66:\ttotal: 195ms\tremaining: 242ms\n",
            "67:\ttotal: 200ms\tremaining: 241ms\n",
            "68:\ttotal: 203ms\tremaining: 238ms\n",
            "69:\ttotal: 205ms\tremaining: 235ms\n",
            "70:\ttotal: 208ms\tremaining: 232ms\n",
            "71:\ttotal: 211ms\tremaining: 229ms\n",
            "72:\ttotal: 214ms\tremaining: 226ms\n",
            "73:\ttotal: 218ms\tremaining: 224ms\n",
            "74:\ttotal: 221ms\tremaining: 221ms\n",
            "75:\ttotal: 225ms\tremaining: 220ms\n",
            "76:\ttotal: 229ms\tremaining: 217ms\n",
            "77:\ttotal: 231ms\tremaining: 214ms\n",
            "78:\ttotal: 234ms\tremaining: 210ms\n",
            "79:\ttotal: 237ms\tremaining: 207ms\n",
            "80:\ttotal: 239ms\tremaining: 204ms\n",
            "81:\ttotal: 242ms\tremaining: 201ms\n",
            "82:\ttotal: 245ms\tremaining: 198ms\n",
            "83:\ttotal: 247ms\tremaining: 194ms\n",
            "84:\ttotal: 250ms\tremaining: 191ms\n",
            "85:\ttotal: 253ms\tremaining: 188ms\n",
            "86:\ttotal: 255ms\tremaining: 185ms\n",
            "87:\ttotal: 258ms\tremaining: 182ms\n",
            "88:\ttotal: 262ms\tremaining: 179ms\n",
            "89:\ttotal: 265ms\tremaining: 176ms\n",
            "90:\ttotal: 267ms\tremaining: 173ms\n",
            "91:\ttotal: 270ms\tremaining: 170ms\n",
            "92:\ttotal: 272ms\tremaining: 167ms\n",
            "93:\ttotal: 275ms\tremaining: 164ms\n",
            "94:\ttotal: 278ms\tremaining: 161ms\n",
            "95:\ttotal: 281ms\tremaining: 158ms\n",
            "96:\ttotal: 283ms\tremaining: 155ms\n",
            "97:\ttotal: 286ms\tremaining: 152ms\n",
            "98:\ttotal: 289ms\tremaining: 149ms\n",
            "99:\ttotal: 291ms\tremaining: 146ms\n",
            "100:\ttotal: 294ms\tremaining: 143ms\n",
            "101:\ttotal: 297ms\tremaining: 140ms\n",
            "102:\ttotal: 299ms\tremaining: 137ms\n",
            "103:\ttotal: 302ms\tremaining: 134ms\n",
            "104:\ttotal: 304ms\tremaining: 130ms\n",
            "105:\ttotal: 307ms\tremaining: 127ms\n",
            "106:\ttotal: 310ms\tremaining: 124ms\n",
            "107:\ttotal: 312ms\tremaining: 121ms\n",
            "108:\ttotal: 315ms\tremaining: 118ms\n",
            "109:\ttotal: 318ms\tremaining: 115ms\n",
            "110:\ttotal: 320ms\tremaining: 112ms\n",
            "111:\ttotal: 323ms\tremaining: 109ms\n",
            "112:\ttotal: 325ms\tremaining: 107ms\n",
            "113:\ttotal: 328ms\tremaining: 104ms\n",
            "114:\ttotal: 331ms\tremaining: 101ms\n",
            "115:\ttotal: 333ms\tremaining: 97.7ms\n",
            "116:\ttotal: 336ms\tremaining: 94.7ms\n",
            "117:\ttotal: 339ms\tremaining: 91.8ms\n",
            "118:\ttotal: 341ms\tremaining: 88.9ms\n",
            "119:\ttotal: 344ms\tremaining: 85.9ms\n",
            "120:\ttotal: 346ms\tremaining: 83ms\n",
            "121:\ttotal: 349ms\tremaining: 80ms\n",
            "122:\ttotal: 351ms\tremaining: 77.1ms\n",
            "123:\ttotal: 354ms\tremaining: 74.2ms\n",
            "124:\ttotal: 357ms\tremaining: 71.3ms\n",
            "125:\ttotal: 359ms\tremaining: 68.5ms\n",
            "126:\ttotal: 362ms\tremaining: 65.6ms\n",
            "127:\ttotal: 365ms\tremaining: 62.7ms\n",
            "128:\ttotal: 367ms\tremaining: 59.8ms\n",
            "129:\ttotal: 370ms\tremaining: 56.9ms\n",
            "130:\ttotal: 372ms\tremaining: 54ms\n",
            "131:\ttotal: 375ms\tremaining: 51.1ms\n",
            "132:\ttotal: 378ms\tremaining: 48.3ms\n",
            "133:\ttotal: 380ms\tremaining: 45.4ms\n",
            "134:\ttotal: 384ms\tremaining: 42.7ms\n",
            "135:\ttotal: 390ms\tremaining: 40.1ms\n",
            "136:\ttotal: 396ms\tremaining: 37.6ms\n",
            "137:\ttotal: 399ms\tremaining: 34.7ms\n",
            "138:\ttotal: 402ms\tremaining: 31.8ms\n",
            "139:\ttotal: 405ms\tremaining: 28.9ms\n",
            "140:\ttotal: 407ms\tremaining: 26ms\n",
            "141:\ttotal: 410ms\tremaining: 23.1ms\n",
            "142:\ttotal: 413ms\tremaining: 20.2ms\n",
            "143:\ttotal: 416ms\tremaining: 17.3ms\n",
            "144:\ttotal: 418ms\tremaining: 14.4ms\n",
            "145:\ttotal: 421ms\tremaining: 11.5ms\n",
            "146:\ttotal: 423ms\tremaining: 8.64ms\n",
            "147:\ttotal: 426ms\tremaining: 5.75ms\n",
            "148:\ttotal: 428ms\tremaining: 2.87ms\n",
            "149:\ttotal: 431ms\tremaining: 0us\n",
            "CPU times: user 28.1 s, sys: 893 ms, total: 29 s\n",
            "Wall time: 27.1 s\n"
          ]
        }
      ],
      "source": [
        "%%time\n",
        "# shap_class = ShapValues(min_count=1)\n",
        "shap_class = ShapValues(min_count=5)\n",
        "shap_class.fit(TRAIN_DATASET, \n",
        "            #    split=0.2)\n",
        "               split=1000)"
      ]
    },
    {
      "cell_type": "code",
      "execution_count": 16,
      "id": "6160f7c2",
      "metadata": {
        "colab": {
          "base_uri": "https://localhost:8080/",
          "height": 585
        },
        "id": "6160f7c2",
        "outputId": "a8c91d71-b2f7-4991-9c1d-71d2e8afb4a2"
      },
      "outputs": [
        {
          "output_type": "display_data",
          "data": {
            "image/png": "[encoded data removed]",
            "text/plain": [
              "<Figure size 576x684 with 2 Axes>"
            ]
          },
          "metadata": {
            "needs_background": "light"
          }
        }
      ],
      "source": [
        "shap_class.show_shap_values()"
      ]
    },
    {
      "cell_type": "code",
      "execution_count": null,
      "id": "ccced669",
      "metadata": {
        "id": "ccced669"
      },
      "outputs": [],
      "source": [
        ""
      ]
    }
  ],
  "metadata": {
    "kernelspec": {
      "display_name": "Python 3 (ipykernel)",
      "language": "python",
      "name": "python3"
    },
    "language_info": {
      "codemirror_mode": {
        "name": "ipython",
        "version": 3
      },
      "file_extension": ".py",
      "mimetype": "text/x-python",
      "name": "python",
      "nbconvert_exporter": "python",
      "pygments_lexer": "ipython3",
      "version": "3.8.11"
    },
    "colab": {
      "name": "HW_02_PIPELINE.ipynb",
      "provenance": [],
      "collapsed_sections": [],
      "include_colab_link": true
    },
    "accelerator": "GPU"
  },
  "nbformat": 4,
  "nbformat_minor": 5
}